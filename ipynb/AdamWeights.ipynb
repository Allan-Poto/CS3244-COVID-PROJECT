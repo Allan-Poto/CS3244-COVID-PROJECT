{
 "metadata": {
  "language_info": {
   "codemirror_mode": {
    "name": "ipython",
    "version": 3
   },
   "file_extension": ".py",
   "mimetype": "text/x-python",
   "name": "python",
   "nbconvert_exporter": "python",
   "pygments_lexer": "ipython3",
   "version": "3.7.8-final"
  },
  "orig_nbformat": 2,
  "kernelspec": {
   "name": "python3",
   "display_name": "Python 3"
  }
 },
 "nbformat": 4,
 "nbformat_minor": 2,
 "cells": [
  {
   "cell_type": "code",
   "execution_count": 1,
   "metadata": {},
   "outputs": [],
   "source": [
    "from data.utils import to_dataloader, split, get_covid_dls\n",
    "from data.xray_dataset import DEFAULT_TRANSFORMS, IMAGENET_NORMALIZE\n",
    "import torchvision\n",
    "from torchvision import transforms\n",
    "from torch.utils.data.dataset import random_split\n",
    "import torch\n",
    "import pandas as pd\n",
    "import os \n",
    "import matplotlib.pyplot as plt\n",
    "from data.utils import plot_roc, plot_confusion_matrix, SEED\n",
    "import numpy as np\n",
    "import random \n",
    "\n",
    "from main import *\n",
    "from utils import all_loss, all_opt\n",
    "import torchvision.models as models\n",
    "import seaborn as sns\n",
    "torch.manual_seed(SEED)\n",
    "ROOT_DIR = '../data/10_all_data_foldered/'\n",
    "DATA_DIR = '../data/10_all_data_foldered/images'\n",
    "IMG_DIR = DATA_DIR\n",
    "tfms = transforms.Compose([\n",
    "    transforms.ToPILImage(),\n",
    "    transforms.Resize((300, 300)),\n",
    "    transforms.RandomCrop((224, 224)),\n",
    "    # transforms.RandomHorizontalFlip(0.1),\n",
    "    transforms.RandomRotation(5),\n",
    "    transforms.Resize((240,240)),\n",
    "    transforms.ColorJitter(0.1, 0.1, 0, 0),\n",
    "    ])\n",
    "\n",
    "# pytorch from ImageFolder\n",
    "# ds = torchvision.datasets.ImageFolder(DATA_DIR, transform=tfms)\n",
    "# train, val = int(len(ds) *0.6), int(len(ds) *0.2)\n",
    "# test = len(ds) - train - val\n",
    "# datasets =  random_split(ds, [train, val, test])\n",
    "df = pd.read_csv(os.path.join(ROOT_DIR, 'data.csv'))\n",
    "no_ct = pd.read_csv(os.path.join(ROOT_DIR, 'no_ct.csv'))"
   ]
  },
  {
   "cell_type": "code",
   "execution_count": 2,
   "metadata": {},
   "outputs": [],
   "source": [
    "i=10\n",
    "## Model weights\n",
    "model = 'densenet121'\n",
    "dls = get_covid_dls(16, no_ct, 'filename', 'label', root=DATA_DIR, reg=True)\n",
    "hp = {**DEFAULT_HP, 'model_name': f'{model}_224_randcrop_{0}', 'wd':0.0001, 'epochs': 5, 'opt':'SGD'}\n",
    "trainer = Trainer('report', model, dls, hp, weights=None, sched=True)"
   ]
  },
  {
   "cell_type": "code",
   "execution_count": 3,
   "metadata": {},
   "outputs": [
    {
     "output_type": "stream",
     "name": "stderr",
     "text": [
      "  0%|          | 0/129 [00:00<?, ?it/s]epoch number: 0\n",
      "100%|██████████| 129/129 [00:37<00:00,  3.48it/s]\n",
      "  0%|          | 0/43 [00:00<?, ?it/s]\n",
      "epoch trng info: loss:0.3304215669631958, acc:0.8667963052989791\n",
      "100%|██████████| 43/43 [00:13<00:00,  3.16it/s]\n",
      "\n",
      "epoch val info: loss:0.6042264699935913, acc:0.8221574344023324\n",
      "100%|██████████| 129/129 [00:36<00:00,  3.51it/s]\n",
      "  0%|          | 0/43 [00:00<?, ?it/s]\n",
      "\n",
      "epoch trng info: loss:0.2086123675107956, acc:0.9397180359747205\n",
      "100%|██████████| 43/43 [00:13<00:00,  3.19it/s]\n",
      "\n",
      "epoch val info: loss:0.5518737435340881, acc:0.8309037900874635\n",
      "  0%|          | 0/129 [00:00<?, ?it/s]epoch number: 2\n",
      "100%|██████████| 129/129 [00:36<00:00,  3.54it/s]\n",
      "  0%|          | 0/43 [00:00<?, ?it/s]\n",
      "epoch trng info: loss:0.14510270953178406, acc:0.9543023821098687\n",
      "100%|██████████| 43/43 [00:13<00:00,  3.23it/s]\n",
      "\n",
      "epoch val info: loss:0.2703630030155182, acc:0.9139941690962099\n",
      "  0%|          | 0/129 [00:00<?, ?it/s]epoch number: 3\n",
      "100%|██████████| 129/129 [00:35<00:00,  3.62it/s]\n",
      "  0%|          | 0/43 [00:00<?, ?it/s]\n",
      "epoch trng info: loss:0.08314941078424454, acc:0.9752066115702479\n",
      "100%|██████████| 43/43 [00:13<00:00,  3.29it/s]\n",
      "\n",
      "epoch val info: loss:0.24302658438682556, acc:0.9256559766763849\n",
      "  0%|          | 0/129 [00:00<?, ?it/s]\n",
      "100%|██████████| 129/129 [00:36<00:00,  3.55it/s]\n",
      "  0%|          | 0/43 [00:00<?, ?it/s]\n",
      "epoch trng info: loss:0.1132945865392685, acc:0.9630529897909577\n",
      "100%|██████████| 43/43 [00:13<00:00,  3.14it/s]\n",
      "  0%|          | 0/43 [00:00<?, ?it/s]\n",
      "epoch val info: loss:0.2777576446533203, acc:0.9169096209912536\n",
      "100%|██████████| 43/43 [00:12<00:00,  3.45it/s]\n",
      "\n",
      "epoch test info: loss:0.3658314645290375, acc:0.8859649122807017\n",
      "all_recall [0.97931034 0.97407407 0.82656827]\n",
      "f1_score 0.916358788397682\n",
      "weighted_recall 0.9169096209912536\n",
      "C:\\Users\\ngbra\\AppData\\Local\\Programs\\Python\\Python37\\lib\\site-packages\\sklearn\\metrics\\ranking.py:103: DeprecationWarning: The 'reorder' parameter has been deprecated in version 0.20 and will be removed in 0.22. It is recommended not to set 'reorder' and ensure that x is monotonic increasing or monotonic decreasing.\n",
      "  DeprecationWarning)\n",
      "all_recall [0.97945205 0.96958175 0.75636364]\n",
      "f1_score 0.884695271872966\n",
      "weighted_recall 0.8859649122807017\n",
      "C:\\Users\\ngbra\\AppData\\Local\\Programs\\Python\\Python37\\lib\\site-packages\\sklearn\\metrics\\ranking.py:103: DeprecationWarning: The 'reorder' parameter has been deprecated in version 0.20 and will be removed in 0.22. It is recommended not to set 'reorder' and ensure that x is monotonic increasing or monotonic decreasing.\n",
      "  DeprecationWarning)\n"
     ]
    }
   ],
   "source": [
    "trainer.one_cycle()"
   ]
  },
  {
   "cell_type": "code",
   "execution_count": null,
   "metadata": {},
   "outputs": [],
   "source": []
  }
 ]
}