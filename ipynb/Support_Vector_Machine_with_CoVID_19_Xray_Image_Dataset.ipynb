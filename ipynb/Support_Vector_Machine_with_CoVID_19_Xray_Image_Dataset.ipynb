{
  "nbformat": 4,
  "nbformat_minor": 0,
  "metadata": {
    "colab": {
      "name": "Support Vector Machine with CoVID-19 Xray Image Dataset.ipynb",
      "provenance": [],
      "collapsed_sections": [],
      "toc_visible": true
    },
    "kernelspec": {
      "name": "python3",
      "display_name": "Python 3"
    },
    "widgets": {
      "application/vnd.jupyter.widget-state+json": {
        "3af9e2fb76a54cf69152bf66580ab424": {
          "model_module": "@jupyter-widgets/controls",
          "model_name": "HBoxModel",
          "state": {
            "_view_name": "HBoxView",
            "_dom_classes": [],
            "_model_name": "HBoxModel",
            "_view_module": "@jupyter-widgets/controls",
            "_model_module_version": "1.5.0",
            "_view_count": null,
            "_view_module_version": "1.5.0",
            "box_style": "",
            "layout": "IPY_MODEL_f1017471b5934adab274a131dd579ca7",
            "_model_module": "@jupyter-widgets/controls",
            "children": [
              "IPY_MODEL_5f0edb751f624c979df61c53bc498c36",
              "IPY_MODEL_69d1e2a865f54bdb8e99d39337404838"
            ]
          }
        },
        "f1017471b5934adab274a131dd579ca7": {
          "model_module": "@jupyter-widgets/base",
          "model_name": "LayoutModel",
          "state": {
            "_view_name": "LayoutView",
            "grid_template_rows": null,
            "right": null,
            "justify_content": null,
            "_view_module": "@jupyter-widgets/base",
            "overflow": null,
            "_model_module_version": "1.2.0",
            "_view_count": null,
            "flex_flow": null,
            "width": null,
            "min_width": null,
            "border": null,
            "align_items": null,
            "bottom": null,
            "_model_module": "@jupyter-widgets/base",
            "top": null,
            "grid_column": null,
            "overflow_y": null,
            "overflow_x": null,
            "grid_auto_flow": null,
            "grid_area": null,
            "grid_template_columns": null,
            "flex": null,
            "_model_name": "LayoutModel",
            "justify_items": null,
            "grid_row": null,
            "max_height": null,
            "align_content": null,
            "visibility": null,
            "align_self": null,
            "height": null,
            "min_height": null,
            "padding": null,
            "grid_auto_rows": null,
            "grid_gap": null,
            "max_width": null,
            "order": null,
            "_view_module_version": "1.2.0",
            "grid_template_areas": null,
            "object_position": null,
            "object_fit": null,
            "grid_auto_columns": null,
            "margin": null,
            "display": null,
            "left": null
          }
        },
        "5f0edb751f624c979df61c53bc498c36": {
          "model_module": "@jupyter-widgets/controls",
          "model_name": "FloatProgressModel",
          "state": {
            "_view_name": "ProgressView",
            "style": "IPY_MODEL_bcab266288194c009eec1a4126437e95",
            "_dom_classes": [],
            "description": "100%",
            "_model_name": "FloatProgressModel",
            "bar_style": "success",
            "max": 219,
            "_view_module": "@jupyter-widgets/controls",
            "_model_module_version": "1.5.0",
            "value": 219,
            "_view_count": null,
            "_view_module_version": "1.5.0",
            "orientation": "horizontal",
            "min": 0,
            "description_tooltip": null,
            "_model_module": "@jupyter-widgets/controls",
            "layout": "IPY_MODEL_61a745ca35f44cac926deb0e0d952cd5"
          }
        },
        "69d1e2a865f54bdb8e99d39337404838": {
          "model_module": "@jupyter-widgets/controls",
          "model_name": "HTMLModel",
          "state": {
            "_view_name": "HTMLView",
            "style": "IPY_MODEL_bce820b286ec47ee89e4334a618f65f7",
            "_dom_classes": [],
            "description": "",
            "_model_name": "HTMLModel",
            "placeholder": "​",
            "_view_module": "@jupyter-widgets/controls",
            "_model_module_version": "1.5.0",
            "value": " 219/219 [16:28&lt;00:00,  4.51s/it]",
            "_view_count": null,
            "_view_module_version": "1.5.0",
            "description_tooltip": null,
            "_model_module": "@jupyter-widgets/controls",
            "layout": "IPY_MODEL_769929a5f7d546c4b62c171280483e92"
          }
        },
        "bcab266288194c009eec1a4126437e95": {
          "model_module": "@jupyter-widgets/controls",
          "model_name": "ProgressStyleModel",
          "state": {
            "_view_name": "StyleView",
            "_model_name": "ProgressStyleModel",
            "description_width": "initial",
            "_view_module": "@jupyter-widgets/base",
            "_model_module_version": "1.5.0",
            "_view_count": null,
            "_view_module_version": "1.2.0",
            "bar_color": null,
            "_model_module": "@jupyter-widgets/controls"
          }
        },
        "61a745ca35f44cac926deb0e0d952cd5": {
          "model_module": "@jupyter-widgets/base",
          "model_name": "LayoutModel",
          "state": {
            "_view_name": "LayoutView",
            "grid_template_rows": null,
            "right": null,
            "justify_content": null,
            "_view_module": "@jupyter-widgets/base",
            "overflow": null,
            "_model_module_version": "1.2.0",
            "_view_count": null,
            "flex_flow": null,
            "width": null,
            "min_width": null,
            "border": null,
            "align_items": null,
            "bottom": null,
            "_model_module": "@jupyter-widgets/base",
            "top": null,
            "grid_column": null,
            "overflow_y": null,
            "overflow_x": null,
            "grid_auto_flow": null,
            "grid_area": null,
            "grid_template_columns": null,
            "flex": null,
            "_model_name": "LayoutModel",
            "justify_items": null,
            "grid_row": null,
            "max_height": null,
            "align_content": null,
            "visibility": null,
            "align_self": null,
            "height": null,
            "min_height": null,
            "padding": null,
            "grid_auto_rows": null,
            "grid_gap": null,
            "max_width": null,
            "order": null,
            "_view_module_version": "1.2.0",
            "grid_template_areas": null,
            "object_position": null,
            "object_fit": null,
            "grid_auto_columns": null,
            "margin": null,
            "display": null,
            "left": null
          }
        },
        "bce820b286ec47ee89e4334a618f65f7": {
          "model_module": "@jupyter-widgets/controls",
          "model_name": "DescriptionStyleModel",
          "state": {
            "_view_name": "StyleView",
            "_model_name": "DescriptionStyleModel",
            "description_width": "",
            "_view_module": "@jupyter-widgets/base",
            "_model_module_version": "1.5.0",
            "_view_count": null,
            "_view_module_version": "1.2.0",
            "_model_module": "@jupyter-widgets/controls"
          }
        },
        "769929a5f7d546c4b62c171280483e92": {
          "model_module": "@jupyter-widgets/base",
          "model_name": "LayoutModel",
          "state": {
            "_view_name": "LayoutView",
            "grid_template_rows": null,
            "right": null,
            "justify_content": null,
            "_view_module": "@jupyter-widgets/base",
            "overflow": null,
            "_model_module_version": "1.2.0",
            "_view_count": null,
            "flex_flow": null,
            "width": null,
            "min_width": null,
            "border": null,
            "align_items": null,
            "bottom": null,
            "_model_module": "@jupyter-widgets/base",
            "top": null,
            "grid_column": null,
            "overflow_y": null,
            "overflow_x": null,
            "grid_auto_flow": null,
            "grid_area": null,
            "grid_template_columns": null,
            "flex": null,
            "_model_name": "LayoutModel",
            "justify_items": null,
            "grid_row": null,
            "max_height": null,
            "align_content": null,
            "visibility": null,
            "align_self": null,
            "height": null,
            "min_height": null,
            "padding": null,
            "grid_auto_rows": null,
            "grid_gap": null,
            "max_width": null,
            "order": null,
            "_view_module_version": "1.2.0",
            "grid_template_areas": null,
            "object_position": null,
            "object_fit": null,
            "grid_auto_columns": null,
            "margin": null,
            "display": null,
            "left": null
          }
        },
        "fabb3280faa54084ba400453773dd43a": {
          "model_module": "@jupyter-widgets/controls",
          "model_name": "HBoxModel",
          "state": {
            "_view_name": "HBoxView",
            "_dom_classes": [],
            "_model_name": "HBoxModel",
            "_view_module": "@jupyter-widgets/controls",
            "_model_module_version": "1.5.0",
            "_view_count": null,
            "_view_module_version": "1.5.0",
            "box_style": "",
            "layout": "IPY_MODEL_30cf1cf9df814ecbb3bf7cc815944dc9",
            "_model_module": "@jupyter-widgets/controls",
            "children": [
              "IPY_MODEL_b7857fbccfb9422f9e93cc81239122b7",
              "IPY_MODEL_d524138a62a64c1db675d5c841e95ca4"
            ]
          }
        },
        "30cf1cf9df814ecbb3bf7cc815944dc9": {
          "model_module": "@jupyter-widgets/base",
          "model_name": "LayoutModel",
          "state": {
            "_view_name": "LayoutView",
            "grid_template_rows": null,
            "right": null,
            "justify_content": null,
            "_view_module": "@jupyter-widgets/base",
            "overflow": null,
            "_model_module_version": "1.2.0",
            "_view_count": null,
            "flex_flow": null,
            "width": null,
            "min_width": null,
            "border": null,
            "align_items": null,
            "bottom": null,
            "_model_module": "@jupyter-widgets/base",
            "top": null,
            "grid_column": null,
            "overflow_y": null,
            "overflow_x": null,
            "grid_auto_flow": null,
            "grid_area": null,
            "grid_template_columns": null,
            "flex": null,
            "_model_name": "LayoutModel",
            "justify_items": null,
            "grid_row": null,
            "max_height": null,
            "align_content": null,
            "visibility": null,
            "align_self": null,
            "height": null,
            "min_height": null,
            "padding": null,
            "grid_auto_rows": null,
            "grid_gap": null,
            "max_width": null,
            "order": null,
            "_view_module_version": "1.2.0",
            "grid_template_areas": null,
            "object_position": null,
            "object_fit": null,
            "grid_auto_columns": null,
            "margin": null,
            "display": null,
            "left": null
          }
        },
        "b7857fbccfb9422f9e93cc81239122b7": {
          "model_module": "@jupyter-widgets/controls",
          "model_name": "FloatProgressModel",
          "state": {
            "_view_name": "ProgressView",
            "style": "IPY_MODEL_143c8a49d0304e5f842f30682977c321",
            "_dom_classes": [],
            "description": "100%",
            "_model_name": "FloatProgressModel",
            "bar_style": "success",
            "max": 1341,
            "_view_module": "@jupyter-widgets/controls",
            "_model_module_version": "1.5.0",
            "value": 1341,
            "_view_count": null,
            "_view_module_version": "1.5.0",
            "orientation": "horizontal",
            "min": 0,
            "description_tooltip": null,
            "_model_module": "@jupyter-widgets/controls",
            "layout": "IPY_MODEL_d2a0784d959f42d299d93cfca21b67ce"
          }
        },
        "d524138a62a64c1db675d5c841e95ca4": {
          "model_module": "@jupyter-widgets/controls",
          "model_name": "HTMLModel",
          "state": {
            "_view_name": "HTMLView",
            "style": "IPY_MODEL_ab8379e405864dd3992abbc46676f1ef",
            "_dom_classes": [],
            "description": "",
            "_model_name": "HTMLModel",
            "placeholder": "​",
            "_view_module": "@jupyter-widgets/controls",
            "_model_module_version": "1.5.0",
            "value": " 1341/1341 [15:29&lt;00:00,  1.44it/s]",
            "_view_count": null,
            "_view_module_version": "1.5.0",
            "description_tooltip": null,
            "_model_module": "@jupyter-widgets/controls",
            "layout": "IPY_MODEL_7ea792800c044b23be651c3aee6e827b"
          }
        },
        "143c8a49d0304e5f842f30682977c321": {
          "model_module": "@jupyter-widgets/controls",
          "model_name": "ProgressStyleModel",
          "state": {
            "_view_name": "StyleView",
            "_model_name": "ProgressStyleModel",
            "description_width": "initial",
            "_view_module": "@jupyter-widgets/base",
            "_model_module_version": "1.5.0",
            "_view_count": null,
            "_view_module_version": "1.2.0",
            "bar_color": null,
            "_model_module": "@jupyter-widgets/controls"
          }
        },
        "d2a0784d959f42d299d93cfca21b67ce": {
          "model_module": "@jupyter-widgets/base",
          "model_name": "LayoutModel",
          "state": {
            "_view_name": "LayoutView",
            "grid_template_rows": null,
            "right": null,
            "justify_content": null,
            "_view_module": "@jupyter-widgets/base",
            "overflow": null,
            "_model_module_version": "1.2.0",
            "_view_count": null,
            "flex_flow": null,
            "width": null,
            "min_width": null,
            "border": null,
            "align_items": null,
            "bottom": null,
            "_model_module": "@jupyter-widgets/base",
            "top": null,
            "grid_column": null,
            "overflow_y": null,
            "overflow_x": null,
            "grid_auto_flow": null,
            "grid_area": null,
            "grid_template_columns": null,
            "flex": null,
            "_model_name": "LayoutModel",
            "justify_items": null,
            "grid_row": null,
            "max_height": null,
            "align_content": null,
            "visibility": null,
            "align_self": null,
            "height": null,
            "min_height": null,
            "padding": null,
            "grid_auto_rows": null,
            "grid_gap": null,
            "max_width": null,
            "order": null,
            "_view_module_version": "1.2.0",
            "grid_template_areas": null,
            "object_position": null,
            "object_fit": null,
            "grid_auto_columns": null,
            "margin": null,
            "display": null,
            "left": null
          }
        },
        "ab8379e405864dd3992abbc46676f1ef": {
          "model_module": "@jupyter-widgets/controls",
          "model_name": "DescriptionStyleModel",
          "state": {
            "_view_name": "StyleView",
            "_model_name": "DescriptionStyleModel",
            "description_width": "",
            "_view_module": "@jupyter-widgets/base",
            "_model_module_version": "1.5.0",
            "_view_count": null,
            "_view_module_version": "1.2.0",
            "_model_module": "@jupyter-widgets/controls"
          }
        },
        "7ea792800c044b23be651c3aee6e827b": {
          "model_module": "@jupyter-widgets/base",
          "model_name": "LayoutModel",
          "state": {
            "_view_name": "LayoutView",
            "grid_template_rows": null,
            "right": null,
            "justify_content": null,
            "_view_module": "@jupyter-widgets/base",
            "overflow": null,
            "_model_module_version": "1.2.0",
            "_view_count": null,
            "flex_flow": null,
            "width": null,
            "min_width": null,
            "border": null,
            "align_items": null,
            "bottom": null,
            "_model_module": "@jupyter-widgets/base",
            "top": null,
            "grid_column": null,
            "overflow_y": null,
            "overflow_x": null,
            "grid_auto_flow": null,
            "grid_area": null,
            "grid_template_columns": null,
            "flex": null,
            "_model_name": "LayoutModel",
            "justify_items": null,
            "grid_row": null,
            "max_height": null,
            "align_content": null,
            "visibility": null,
            "align_self": null,
            "height": null,
            "min_height": null,
            "padding": null,
            "grid_auto_rows": null,
            "grid_gap": null,
            "max_width": null,
            "order": null,
            "_view_module_version": "1.2.0",
            "grid_template_areas": null,
            "object_position": null,
            "object_fit": null,
            "grid_auto_columns": null,
            "margin": null,
            "display": null,
            "left": null
          }
        },
        "05d14bd4f5e1457893add20d8c58fba7": {
          "model_module": "@jupyter-widgets/controls",
          "model_name": "HBoxModel",
          "state": {
            "_view_name": "HBoxView",
            "_dom_classes": [],
            "_model_name": "HBoxModel",
            "_view_module": "@jupyter-widgets/controls",
            "_model_module_version": "1.5.0",
            "_view_count": null,
            "_view_module_version": "1.5.0",
            "box_style": "",
            "layout": "IPY_MODEL_75d36c0486f54fd49bccfa6210fec592",
            "_model_module": "@jupyter-widgets/controls",
            "children": [
              "IPY_MODEL_adf4ed241d4348328af31d5dfcf01855",
              "IPY_MODEL_49c30617550f40458f30ad35933e0657"
            ]
          }
        },
        "75d36c0486f54fd49bccfa6210fec592": {
          "model_module": "@jupyter-widgets/base",
          "model_name": "LayoutModel",
          "state": {
            "_view_name": "LayoutView",
            "grid_template_rows": null,
            "right": null,
            "justify_content": null,
            "_view_module": "@jupyter-widgets/base",
            "overflow": null,
            "_model_module_version": "1.2.0",
            "_view_count": null,
            "flex_flow": null,
            "width": null,
            "min_width": null,
            "border": null,
            "align_items": null,
            "bottom": null,
            "_model_module": "@jupyter-widgets/base",
            "top": null,
            "grid_column": null,
            "overflow_y": null,
            "overflow_x": null,
            "grid_auto_flow": null,
            "grid_area": null,
            "grid_template_columns": null,
            "flex": null,
            "_model_name": "LayoutModel",
            "justify_items": null,
            "grid_row": null,
            "max_height": null,
            "align_content": null,
            "visibility": null,
            "align_self": null,
            "height": null,
            "min_height": null,
            "padding": null,
            "grid_auto_rows": null,
            "grid_gap": null,
            "max_width": null,
            "order": null,
            "_view_module_version": "1.2.0",
            "grid_template_areas": null,
            "object_position": null,
            "object_fit": null,
            "grid_auto_columns": null,
            "margin": null,
            "display": null,
            "left": null
          }
        },
        "adf4ed241d4348328af31d5dfcf01855": {
          "model_module": "@jupyter-widgets/controls",
          "model_name": "FloatProgressModel",
          "state": {
            "_view_name": "ProgressView",
            "style": "IPY_MODEL_ee4bee56dcc34a40820bbcb8bda66b4d",
            "_dom_classes": [],
            "description": "100%",
            "_model_name": "FloatProgressModel",
            "bar_style": "success",
            "max": 1345,
            "_view_module": "@jupyter-widgets/controls",
            "_model_module_version": "1.5.0",
            "value": 1345,
            "_view_count": null,
            "_view_module_version": "1.5.0",
            "orientation": "horizontal",
            "min": 0,
            "description_tooltip": null,
            "_model_module": "@jupyter-widgets/controls",
            "layout": "IPY_MODEL_4f59bec21802492da638cdb75ee7bb92"
          }
        },
        "49c30617550f40458f30ad35933e0657": {
          "model_module": "@jupyter-widgets/controls",
          "model_name": "HTMLModel",
          "state": {
            "_view_name": "HTMLView",
            "style": "IPY_MODEL_d0b5078b4866460286c2fe6413beeeae",
            "_dom_classes": [],
            "description": "",
            "_model_name": "HTMLModel",
            "placeholder": "​",
            "_view_module": "@jupyter-widgets/controls",
            "_model_module_version": "1.5.0",
            "value": " 1345/1345 [08:24&lt;00:00,  2.66it/s]",
            "_view_count": null,
            "_view_module_version": "1.5.0",
            "description_tooltip": null,
            "_model_module": "@jupyter-widgets/controls",
            "layout": "IPY_MODEL_869b62d5ba054789a6e7c8d2bbfdc5f1"
          }
        },
        "ee4bee56dcc34a40820bbcb8bda66b4d": {
          "model_module": "@jupyter-widgets/controls",
          "model_name": "ProgressStyleModel",
          "state": {
            "_view_name": "StyleView",
            "_model_name": "ProgressStyleModel",
            "description_width": "initial",
            "_view_module": "@jupyter-widgets/base",
            "_model_module_version": "1.5.0",
            "_view_count": null,
            "_view_module_version": "1.2.0",
            "bar_color": null,
            "_model_module": "@jupyter-widgets/controls"
          }
        },
        "4f59bec21802492da638cdb75ee7bb92": {
          "model_module": "@jupyter-widgets/base",
          "model_name": "LayoutModel",
          "state": {
            "_view_name": "LayoutView",
            "grid_template_rows": null,
            "right": null,
            "justify_content": null,
            "_view_module": "@jupyter-widgets/base",
            "overflow": null,
            "_model_module_version": "1.2.0",
            "_view_count": null,
            "flex_flow": null,
            "width": null,
            "min_width": null,
            "border": null,
            "align_items": null,
            "bottom": null,
            "_model_module": "@jupyter-widgets/base",
            "top": null,
            "grid_column": null,
            "overflow_y": null,
            "overflow_x": null,
            "grid_auto_flow": null,
            "grid_area": null,
            "grid_template_columns": null,
            "flex": null,
            "_model_name": "LayoutModel",
            "justify_items": null,
            "grid_row": null,
            "max_height": null,
            "align_content": null,
            "visibility": null,
            "align_self": null,
            "height": null,
            "min_height": null,
            "padding": null,
            "grid_auto_rows": null,
            "grid_gap": null,
            "max_width": null,
            "order": null,
            "_view_module_version": "1.2.0",
            "grid_template_areas": null,
            "object_position": null,
            "object_fit": null,
            "grid_auto_columns": null,
            "margin": null,
            "display": null,
            "left": null
          }
        },
        "d0b5078b4866460286c2fe6413beeeae": {
          "model_module": "@jupyter-widgets/controls",
          "model_name": "DescriptionStyleModel",
          "state": {
            "_view_name": "StyleView",
            "_model_name": "DescriptionStyleModel",
            "description_width": "",
            "_view_module": "@jupyter-widgets/base",
            "_model_module_version": "1.5.0",
            "_view_count": null,
            "_view_module_version": "1.2.0",
            "_model_module": "@jupyter-widgets/controls"
          }
        },
        "869b62d5ba054789a6e7c8d2bbfdc5f1": {
          "model_module": "@jupyter-widgets/base",
          "model_name": "LayoutModel",
          "state": {
            "_view_name": "LayoutView",
            "grid_template_rows": null,
            "right": null,
            "justify_content": null,
            "_view_module": "@jupyter-widgets/base",
            "overflow": null,
            "_model_module_version": "1.2.0",
            "_view_count": null,
            "flex_flow": null,
            "width": null,
            "min_width": null,
            "border": null,
            "align_items": null,
            "bottom": null,
            "_model_module": "@jupyter-widgets/base",
            "top": null,
            "grid_column": null,
            "overflow_y": null,
            "overflow_x": null,
            "grid_auto_flow": null,
            "grid_area": null,
            "grid_template_columns": null,
            "flex": null,
            "_model_name": "LayoutModel",
            "justify_items": null,
            "grid_row": null,
            "max_height": null,
            "align_content": null,
            "visibility": null,
            "align_self": null,
            "height": null,
            "min_height": null,
            "padding": null,
            "grid_auto_rows": null,
            "grid_gap": null,
            "max_width": null,
            "order": null,
            "_view_module_version": "1.2.0",
            "grid_template_areas": null,
            "object_position": null,
            "object_fit": null,
            "grid_auto_columns": null,
            "margin": null,
            "display": null,
            "left": null
          }
        },
        "6392c17a55b34c03ad71671a07ac7144": {
          "model_module": "@jupyter-widgets/controls",
          "model_name": "HBoxModel",
          "state": {
            "_view_name": "HBoxView",
            "_dom_classes": [],
            "_model_name": "HBoxModel",
            "_view_module": "@jupyter-widgets/controls",
            "_model_module_version": "1.5.0",
            "_view_count": null,
            "_view_module_version": "1.5.0",
            "box_style": "",
            "layout": "IPY_MODEL_b2577785e4284726b375aa42214a29f6",
            "_model_module": "@jupyter-widgets/controls",
            "children": [
              "IPY_MODEL_7707d21cd02a4ef993b29e600ff0b872",
              "IPY_MODEL_99753b4d4a0a4cd6b77d217f4078167b"
            ]
          }
        },
        "b2577785e4284726b375aa42214a29f6": {
          "model_module": "@jupyter-widgets/base",
          "model_name": "LayoutModel",
          "state": {
            "_view_name": "LayoutView",
            "grid_template_rows": null,
            "right": null,
            "justify_content": null,
            "_view_module": "@jupyter-widgets/base",
            "overflow": null,
            "_model_module_version": "1.2.0",
            "_view_count": null,
            "flex_flow": null,
            "width": null,
            "min_width": null,
            "border": null,
            "align_items": null,
            "bottom": null,
            "_model_module": "@jupyter-widgets/base",
            "top": null,
            "grid_column": null,
            "overflow_y": null,
            "overflow_x": null,
            "grid_auto_flow": null,
            "grid_area": null,
            "grid_template_columns": null,
            "flex": null,
            "_model_name": "LayoutModel",
            "justify_items": null,
            "grid_row": null,
            "max_height": null,
            "align_content": null,
            "visibility": null,
            "align_self": null,
            "height": null,
            "min_height": null,
            "padding": null,
            "grid_auto_rows": null,
            "grid_gap": null,
            "max_width": null,
            "order": null,
            "_view_module_version": "1.2.0",
            "grid_template_areas": null,
            "object_position": null,
            "object_fit": null,
            "grid_auto_columns": null,
            "margin": null,
            "display": null,
            "left": null
          }
        },
        "7707d21cd02a4ef993b29e600ff0b872": {
          "model_module": "@jupyter-widgets/controls",
          "model_name": "FloatProgressModel",
          "state": {
            "_view_name": "ProgressView",
            "style": "IPY_MODEL_8b69c4b88fa9472b9743517beb51297e",
            "_dom_classes": [],
            "description": "100%",
            "_model_name": "FloatProgressModel",
            "bar_style": "success",
            "max": 2905,
            "_view_module": "@jupyter-widgets/controls",
            "_model_module_version": "1.5.0",
            "value": 2905,
            "_view_count": null,
            "_view_module_version": "1.5.0",
            "orientation": "horizontal",
            "min": 0,
            "description_tooltip": null,
            "_model_module": "@jupyter-widgets/controls",
            "layout": "IPY_MODEL_b9a40d92c87b468497ca78ba9230658a"
          }
        },
        "99753b4d4a0a4cd6b77d217f4078167b": {
          "model_module": "@jupyter-widgets/controls",
          "model_name": "HTMLModel",
          "state": {
            "_view_name": "HTMLView",
            "style": "IPY_MODEL_21797a5b26d14d8fbc0163ffbc9bfd98",
            "_dom_classes": [],
            "description": "",
            "_model_name": "HTMLModel",
            "placeholder": "​",
            "_view_module": "@jupyter-widgets/controls",
            "_model_module_version": "1.5.0",
            "value": " 2905/2905 [00:18&lt;00:00, 160.97it/s]",
            "_view_count": null,
            "_view_module_version": "1.5.0",
            "description_tooltip": null,
            "_model_module": "@jupyter-widgets/controls",
            "layout": "IPY_MODEL_4ac8902ffff343cd99c7e329f695a7ce"
          }
        },
        "8b69c4b88fa9472b9743517beb51297e": {
          "model_module": "@jupyter-widgets/controls",
          "model_name": "ProgressStyleModel",
          "state": {
            "_view_name": "StyleView",
            "_model_name": "ProgressStyleModel",
            "description_width": "initial",
            "_view_module": "@jupyter-widgets/base",
            "_model_module_version": "1.5.0",
            "_view_count": null,
            "_view_module_version": "1.2.0",
            "bar_color": null,
            "_model_module": "@jupyter-widgets/controls"
          }
        },
        "b9a40d92c87b468497ca78ba9230658a": {
          "model_module": "@jupyter-widgets/base",
          "model_name": "LayoutModel",
          "state": {
            "_view_name": "LayoutView",
            "grid_template_rows": null,
            "right": null,
            "justify_content": null,
            "_view_module": "@jupyter-widgets/base",
            "overflow": null,
            "_model_module_version": "1.2.0",
            "_view_count": null,
            "flex_flow": null,
            "width": null,
            "min_width": null,
            "border": null,
            "align_items": null,
            "bottom": null,
            "_model_module": "@jupyter-widgets/base",
            "top": null,
            "grid_column": null,
            "overflow_y": null,
            "overflow_x": null,
            "grid_auto_flow": null,
            "grid_area": null,
            "grid_template_columns": null,
            "flex": null,
            "_model_name": "LayoutModel",
            "justify_items": null,
            "grid_row": null,
            "max_height": null,
            "align_content": null,
            "visibility": null,
            "align_self": null,
            "height": null,
            "min_height": null,
            "padding": null,
            "grid_auto_rows": null,
            "grid_gap": null,
            "max_width": null,
            "order": null,
            "_view_module_version": "1.2.0",
            "grid_template_areas": null,
            "object_position": null,
            "object_fit": null,
            "grid_auto_columns": null,
            "margin": null,
            "display": null,
            "left": null
          }
        },
        "21797a5b26d14d8fbc0163ffbc9bfd98": {
          "model_module": "@jupyter-widgets/controls",
          "model_name": "DescriptionStyleModel",
          "state": {
            "_view_name": "StyleView",
            "_model_name": "DescriptionStyleModel",
            "description_width": "",
            "_view_module": "@jupyter-widgets/base",
            "_model_module_version": "1.5.0",
            "_view_count": null,
            "_view_module_version": "1.2.0",
            "_model_module": "@jupyter-widgets/controls"
          }
        },
        "4ac8902ffff343cd99c7e329f695a7ce": {
          "model_module": "@jupyter-widgets/base",
          "model_name": "LayoutModel",
          "state": {
            "_view_name": "LayoutView",
            "grid_template_rows": null,
            "right": null,
            "justify_content": null,
            "_view_module": "@jupyter-widgets/base",
            "overflow": null,
            "_model_module_version": "1.2.0",
            "_view_count": null,
            "flex_flow": null,
            "width": null,
            "min_width": null,
            "border": null,
            "align_items": null,
            "bottom": null,
            "_model_module": "@jupyter-widgets/base",
            "top": null,
            "grid_column": null,
            "overflow_y": null,
            "overflow_x": null,
            "grid_auto_flow": null,
            "grid_area": null,
            "grid_template_columns": null,
            "flex": null,
            "_model_name": "LayoutModel",
            "justify_items": null,
            "grid_row": null,
            "max_height": null,
            "align_content": null,
            "visibility": null,
            "align_self": null,
            "height": null,
            "min_height": null,
            "padding": null,
            "grid_auto_rows": null,
            "grid_gap": null,
            "max_width": null,
            "order": null,
            "_view_module_version": "1.2.0",
            "grid_template_areas": null,
            "object_position": null,
            "object_fit": null,
            "grid_auto_columns": null,
            "margin": null,
            "display": null,
            "left": null
          }
        },
        "50118b94f18e4b149e57b714e2a52f36": {
          "model_module": "@jupyter-widgets/controls",
          "model_name": "HBoxModel",
          "state": {
            "_view_name": "HBoxView",
            "_dom_classes": [],
            "_model_name": "HBoxModel",
            "_view_module": "@jupyter-widgets/controls",
            "_model_module_version": "1.5.0",
            "_view_count": null,
            "_view_module_version": "1.5.0",
            "box_style": "",
            "layout": "IPY_MODEL_80e4eca77b0c4b008d982d8b8828f991",
            "_model_module": "@jupyter-widgets/controls",
            "children": [
              "IPY_MODEL_1aae4a749f7644eba1b16b69744d1994",
              "IPY_MODEL_6b29ef50e78244e8905ba790982ee2f5"
            ]
          }
        },
        "80e4eca77b0c4b008d982d8b8828f991": {
          "model_module": "@jupyter-widgets/base",
          "model_name": "LayoutModel",
          "state": {
            "_view_name": "LayoutView",
            "grid_template_rows": null,
            "right": null,
            "justify_content": null,
            "_view_module": "@jupyter-widgets/base",
            "overflow": null,
            "_model_module_version": "1.2.0",
            "_view_count": null,
            "flex_flow": null,
            "width": null,
            "min_width": null,
            "border": null,
            "align_items": null,
            "bottom": null,
            "_model_module": "@jupyter-widgets/base",
            "top": null,
            "grid_column": null,
            "overflow_y": null,
            "overflow_x": null,
            "grid_auto_flow": null,
            "grid_area": null,
            "grid_template_columns": null,
            "flex": null,
            "_model_name": "LayoutModel",
            "justify_items": null,
            "grid_row": null,
            "max_height": null,
            "align_content": null,
            "visibility": null,
            "align_self": null,
            "height": null,
            "min_height": null,
            "padding": null,
            "grid_auto_rows": null,
            "grid_gap": null,
            "max_width": null,
            "order": null,
            "_view_module_version": "1.2.0",
            "grid_template_areas": null,
            "object_position": null,
            "object_fit": null,
            "grid_auto_columns": null,
            "margin": null,
            "display": null,
            "left": null
          }
        },
        "1aae4a749f7644eba1b16b69744d1994": {
          "model_module": "@jupyter-widgets/controls",
          "model_name": "FloatProgressModel",
          "state": {
            "_view_name": "ProgressView",
            "style": "IPY_MODEL_7cd79aa2dade4bd1a9d1a729d54ea7c2",
            "_dom_classes": [],
            "description": "100%",
            "_model_name": "FloatProgressModel",
            "bar_style": "success",
            "max": 2,
            "_view_module": "@jupyter-widgets/controls",
            "_model_module_version": "1.5.0",
            "value": 2,
            "_view_count": null,
            "_view_module_version": "1.5.0",
            "orientation": "horizontal",
            "min": 0,
            "description_tooltip": null,
            "_model_module": "@jupyter-widgets/controls",
            "layout": "IPY_MODEL_8b509562f94c460eb5eccd7921105e6a"
          }
        },
        "6b29ef50e78244e8905ba790982ee2f5": {
          "model_module": "@jupyter-widgets/controls",
          "model_name": "HTMLModel",
          "state": {
            "_view_name": "HTMLView",
            "style": "IPY_MODEL_58a50a601608499fb6db49016618109b",
            "_dom_classes": [],
            "description": "",
            "_model_name": "HTMLModel",
            "placeholder": "​",
            "_view_module": "@jupyter-widgets/controls",
            "_model_module_version": "1.5.0",
            "value": " 2/2 [01:19&lt;00:00, 39.91s/it]",
            "_view_count": null,
            "_view_module_version": "1.5.0",
            "description_tooltip": null,
            "_model_module": "@jupyter-widgets/controls",
            "layout": "IPY_MODEL_f15df37e40d04b1caa981e926ba1358e"
          }
        },
        "7cd79aa2dade4bd1a9d1a729d54ea7c2": {
          "model_module": "@jupyter-widgets/controls",
          "model_name": "ProgressStyleModel",
          "state": {
            "_view_name": "StyleView",
            "_model_name": "ProgressStyleModel",
            "description_width": "initial",
            "_view_module": "@jupyter-widgets/base",
            "_model_module_version": "1.5.0",
            "_view_count": null,
            "_view_module_version": "1.2.0",
            "bar_color": null,
            "_model_module": "@jupyter-widgets/controls"
          }
        },
        "8b509562f94c460eb5eccd7921105e6a": {
          "model_module": "@jupyter-widgets/base",
          "model_name": "LayoutModel",
          "state": {
            "_view_name": "LayoutView",
            "grid_template_rows": null,
            "right": null,
            "justify_content": null,
            "_view_module": "@jupyter-widgets/base",
            "overflow": null,
            "_model_module_version": "1.2.0",
            "_view_count": null,
            "flex_flow": null,
            "width": null,
            "min_width": null,
            "border": null,
            "align_items": null,
            "bottom": null,
            "_model_module": "@jupyter-widgets/base",
            "top": null,
            "grid_column": null,
            "overflow_y": null,
            "overflow_x": null,
            "grid_auto_flow": null,
            "grid_area": null,
            "grid_template_columns": null,
            "flex": null,
            "_model_name": "LayoutModel",
            "justify_items": null,
            "grid_row": null,
            "max_height": null,
            "align_content": null,
            "visibility": null,
            "align_self": null,
            "height": null,
            "min_height": null,
            "padding": null,
            "grid_auto_rows": null,
            "grid_gap": null,
            "max_width": null,
            "order": null,
            "_view_module_version": "1.2.0",
            "grid_template_areas": null,
            "object_position": null,
            "object_fit": null,
            "grid_auto_columns": null,
            "margin": null,
            "display": null,
            "left": null
          }
        },
        "58a50a601608499fb6db49016618109b": {
          "model_module": "@jupyter-widgets/controls",
          "model_name": "DescriptionStyleModel",
          "state": {
            "_view_name": "StyleView",
            "_model_name": "DescriptionStyleModel",
            "description_width": "",
            "_view_module": "@jupyter-widgets/base",
            "_model_module_version": "1.5.0",
            "_view_count": null,
            "_view_module_version": "1.2.0",
            "_model_module": "@jupyter-widgets/controls"
          }
        },
        "f15df37e40d04b1caa981e926ba1358e": {
          "model_module": "@jupyter-widgets/base",
          "model_name": "LayoutModel",
          "state": {
            "_view_name": "LayoutView",
            "grid_template_rows": null,
            "right": null,
            "justify_content": null,
            "_view_module": "@jupyter-widgets/base",
            "overflow": null,
            "_model_module_version": "1.2.0",
            "_view_count": null,
            "flex_flow": null,
            "width": null,
            "min_width": null,
            "border": null,
            "align_items": null,
            "bottom": null,
            "_model_module": "@jupyter-widgets/base",
            "top": null,
            "grid_column": null,
            "overflow_y": null,
            "overflow_x": null,
            "grid_auto_flow": null,
            "grid_area": null,
            "grid_template_columns": null,
            "flex": null,
            "_model_name": "LayoutModel",
            "justify_items": null,
            "grid_row": null,
            "max_height": null,
            "align_content": null,
            "visibility": null,
            "align_self": null,
            "height": null,
            "min_height": null,
            "padding": null,
            "grid_auto_rows": null,
            "grid_gap": null,
            "max_width": null,
            "order": null,
            "_view_module_version": "1.2.0",
            "grid_template_areas": null,
            "object_position": null,
            "object_fit": null,
            "grid_auto_columns": null,
            "margin": null,
            "display": null,
            "left": null
          }
        },
        "64b81f12692c4321ae974e4fdac8195b": {
          "model_module": "@jupyter-widgets/controls",
          "model_name": "HBoxModel",
          "state": {
            "_view_name": "HBoxView",
            "_dom_classes": [],
            "_model_name": "HBoxModel",
            "_view_module": "@jupyter-widgets/controls",
            "_model_module_version": "1.5.0",
            "_view_count": null,
            "_view_module_version": "1.5.0",
            "box_style": "",
            "layout": "IPY_MODEL_f72b626c72214a0f94f770df6599aef1",
            "_model_module": "@jupyter-widgets/controls",
            "children": [
              "IPY_MODEL_a5afa3760aef486ba47673a1482eed45",
              "IPY_MODEL_bf4fcf867ada4e3f8474d1a306774303"
            ]
          }
        },
        "f72b626c72214a0f94f770df6599aef1": {
          "model_module": "@jupyter-widgets/base",
          "model_name": "LayoutModel",
          "state": {
            "_view_name": "LayoutView",
            "grid_template_rows": null,
            "right": null,
            "justify_content": null,
            "_view_module": "@jupyter-widgets/base",
            "overflow": null,
            "_model_module_version": "1.2.0",
            "_view_count": null,
            "flex_flow": null,
            "width": null,
            "min_width": null,
            "border": null,
            "align_items": null,
            "bottom": null,
            "_model_module": "@jupyter-widgets/base",
            "top": null,
            "grid_column": null,
            "overflow_y": null,
            "overflow_x": null,
            "grid_auto_flow": null,
            "grid_area": null,
            "grid_template_columns": null,
            "flex": null,
            "_model_name": "LayoutModel",
            "justify_items": null,
            "grid_row": null,
            "max_height": null,
            "align_content": null,
            "visibility": null,
            "align_self": null,
            "height": null,
            "min_height": null,
            "padding": null,
            "grid_auto_rows": null,
            "grid_gap": null,
            "max_width": null,
            "order": null,
            "_view_module_version": "1.2.0",
            "grid_template_areas": null,
            "object_position": null,
            "object_fit": null,
            "grid_auto_columns": null,
            "margin": null,
            "display": null,
            "left": null
          }
        },
        "a5afa3760aef486ba47673a1482eed45": {
          "model_module": "@jupyter-widgets/controls",
          "model_name": "FloatProgressModel",
          "state": {
            "_view_name": "ProgressView",
            "style": "IPY_MODEL_3bab8aa4661046138284344910bcb5e6",
            "_dom_classes": [],
            "description": "100%",
            "_model_name": "FloatProgressModel",
            "bar_style": "success",
            "max": 2,
            "_view_module": "@jupyter-widgets/controls",
            "_model_module_version": "1.5.0",
            "value": 2,
            "_view_count": null,
            "_view_module_version": "1.5.0",
            "orientation": "horizontal",
            "min": 0,
            "description_tooltip": null,
            "_model_module": "@jupyter-widgets/controls",
            "layout": "IPY_MODEL_1f80131681fe46c68e18f52a4a6176f6"
          }
        },
        "bf4fcf867ada4e3f8474d1a306774303": {
          "model_module": "@jupyter-widgets/controls",
          "model_name": "HTMLModel",
          "state": {
            "_view_name": "HTMLView",
            "style": "IPY_MODEL_91f7753a82694254bc3f23d1dbf7f537",
            "_dom_classes": [],
            "description": "",
            "_model_name": "HTMLModel",
            "placeholder": "​",
            "_view_module": "@jupyter-widgets/controls",
            "_model_module_version": "1.5.0",
            "value": " 2/2 [00:29&lt;00:00, 14.91s/it]",
            "_view_count": null,
            "_view_module_version": "1.5.0",
            "description_tooltip": null,
            "_model_module": "@jupyter-widgets/controls",
            "layout": "IPY_MODEL_49c2dac7d4a140cdb7341763b48974e3"
          }
        },
        "3bab8aa4661046138284344910bcb5e6": {
          "model_module": "@jupyter-widgets/controls",
          "model_name": "ProgressStyleModel",
          "state": {
            "_view_name": "StyleView",
            "_model_name": "ProgressStyleModel",
            "description_width": "initial",
            "_view_module": "@jupyter-widgets/base",
            "_model_module_version": "1.5.0",
            "_view_count": null,
            "_view_module_version": "1.2.0",
            "bar_color": null,
            "_model_module": "@jupyter-widgets/controls"
          }
        },
        "1f80131681fe46c68e18f52a4a6176f6": {
          "model_module": "@jupyter-widgets/base",
          "model_name": "LayoutModel",
          "state": {
            "_view_name": "LayoutView",
            "grid_template_rows": null,
            "right": null,
            "justify_content": null,
            "_view_module": "@jupyter-widgets/base",
            "overflow": null,
            "_model_module_version": "1.2.0",
            "_view_count": null,
            "flex_flow": null,
            "width": null,
            "min_width": null,
            "border": null,
            "align_items": null,
            "bottom": null,
            "_model_module": "@jupyter-widgets/base",
            "top": null,
            "grid_column": null,
            "overflow_y": null,
            "overflow_x": null,
            "grid_auto_flow": null,
            "grid_area": null,
            "grid_template_columns": null,
            "flex": null,
            "_model_name": "LayoutModel",
            "justify_items": null,
            "grid_row": null,
            "max_height": null,
            "align_content": null,
            "visibility": null,
            "align_self": null,
            "height": null,
            "min_height": null,
            "padding": null,
            "grid_auto_rows": null,
            "grid_gap": null,
            "max_width": null,
            "order": null,
            "_view_module_version": "1.2.0",
            "grid_template_areas": null,
            "object_position": null,
            "object_fit": null,
            "grid_auto_columns": null,
            "margin": null,
            "display": null,
            "left": null
          }
        },
        "91f7753a82694254bc3f23d1dbf7f537": {
          "model_module": "@jupyter-widgets/controls",
          "model_name": "DescriptionStyleModel",
          "state": {
            "_view_name": "StyleView",
            "_model_name": "DescriptionStyleModel",
            "description_width": "",
            "_view_module": "@jupyter-widgets/base",
            "_model_module_version": "1.5.0",
            "_view_count": null,
            "_view_module_version": "1.2.0",
            "_model_module": "@jupyter-widgets/controls"
          }
        },
        "49c2dac7d4a140cdb7341763b48974e3": {
          "model_module": "@jupyter-widgets/base",
          "model_name": "LayoutModel",
          "state": {
            "_view_name": "LayoutView",
            "grid_template_rows": null,
            "right": null,
            "justify_content": null,
            "_view_module": "@jupyter-widgets/base",
            "overflow": null,
            "_model_module_version": "1.2.0",
            "_view_count": null,
            "flex_flow": null,
            "width": null,
            "min_width": null,
            "border": null,
            "align_items": null,
            "bottom": null,
            "_model_module": "@jupyter-widgets/base",
            "top": null,
            "grid_column": null,
            "overflow_y": null,
            "overflow_x": null,
            "grid_auto_flow": null,
            "grid_area": null,
            "grid_template_columns": null,
            "flex": null,
            "_model_name": "LayoutModel",
            "justify_items": null,
            "grid_row": null,
            "max_height": null,
            "align_content": null,
            "visibility": null,
            "align_self": null,
            "height": null,
            "min_height": null,
            "padding": null,
            "grid_auto_rows": null,
            "grid_gap": null,
            "max_width": null,
            "order": null,
            "_view_module_version": "1.2.0",
            "grid_template_areas": null,
            "object_position": null,
            "object_fit": null,
            "grid_auto_columns": null,
            "margin": null,
            "display": null,
            "left": null
          }
        },
        "8e9c2f63bc524e378585f770bfc31570": {
          "model_module": "@jupyter-widgets/controls",
          "model_name": "HBoxModel",
          "state": {
            "_view_name": "HBoxView",
            "_dom_classes": [],
            "_model_name": "HBoxModel",
            "_view_module": "@jupyter-widgets/controls",
            "_model_module_version": "1.5.0",
            "_view_count": null,
            "_view_module_version": "1.5.0",
            "box_style": "",
            "layout": "IPY_MODEL_02fdd500ec0e40a5b8674ef1b3d236be",
            "_model_module": "@jupyter-widgets/controls",
            "children": [
              "IPY_MODEL_86243504c31b4058a07f83c4b7d3bc01",
              "IPY_MODEL_b28553cb13f341a9b4ef757988dcdaf4"
            ]
          }
        },
        "02fdd500ec0e40a5b8674ef1b3d236be": {
          "model_module": "@jupyter-widgets/base",
          "model_name": "LayoutModel",
          "state": {
            "_view_name": "LayoutView",
            "grid_template_rows": null,
            "right": null,
            "justify_content": null,
            "_view_module": "@jupyter-widgets/base",
            "overflow": null,
            "_model_module_version": "1.2.0",
            "_view_count": null,
            "flex_flow": null,
            "width": null,
            "min_width": null,
            "border": null,
            "align_items": null,
            "bottom": null,
            "_model_module": "@jupyter-widgets/base",
            "top": null,
            "grid_column": null,
            "overflow_y": null,
            "overflow_x": null,
            "grid_auto_flow": null,
            "grid_area": null,
            "grid_template_columns": null,
            "flex": null,
            "_model_name": "LayoutModel",
            "justify_items": null,
            "grid_row": null,
            "max_height": null,
            "align_content": null,
            "visibility": null,
            "align_self": null,
            "height": null,
            "min_height": null,
            "padding": null,
            "grid_auto_rows": null,
            "grid_gap": null,
            "max_width": null,
            "order": null,
            "_view_module_version": "1.2.0",
            "grid_template_areas": null,
            "object_position": null,
            "object_fit": null,
            "grid_auto_columns": null,
            "margin": null,
            "display": null,
            "left": null
          }
        },
        "86243504c31b4058a07f83c4b7d3bc01": {
          "model_module": "@jupyter-widgets/controls",
          "model_name": "FloatProgressModel",
          "state": {
            "_view_name": "ProgressView",
            "style": "IPY_MODEL_5edbbfeac5d040ada0177628f5ba86e9",
            "_dom_classes": [],
            "description": "100%",
            "_model_name": "FloatProgressModel",
            "bar_style": "success",
            "max": 3,
            "_view_module": "@jupyter-widgets/controls",
            "_model_module_version": "1.5.0",
            "value": 3,
            "_view_count": null,
            "_view_module_version": "1.5.0",
            "orientation": "horizontal",
            "min": 0,
            "description_tooltip": null,
            "_model_module": "@jupyter-widgets/controls",
            "layout": "IPY_MODEL_f3f75178ab1547f2bd2b67da28c2991c"
          }
        },
        "b28553cb13f341a9b4ef757988dcdaf4": {
          "model_module": "@jupyter-widgets/controls",
          "model_name": "HTMLModel",
          "state": {
            "_view_name": "HTMLView",
            "style": "IPY_MODEL_f52790b4d8b8419987051d4f1d209aeb",
            "_dom_classes": [],
            "description": "",
            "_model_name": "HTMLModel",
            "placeholder": "​",
            "_view_module": "@jupyter-widgets/controls",
            "_model_module_version": "1.5.0",
            "value": " 3/3 [2:00:42&lt;00:00, 2414.28s/it]",
            "_view_count": null,
            "_view_module_version": "1.5.0",
            "description_tooltip": null,
            "_model_module": "@jupyter-widgets/controls",
            "layout": "IPY_MODEL_99779f0b3d4f4397afa98bfe39cbf7e4"
          }
        },
        "5edbbfeac5d040ada0177628f5ba86e9": {
          "model_module": "@jupyter-widgets/controls",
          "model_name": "ProgressStyleModel",
          "state": {
            "_view_name": "StyleView",
            "_model_name": "ProgressStyleModel",
            "description_width": "initial",
            "_view_module": "@jupyter-widgets/base",
            "_model_module_version": "1.5.0",
            "_view_count": null,
            "_view_module_version": "1.2.0",
            "bar_color": null,
            "_model_module": "@jupyter-widgets/controls"
          }
        },
        "f3f75178ab1547f2bd2b67da28c2991c": {
          "model_module": "@jupyter-widgets/base",
          "model_name": "LayoutModel",
          "state": {
            "_view_name": "LayoutView",
            "grid_template_rows": null,
            "right": null,
            "justify_content": null,
            "_view_module": "@jupyter-widgets/base",
            "overflow": null,
            "_model_module_version": "1.2.0",
            "_view_count": null,
            "flex_flow": null,
            "width": null,
            "min_width": null,
            "border": null,
            "align_items": null,
            "bottom": null,
            "_model_module": "@jupyter-widgets/base",
            "top": null,
            "grid_column": null,
            "overflow_y": null,
            "overflow_x": null,
            "grid_auto_flow": null,
            "grid_area": null,
            "grid_template_columns": null,
            "flex": null,
            "_model_name": "LayoutModel",
            "justify_items": null,
            "grid_row": null,
            "max_height": null,
            "align_content": null,
            "visibility": null,
            "align_self": null,
            "height": null,
            "min_height": null,
            "padding": null,
            "grid_auto_rows": null,
            "grid_gap": null,
            "max_width": null,
            "order": null,
            "_view_module_version": "1.2.0",
            "grid_template_areas": null,
            "object_position": null,
            "object_fit": null,
            "grid_auto_columns": null,
            "margin": null,
            "display": null,
            "left": null
          }
        },
        "f52790b4d8b8419987051d4f1d209aeb": {
          "model_module": "@jupyter-widgets/controls",
          "model_name": "DescriptionStyleModel",
          "state": {
            "_view_name": "StyleView",
            "_model_name": "DescriptionStyleModel",
            "description_width": "",
            "_view_module": "@jupyter-widgets/base",
            "_model_module_version": "1.5.0",
            "_view_count": null,
            "_view_module_version": "1.2.0",
            "_model_module": "@jupyter-widgets/controls"
          }
        },
        "99779f0b3d4f4397afa98bfe39cbf7e4": {
          "model_module": "@jupyter-widgets/base",
          "model_name": "LayoutModel",
          "state": {
            "_view_name": "LayoutView",
            "grid_template_rows": null,
            "right": null,
            "justify_content": null,
            "_view_module": "@jupyter-widgets/base",
            "overflow": null,
            "_model_module_version": "1.2.0",
            "_view_count": null,
            "flex_flow": null,
            "width": null,
            "min_width": null,
            "border": null,
            "align_items": null,
            "bottom": null,
            "_model_module": "@jupyter-widgets/base",
            "top": null,
            "grid_column": null,
            "overflow_y": null,
            "overflow_x": null,
            "grid_auto_flow": null,
            "grid_area": null,
            "grid_template_columns": null,
            "flex": null,
            "_model_name": "LayoutModel",
            "justify_items": null,
            "grid_row": null,
            "max_height": null,
            "align_content": null,
            "visibility": null,
            "align_self": null,
            "height": null,
            "min_height": null,
            "padding": null,
            "grid_auto_rows": null,
            "grid_gap": null,
            "max_width": null,
            "order": null,
            "_view_module_version": "1.2.0",
            "grid_template_areas": null,
            "object_position": null,
            "object_fit": null,
            "grid_auto_columns": null,
            "margin": null,
            "display": null,
            "left": null
          }
        },
        "3b4fd947ae6e4ed9b3577c2a414a7312": {
          "model_module": "@jupyter-widgets/controls",
          "model_name": "HBoxModel",
          "state": {
            "_view_name": "HBoxView",
            "_dom_classes": [],
            "_model_name": "HBoxModel",
            "_view_module": "@jupyter-widgets/controls",
            "_model_module_version": "1.5.0",
            "_view_count": null,
            "_view_module_version": "1.5.0",
            "box_style": "",
            "layout": "IPY_MODEL_c02340b42a154436b7f3a3f31be417f8",
            "_model_module": "@jupyter-widgets/controls",
            "children": [
              "IPY_MODEL_490e764925ad4908b05e0d949c01f239",
              "IPY_MODEL_12f91152b4244d01b1bca348e34680c5"
            ]
          }
        },
        "c02340b42a154436b7f3a3f31be417f8": {
          "model_module": "@jupyter-widgets/base",
          "model_name": "LayoutModel",
          "state": {
            "_view_name": "LayoutView",
            "grid_template_rows": null,
            "right": null,
            "justify_content": null,
            "_view_module": "@jupyter-widgets/base",
            "overflow": null,
            "_model_module_version": "1.2.0",
            "_view_count": null,
            "flex_flow": null,
            "width": null,
            "min_width": null,
            "border": null,
            "align_items": null,
            "bottom": null,
            "_model_module": "@jupyter-widgets/base",
            "top": null,
            "grid_column": null,
            "overflow_y": null,
            "overflow_x": null,
            "grid_auto_flow": null,
            "grid_area": null,
            "grid_template_columns": null,
            "flex": null,
            "_model_name": "LayoutModel",
            "justify_items": null,
            "grid_row": null,
            "max_height": null,
            "align_content": null,
            "visibility": null,
            "align_self": null,
            "height": null,
            "min_height": null,
            "padding": null,
            "grid_auto_rows": null,
            "grid_gap": null,
            "max_width": null,
            "order": null,
            "_view_module_version": "1.2.0",
            "grid_template_areas": null,
            "object_position": null,
            "object_fit": null,
            "grid_auto_columns": null,
            "margin": null,
            "display": null,
            "left": null
          }
        },
        "490e764925ad4908b05e0d949c01f239": {
          "model_module": "@jupyter-widgets/controls",
          "model_name": "FloatProgressModel",
          "state": {
            "_view_name": "ProgressView",
            "style": "IPY_MODEL_b0786e82293943208c7cf0eef8eba8d6",
            "_dom_classes": [],
            "description": "100%",
            "_model_name": "FloatProgressModel",
            "bar_style": "success",
            "max": 219,
            "_view_module": "@jupyter-widgets/controls",
            "_model_module_version": "1.5.0",
            "value": 219,
            "_view_count": null,
            "_view_module_version": "1.5.0",
            "orientation": "horizontal",
            "min": 0,
            "description_tooltip": null,
            "_model_module": "@jupyter-widgets/controls",
            "layout": "IPY_MODEL_d3d9cdb8ab8a421fabee04414a84ad28"
          }
        },
        "12f91152b4244d01b1bca348e34680c5": {
          "model_module": "@jupyter-widgets/controls",
          "model_name": "HTMLModel",
          "state": {
            "_view_name": "HTMLView",
            "style": "IPY_MODEL_a1dadab2824a42c1ac86d880c41dc1c7",
            "_dom_classes": [],
            "description": "",
            "_model_name": "HTMLModel",
            "placeholder": "​",
            "_view_module": "@jupyter-widgets/controls",
            "_model_module_version": "1.5.0",
            "value": " 219/219 [00:05&lt;00:00, 36.52it/s]",
            "_view_count": null,
            "_view_module_version": "1.5.0",
            "description_tooltip": null,
            "_model_module": "@jupyter-widgets/controls",
            "layout": "IPY_MODEL_aa448669594d46d393390d634b370462"
          }
        },
        "b0786e82293943208c7cf0eef8eba8d6": {
          "model_module": "@jupyter-widgets/controls",
          "model_name": "ProgressStyleModel",
          "state": {
            "_view_name": "StyleView",
            "_model_name": "ProgressStyleModel",
            "description_width": "initial",
            "_view_module": "@jupyter-widgets/base",
            "_model_module_version": "1.5.0",
            "_view_count": null,
            "_view_module_version": "1.2.0",
            "bar_color": null,
            "_model_module": "@jupyter-widgets/controls"
          }
        },
        "d3d9cdb8ab8a421fabee04414a84ad28": {
          "model_module": "@jupyter-widgets/base",
          "model_name": "LayoutModel",
          "state": {
            "_view_name": "LayoutView",
            "grid_template_rows": null,
            "right": null,
            "justify_content": null,
            "_view_module": "@jupyter-widgets/base",
            "overflow": null,
            "_model_module_version": "1.2.0",
            "_view_count": null,
            "flex_flow": null,
            "width": null,
            "min_width": null,
            "border": null,
            "align_items": null,
            "bottom": null,
            "_model_module": "@jupyter-widgets/base",
            "top": null,
            "grid_column": null,
            "overflow_y": null,
            "overflow_x": null,
            "grid_auto_flow": null,
            "grid_area": null,
            "grid_template_columns": null,
            "flex": null,
            "_model_name": "LayoutModel",
            "justify_items": null,
            "grid_row": null,
            "max_height": null,
            "align_content": null,
            "visibility": null,
            "align_self": null,
            "height": null,
            "min_height": null,
            "padding": null,
            "grid_auto_rows": null,
            "grid_gap": null,
            "max_width": null,
            "order": null,
            "_view_module_version": "1.2.0",
            "grid_template_areas": null,
            "object_position": null,
            "object_fit": null,
            "grid_auto_columns": null,
            "margin": null,
            "display": null,
            "left": null
          }
        },
        "a1dadab2824a42c1ac86d880c41dc1c7": {
          "model_module": "@jupyter-widgets/controls",
          "model_name": "DescriptionStyleModel",
          "state": {
            "_view_name": "StyleView",
            "_model_name": "DescriptionStyleModel",
            "description_width": "",
            "_view_module": "@jupyter-widgets/base",
            "_model_module_version": "1.5.0",
            "_view_count": null,
            "_view_module_version": "1.2.0",
            "_model_module": "@jupyter-widgets/controls"
          }
        },
        "aa448669594d46d393390d634b370462": {
          "model_module": "@jupyter-widgets/base",
          "model_name": "LayoutModel",
          "state": {
            "_view_name": "LayoutView",
            "grid_template_rows": null,
            "right": null,
            "justify_content": null,
            "_view_module": "@jupyter-widgets/base",
            "overflow": null,
            "_model_module_version": "1.2.0",
            "_view_count": null,
            "flex_flow": null,
            "width": null,
            "min_width": null,
            "border": null,
            "align_items": null,
            "bottom": null,
            "_model_module": "@jupyter-widgets/base",
            "top": null,
            "grid_column": null,
            "overflow_y": null,
            "overflow_x": null,
            "grid_auto_flow": null,
            "grid_area": null,
            "grid_template_columns": null,
            "flex": null,
            "_model_name": "LayoutModel",
            "justify_items": null,
            "grid_row": null,
            "max_height": null,
            "align_content": null,
            "visibility": null,
            "align_self": null,
            "height": null,
            "min_height": null,
            "padding": null,
            "grid_auto_rows": null,
            "grid_gap": null,
            "max_width": null,
            "order": null,
            "_view_module_version": "1.2.0",
            "grid_template_areas": null,
            "object_position": null,
            "object_fit": null,
            "grid_auto_columns": null,
            "margin": null,
            "display": null,
            "left": null
          }
        },
        "270cadd29eb543d9b2a6aac7c861669a": {
          "model_module": "@jupyter-widgets/controls",
          "model_name": "HBoxModel",
          "state": {
            "_view_name": "HBoxView",
            "_dom_classes": [],
            "_model_name": "HBoxModel",
            "_view_module": "@jupyter-widgets/controls",
            "_model_module_version": "1.5.0",
            "_view_count": null,
            "_view_module_version": "1.5.0",
            "box_style": "",
            "layout": "IPY_MODEL_8342927df2b04b0f8beb41fd8abbdeed",
            "_model_module": "@jupyter-widgets/controls",
            "children": [
              "IPY_MODEL_b4bdaf6e68d543188ab6b5205a0da94d",
              "IPY_MODEL_f85cb9c10deb496eba8e38997b5a9dff"
            ]
          }
        },
        "8342927df2b04b0f8beb41fd8abbdeed": {
          "model_module": "@jupyter-widgets/base",
          "model_name": "LayoutModel",
          "state": {
            "_view_name": "LayoutView",
            "grid_template_rows": null,
            "right": null,
            "justify_content": null,
            "_view_module": "@jupyter-widgets/base",
            "overflow": null,
            "_model_module_version": "1.2.0",
            "_view_count": null,
            "flex_flow": null,
            "width": null,
            "min_width": null,
            "border": null,
            "align_items": null,
            "bottom": null,
            "_model_module": "@jupyter-widgets/base",
            "top": null,
            "grid_column": null,
            "overflow_y": null,
            "overflow_x": null,
            "grid_auto_flow": null,
            "grid_area": null,
            "grid_template_columns": null,
            "flex": null,
            "_model_name": "LayoutModel",
            "justify_items": null,
            "grid_row": null,
            "max_height": null,
            "align_content": null,
            "visibility": null,
            "align_self": null,
            "height": null,
            "min_height": null,
            "padding": null,
            "grid_auto_rows": null,
            "grid_gap": null,
            "max_width": null,
            "order": null,
            "_view_module_version": "1.2.0",
            "grid_template_areas": null,
            "object_position": null,
            "object_fit": null,
            "grid_auto_columns": null,
            "margin": null,
            "display": null,
            "left": null
          }
        },
        "b4bdaf6e68d543188ab6b5205a0da94d": {
          "model_module": "@jupyter-widgets/controls",
          "model_name": "FloatProgressModel",
          "state": {
            "_view_name": "ProgressView",
            "style": "IPY_MODEL_1276e6a76a6a4594a235acd5480acadd",
            "_dom_classes": [],
            "description": "100%",
            "_model_name": "FloatProgressModel",
            "bar_style": "success",
            "max": 1341,
            "_view_module": "@jupyter-widgets/controls",
            "_model_module_version": "1.5.0",
            "value": 1341,
            "_view_count": null,
            "_view_module_version": "1.5.0",
            "orientation": "horizontal",
            "min": 0,
            "description_tooltip": null,
            "_model_module": "@jupyter-widgets/controls",
            "layout": "IPY_MODEL_e9ecae5473e84ef7904d2331fc277449"
          }
        },
        "f85cb9c10deb496eba8e38997b5a9dff": {
          "model_module": "@jupyter-widgets/controls",
          "model_name": "HTMLModel",
          "state": {
            "_view_name": "HTMLView",
            "style": "IPY_MODEL_2771161ec66a464eb5348a7e5eedf999",
            "_dom_classes": [],
            "description": "",
            "_model_name": "HTMLModel",
            "placeholder": "​",
            "_view_module": "@jupyter-widgets/controls",
            "_model_module_version": "1.5.0",
            "value": " 1341/1341 [2:00:37&lt;00:00,  5.40s/it]",
            "_view_count": null,
            "_view_module_version": "1.5.0",
            "description_tooltip": null,
            "_model_module": "@jupyter-widgets/controls",
            "layout": "IPY_MODEL_8b716761842747b3a51d41f6bdb72b7d"
          }
        },
        "1276e6a76a6a4594a235acd5480acadd": {
          "model_module": "@jupyter-widgets/controls",
          "model_name": "ProgressStyleModel",
          "state": {
            "_view_name": "StyleView",
            "_model_name": "ProgressStyleModel",
            "description_width": "initial",
            "_view_module": "@jupyter-widgets/base",
            "_model_module_version": "1.5.0",
            "_view_count": null,
            "_view_module_version": "1.2.0",
            "bar_color": null,
            "_model_module": "@jupyter-widgets/controls"
          }
        },
        "e9ecae5473e84ef7904d2331fc277449": {
          "model_module": "@jupyter-widgets/base",
          "model_name": "LayoutModel",
          "state": {
            "_view_name": "LayoutView",
            "grid_template_rows": null,
            "right": null,
            "justify_content": null,
            "_view_module": "@jupyter-widgets/base",
            "overflow": null,
            "_model_module_version": "1.2.0",
            "_view_count": null,
            "flex_flow": null,
            "width": null,
            "min_width": null,
            "border": null,
            "align_items": null,
            "bottom": null,
            "_model_module": "@jupyter-widgets/base",
            "top": null,
            "grid_column": null,
            "overflow_y": null,
            "overflow_x": null,
            "grid_auto_flow": null,
            "grid_area": null,
            "grid_template_columns": null,
            "flex": null,
            "_model_name": "LayoutModel",
            "justify_items": null,
            "grid_row": null,
            "max_height": null,
            "align_content": null,
            "visibility": null,
            "align_self": null,
            "height": null,
            "min_height": null,
            "padding": null,
            "grid_auto_rows": null,
            "grid_gap": null,
            "max_width": null,
            "order": null,
            "_view_module_version": "1.2.0",
            "grid_template_areas": null,
            "object_position": null,
            "object_fit": null,
            "grid_auto_columns": null,
            "margin": null,
            "display": null,
            "left": null
          }
        },
        "2771161ec66a464eb5348a7e5eedf999": {
          "model_module": "@jupyter-widgets/controls",
          "model_name": "DescriptionStyleModel",
          "state": {
            "_view_name": "StyleView",
            "_model_name": "DescriptionStyleModel",
            "description_width": "",
            "_view_module": "@jupyter-widgets/base",
            "_model_module_version": "1.5.0",
            "_view_count": null,
            "_view_module_version": "1.2.0",
            "_model_module": "@jupyter-widgets/controls"
          }
        },
        "8b716761842747b3a51d41f6bdb72b7d": {
          "model_module": "@jupyter-widgets/base",
          "model_name": "LayoutModel",
          "state": {
            "_view_name": "LayoutView",
            "grid_template_rows": null,
            "right": null,
            "justify_content": null,
            "_view_module": "@jupyter-widgets/base",
            "overflow": null,
            "_model_module_version": "1.2.0",
            "_view_count": null,
            "flex_flow": null,
            "width": null,
            "min_width": null,
            "border": null,
            "align_items": null,
            "bottom": null,
            "_model_module": "@jupyter-widgets/base",
            "top": null,
            "grid_column": null,
            "overflow_y": null,
            "overflow_x": null,
            "grid_auto_flow": null,
            "grid_area": null,
            "grid_template_columns": null,
            "flex": null,
            "_model_name": "LayoutModel",
            "justify_items": null,
            "grid_row": null,
            "max_height": null,
            "align_content": null,
            "visibility": null,
            "align_self": null,
            "height": null,
            "min_height": null,
            "padding": null,
            "grid_auto_rows": null,
            "grid_gap": null,
            "max_width": null,
            "order": null,
            "_view_module_version": "1.2.0",
            "grid_template_areas": null,
            "object_position": null,
            "object_fit": null,
            "grid_auto_columns": null,
            "margin": null,
            "display": null,
            "left": null
          }
        },
        "b2b6d452e07745899ce057476f5f9a08": {
          "model_module": "@jupyter-widgets/controls",
          "model_name": "HBoxModel",
          "state": {
            "_view_name": "HBoxView",
            "_dom_classes": [],
            "_model_name": "HBoxModel",
            "_view_module": "@jupyter-widgets/controls",
            "_model_module_version": "1.5.0",
            "_view_count": null,
            "_view_module_version": "1.5.0",
            "box_style": "",
            "layout": "IPY_MODEL_60637d7350a54614b93f6a969bd2948e",
            "_model_module": "@jupyter-widgets/controls",
            "children": [
              "IPY_MODEL_9279e10688bb4003845990920ed5f4d1",
              "IPY_MODEL_c228c2671cb1490ebf11f8c1fb9fca06"
            ]
          }
        },
        "60637d7350a54614b93f6a969bd2948e": {
          "model_module": "@jupyter-widgets/base",
          "model_name": "LayoutModel",
          "state": {
            "_view_name": "LayoutView",
            "grid_template_rows": null,
            "right": null,
            "justify_content": null,
            "_view_module": "@jupyter-widgets/base",
            "overflow": null,
            "_model_module_version": "1.2.0",
            "_view_count": null,
            "flex_flow": null,
            "width": null,
            "min_width": null,
            "border": null,
            "align_items": null,
            "bottom": null,
            "_model_module": "@jupyter-widgets/base",
            "top": null,
            "grid_column": null,
            "overflow_y": null,
            "overflow_x": null,
            "grid_auto_flow": null,
            "grid_area": null,
            "grid_template_columns": null,
            "flex": null,
            "_model_name": "LayoutModel",
            "justify_items": null,
            "grid_row": null,
            "max_height": null,
            "align_content": null,
            "visibility": null,
            "align_self": null,
            "height": null,
            "min_height": null,
            "padding": null,
            "grid_auto_rows": null,
            "grid_gap": null,
            "max_width": null,
            "order": null,
            "_view_module_version": "1.2.0",
            "grid_template_areas": null,
            "object_position": null,
            "object_fit": null,
            "grid_auto_columns": null,
            "margin": null,
            "display": null,
            "left": null
          }
        },
        "9279e10688bb4003845990920ed5f4d1": {
          "model_module": "@jupyter-widgets/controls",
          "model_name": "FloatProgressModel",
          "state": {
            "_view_name": "ProgressView",
            "style": "IPY_MODEL_ff003af032614c138e68be90223847e5",
            "_dom_classes": [],
            "description": "100%",
            "_model_name": "FloatProgressModel",
            "bar_style": "success",
            "max": 1345,
            "_view_module": "@jupyter-widgets/controls",
            "_model_module_version": "1.5.0",
            "value": 1345,
            "_view_count": null,
            "_view_module_version": "1.5.0",
            "orientation": "horizontal",
            "min": 0,
            "description_tooltip": null,
            "_model_module": "@jupyter-widgets/controls",
            "layout": "IPY_MODEL_5a8b083959f147f38a21f26327730bfa"
          }
        },
        "c228c2671cb1490ebf11f8c1fb9fca06": {
          "model_module": "@jupyter-widgets/controls",
          "model_name": "HTMLModel",
          "state": {
            "_view_name": "HTMLView",
            "style": "IPY_MODEL_c89fcf1d1b2a455b87a70e0d43fd6b32",
            "_dom_classes": [],
            "description": "",
            "_model_name": "HTMLModel",
            "placeholder": "​",
            "_view_module": "@jupyter-widgets/controls",
            "_model_module_version": "1.5.0",
            "value": " 1345/1345 [2:00:17&lt;00:00,  5.37s/it]",
            "_view_count": null,
            "_view_module_version": "1.5.0",
            "description_tooltip": null,
            "_model_module": "@jupyter-widgets/controls",
            "layout": "IPY_MODEL_14262879849443dda8420988f30abaf0"
          }
        },
        "ff003af032614c138e68be90223847e5": {
          "model_module": "@jupyter-widgets/controls",
          "model_name": "ProgressStyleModel",
          "state": {
            "_view_name": "StyleView",
            "_model_name": "ProgressStyleModel",
            "description_width": "initial",
            "_view_module": "@jupyter-widgets/base",
            "_model_module_version": "1.5.0",
            "_view_count": null,
            "_view_module_version": "1.2.0",
            "bar_color": null,
            "_model_module": "@jupyter-widgets/controls"
          }
        },
        "5a8b083959f147f38a21f26327730bfa": {
          "model_module": "@jupyter-widgets/base",
          "model_name": "LayoutModel",
          "state": {
            "_view_name": "LayoutView",
            "grid_template_rows": null,
            "right": null,
            "justify_content": null,
            "_view_module": "@jupyter-widgets/base",
            "overflow": null,
            "_model_module_version": "1.2.0",
            "_view_count": null,
            "flex_flow": null,
            "width": null,
            "min_width": null,
            "border": null,
            "align_items": null,
            "bottom": null,
            "_model_module": "@jupyter-widgets/base",
            "top": null,
            "grid_column": null,
            "overflow_y": null,
            "overflow_x": null,
            "grid_auto_flow": null,
            "grid_area": null,
            "grid_template_columns": null,
            "flex": null,
            "_model_name": "LayoutModel",
            "justify_items": null,
            "grid_row": null,
            "max_height": null,
            "align_content": null,
            "visibility": null,
            "align_self": null,
            "height": null,
            "min_height": null,
            "padding": null,
            "grid_auto_rows": null,
            "grid_gap": null,
            "max_width": null,
            "order": null,
            "_view_module_version": "1.2.0",
            "grid_template_areas": null,
            "object_position": null,
            "object_fit": null,
            "grid_auto_columns": null,
            "margin": null,
            "display": null,
            "left": null
          }
        },
        "c89fcf1d1b2a455b87a70e0d43fd6b32": {
          "model_module": "@jupyter-widgets/controls",
          "model_name": "DescriptionStyleModel",
          "state": {
            "_view_name": "StyleView",
            "_model_name": "DescriptionStyleModel",
            "description_width": "",
            "_view_module": "@jupyter-widgets/base",
            "_model_module_version": "1.5.0",
            "_view_count": null,
            "_view_module_version": "1.2.0",
            "_model_module": "@jupyter-widgets/controls"
          }
        },
        "14262879849443dda8420988f30abaf0": {
          "model_module": "@jupyter-widgets/base",
          "model_name": "LayoutModel",
          "state": {
            "_view_name": "LayoutView",
            "grid_template_rows": null,
            "right": null,
            "justify_content": null,
            "_view_module": "@jupyter-widgets/base",
            "overflow": null,
            "_model_module_version": "1.2.0",
            "_view_count": null,
            "flex_flow": null,
            "width": null,
            "min_width": null,
            "border": null,
            "align_items": null,
            "bottom": null,
            "_model_module": "@jupyter-widgets/base",
            "top": null,
            "grid_column": null,
            "overflow_y": null,
            "overflow_x": null,
            "grid_auto_flow": null,
            "grid_area": null,
            "grid_template_columns": null,
            "flex": null,
            "_model_name": "LayoutModel",
            "justify_items": null,
            "grid_row": null,
            "max_height": null,
            "align_content": null,
            "visibility": null,
            "align_self": null,
            "height": null,
            "min_height": null,
            "padding": null,
            "grid_auto_rows": null,
            "grid_gap": null,
            "max_width": null,
            "order": null,
            "_view_module_version": "1.2.0",
            "grid_template_areas": null,
            "object_position": null,
            "object_fit": null,
            "grid_auto_columns": null,
            "margin": null,
            "display": null,
            "left": null
          }
        },
        "7e9d2674e797482ab3805bc5c7d09739": {
          "model_module": "@jupyter-widgets/controls",
          "model_name": "HBoxModel",
          "state": {
            "_view_name": "HBoxView",
            "_dom_classes": [],
            "_model_name": "HBoxModel",
            "_view_module": "@jupyter-widgets/controls",
            "_model_module_version": "1.5.0",
            "_view_count": null,
            "_view_module_version": "1.5.0",
            "box_style": "",
            "layout": "IPY_MODEL_8886db0eab7942738ed26cbb42133b7d",
            "_model_module": "@jupyter-widgets/controls",
            "children": [
              "IPY_MODEL_e73c0947d679403083280810bf0d588c",
              "IPY_MODEL_72bb296490be4c9d9935a62fd3a85238"
            ]
          }
        },
        "8886db0eab7942738ed26cbb42133b7d": {
          "model_module": "@jupyter-widgets/base",
          "model_name": "LayoutModel",
          "state": {
            "_view_name": "LayoutView",
            "grid_template_rows": null,
            "right": null,
            "justify_content": null,
            "_view_module": "@jupyter-widgets/base",
            "overflow": null,
            "_model_module_version": "1.2.0",
            "_view_count": null,
            "flex_flow": null,
            "width": null,
            "min_width": null,
            "border": null,
            "align_items": null,
            "bottom": null,
            "_model_module": "@jupyter-widgets/base",
            "top": null,
            "grid_column": null,
            "overflow_y": null,
            "overflow_x": null,
            "grid_auto_flow": null,
            "grid_area": null,
            "grid_template_columns": null,
            "flex": null,
            "_model_name": "LayoutModel",
            "justify_items": null,
            "grid_row": null,
            "max_height": null,
            "align_content": null,
            "visibility": null,
            "align_self": null,
            "height": null,
            "min_height": null,
            "padding": null,
            "grid_auto_rows": null,
            "grid_gap": null,
            "max_width": null,
            "order": null,
            "_view_module_version": "1.2.0",
            "grid_template_areas": null,
            "object_position": null,
            "object_fit": null,
            "grid_auto_columns": null,
            "margin": null,
            "display": null,
            "left": null
          }
        },
        "e73c0947d679403083280810bf0d588c": {
          "model_module": "@jupyter-widgets/controls",
          "model_name": "FloatProgressModel",
          "state": {
            "_view_name": "ProgressView",
            "style": "IPY_MODEL_9d192b071518402cace3809fa5424da5",
            "_dom_classes": [],
            "description": "100%",
            "_model_name": "FloatProgressModel",
            "bar_style": "success",
            "max": 2905,
            "_view_module": "@jupyter-widgets/controls",
            "_model_module_version": "1.5.0",
            "value": 2905,
            "_view_count": null,
            "_view_module_version": "1.5.0",
            "orientation": "horizontal",
            "min": 0,
            "description_tooltip": null,
            "_model_module": "@jupyter-widgets/controls",
            "layout": "IPY_MODEL_634882143e744606839436c54060fc2e"
          }
        },
        "72bb296490be4c9d9935a62fd3a85238": {
          "model_module": "@jupyter-widgets/controls",
          "model_name": "HTMLModel",
          "state": {
            "_view_name": "HTMLView",
            "style": "IPY_MODEL_1d7d0039b24245188557216ca43a4428",
            "_dom_classes": [],
            "description": "",
            "_model_name": "HTMLModel",
            "placeholder": "​",
            "_view_module": "@jupyter-widgets/controls",
            "_model_module_version": "1.5.0",
            "value": " 2905/2905 [00:06&lt;00:00, 438.53it/s]",
            "_view_count": null,
            "_view_module_version": "1.5.0",
            "description_tooltip": null,
            "_model_module": "@jupyter-widgets/controls",
            "layout": "IPY_MODEL_a6c1531dee0846269ead1004bd382954"
          }
        },
        "9d192b071518402cace3809fa5424da5": {
          "model_module": "@jupyter-widgets/controls",
          "model_name": "ProgressStyleModel",
          "state": {
            "_view_name": "StyleView",
            "_model_name": "ProgressStyleModel",
            "description_width": "initial",
            "_view_module": "@jupyter-widgets/base",
            "_model_module_version": "1.5.0",
            "_view_count": null,
            "_view_module_version": "1.2.0",
            "bar_color": null,
            "_model_module": "@jupyter-widgets/controls"
          }
        },
        "634882143e744606839436c54060fc2e": {
          "model_module": "@jupyter-widgets/base",
          "model_name": "LayoutModel",
          "state": {
            "_view_name": "LayoutView",
            "grid_template_rows": null,
            "right": null,
            "justify_content": null,
            "_view_module": "@jupyter-widgets/base",
            "overflow": null,
            "_model_module_version": "1.2.0",
            "_view_count": null,
            "flex_flow": null,
            "width": null,
            "min_width": null,
            "border": null,
            "align_items": null,
            "bottom": null,
            "_model_module": "@jupyter-widgets/base",
            "top": null,
            "grid_column": null,
            "overflow_y": null,
            "overflow_x": null,
            "grid_auto_flow": null,
            "grid_area": null,
            "grid_template_columns": null,
            "flex": null,
            "_model_name": "LayoutModel",
            "justify_items": null,
            "grid_row": null,
            "max_height": null,
            "align_content": null,
            "visibility": null,
            "align_self": null,
            "height": null,
            "min_height": null,
            "padding": null,
            "grid_auto_rows": null,
            "grid_gap": null,
            "max_width": null,
            "order": null,
            "_view_module_version": "1.2.0",
            "grid_template_areas": null,
            "object_position": null,
            "object_fit": null,
            "grid_auto_columns": null,
            "margin": null,
            "display": null,
            "left": null
          }
        },
        "1d7d0039b24245188557216ca43a4428": {
          "model_module": "@jupyter-widgets/controls",
          "model_name": "DescriptionStyleModel",
          "state": {
            "_view_name": "StyleView",
            "_model_name": "DescriptionStyleModel",
            "description_width": "",
            "_view_module": "@jupyter-widgets/base",
            "_model_module_version": "1.5.0",
            "_view_count": null,
            "_view_module_version": "1.2.0",
            "_model_module": "@jupyter-widgets/controls"
          }
        },
        "a6c1531dee0846269ead1004bd382954": {
          "model_module": "@jupyter-widgets/base",
          "model_name": "LayoutModel",
          "state": {
            "_view_name": "LayoutView",
            "grid_template_rows": null,
            "right": null,
            "justify_content": null,
            "_view_module": "@jupyter-widgets/base",
            "overflow": null,
            "_model_module_version": "1.2.0",
            "_view_count": null,
            "flex_flow": null,
            "width": null,
            "min_width": null,
            "border": null,
            "align_items": null,
            "bottom": null,
            "_model_module": "@jupyter-widgets/base",
            "top": null,
            "grid_column": null,
            "overflow_y": null,
            "overflow_x": null,
            "grid_auto_flow": null,
            "grid_area": null,
            "grid_template_columns": null,
            "flex": null,
            "_model_name": "LayoutModel",
            "justify_items": null,
            "grid_row": null,
            "max_height": null,
            "align_content": null,
            "visibility": null,
            "align_self": null,
            "height": null,
            "min_height": null,
            "padding": null,
            "grid_auto_rows": null,
            "grid_gap": null,
            "max_width": null,
            "order": null,
            "_view_module_version": "1.2.0",
            "grid_template_areas": null,
            "object_position": null,
            "object_fit": null,
            "grid_auto_columns": null,
            "margin": null,
            "display": null,
            "left": null
          }
        },
        "883d30aa4cc94feeb83b5c77cefd50fe": {
          "model_module": "@jupyter-widgets/controls",
          "model_name": "HBoxModel",
          "state": {
            "_view_name": "HBoxView",
            "_dom_classes": [],
            "_model_name": "HBoxModel",
            "_view_module": "@jupyter-widgets/controls",
            "_model_module_version": "1.5.0",
            "_view_count": null,
            "_view_module_version": "1.5.0",
            "box_style": "",
            "layout": "IPY_MODEL_15704bc43a65434c9e2e0bf11c481373",
            "_model_module": "@jupyter-widgets/controls",
            "children": [
              "IPY_MODEL_5b995380b73e4b94bf41cc5eb832a70a",
              "IPY_MODEL_1e105cad5cc74ed5aaeb15ea475db55e"
            ]
          }
        },
        "15704bc43a65434c9e2e0bf11c481373": {
          "model_module": "@jupyter-widgets/base",
          "model_name": "LayoutModel",
          "state": {
            "_view_name": "LayoutView",
            "grid_template_rows": null,
            "right": null,
            "justify_content": null,
            "_view_module": "@jupyter-widgets/base",
            "overflow": null,
            "_model_module_version": "1.2.0",
            "_view_count": null,
            "flex_flow": null,
            "width": null,
            "min_width": null,
            "border": null,
            "align_items": null,
            "bottom": null,
            "_model_module": "@jupyter-widgets/base",
            "top": null,
            "grid_column": null,
            "overflow_y": null,
            "overflow_x": null,
            "grid_auto_flow": null,
            "grid_area": null,
            "grid_template_columns": null,
            "flex": null,
            "_model_name": "LayoutModel",
            "justify_items": null,
            "grid_row": null,
            "max_height": null,
            "align_content": null,
            "visibility": null,
            "align_self": null,
            "height": null,
            "min_height": null,
            "padding": null,
            "grid_auto_rows": null,
            "grid_gap": null,
            "max_width": null,
            "order": null,
            "_view_module_version": "1.2.0",
            "grid_template_areas": null,
            "object_position": null,
            "object_fit": null,
            "grid_auto_columns": null,
            "margin": null,
            "display": null,
            "left": null
          }
        },
        "5b995380b73e4b94bf41cc5eb832a70a": {
          "model_module": "@jupyter-widgets/controls",
          "model_name": "FloatProgressModel",
          "state": {
            "_view_name": "ProgressView",
            "style": "IPY_MODEL_325a2fb6a0b64b9ab090f31cbe5d4d0d",
            "_dom_classes": [],
            "description": "100%",
            "_model_name": "FloatProgressModel",
            "bar_style": "success",
            "max": 4,
            "_view_module": "@jupyter-widgets/controls",
            "_model_module_version": "1.5.0",
            "value": 4,
            "_view_count": null,
            "_view_module_version": "1.5.0",
            "orientation": "horizontal",
            "min": 0,
            "description_tooltip": null,
            "_model_module": "@jupyter-widgets/controls",
            "layout": "IPY_MODEL_af5803e54bf44c41aab563d1adb45c62"
          }
        },
        "1e105cad5cc74ed5aaeb15ea475db55e": {
          "model_module": "@jupyter-widgets/controls",
          "model_name": "HTMLModel",
          "state": {
            "_view_name": "HTMLView",
            "style": "IPY_MODEL_f12c0fbe74804e6e8a626239836378f1",
            "_dom_classes": [],
            "description": "",
            "_model_name": "HTMLModel",
            "placeholder": "​",
            "_view_module": "@jupyter-widgets/controls",
            "_model_module_version": "1.5.0",
            "value": " 4/4 [1:37:57&lt;00:00, 1469.47s/it]",
            "_view_count": null,
            "_view_module_version": "1.5.0",
            "description_tooltip": null,
            "_model_module": "@jupyter-widgets/controls",
            "layout": "IPY_MODEL_e5fbbb7324cd40e1a06ec4858964844a"
          }
        },
        "325a2fb6a0b64b9ab090f31cbe5d4d0d": {
          "model_module": "@jupyter-widgets/controls",
          "model_name": "ProgressStyleModel",
          "state": {
            "_view_name": "StyleView",
            "_model_name": "ProgressStyleModel",
            "description_width": "initial",
            "_view_module": "@jupyter-widgets/base",
            "_model_module_version": "1.5.0",
            "_view_count": null,
            "_view_module_version": "1.2.0",
            "bar_color": null,
            "_model_module": "@jupyter-widgets/controls"
          }
        },
        "af5803e54bf44c41aab563d1adb45c62": {
          "model_module": "@jupyter-widgets/base",
          "model_name": "LayoutModel",
          "state": {
            "_view_name": "LayoutView",
            "grid_template_rows": null,
            "right": null,
            "justify_content": null,
            "_view_module": "@jupyter-widgets/base",
            "overflow": null,
            "_model_module_version": "1.2.0",
            "_view_count": null,
            "flex_flow": null,
            "width": null,
            "min_width": null,
            "border": null,
            "align_items": null,
            "bottom": null,
            "_model_module": "@jupyter-widgets/base",
            "top": null,
            "grid_column": null,
            "overflow_y": null,
            "overflow_x": null,
            "grid_auto_flow": null,
            "grid_area": null,
            "grid_template_columns": null,
            "flex": null,
            "_model_name": "LayoutModel",
            "justify_items": null,
            "grid_row": null,
            "max_height": null,
            "align_content": null,
            "visibility": null,
            "align_self": null,
            "height": null,
            "min_height": null,
            "padding": null,
            "grid_auto_rows": null,
            "grid_gap": null,
            "max_width": null,
            "order": null,
            "_view_module_version": "1.2.0",
            "grid_template_areas": null,
            "object_position": null,
            "object_fit": null,
            "grid_auto_columns": null,
            "margin": null,
            "display": null,
            "left": null
          }
        },
        "f12c0fbe74804e6e8a626239836378f1": {
          "model_module": "@jupyter-widgets/controls",
          "model_name": "DescriptionStyleModel",
          "state": {
            "_view_name": "StyleView",
            "_model_name": "DescriptionStyleModel",
            "description_width": "",
            "_view_module": "@jupyter-widgets/base",
            "_model_module_version": "1.5.0",
            "_view_count": null,
            "_view_module_version": "1.2.0",
            "_model_module": "@jupyter-widgets/controls"
          }
        },
        "e5fbbb7324cd40e1a06ec4858964844a": {
          "model_module": "@jupyter-widgets/base",
          "model_name": "LayoutModel",
          "state": {
            "_view_name": "LayoutView",
            "grid_template_rows": null,
            "right": null,
            "justify_content": null,
            "_view_module": "@jupyter-widgets/base",
            "overflow": null,
            "_model_module_version": "1.2.0",
            "_view_count": null,
            "flex_flow": null,
            "width": null,
            "min_width": null,
            "border": null,
            "align_items": null,
            "bottom": null,
            "_model_module": "@jupyter-widgets/base",
            "top": null,
            "grid_column": null,
            "overflow_y": null,
            "overflow_x": null,
            "grid_auto_flow": null,
            "grid_area": null,
            "grid_template_columns": null,
            "flex": null,
            "_model_name": "LayoutModel",
            "justify_items": null,
            "grid_row": null,
            "max_height": null,
            "align_content": null,
            "visibility": null,
            "align_self": null,
            "height": null,
            "min_height": null,
            "padding": null,
            "grid_auto_rows": null,
            "grid_gap": null,
            "max_width": null,
            "order": null,
            "_view_module_version": "1.2.0",
            "grid_template_areas": null,
            "object_position": null,
            "object_fit": null,
            "grid_auto_columns": null,
            "margin": null,
            "display": null,
            "left": null
          }
        },
        "d3146d0151d24c56af049ac4c2555ae6": {
          "model_module": "@jupyter-widgets/controls",
          "model_name": "HBoxModel",
          "state": {
            "_view_name": "HBoxView",
            "_dom_classes": [],
            "_model_name": "HBoxModel",
            "_view_module": "@jupyter-widgets/controls",
            "_model_module_version": "1.5.0",
            "_view_count": null,
            "_view_module_version": "1.5.0",
            "box_style": "",
            "layout": "IPY_MODEL_cca7a9ec01d448adaa29f63cf2b3cf87",
            "_model_module": "@jupyter-widgets/controls",
            "children": [
              "IPY_MODEL_9ad9666d56ae45029c3be0d909e549b8",
              "IPY_MODEL_8ac1ab8c6d6b46cd9fb5c47a555c6f4a"
            ]
          }
        },
        "cca7a9ec01d448adaa29f63cf2b3cf87": {
          "model_module": "@jupyter-widgets/base",
          "model_name": "LayoutModel",
          "state": {
            "_view_name": "LayoutView",
            "grid_template_rows": null,
            "right": null,
            "justify_content": null,
            "_view_module": "@jupyter-widgets/base",
            "overflow": null,
            "_model_module_version": "1.2.0",
            "_view_count": null,
            "flex_flow": null,
            "width": null,
            "min_width": null,
            "border": null,
            "align_items": null,
            "bottom": null,
            "_model_module": "@jupyter-widgets/base",
            "top": null,
            "grid_column": null,
            "overflow_y": null,
            "overflow_x": null,
            "grid_auto_flow": null,
            "grid_area": null,
            "grid_template_columns": null,
            "flex": null,
            "_model_name": "LayoutModel",
            "justify_items": null,
            "grid_row": null,
            "max_height": null,
            "align_content": null,
            "visibility": null,
            "align_self": null,
            "height": null,
            "min_height": null,
            "padding": null,
            "grid_auto_rows": null,
            "grid_gap": null,
            "max_width": null,
            "order": null,
            "_view_module_version": "1.2.0",
            "grid_template_areas": null,
            "object_position": null,
            "object_fit": null,
            "grid_auto_columns": null,
            "margin": null,
            "display": null,
            "left": null
          }
        },
        "9ad9666d56ae45029c3be0d909e549b8": {
          "model_module": "@jupyter-widgets/controls",
          "model_name": "FloatProgressModel",
          "state": {
            "_view_name": "ProgressView",
            "style": "IPY_MODEL_903351949704439298cb43169cf379ad",
            "_dom_classes": [],
            "description": "100%",
            "_model_name": "FloatProgressModel",
            "bar_style": "success",
            "max": 4,
            "_view_module": "@jupyter-widgets/controls",
            "_model_module_version": "1.5.0",
            "value": 4,
            "_view_count": null,
            "_view_module_version": "1.5.0",
            "orientation": "horizontal",
            "min": 0,
            "description_tooltip": null,
            "_model_module": "@jupyter-widgets/controls",
            "layout": "IPY_MODEL_54953a09a6c7448aa2f2fee5956e993f"
          }
        },
        "8ac1ab8c6d6b46cd9fb5c47a555c6f4a": {
          "model_module": "@jupyter-widgets/controls",
          "model_name": "HTMLModel",
          "state": {
            "_view_name": "HTMLView",
            "style": "IPY_MODEL_78c49d4e3b1444d8aecc926e93d69dcd",
            "_dom_classes": [],
            "description": "",
            "_model_name": "HTMLModel",
            "placeholder": "​",
            "_view_module": "@jupyter-widgets/controls",
            "_model_module_version": "1.5.0",
            "value": " 4/4 [1:36:40&lt;00:00, 1450.02s/it]",
            "_view_count": null,
            "_view_module_version": "1.5.0",
            "description_tooltip": null,
            "_model_module": "@jupyter-widgets/controls",
            "layout": "IPY_MODEL_0f2b8bddec7b4871be842b4e3d89f967"
          }
        },
        "903351949704439298cb43169cf379ad": {
          "model_module": "@jupyter-widgets/controls",
          "model_name": "ProgressStyleModel",
          "state": {
            "_view_name": "StyleView",
            "_model_name": "ProgressStyleModel",
            "description_width": "initial",
            "_view_module": "@jupyter-widgets/base",
            "_model_module_version": "1.5.0",
            "_view_count": null,
            "_view_module_version": "1.2.0",
            "bar_color": null,
            "_model_module": "@jupyter-widgets/controls"
          }
        },
        "54953a09a6c7448aa2f2fee5956e993f": {
          "model_module": "@jupyter-widgets/base",
          "model_name": "LayoutModel",
          "state": {
            "_view_name": "LayoutView",
            "grid_template_rows": null,
            "right": null,
            "justify_content": null,
            "_view_module": "@jupyter-widgets/base",
            "overflow": null,
            "_model_module_version": "1.2.0",
            "_view_count": null,
            "flex_flow": null,
            "width": null,
            "min_width": null,
            "border": null,
            "align_items": null,
            "bottom": null,
            "_model_module": "@jupyter-widgets/base",
            "top": null,
            "grid_column": null,
            "overflow_y": null,
            "overflow_x": null,
            "grid_auto_flow": null,
            "grid_area": null,
            "grid_template_columns": null,
            "flex": null,
            "_model_name": "LayoutModel",
            "justify_items": null,
            "grid_row": null,
            "max_height": null,
            "align_content": null,
            "visibility": null,
            "align_self": null,
            "height": null,
            "min_height": null,
            "padding": null,
            "grid_auto_rows": null,
            "grid_gap": null,
            "max_width": null,
            "order": null,
            "_view_module_version": "1.2.0",
            "grid_template_areas": null,
            "object_position": null,
            "object_fit": null,
            "grid_auto_columns": null,
            "margin": null,
            "display": null,
            "left": null
          }
        },
        "78c49d4e3b1444d8aecc926e93d69dcd": {
          "model_module": "@jupyter-widgets/controls",
          "model_name": "DescriptionStyleModel",
          "state": {
            "_view_name": "StyleView",
            "_model_name": "DescriptionStyleModel",
            "description_width": "",
            "_view_module": "@jupyter-widgets/base",
            "_model_module_version": "1.5.0",
            "_view_count": null,
            "_view_module_version": "1.2.0",
            "_model_module": "@jupyter-widgets/controls"
          }
        },
        "0f2b8bddec7b4871be842b4e3d89f967": {
          "model_module": "@jupyter-widgets/base",
          "model_name": "LayoutModel",
          "state": {
            "_view_name": "LayoutView",
            "grid_template_rows": null,
            "right": null,
            "justify_content": null,
            "_view_module": "@jupyter-widgets/base",
            "overflow": null,
            "_model_module_version": "1.2.0",
            "_view_count": null,
            "flex_flow": null,
            "width": null,
            "min_width": null,
            "border": null,
            "align_items": null,
            "bottom": null,
            "_model_module": "@jupyter-widgets/base",
            "top": null,
            "grid_column": null,
            "overflow_y": null,
            "overflow_x": null,
            "grid_auto_flow": null,
            "grid_area": null,
            "grid_template_columns": null,
            "flex": null,
            "_model_name": "LayoutModel",
            "justify_items": null,
            "grid_row": null,
            "max_height": null,
            "align_content": null,
            "visibility": null,
            "align_self": null,
            "height": null,
            "min_height": null,
            "padding": null,
            "grid_auto_rows": null,
            "grid_gap": null,
            "max_width": null,
            "order": null,
            "_view_module_version": "1.2.0",
            "grid_template_areas": null,
            "object_position": null,
            "object_fit": null,
            "grid_auto_columns": null,
            "margin": null,
            "display": null,
            "left": null
          }
        },
        "4dcc124e572a479383c9de19e6d0ed4b": {
          "model_module": "@jupyter-widgets/controls",
          "model_name": "HBoxModel",
          "state": {
            "_view_name": "HBoxView",
            "_dom_classes": [],
            "_model_name": "HBoxModel",
            "_view_module": "@jupyter-widgets/controls",
            "_model_module_version": "1.5.0",
            "_view_count": null,
            "_view_module_version": "1.5.0",
            "box_style": "",
            "layout": "IPY_MODEL_3a7b61ae328b46e3b305c1f8b6ab8186",
            "_model_module": "@jupyter-widgets/controls",
            "children": [
              "IPY_MODEL_3c5b5932672e4d1585f1d1890f53446a",
              "IPY_MODEL_b0d4b09eb2874541862c1541d6da12a4"
            ]
          }
        },
        "3a7b61ae328b46e3b305c1f8b6ab8186": {
          "model_module": "@jupyter-widgets/base",
          "model_name": "LayoutModel",
          "state": {
            "_view_name": "LayoutView",
            "grid_template_rows": null,
            "right": null,
            "justify_content": null,
            "_view_module": "@jupyter-widgets/base",
            "overflow": null,
            "_model_module_version": "1.2.0",
            "_view_count": null,
            "flex_flow": null,
            "width": null,
            "min_width": null,
            "border": null,
            "align_items": null,
            "bottom": null,
            "_model_module": "@jupyter-widgets/base",
            "top": null,
            "grid_column": null,
            "overflow_y": null,
            "overflow_x": null,
            "grid_auto_flow": null,
            "grid_area": null,
            "grid_template_columns": null,
            "flex": null,
            "_model_name": "LayoutModel",
            "justify_items": null,
            "grid_row": null,
            "max_height": null,
            "align_content": null,
            "visibility": null,
            "align_self": null,
            "height": null,
            "min_height": null,
            "padding": null,
            "grid_auto_rows": null,
            "grid_gap": null,
            "max_width": null,
            "order": null,
            "_view_module_version": "1.2.0",
            "grid_template_areas": null,
            "object_position": null,
            "object_fit": null,
            "grid_auto_columns": null,
            "margin": null,
            "display": null,
            "left": null
          }
        },
        "3c5b5932672e4d1585f1d1890f53446a": {
          "model_module": "@jupyter-widgets/controls",
          "model_name": "FloatProgressModel",
          "state": {
            "_view_name": "ProgressView",
            "style": "IPY_MODEL_0833dedc6529401fa26d9a7947019ab4",
            "_dom_classes": [],
            "description": "100%",
            "_model_name": "FloatProgressModel",
            "bar_style": "success",
            "max": 3,
            "_view_module": "@jupyter-widgets/controls",
            "_model_module_version": "1.5.0",
            "value": 3,
            "_view_count": null,
            "_view_module_version": "1.5.0",
            "orientation": "horizontal",
            "min": 0,
            "description_tooltip": null,
            "_model_module": "@jupyter-widgets/controls",
            "layout": "IPY_MODEL_9fdb79c3846e4cd5be274206328751fc"
          }
        },
        "b0d4b09eb2874541862c1541d6da12a4": {
          "model_module": "@jupyter-widgets/controls",
          "model_name": "HTMLModel",
          "state": {
            "_view_name": "HTMLView",
            "style": "IPY_MODEL_d71b26a5771647db9c6d99b6899dd3b0",
            "_dom_classes": [],
            "description": "",
            "_model_name": "HTMLModel",
            "placeholder": "​",
            "_view_module": "@jupyter-widgets/controls",
            "_model_module_version": "1.5.0",
            "value": " 3/3 [04:25&lt;00:00, 88.66s/it]",
            "_view_count": null,
            "_view_module_version": "1.5.0",
            "description_tooltip": null,
            "_model_module": "@jupyter-widgets/controls",
            "layout": "IPY_MODEL_2d1d955aeb484909b093ae7a35cf6caf"
          }
        },
        "0833dedc6529401fa26d9a7947019ab4": {
          "model_module": "@jupyter-widgets/controls",
          "model_name": "ProgressStyleModel",
          "state": {
            "_view_name": "StyleView",
            "_model_name": "ProgressStyleModel",
            "description_width": "initial",
            "_view_module": "@jupyter-widgets/base",
            "_model_module_version": "1.5.0",
            "_view_count": null,
            "_view_module_version": "1.2.0",
            "bar_color": null,
            "_model_module": "@jupyter-widgets/controls"
          }
        },
        "9fdb79c3846e4cd5be274206328751fc": {
          "model_module": "@jupyter-widgets/base",
          "model_name": "LayoutModel",
          "state": {
            "_view_name": "LayoutView",
            "grid_template_rows": null,
            "right": null,
            "justify_content": null,
            "_view_module": "@jupyter-widgets/base",
            "overflow": null,
            "_model_module_version": "1.2.0",
            "_view_count": null,
            "flex_flow": null,
            "width": null,
            "min_width": null,
            "border": null,
            "align_items": null,
            "bottom": null,
            "_model_module": "@jupyter-widgets/base",
            "top": null,
            "grid_column": null,
            "overflow_y": null,
            "overflow_x": null,
            "grid_auto_flow": null,
            "grid_area": null,
            "grid_template_columns": null,
            "flex": null,
            "_model_name": "LayoutModel",
            "justify_items": null,
            "grid_row": null,
            "max_height": null,
            "align_content": null,
            "visibility": null,
            "align_self": null,
            "height": null,
            "min_height": null,
            "padding": null,
            "grid_auto_rows": null,
            "grid_gap": null,
            "max_width": null,
            "order": null,
            "_view_module_version": "1.2.0",
            "grid_template_areas": null,
            "object_position": null,
            "object_fit": null,
            "grid_auto_columns": null,
            "margin": null,
            "display": null,
            "left": null
          }
        },
        "d71b26a5771647db9c6d99b6899dd3b0": {
          "model_module": "@jupyter-widgets/controls",
          "model_name": "DescriptionStyleModel",
          "state": {
            "_view_name": "StyleView",
            "_model_name": "DescriptionStyleModel",
            "description_width": "",
            "_view_module": "@jupyter-widgets/base",
            "_model_module_version": "1.5.0",
            "_view_count": null,
            "_view_module_version": "1.2.0",
            "_model_module": "@jupyter-widgets/controls"
          }
        },
        "2d1d955aeb484909b093ae7a35cf6caf": {
          "model_module": "@jupyter-widgets/base",
          "model_name": "LayoutModel",
          "state": {
            "_view_name": "LayoutView",
            "grid_template_rows": null,
            "right": null,
            "justify_content": null,
            "_view_module": "@jupyter-widgets/base",
            "overflow": null,
            "_model_module_version": "1.2.0",
            "_view_count": null,
            "flex_flow": null,
            "width": null,
            "min_width": null,
            "border": null,
            "align_items": null,
            "bottom": null,
            "_model_module": "@jupyter-widgets/base",
            "top": null,
            "grid_column": null,
            "overflow_y": null,
            "overflow_x": null,
            "grid_auto_flow": null,
            "grid_area": null,
            "grid_template_columns": null,
            "flex": null,
            "_model_name": "LayoutModel",
            "justify_items": null,
            "grid_row": null,
            "max_height": null,
            "align_content": null,
            "visibility": null,
            "align_self": null,
            "height": null,
            "min_height": null,
            "padding": null,
            "grid_auto_rows": null,
            "grid_gap": null,
            "max_width": null,
            "order": null,
            "_view_module_version": "1.2.0",
            "grid_template_areas": null,
            "object_position": null,
            "object_fit": null,
            "grid_auto_columns": null,
            "margin": null,
            "display": null,
            "left": null
          }
        },
        "a809daa24f3b4c7fa4b06bbc109b8217": {
          "model_module": "@jupyter-widgets/controls",
          "model_name": "HBoxModel",
          "state": {
            "_view_name": "HBoxView",
            "_dom_classes": [],
            "_model_name": "HBoxModel",
            "_view_module": "@jupyter-widgets/controls",
            "_model_module_version": "1.5.0",
            "_view_count": null,
            "_view_module_version": "1.5.0",
            "box_style": "",
            "layout": "IPY_MODEL_4c87aeee92c74bdba1ee1cee29ba6a82",
            "_model_module": "@jupyter-widgets/controls",
            "children": [
              "IPY_MODEL_a219d2cbeab3468bbad077a82915f0f0",
              "IPY_MODEL_d60378e1b19d4a7dbfc5224d23b7b0bf"
            ]
          }
        },
        "4c87aeee92c74bdba1ee1cee29ba6a82": {
          "model_module": "@jupyter-widgets/base",
          "model_name": "LayoutModel",
          "state": {
            "_view_name": "LayoutView",
            "grid_template_rows": null,
            "right": null,
            "justify_content": null,
            "_view_module": "@jupyter-widgets/base",
            "overflow": null,
            "_model_module_version": "1.2.0",
            "_view_count": null,
            "flex_flow": null,
            "width": null,
            "min_width": null,
            "border": null,
            "align_items": null,
            "bottom": null,
            "_model_module": "@jupyter-widgets/base",
            "top": null,
            "grid_column": null,
            "overflow_y": null,
            "overflow_x": null,
            "grid_auto_flow": null,
            "grid_area": null,
            "grid_template_columns": null,
            "flex": null,
            "_model_name": "LayoutModel",
            "justify_items": null,
            "grid_row": null,
            "max_height": null,
            "align_content": null,
            "visibility": null,
            "align_self": null,
            "height": null,
            "min_height": null,
            "padding": null,
            "grid_auto_rows": null,
            "grid_gap": null,
            "max_width": null,
            "order": null,
            "_view_module_version": "1.2.0",
            "grid_template_areas": null,
            "object_position": null,
            "object_fit": null,
            "grid_auto_columns": null,
            "margin": null,
            "display": null,
            "left": null
          }
        },
        "a219d2cbeab3468bbad077a82915f0f0": {
          "model_module": "@jupyter-widgets/controls",
          "model_name": "FloatProgressModel",
          "state": {
            "_view_name": "ProgressView",
            "style": "IPY_MODEL_ccf39744b95a4a1a820673e1f8a91fe2",
            "_dom_classes": [],
            "description": "100%",
            "_model_name": "FloatProgressModel",
            "bar_style": "success",
            "max": 219,
            "_view_module": "@jupyter-widgets/controls",
            "_model_module_version": "1.5.0",
            "value": 219,
            "_view_count": null,
            "_view_module_version": "1.5.0",
            "orientation": "horizontal",
            "min": 0,
            "description_tooltip": null,
            "_model_module": "@jupyter-widgets/controls",
            "layout": "IPY_MODEL_0d70b6b894224d6b95f0db6fb02d4b4a"
          }
        },
        "d60378e1b19d4a7dbfc5224d23b7b0bf": {
          "model_module": "@jupyter-widgets/controls",
          "model_name": "HTMLModel",
          "state": {
            "_view_name": "HTMLView",
            "style": "IPY_MODEL_27c7b298cd0f4e58a03798dd2801d856",
            "_dom_classes": [],
            "description": "",
            "_model_name": "HTMLModel",
            "placeholder": "​",
            "_view_module": "@jupyter-widgets/controls",
            "_model_module_version": "1.5.0",
            "value": " 219/219 [04:25&lt;00:00,  1.21s/it]",
            "_view_count": null,
            "_view_module_version": "1.5.0",
            "description_tooltip": null,
            "_model_module": "@jupyter-widgets/controls",
            "layout": "IPY_MODEL_900122733ae54c5aa97b0dbf94ff9d41"
          }
        },
        "ccf39744b95a4a1a820673e1f8a91fe2": {
          "model_module": "@jupyter-widgets/controls",
          "model_name": "ProgressStyleModel",
          "state": {
            "_view_name": "StyleView",
            "_model_name": "ProgressStyleModel",
            "description_width": "initial",
            "_view_module": "@jupyter-widgets/base",
            "_model_module_version": "1.5.0",
            "_view_count": null,
            "_view_module_version": "1.2.0",
            "bar_color": null,
            "_model_module": "@jupyter-widgets/controls"
          }
        },
        "0d70b6b894224d6b95f0db6fb02d4b4a": {
          "model_module": "@jupyter-widgets/base",
          "model_name": "LayoutModel",
          "state": {
            "_view_name": "LayoutView",
            "grid_template_rows": null,
            "right": null,
            "justify_content": null,
            "_view_module": "@jupyter-widgets/base",
            "overflow": null,
            "_model_module_version": "1.2.0",
            "_view_count": null,
            "flex_flow": null,
            "width": null,
            "min_width": null,
            "border": null,
            "align_items": null,
            "bottom": null,
            "_model_module": "@jupyter-widgets/base",
            "top": null,
            "grid_column": null,
            "overflow_y": null,
            "overflow_x": null,
            "grid_auto_flow": null,
            "grid_area": null,
            "grid_template_columns": null,
            "flex": null,
            "_model_name": "LayoutModel",
            "justify_items": null,
            "grid_row": null,
            "max_height": null,
            "align_content": null,
            "visibility": null,
            "align_self": null,
            "height": null,
            "min_height": null,
            "padding": null,
            "grid_auto_rows": null,
            "grid_gap": null,
            "max_width": null,
            "order": null,
            "_view_module_version": "1.2.0",
            "grid_template_areas": null,
            "object_position": null,
            "object_fit": null,
            "grid_auto_columns": null,
            "margin": null,
            "display": null,
            "left": null
          }
        },
        "27c7b298cd0f4e58a03798dd2801d856": {
          "model_module": "@jupyter-widgets/controls",
          "model_name": "DescriptionStyleModel",
          "state": {
            "_view_name": "StyleView",
            "_model_name": "DescriptionStyleModel",
            "description_width": "",
            "_view_module": "@jupyter-widgets/base",
            "_model_module_version": "1.5.0",
            "_view_count": null,
            "_view_module_version": "1.2.0",
            "_model_module": "@jupyter-widgets/controls"
          }
        },
        "900122733ae54c5aa97b0dbf94ff9d41": {
          "model_module": "@jupyter-widgets/base",
          "model_name": "LayoutModel",
          "state": {
            "_view_name": "LayoutView",
            "grid_template_rows": null,
            "right": null,
            "justify_content": null,
            "_view_module": "@jupyter-widgets/base",
            "overflow": null,
            "_model_module_version": "1.2.0",
            "_view_count": null,
            "flex_flow": null,
            "width": null,
            "min_width": null,
            "border": null,
            "align_items": null,
            "bottom": null,
            "_model_module": "@jupyter-widgets/base",
            "top": null,
            "grid_column": null,
            "overflow_y": null,
            "overflow_x": null,
            "grid_auto_flow": null,
            "grid_area": null,
            "grid_template_columns": null,
            "flex": null,
            "_model_name": "LayoutModel",
            "justify_items": null,
            "grid_row": null,
            "max_height": null,
            "align_content": null,
            "visibility": null,
            "align_self": null,
            "height": null,
            "min_height": null,
            "padding": null,
            "grid_auto_rows": null,
            "grid_gap": null,
            "max_width": null,
            "order": null,
            "_view_module_version": "1.2.0",
            "grid_template_areas": null,
            "object_position": null,
            "object_fit": null,
            "grid_auto_columns": null,
            "margin": null,
            "display": null,
            "left": null
          }
        },
        "d5f6c1e4a4c34e45b62f994e49c25b8a": {
          "model_module": "@jupyter-widgets/controls",
          "model_name": "HBoxModel",
          "state": {
            "_view_name": "HBoxView",
            "_dom_classes": [],
            "_model_name": "HBoxModel",
            "_view_module": "@jupyter-widgets/controls",
            "_model_module_version": "1.5.0",
            "_view_count": null,
            "_view_module_version": "1.5.0",
            "box_style": "",
            "layout": "IPY_MODEL_365a3f3153c94cb8a2946a1c4aed10bd",
            "_model_module": "@jupyter-widgets/controls",
            "children": [
              "IPY_MODEL_f496f755247545eab76bef4714ad5635",
              "IPY_MODEL_16c71418332047f08dddd471229df90d"
            ]
          }
        },
        "365a3f3153c94cb8a2946a1c4aed10bd": {
          "model_module": "@jupyter-widgets/base",
          "model_name": "LayoutModel",
          "state": {
            "_view_name": "LayoutView",
            "grid_template_rows": null,
            "right": null,
            "justify_content": null,
            "_view_module": "@jupyter-widgets/base",
            "overflow": null,
            "_model_module_version": "1.2.0",
            "_view_count": null,
            "flex_flow": null,
            "width": null,
            "min_width": null,
            "border": null,
            "align_items": null,
            "bottom": null,
            "_model_module": "@jupyter-widgets/base",
            "top": null,
            "grid_column": null,
            "overflow_y": null,
            "overflow_x": null,
            "grid_auto_flow": null,
            "grid_area": null,
            "grid_template_columns": null,
            "flex": null,
            "_model_name": "LayoutModel",
            "justify_items": null,
            "grid_row": null,
            "max_height": null,
            "align_content": null,
            "visibility": null,
            "align_self": null,
            "height": null,
            "min_height": null,
            "padding": null,
            "grid_auto_rows": null,
            "grid_gap": null,
            "max_width": null,
            "order": null,
            "_view_module_version": "1.2.0",
            "grid_template_areas": null,
            "object_position": null,
            "object_fit": null,
            "grid_auto_columns": null,
            "margin": null,
            "display": null,
            "left": null
          }
        },
        "f496f755247545eab76bef4714ad5635": {
          "model_module": "@jupyter-widgets/controls",
          "model_name": "FloatProgressModel",
          "state": {
            "_view_name": "ProgressView",
            "style": "IPY_MODEL_aa169348a3254dfc994191fe1694361e",
            "_dom_classes": [],
            "description": "100%",
            "_model_name": "FloatProgressModel",
            "bar_style": "success",
            "max": 1341,
            "_view_module": "@jupyter-widgets/controls",
            "_model_module_version": "1.5.0",
            "value": 1341,
            "_view_count": null,
            "_view_module_version": "1.5.0",
            "orientation": "horizontal",
            "min": 0,
            "description_tooltip": null,
            "_model_module": "@jupyter-widgets/controls",
            "layout": "IPY_MODEL_81fc60e375064480aa831baea55237d2"
          }
        },
        "16c71418332047f08dddd471229df90d": {
          "model_module": "@jupyter-widgets/controls",
          "model_name": "HTMLModel",
          "state": {
            "_view_name": "HTMLView",
            "style": "IPY_MODEL_78d8f46035834d8197a1cee441d16952",
            "_dom_classes": [],
            "description": "",
            "_model_name": "HTMLModel",
            "placeholder": "​",
            "_view_module": "@jupyter-widgets/controls",
            "_model_module_version": "1.5.0",
            "value": " 1341/1341 [04:09&lt;00:00,  5.38it/s]",
            "_view_count": null,
            "_view_module_version": "1.5.0",
            "description_tooltip": null,
            "_model_module": "@jupyter-widgets/controls",
            "layout": "IPY_MODEL_7166f59de22c4c47bf6b552be0fa6c99"
          }
        },
        "aa169348a3254dfc994191fe1694361e": {
          "model_module": "@jupyter-widgets/controls",
          "model_name": "ProgressStyleModel",
          "state": {
            "_view_name": "StyleView",
            "_model_name": "ProgressStyleModel",
            "description_width": "initial",
            "_view_module": "@jupyter-widgets/base",
            "_model_module_version": "1.5.0",
            "_view_count": null,
            "_view_module_version": "1.2.0",
            "bar_color": null,
            "_model_module": "@jupyter-widgets/controls"
          }
        },
        "81fc60e375064480aa831baea55237d2": {
          "model_module": "@jupyter-widgets/base",
          "model_name": "LayoutModel",
          "state": {
            "_view_name": "LayoutView",
            "grid_template_rows": null,
            "right": null,
            "justify_content": null,
            "_view_module": "@jupyter-widgets/base",
            "overflow": null,
            "_model_module_version": "1.2.0",
            "_view_count": null,
            "flex_flow": null,
            "width": null,
            "min_width": null,
            "border": null,
            "align_items": null,
            "bottom": null,
            "_model_module": "@jupyter-widgets/base",
            "top": null,
            "grid_column": null,
            "overflow_y": null,
            "overflow_x": null,
            "grid_auto_flow": null,
            "grid_area": null,
            "grid_template_columns": null,
            "flex": null,
            "_model_name": "LayoutModel",
            "justify_items": null,
            "grid_row": null,
            "max_height": null,
            "align_content": null,
            "visibility": null,
            "align_self": null,
            "height": null,
            "min_height": null,
            "padding": null,
            "grid_auto_rows": null,
            "grid_gap": null,
            "max_width": null,
            "order": null,
            "_view_module_version": "1.2.0",
            "grid_template_areas": null,
            "object_position": null,
            "object_fit": null,
            "grid_auto_columns": null,
            "margin": null,
            "display": null,
            "left": null
          }
        },
        "78d8f46035834d8197a1cee441d16952": {
          "model_module": "@jupyter-widgets/controls",
          "model_name": "DescriptionStyleModel",
          "state": {
            "_view_name": "StyleView",
            "_model_name": "DescriptionStyleModel",
            "description_width": "",
            "_view_module": "@jupyter-widgets/base",
            "_model_module_version": "1.5.0",
            "_view_count": null,
            "_view_module_version": "1.2.0",
            "_model_module": "@jupyter-widgets/controls"
          }
        },
        "7166f59de22c4c47bf6b552be0fa6c99": {
          "model_module": "@jupyter-widgets/base",
          "model_name": "LayoutModel",
          "state": {
            "_view_name": "LayoutView",
            "grid_template_rows": null,
            "right": null,
            "justify_content": null,
            "_view_module": "@jupyter-widgets/base",
            "overflow": null,
            "_model_module_version": "1.2.0",
            "_view_count": null,
            "flex_flow": null,
            "width": null,
            "min_width": null,
            "border": null,
            "align_items": null,
            "bottom": null,
            "_model_module": "@jupyter-widgets/base",
            "top": null,
            "grid_column": null,
            "overflow_y": null,
            "overflow_x": null,
            "grid_auto_flow": null,
            "grid_area": null,
            "grid_template_columns": null,
            "flex": null,
            "_model_name": "LayoutModel",
            "justify_items": null,
            "grid_row": null,
            "max_height": null,
            "align_content": null,
            "visibility": null,
            "align_self": null,
            "height": null,
            "min_height": null,
            "padding": null,
            "grid_auto_rows": null,
            "grid_gap": null,
            "max_width": null,
            "order": null,
            "_view_module_version": "1.2.0",
            "grid_template_areas": null,
            "object_position": null,
            "object_fit": null,
            "grid_auto_columns": null,
            "margin": null,
            "display": null,
            "left": null
          }
        },
        "d218a56a4176427686457bf2ea89ee43": {
          "model_module": "@jupyter-widgets/controls",
          "model_name": "HBoxModel",
          "state": {
            "_view_name": "HBoxView",
            "_dom_classes": [],
            "_model_name": "HBoxModel",
            "_view_module": "@jupyter-widgets/controls",
            "_model_module_version": "1.5.0",
            "_view_count": null,
            "_view_module_version": "1.5.0",
            "box_style": "",
            "layout": "IPY_MODEL_e78a350fde4e49a990a785a928acc2ab",
            "_model_module": "@jupyter-widgets/controls",
            "children": [
              "IPY_MODEL_9618baefb62e4adaab48bb829c869766",
              "IPY_MODEL_cbf508a00a5a4820a7028fb9f8327c37"
            ]
          }
        },
        "e78a350fde4e49a990a785a928acc2ab": {
          "model_module": "@jupyter-widgets/base",
          "model_name": "LayoutModel",
          "state": {
            "_view_name": "LayoutView",
            "grid_template_rows": null,
            "right": null,
            "justify_content": null,
            "_view_module": "@jupyter-widgets/base",
            "overflow": null,
            "_model_module_version": "1.2.0",
            "_view_count": null,
            "flex_flow": null,
            "width": null,
            "min_width": null,
            "border": null,
            "align_items": null,
            "bottom": null,
            "_model_module": "@jupyter-widgets/base",
            "top": null,
            "grid_column": null,
            "overflow_y": null,
            "overflow_x": null,
            "grid_auto_flow": null,
            "grid_area": null,
            "grid_template_columns": null,
            "flex": null,
            "_model_name": "LayoutModel",
            "justify_items": null,
            "grid_row": null,
            "max_height": null,
            "align_content": null,
            "visibility": null,
            "align_self": null,
            "height": null,
            "min_height": null,
            "padding": null,
            "grid_auto_rows": null,
            "grid_gap": null,
            "max_width": null,
            "order": null,
            "_view_module_version": "1.2.0",
            "grid_template_areas": null,
            "object_position": null,
            "object_fit": null,
            "grid_auto_columns": null,
            "margin": null,
            "display": null,
            "left": null
          }
        },
        "9618baefb62e4adaab48bb829c869766": {
          "model_module": "@jupyter-widgets/controls",
          "model_name": "FloatProgressModel",
          "state": {
            "_view_name": "ProgressView",
            "style": "IPY_MODEL_27e2498352a64405a82c8a035bb4b03b",
            "_dom_classes": [],
            "description": "100%",
            "_model_name": "FloatProgressModel",
            "bar_style": "success",
            "max": 1345,
            "_view_module": "@jupyter-widgets/controls",
            "_model_module_version": "1.5.0",
            "value": 1345,
            "_view_count": null,
            "_view_module_version": "1.5.0",
            "orientation": "horizontal",
            "min": 0,
            "description_tooltip": null,
            "_model_module": "@jupyter-widgets/controls",
            "layout": "IPY_MODEL_3654f03344054597ab1bb6ca03d1eeed"
          }
        },
        "cbf508a00a5a4820a7028fb9f8327c37": {
          "model_module": "@jupyter-widgets/controls",
          "model_name": "HTMLModel",
          "state": {
            "_view_name": "HTMLView",
            "style": "IPY_MODEL_ec46401b525e4da0bb52059ca6105c09",
            "_dom_classes": [],
            "description": "",
            "_model_name": "HTMLModel",
            "placeholder": "​",
            "_view_module": "@jupyter-widgets/controls",
            "_model_module_version": "1.5.0",
            "value": " 1345/1345 [02:39&lt;00:00,  8.42it/s]",
            "_view_count": null,
            "_view_module_version": "1.5.0",
            "description_tooltip": null,
            "_model_module": "@jupyter-widgets/controls",
            "layout": "IPY_MODEL_3911b8be50ae4a0c804c1d3d28f19685"
          }
        },
        "27e2498352a64405a82c8a035bb4b03b": {
          "model_module": "@jupyter-widgets/controls",
          "model_name": "ProgressStyleModel",
          "state": {
            "_view_name": "StyleView",
            "_model_name": "ProgressStyleModel",
            "description_width": "initial",
            "_view_module": "@jupyter-widgets/base",
            "_model_module_version": "1.5.0",
            "_view_count": null,
            "_view_module_version": "1.2.0",
            "bar_color": null,
            "_model_module": "@jupyter-widgets/controls"
          }
        },
        "3654f03344054597ab1bb6ca03d1eeed": {
          "model_module": "@jupyter-widgets/base",
          "model_name": "LayoutModel",
          "state": {
            "_view_name": "LayoutView",
            "grid_template_rows": null,
            "right": null,
            "justify_content": null,
            "_view_module": "@jupyter-widgets/base",
            "overflow": null,
            "_model_module_version": "1.2.0",
            "_view_count": null,
            "flex_flow": null,
            "width": null,
            "min_width": null,
            "border": null,
            "align_items": null,
            "bottom": null,
            "_model_module": "@jupyter-widgets/base",
            "top": null,
            "grid_column": null,
            "overflow_y": null,
            "overflow_x": null,
            "grid_auto_flow": null,
            "grid_area": null,
            "grid_template_columns": null,
            "flex": null,
            "_model_name": "LayoutModel",
            "justify_items": null,
            "grid_row": null,
            "max_height": null,
            "align_content": null,
            "visibility": null,
            "align_self": null,
            "height": null,
            "min_height": null,
            "padding": null,
            "grid_auto_rows": null,
            "grid_gap": null,
            "max_width": null,
            "order": null,
            "_view_module_version": "1.2.0",
            "grid_template_areas": null,
            "object_position": null,
            "object_fit": null,
            "grid_auto_columns": null,
            "margin": null,
            "display": null,
            "left": null
          }
        },
        "ec46401b525e4da0bb52059ca6105c09": {
          "model_module": "@jupyter-widgets/controls",
          "model_name": "DescriptionStyleModel",
          "state": {
            "_view_name": "StyleView",
            "_model_name": "DescriptionStyleModel",
            "description_width": "",
            "_view_module": "@jupyter-widgets/base",
            "_model_module_version": "1.5.0",
            "_view_count": null,
            "_view_module_version": "1.2.0",
            "_model_module": "@jupyter-widgets/controls"
          }
        },
        "3911b8be50ae4a0c804c1d3d28f19685": {
          "model_module": "@jupyter-widgets/base",
          "model_name": "LayoutModel",
          "state": {
            "_view_name": "LayoutView",
            "grid_template_rows": null,
            "right": null,
            "justify_content": null,
            "_view_module": "@jupyter-widgets/base",
            "overflow": null,
            "_model_module_version": "1.2.0",
            "_view_count": null,
            "flex_flow": null,
            "width": null,
            "min_width": null,
            "border": null,
            "align_items": null,
            "bottom": null,
            "_model_module": "@jupyter-widgets/base",
            "top": null,
            "grid_column": null,
            "overflow_y": null,
            "overflow_x": null,
            "grid_auto_flow": null,
            "grid_area": null,
            "grid_template_columns": null,
            "flex": null,
            "_model_name": "LayoutModel",
            "justify_items": null,
            "grid_row": null,
            "max_height": null,
            "align_content": null,
            "visibility": null,
            "align_self": null,
            "height": null,
            "min_height": null,
            "padding": null,
            "grid_auto_rows": null,
            "grid_gap": null,
            "max_width": null,
            "order": null,
            "_view_module_version": "1.2.0",
            "grid_template_areas": null,
            "object_position": null,
            "object_fit": null,
            "grid_auto_columns": null,
            "margin": null,
            "display": null,
            "left": null
          }
        },
        "4cfdc0a128d34a2e93e7a750f672444f": {
          "model_module": "@jupyter-widgets/controls",
          "model_name": "HBoxModel",
          "state": {
            "_view_name": "HBoxView",
            "_dom_classes": [],
            "_model_name": "HBoxModel",
            "_view_module": "@jupyter-widgets/controls",
            "_model_module_version": "1.5.0",
            "_view_count": null,
            "_view_module_version": "1.5.0",
            "box_style": "",
            "layout": "IPY_MODEL_93d4829e6e4c42bb9d9b51fe32cc6d56",
            "_model_module": "@jupyter-widgets/controls",
            "children": [
              "IPY_MODEL_362720efd0594a5ab09fafcb25e19f37",
              "IPY_MODEL_7dac31bed57842e28b8c99fc1f0da3a2"
            ]
          }
        },
        "93d4829e6e4c42bb9d9b51fe32cc6d56": {
          "model_module": "@jupyter-widgets/base",
          "model_name": "LayoutModel",
          "state": {
            "_view_name": "LayoutView",
            "grid_template_rows": null,
            "right": null,
            "justify_content": null,
            "_view_module": "@jupyter-widgets/base",
            "overflow": null,
            "_model_module_version": "1.2.0",
            "_view_count": null,
            "flex_flow": null,
            "width": null,
            "min_width": null,
            "border": null,
            "align_items": null,
            "bottom": null,
            "_model_module": "@jupyter-widgets/base",
            "top": null,
            "grid_column": null,
            "overflow_y": null,
            "overflow_x": null,
            "grid_auto_flow": null,
            "grid_area": null,
            "grid_template_columns": null,
            "flex": null,
            "_model_name": "LayoutModel",
            "justify_items": null,
            "grid_row": null,
            "max_height": null,
            "align_content": null,
            "visibility": null,
            "align_self": null,
            "height": null,
            "min_height": null,
            "padding": null,
            "grid_auto_rows": null,
            "grid_gap": null,
            "max_width": null,
            "order": null,
            "_view_module_version": "1.2.0",
            "grid_template_areas": null,
            "object_position": null,
            "object_fit": null,
            "grid_auto_columns": null,
            "margin": null,
            "display": null,
            "left": null
          }
        },
        "362720efd0594a5ab09fafcb25e19f37": {
          "model_module": "@jupyter-widgets/controls",
          "model_name": "FloatProgressModel",
          "state": {
            "_view_name": "ProgressView",
            "style": "IPY_MODEL_f0eeabd820114ab188506d86ceaa17ec",
            "_dom_classes": [],
            "description": "100%",
            "_model_name": "FloatProgressModel",
            "bar_style": "success",
            "max": 2905,
            "_view_module": "@jupyter-widgets/controls",
            "_model_module_version": "1.5.0",
            "value": 2905,
            "_view_count": null,
            "_view_module_version": "1.5.0",
            "orientation": "horizontal",
            "min": 0,
            "description_tooltip": null,
            "_model_module": "@jupyter-widgets/controls",
            "layout": "IPY_MODEL_d4ec0dcf3b044a06b018bb6cf6985fd3"
          }
        },
        "7dac31bed57842e28b8c99fc1f0da3a2": {
          "model_module": "@jupyter-widgets/controls",
          "model_name": "HTMLModel",
          "state": {
            "_view_name": "HTMLView",
            "style": "IPY_MODEL_f0a160bd657942c0a4e858553fe901db",
            "_dom_classes": [],
            "description": "",
            "_model_name": "HTMLModel",
            "placeholder": "​",
            "_view_module": "@jupyter-widgets/controls",
            "_model_module_version": "1.5.0",
            "value": " 2905/2905 [00:04&lt;00:00, 596.29it/s]",
            "_view_count": null,
            "_view_module_version": "1.5.0",
            "description_tooltip": null,
            "_model_module": "@jupyter-widgets/controls",
            "layout": "IPY_MODEL_52c725d599d744ebbd487ab2f8ca3869"
          }
        },
        "f0eeabd820114ab188506d86ceaa17ec": {
          "model_module": "@jupyter-widgets/controls",
          "model_name": "ProgressStyleModel",
          "state": {
            "_view_name": "StyleView",
            "_model_name": "ProgressStyleModel",
            "description_width": "initial",
            "_view_module": "@jupyter-widgets/base",
            "_model_module_version": "1.5.0",
            "_view_count": null,
            "_view_module_version": "1.2.0",
            "bar_color": null,
            "_model_module": "@jupyter-widgets/controls"
          }
        },
        "d4ec0dcf3b044a06b018bb6cf6985fd3": {
          "model_module": "@jupyter-widgets/base",
          "model_name": "LayoutModel",
          "state": {
            "_view_name": "LayoutView",
            "grid_template_rows": null,
            "right": null,
            "justify_content": null,
            "_view_module": "@jupyter-widgets/base",
            "overflow": null,
            "_model_module_version": "1.2.0",
            "_view_count": null,
            "flex_flow": null,
            "width": null,
            "min_width": null,
            "border": null,
            "align_items": null,
            "bottom": null,
            "_model_module": "@jupyter-widgets/base",
            "top": null,
            "grid_column": null,
            "overflow_y": null,
            "overflow_x": null,
            "grid_auto_flow": null,
            "grid_area": null,
            "grid_template_columns": null,
            "flex": null,
            "_model_name": "LayoutModel",
            "justify_items": null,
            "grid_row": null,
            "max_height": null,
            "align_content": null,
            "visibility": null,
            "align_self": null,
            "height": null,
            "min_height": null,
            "padding": null,
            "grid_auto_rows": null,
            "grid_gap": null,
            "max_width": null,
            "order": null,
            "_view_module_version": "1.2.0",
            "grid_template_areas": null,
            "object_position": null,
            "object_fit": null,
            "grid_auto_columns": null,
            "margin": null,
            "display": null,
            "left": null
          }
        },
        "f0a160bd657942c0a4e858553fe901db": {
          "model_module": "@jupyter-widgets/controls",
          "model_name": "DescriptionStyleModel",
          "state": {
            "_view_name": "StyleView",
            "_model_name": "DescriptionStyleModel",
            "description_width": "",
            "_view_module": "@jupyter-widgets/base",
            "_model_module_version": "1.5.0",
            "_view_count": null,
            "_view_module_version": "1.2.0",
            "_model_module": "@jupyter-widgets/controls"
          }
        },
        "52c725d599d744ebbd487ab2f8ca3869": {
          "model_module": "@jupyter-widgets/base",
          "model_name": "LayoutModel",
          "state": {
            "_view_name": "LayoutView",
            "grid_template_rows": null,
            "right": null,
            "justify_content": null,
            "_view_module": "@jupyter-widgets/base",
            "overflow": null,
            "_model_module_version": "1.2.0",
            "_view_count": null,
            "flex_flow": null,
            "width": null,
            "min_width": null,
            "border": null,
            "align_items": null,
            "bottom": null,
            "_model_module": "@jupyter-widgets/base",
            "top": null,
            "grid_column": null,
            "overflow_y": null,
            "overflow_x": null,
            "grid_auto_flow": null,
            "grid_area": null,
            "grid_template_columns": null,
            "flex": null,
            "_model_name": "LayoutModel",
            "justify_items": null,
            "grid_row": null,
            "max_height": null,
            "align_content": null,
            "visibility": null,
            "align_self": null,
            "height": null,
            "min_height": null,
            "padding": null,
            "grid_auto_rows": null,
            "grid_gap": null,
            "max_width": null,
            "order": null,
            "_view_module_version": "1.2.0",
            "grid_template_areas": null,
            "object_position": null,
            "object_fit": null,
            "grid_auto_columns": null,
            "margin": null,
            "display": null,
            "left": null
          }
        },
        "d6683362c4c7413da787ecc03460652b": {
          "model_module": "@jupyter-widgets/controls",
          "model_name": "HBoxModel",
          "state": {
            "_view_name": "HBoxView",
            "_dom_classes": [],
            "_model_name": "HBoxModel",
            "_view_module": "@jupyter-widgets/controls",
            "_model_module_version": "1.5.0",
            "_view_count": null,
            "_view_module_version": "1.5.0",
            "box_style": "",
            "layout": "IPY_MODEL_8e99f1fc365b4127999da0d2d630e9b0",
            "_model_module": "@jupyter-widgets/controls",
            "children": [
              "IPY_MODEL_fc17373a5d024b31aa58b321f8608063",
              "IPY_MODEL_ba99146dbfd547a29c3810b3586357e5"
            ]
          }
        },
        "8e99f1fc365b4127999da0d2d630e9b0": {
          "model_module": "@jupyter-widgets/base",
          "model_name": "LayoutModel",
          "state": {
            "_view_name": "LayoutView",
            "grid_template_rows": null,
            "right": null,
            "justify_content": null,
            "_view_module": "@jupyter-widgets/base",
            "overflow": null,
            "_model_module_version": "1.2.0",
            "_view_count": null,
            "flex_flow": null,
            "width": null,
            "min_width": null,
            "border": null,
            "align_items": null,
            "bottom": null,
            "_model_module": "@jupyter-widgets/base",
            "top": null,
            "grid_column": null,
            "overflow_y": null,
            "overflow_x": null,
            "grid_auto_flow": null,
            "grid_area": null,
            "grid_template_columns": null,
            "flex": null,
            "_model_name": "LayoutModel",
            "justify_items": null,
            "grid_row": null,
            "max_height": null,
            "align_content": null,
            "visibility": null,
            "align_self": null,
            "height": null,
            "min_height": null,
            "padding": null,
            "grid_auto_rows": null,
            "grid_gap": null,
            "max_width": null,
            "order": null,
            "_view_module_version": "1.2.0",
            "grid_template_areas": null,
            "object_position": null,
            "object_fit": null,
            "grid_auto_columns": null,
            "margin": null,
            "display": null,
            "left": null
          }
        },
        "fc17373a5d024b31aa58b321f8608063": {
          "model_module": "@jupyter-widgets/controls",
          "model_name": "FloatProgressModel",
          "state": {
            "_view_name": "ProgressView",
            "style": "IPY_MODEL_a88919e092524931a2c3e0076fd566c1",
            "_dom_classes": [],
            "description": "100%",
            "_model_name": "FloatProgressModel",
            "bar_style": "success",
            "max": 4,
            "_view_module": "@jupyter-widgets/controls",
            "_model_module_version": "1.5.0",
            "value": 4,
            "_view_count": null,
            "_view_module_version": "1.5.0",
            "orientation": "horizontal",
            "min": 0,
            "description_tooltip": null,
            "_model_module": "@jupyter-widgets/controls",
            "layout": "IPY_MODEL_2f8b26951fda4752ba70074b9f2188da"
          }
        },
        "ba99146dbfd547a29c3810b3586357e5": {
          "model_module": "@jupyter-widgets/controls",
          "model_name": "HTMLModel",
          "state": {
            "_view_name": "HTMLView",
            "style": "IPY_MODEL_2f2b8d7d32c04fefbdefad78057e9e56",
            "_dom_classes": [],
            "description": "",
            "_model_name": "HTMLModel",
            "placeholder": "​",
            "_view_module": "@jupyter-widgets/controls",
            "_model_module_version": "1.5.0",
            "value": " 4/4 [04:44&lt;00:00, 71.15s/it]",
            "_view_count": null,
            "_view_module_version": "1.5.0",
            "description_tooltip": null,
            "_model_module": "@jupyter-widgets/controls",
            "layout": "IPY_MODEL_43b1a7dab95a4275991d5d327371d725"
          }
        },
        "a88919e092524931a2c3e0076fd566c1": {
          "model_module": "@jupyter-widgets/controls",
          "model_name": "ProgressStyleModel",
          "state": {
            "_view_name": "StyleView",
            "_model_name": "ProgressStyleModel",
            "description_width": "initial",
            "_view_module": "@jupyter-widgets/base",
            "_model_module_version": "1.5.0",
            "_view_count": null,
            "_view_module_version": "1.2.0",
            "bar_color": null,
            "_model_module": "@jupyter-widgets/controls"
          }
        },
        "2f8b26951fda4752ba70074b9f2188da": {
          "model_module": "@jupyter-widgets/base",
          "model_name": "LayoutModel",
          "state": {
            "_view_name": "LayoutView",
            "grid_template_rows": null,
            "right": null,
            "justify_content": null,
            "_view_module": "@jupyter-widgets/base",
            "overflow": null,
            "_model_module_version": "1.2.0",
            "_view_count": null,
            "flex_flow": null,
            "width": null,
            "min_width": null,
            "border": null,
            "align_items": null,
            "bottom": null,
            "_model_module": "@jupyter-widgets/base",
            "top": null,
            "grid_column": null,
            "overflow_y": null,
            "overflow_x": null,
            "grid_auto_flow": null,
            "grid_area": null,
            "grid_template_columns": null,
            "flex": null,
            "_model_name": "LayoutModel",
            "justify_items": null,
            "grid_row": null,
            "max_height": null,
            "align_content": null,
            "visibility": null,
            "align_self": null,
            "height": null,
            "min_height": null,
            "padding": null,
            "grid_auto_rows": null,
            "grid_gap": null,
            "max_width": null,
            "order": null,
            "_view_module_version": "1.2.0",
            "grid_template_areas": null,
            "object_position": null,
            "object_fit": null,
            "grid_auto_columns": null,
            "margin": null,
            "display": null,
            "left": null
          }
        },
        "2f2b8d7d32c04fefbdefad78057e9e56": {
          "model_module": "@jupyter-widgets/controls",
          "model_name": "DescriptionStyleModel",
          "state": {
            "_view_name": "StyleView",
            "_model_name": "DescriptionStyleModel",
            "description_width": "",
            "_view_module": "@jupyter-widgets/base",
            "_model_module_version": "1.5.0",
            "_view_count": null,
            "_view_module_version": "1.2.0",
            "_model_module": "@jupyter-widgets/controls"
          }
        },
        "43b1a7dab95a4275991d5d327371d725": {
          "model_module": "@jupyter-widgets/base",
          "model_name": "LayoutModel",
          "state": {
            "_view_name": "LayoutView",
            "grid_template_rows": null,
            "right": null,
            "justify_content": null,
            "_view_module": "@jupyter-widgets/base",
            "overflow": null,
            "_model_module_version": "1.2.0",
            "_view_count": null,
            "flex_flow": null,
            "width": null,
            "min_width": null,
            "border": null,
            "align_items": null,
            "bottom": null,
            "_model_module": "@jupyter-widgets/base",
            "top": null,
            "grid_column": null,
            "overflow_y": null,
            "overflow_x": null,
            "grid_auto_flow": null,
            "grid_area": null,
            "grid_template_columns": null,
            "flex": null,
            "_model_name": "LayoutModel",
            "justify_items": null,
            "grid_row": null,
            "max_height": null,
            "align_content": null,
            "visibility": null,
            "align_self": null,
            "height": null,
            "min_height": null,
            "padding": null,
            "grid_auto_rows": null,
            "grid_gap": null,
            "max_width": null,
            "order": null,
            "_view_module_version": "1.2.0",
            "grid_template_areas": null,
            "object_position": null,
            "object_fit": null,
            "grid_auto_columns": null,
            "margin": null,
            "display": null,
            "left": null
          }
        },
        "90f1d1efed614c9d8012ded3089a4d74": {
          "model_module": "@jupyter-widgets/controls",
          "model_name": "HBoxModel",
          "state": {
            "_view_name": "HBoxView",
            "_dom_classes": [],
            "_model_name": "HBoxModel",
            "_view_module": "@jupyter-widgets/controls",
            "_model_module_version": "1.5.0",
            "_view_count": null,
            "_view_module_version": "1.5.0",
            "box_style": "",
            "layout": "IPY_MODEL_fd9f9b0e3b644fce9ea6557dabeaf326",
            "_model_module": "@jupyter-widgets/controls",
            "children": [
              "IPY_MODEL_e35d9e2014ac4f05850269ebde73621c",
              "IPY_MODEL_e7e22559f6cd4311b076c79fe65af975"
            ]
          }
        },
        "fd9f9b0e3b644fce9ea6557dabeaf326": {
          "model_module": "@jupyter-widgets/base",
          "model_name": "LayoutModel",
          "state": {
            "_view_name": "LayoutView",
            "grid_template_rows": null,
            "right": null,
            "justify_content": null,
            "_view_module": "@jupyter-widgets/base",
            "overflow": null,
            "_model_module_version": "1.2.0",
            "_view_count": null,
            "flex_flow": null,
            "width": null,
            "min_width": null,
            "border": null,
            "align_items": null,
            "bottom": null,
            "_model_module": "@jupyter-widgets/base",
            "top": null,
            "grid_column": null,
            "overflow_y": null,
            "overflow_x": null,
            "grid_auto_flow": null,
            "grid_area": null,
            "grid_template_columns": null,
            "flex": null,
            "_model_name": "LayoutModel",
            "justify_items": null,
            "grid_row": null,
            "max_height": null,
            "align_content": null,
            "visibility": null,
            "align_self": null,
            "height": null,
            "min_height": null,
            "padding": null,
            "grid_auto_rows": null,
            "grid_gap": null,
            "max_width": null,
            "order": null,
            "_view_module_version": "1.2.0",
            "grid_template_areas": null,
            "object_position": null,
            "object_fit": null,
            "grid_auto_columns": null,
            "margin": null,
            "display": null,
            "left": null
          }
        },
        "e35d9e2014ac4f05850269ebde73621c": {
          "model_module": "@jupyter-widgets/controls",
          "model_name": "FloatProgressModel",
          "state": {
            "_view_name": "ProgressView",
            "style": "IPY_MODEL_02a62fba50b24f0fbe515b4aa8ee715e",
            "_dom_classes": [],
            "description": "100%",
            "_model_name": "FloatProgressModel",
            "bar_style": "success",
            "max": 4,
            "_view_module": "@jupyter-widgets/controls",
            "_model_module_version": "1.5.0",
            "value": 4,
            "_view_count": null,
            "_view_module_version": "1.5.0",
            "orientation": "horizontal",
            "min": 0,
            "description_tooltip": null,
            "_model_module": "@jupyter-widgets/controls",
            "layout": "IPY_MODEL_db49ab12964145efa5f718833af035be"
          }
        },
        "e7e22559f6cd4311b076c79fe65af975": {
          "model_module": "@jupyter-widgets/controls",
          "model_name": "HTMLModel",
          "state": {
            "_view_name": "HTMLView",
            "style": "IPY_MODEL_bf6d9bec2a3744fc9793faffa43de138",
            "_dom_classes": [],
            "description": "",
            "_model_name": "HTMLModel",
            "placeholder": "​",
            "_view_module": "@jupyter-widgets/controls",
            "_model_module_version": "1.5.0",
            "value": " 4/4 [02:15&lt;00:00, 33.96s/it]",
            "_view_count": null,
            "_view_module_version": "1.5.0",
            "description_tooltip": null,
            "_model_module": "@jupyter-widgets/controls",
            "layout": "IPY_MODEL_64e13329cb1b4db2bc01ed9d8c471ee1"
          }
        },
        "02a62fba50b24f0fbe515b4aa8ee715e": {
          "model_module": "@jupyter-widgets/controls",
          "model_name": "ProgressStyleModel",
          "state": {
            "_view_name": "StyleView",
            "_model_name": "ProgressStyleModel",
            "description_width": "initial",
            "_view_module": "@jupyter-widgets/base",
            "_model_module_version": "1.5.0",
            "_view_count": null,
            "_view_module_version": "1.2.0",
            "bar_color": null,
            "_model_module": "@jupyter-widgets/controls"
          }
        },
        "db49ab12964145efa5f718833af035be": {
          "model_module": "@jupyter-widgets/base",
          "model_name": "LayoutModel",
          "state": {
            "_view_name": "LayoutView",
            "grid_template_rows": null,
            "right": null,
            "justify_content": null,
            "_view_module": "@jupyter-widgets/base",
            "overflow": null,
            "_model_module_version": "1.2.0",
            "_view_count": null,
            "flex_flow": null,
            "width": null,
            "min_width": null,
            "border": null,
            "align_items": null,
            "bottom": null,
            "_model_module": "@jupyter-widgets/base",
            "top": null,
            "grid_column": null,
            "overflow_y": null,
            "overflow_x": null,
            "grid_auto_flow": null,
            "grid_area": null,
            "grid_template_columns": null,
            "flex": null,
            "_model_name": "LayoutModel",
            "justify_items": null,
            "grid_row": null,
            "max_height": null,
            "align_content": null,
            "visibility": null,
            "align_self": null,
            "height": null,
            "min_height": null,
            "padding": null,
            "grid_auto_rows": null,
            "grid_gap": null,
            "max_width": null,
            "order": null,
            "_view_module_version": "1.2.0",
            "grid_template_areas": null,
            "object_position": null,
            "object_fit": null,
            "grid_auto_columns": null,
            "margin": null,
            "display": null,
            "left": null
          }
        },
        "bf6d9bec2a3744fc9793faffa43de138": {
          "model_module": "@jupyter-widgets/controls",
          "model_name": "DescriptionStyleModel",
          "state": {
            "_view_name": "StyleView",
            "_model_name": "DescriptionStyleModel",
            "description_width": "",
            "_view_module": "@jupyter-widgets/base",
            "_model_module_version": "1.5.0",
            "_view_count": null,
            "_view_module_version": "1.2.0",
            "_model_module": "@jupyter-widgets/controls"
          }
        },
        "64e13329cb1b4db2bc01ed9d8c471ee1": {
          "model_module": "@jupyter-widgets/base",
          "model_name": "LayoutModel",
          "state": {
            "_view_name": "LayoutView",
            "grid_template_rows": null,
            "right": null,
            "justify_content": null,
            "_view_module": "@jupyter-widgets/base",
            "overflow": null,
            "_model_module_version": "1.2.0",
            "_view_count": null,
            "flex_flow": null,
            "width": null,
            "min_width": null,
            "border": null,
            "align_items": null,
            "bottom": null,
            "_model_module": "@jupyter-widgets/base",
            "top": null,
            "grid_column": null,
            "overflow_y": null,
            "overflow_x": null,
            "grid_auto_flow": null,
            "grid_area": null,
            "grid_template_columns": null,
            "flex": null,
            "_model_name": "LayoutModel",
            "justify_items": null,
            "grid_row": null,
            "max_height": null,
            "align_content": null,
            "visibility": null,
            "align_self": null,
            "height": null,
            "min_height": null,
            "padding": null,
            "grid_auto_rows": null,
            "grid_gap": null,
            "max_width": null,
            "order": null,
            "_view_module_version": "1.2.0",
            "grid_template_areas": null,
            "object_position": null,
            "object_fit": null,
            "grid_auto_columns": null,
            "margin": null,
            "display": null,
            "left": null
          }
        }
      }
    }
  },
  "cells": [
    {
      "cell_type": "markdown",
      "metadata": {
        "id": "cnY9C4uKHFFi"
      },
      "source": [
        "# Using Support Vector Machine in CoVID-19 X-Ray Image Dataset\n",
        "<h4>Simple approach using Scikit Learn & Python</h4>\n",
        "\n",
        "* References used: https://www.youtube.com/watch?v=0rjlviOQlbc \n",
        "* Dataset used:"
      ]
    },
    {
      "cell_type": "markdown",
      "metadata": {
        "id": "vabb2lKvGOd9"
      },
      "source": [
        "### 1. Importing necessary libraries: \n",
        "we are mainly importing sklearn for Support Vector Machine (SVM) and split dataset to train and test, pickle to save our custom dataset, random to shuffle the dataset"
      ]
    },
    {
      "cell_type": "code",
      "metadata": {
        "id": "rKl_mQhTGwiZ"
      },
      "source": [
        "import random\n",
        "import pickle\n",
        "import time\n",
        "import os\n",
        "import cv2\n",
        "from collections import Counter\n",
        "import numpy as np\n",
        "import tqdm.notebook as tq\n",
        "import matplotlib.pyplot as plt\n",
        "\n",
        "from sklearn import svm\n",
        "from sklearn.svm import SVC\n",
        "from sklearn.datasets import make_blobs\n",
        "\n",
        "from sklearn.feature_selection import SelectKBest\n",
        "from sklearn.feature_selection import chi2\n",
        "\n",
        "from sklearn.model_selection import train_test_split\n",
        "from sklearn.metrics import plot_confusion_matrix\n",
        "\n",
        "import skimage\n",
        "from skimage.feature import hog\n",
        "from skimage.color import rgb2gray\n",
        "\n",
        "import matplotlib as mpl\n",
        "import matplotlib.pyplot as plt\n",
        "from IPython.display import display"
      ],
      "execution_count": null,
      "outputs": []
    },
    {
      "cell_type": "markdown",
      "metadata": {
        "id": "MC9YGXstITod"
      },
      "source": [
        "### 2. Mounting with CS3244 Gdrive content"
      ]
    },
    {
      "cell_type": "code",
      "metadata": {
        "id": "LIi8U8TjIIxD",
        "outputId": "fc341637-dda1-45e3-d70d-2f00731a52f6",
        "colab": {
          "base_uri": "https://localhost:8080/",
          "height": 34
        }
      },
      "source": [
        "from google.colab import drive\n",
        "drive.mount('/content/drive')"
      ],
      "execution_count": null,
      "outputs": [
        {
          "output_type": "stream",
          "text": [
            "Drive already mounted at /content/drive; to attempt to forcibly remount, call drive.mount(\"/content/drive\", force_remount=True).\n"
          ],
          "name": "stdout"
        }
      ]
    },
    {
      "cell_type": "code",
      "metadata": {
        "id": "eecaWvF4Gtm4",
        "outputId": "24f7491f-b286-403a-ee88-5917066f8963",
        "colab": {
          "base_uri": "https://localhost:8080/",
          "height": 54
        }
      },
      "source": [
        "PATH = './drive/My Drive/Kaggle/COVID-19 Radiography Database/'\n",
        "MODELS = './models/' #path for pickle files directory\n",
        "DATAFILE_HOG = 'data_hog_128.pickle'\n",
        "IMG_SIZE = (128, 128)\n",
        "DATAFILE_128 = 'data_128x128.pickle'\n",
        "\n",
        "print(os.listdir(PATH))\n",
        "categories = ['COVID-19', 'NORMAL', 'Viral Pneumonia']"
      ],
      "execution_count": null,
      "outputs": [
        {
          "output_type": "stream",
          "text": [
            "['COVID-19.metadata.xlsx', 'NORMAL.metadata.xlsx', 'Viral Pneumonia.matadata.xlsx', 'README.md.txt', 'COVID-19', 'NORMAL', 'Viral Pneumonia']\n"
          ],
          "name": "stdout"
        }
      ]
    },
    {
      "cell_type": "markdown",
      "metadata": {
        "id": "vppKV4qWIbwB"
      },
      "source": [
        "### 3. Data Preparation\n",
        "<h2>[NOTE] You can skip to part 5, as the pickle file for data is already available</h2>"
      ]
    },
    {
      "cell_type": "code",
      "metadata": {
        "id": "MrVHqUaUG5Fg",
        "outputId": "97278619-56a9-4c3d-a2cd-be078df07a99",
        "colab": {
          "base_uri": "https://localhost:8080/",
          "height": 232,
          "referenced_widgets": [
            "3af9e2fb76a54cf69152bf66580ab424",
            "f1017471b5934adab274a131dd579ca7",
            "5f0edb751f624c979df61c53bc498c36",
            "69d1e2a865f54bdb8e99d39337404838",
            "bcab266288194c009eec1a4126437e95",
            "61a745ca35f44cac926deb0e0d952cd5",
            "bce820b286ec47ee89e4334a618f65f7",
            "769929a5f7d546c4b62c171280483e92",
            "fabb3280faa54084ba400453773dd43a",
            "30cf1cf9df814ecbb3bf7cc815944dc9",
            "b7857fbccfb9422f9e93cc81239122b7",
            "d524138a62a64c1db675d5c841e95ca4",
            "143c8a49d0304e5f842f30682977c321",
            "d2a0784d959f42d299d93cfca21b67ce",
            "ab8379e405864dd3992abbc46676f1ef",
            "7ea792800c044b23be651c3aee6e827b",
            "05d14bd4f5e1457893add20d8c58fba7",
            "75d36c0486f54fd49bccfa6210fec592",
            "adf4ed241d4348328af31d5dfcf01855",
            "49c30617550f40458f30ad35933e0657",
            "ee4bee56dcc34a40820bbcb8bda66b4d",
            "4f59bec21802492da638cdb75ee7bb92",
            "d0b5078b4866460286c2fe6413beeeae",
            "869b62d5ba054789a6e7c8d2bbfdc5f1"
          ]
        }
      },
      "source": [
        "data = []\n",
        "for category in categories:\n",
        "    print(f'category: {category}')\n",
        "    path = os.path.join(PATH, category)\n",
        "    label = categories.index(category)\n",
        "\n",
        "    for img in tq.tqdm(os.listdir(path)):\n",
        "        imgpath = os.path.join(path, img)\n",
        "        xray_img = cv2.imread(imgpath, 0)\n",
        "        xray_img = cv2.resize(xray_img, IMG_SIZE) \n",
        "        \n",
        "        hog_features, hog_image = hog(xray_img,\n",
        "                              visualize=True,\n",
        "                              orientations=9,\n",
        "                              cells_per_block=(2, 2),\n",
        "                              pixels_per_cell=(8, 8),\n",
        "                              block_norm='L2-Hys')\n",
        "        #image = np.array(xray_img).flatten()\n",
        "        data.append([hog_features, label])"
      ],
      "execution_count": null,
      "outputs": [
        {
          "output_type": "stream",
          "text": [
            "category: COVID-19\n"
          ],
          "name": "stdout"
        },
        {
          "output_type": "display_data",
          "data": {
            "application/vnd.jupyter.widget-view+json": {
              "model_id": "3af9e2fb76a54cf69152bf66580ab424",
              "version_minor": 0,
              "version_major": 2
            },
            "text/plain": [
              "HBox(children=(FloatProgress(value=0.0, max=219.0), HTML(value='')))"
            ]
          },
          "metadata": {
            "tags": []
          }
        },
        {
          "output_type": "stream",
          "text": [
            "\n",
            "category: NORMAL\n"
          ],
          "name": "stdout"
        },
        {
          "output_type": "display_data",
          "data": {
            "application/vnd.jupyter.widget-view+json": {
              "model_id": "fabb3280faa54084ba400453773dd43a",
              "version_minor": 0,
              "version_major": 2
            },
            "text/plain": [
              "HBox(children=(FloatProgress(value=0.0, max=1341.0), HTML(value='')))"
            ]
          },
          "metadata": {
            "tags": []
          }
        },
        {
          "output_type": "stream",
          "text": [
            "\n",
            "category: Viral Pneumonia\n"
          ],
          "name": "stdout"
        },
        {
          "output_type": "display_data",
          "data": {
            "application/vnd.jupyter.widget-view+json": {
              "model_id": "05d14bd4f5e1457893add20d8c58fba7",
              "version_minor": 0,
              "version_major": 2
            },
            "text/plain": [
              "HBox(children=(FloatProgress(value=0.0, max=1345.0), HTML(value='')))"
            ]
          },
          "metadata": {
            "tags": []
          }
        },
        {
          "output_type": "stream",
          "text": [
            "\n",
            "8100\n"
          ],
          "name": "stdout"
        }
      ]
    },
    {
      "cell_type": "code",
      "metadata": {
        "id": "kN8H1mwcNqOP",
        "outputId": "49360e1c-6d86-40c5-ddd3-3cf82f1c086f",
        "colab": {
          "base_uri": "https://localhost:8080/",
          "height": 34
        }
      },
      "source": [
        "print(f'Number of features: {len(data[0][0])}')"
      ],
      "execution_count": null,
      "outputs": [
        {
          "output_type": "stream",
          "text": [
            "Number of features: 8192\n"
          ],
          "name": "stdout"
        }
      ]
    },
    {
      "cell_type": "markdown",
      "metadata": {
        "id": "noqD--OdNxY1"
      },
      "source": [
        "### 4. Saving the dataset pickle file \n",
        "<i>YOU CAN SKIP TO 5, AS THE DATA FILE IS AVAILABLE</i>"
      ]
    },
    {
      "cell_type": "code",
      "metadata": {
        "id": "-4TA-AClG7Vr"
      },
      "source": [
        "# original: pickle_in = open('./drive/My Drive/xray_dataset_sklearn.pickle', 'wb')\n",
        "# trying out:\n",
        "pickle_in = open('./drive/My Drive/xray_dataset_sklearn_50.pickle', 'wb')\n",
        "pickle.dump(data, pickle_in)\n",
        "pickle_in.close()"
      ],
      "execution_count": null,
      "outputs": []
    },
    {
      "cell_type": "markdown",
      "metadata": {
        "id": "FEfjYb2kJD1f"
      },
      "source": [
        "### 5. Loading the saved dataset pickle file\n",
        "\n",
        "* this process is just for testing the pickle saving function, in case we need to re-use the dataset for another model, or with different hyperparameters, for the ease-of-usability."
      ]
    },
    {
      "cell_type": "code",
      "metadata": {
        "id": "XoQmkQQ9G8Xi"
      },
      "source": [
        "#original: pickle_in = open('./drive/My Drive/xray_dataset_sklearn.pickle', 'rb')\n",
        "#trying out:\n",
        "pickle_in = open('./drive/My Drive/xray_dataset_sklearn_hog_L1sqrt.pickle', 'rb')\n",
        "data = pickle.load(pickle_in)\n",
        "pickle_in.close()"
      ],
      "execution_count": null,
      "outputs": []
    },
    {
      "cell_type": "markdown",
      "metadata": {
        "id": "lHwPMbM7JVYN"
      },
      "source": [
        "### 6. Final dataset preparation\n",
        "\n",
        "* adding feature (pixel intensity values)\n",
        "* adding labels ([COVID-19: 0, NORMAL: 1, Viral Pneumonia: 2]) in this format\n",
        "* test size of 20% (0.2), 80% train\n"
      ]
    },
    {
      "cell_type": "code",
      "metadata": {
        "id": "5VLuNbm5G-LK",
        "outputId": "de152dfa-35ec-4dfe-9a55-b53049a10709",
        "colab": {
          "base_uri": "https://localhost:8080/",
          "height": 120,
          "referenced_widgets": [
            "6392c17a55b34c03ad71671a07ac7144",
            "b2577785e4284726b375aa42214a29f6",
            "7707d21cd02a4ef993b29e600ff0b872",
            "99753b4d4a0a4cd6b77d217f4078167b",
            "8b69c4b88fa9472b9743517beb51297e",
            "b9a40d92c87b468497ca78ba9230658a",
            "21797a5b26d14d8fbc0163ffbc9bfd98",
            "4ac8902ffff343cd99c7e329f695a7ce"
          ]
        }
      },
      "source": [
        "random.shuffle(data)\n",
        "TEST_SIZE = 0.2\n",
        "features = []\n",
        "labels = []\n",
        "\n",
        "for feature, label in tq.tqdm(data):\n",
        "    features.append(feature)\n",
        "    labels.append(label)\n",
        "print(features)\n",
        "print(labels)"
      ],
      "execution_count": null,
      "outputs": [
        {
          "output_type": "display_data",
          "data": {
            "application/vnd.jupyter.widget-view+json": {
              "model_id": "6392c17a55b34c03ad71671a07ac7144",
              "version_minor": 0,
              "version_major": 2
            },
            "text/plain": [
              "HBox(children=(FloatProgress(value=0.0, max=2905.0), HTML(value='')))"
            ]
          },
          "metadata": {
            "tags": []
          }
        },
        {
          "output_type": "stream",
          "text": [
            "\n",
            "[array([ 0, 10, 39, ...,  0,  0,  0], dtype=uint8), array([158, 156, 115, ..., 130,  87,  50], dtype=uint8), array([5, 6, 9, ..., 0, 0, 0], dtype=uint8), array([0, 0, 0, ..., 0, 0, 0], dtype=uint8), array([ 2,  3, 32, ...,  0,  0,  0], dtype=uint8), array([55, 56, 61, ..., 72, 48, 36], dtype=uint8), array([ 0,  0, 49, ...,  0,  0,  2], dtype=uint8), array([43, 65, 87, ...,  0,  0,  0], dtype=uint8), array([4, 3, 3, ..., 3, 3, 3], dtype=uint8), array([0, 0, 0, ..., 0, 0, 0], dtype=uint8), array([41, 63, 76, ...,  0,  0,  0], dtype=uint8), array([ 0, 24, 70, ...,  0,  0,  0], dtype=uint8), array([0, 0, 0, ..., 0, 0, 0], dtype=uint8), array([60, 77, 76, ...,  0,  0,  0], dtype=uint8), array([ 9, 41, 64, ...,  0,  0,  0], dtype=uint8), array([23, 65, 89, ...,  0,  0,  0], dtype=uint8), array([17, 38, 57, ...,  0,  0,  0], dtype=uint8), array([12, 17, 74, ...,  0,  0,  0], dtype=uint8), array([23, 51, 72, ...,  0,  0,  0], dtype=uint8), array([ 57,  84, 112, ...,   3,   2,   3], dtype=uint8), array([ 0,  2, 24, ...,  0,  0,  0], dtype=uint8), array([72, 66, 56, ...,  0,  0,  0], dtype=uint8), array([0, 0, 0, ..., 0, 0, 0], dtype=uint8), array([ 3, 19, 25, ..., 10,  4,  0], dtype=uint8), array([53, 56, 60, ...,  9,  2,  5], dtype=uint8), array([0, 0, 0, ..., 0, 0, 0], dtype=uint8), array([56, 81, 97, ...,  0,  0,  0], dtype=uint8), array([0, 0, 1, ..., 0, 0, 0], dtype=uint8), array([0, 0, 0, ..., 0, 0, 0], dtype=uint8), array([227, 114,  32, ...,   0,   0,   0], dtype=uint8), array([45, 56, 76, ...,  7,  9,  9], dtype=uint8), array([22, 34, 42, ...,  0,  0,  0], dtype=uint8), array([ 0,  6, 12, ...,  0,  0,  0], dtype=uint8), array([255, 255, 255, ...,   0,   0,   0], dtype=uint8), array([ 6, 20, 42, ...,  0,  0,  0], dtype=uint8), array([33, 34, 35, ..., 10, 16, 20], dtype=uint8), array([ 43,  33,  26, ..., 215, 142, 168], dtype=uint8), array([87,  9,  1, ...,  0,  0,  1], dtype=uint8), array([ 7,  8, 23, ...,  2,  6,  6], dtype=uint8), array([0, 0, 3, ..., 2, 0, 0], dtype=uint8), array([36, 34, 31, ...,  0,  0,  0], dtype=uint8), array([144, 150, 147, ...,   0,   0,   0], dtype=uint8), array([51, 65, 77, ..., 31, 29, 26], dtype=uint8), array([31, 52, 62, ...,  0,  0,  0], dtype=uint8), array([47, 68, 74, ...,  0,  0,  0], dtype=uint8), array([ 0,  0, 26, ...,  0,  0,  0], dtype=uint8), array([ 0,  1, 17, ...,  0,  0,  0], dtype=uint8), array([80, 87, 89, ...,  0,  0,  0], dtype=uint8), array([23, 49, 67, ..., 42, 24,  0], dtype=uint8), array([54, 51, 69, ..., 14, 31, 66], dtype=uint8), array([ 74,  47,  44, ..., 191, 191, 191], dtype=uint8), array([54, 65, 69, ...,  0,  0,  0], dtype=uint8), array([ 38,  37,  36, ..., 154, 103,  44], dtype=uint8), array([108, 130, 188, ...,   1,  27, 122], dtype=uint8), array([53, 64, 73, ...,  0,  0,  0], dtype=uint8), array([ 0,  1, 20, ...,  0,  0,  0], dtype=uint8), array([ 2,  9,  0, ..., 59, 39, 29], dtype=uint8), array([ 1,  0,  1, ..., 91, 63, 33], dtype=uint8), array([25, 18,  5, ..., 53, 22,  0], dtype=uint8), array([110, 127, 137, ...,  36,  10,   0], dtype=uint8), array([ 71,  79, 100, ...,   1,   0,   0], dtype=uint8), array([73, 86, 98, ..., 40,  0,  0], dtype=uint8), array([114, 122, 135, ...,   0,   0,   0], dtype=uint8), array([42, 99, 54, ..., 38,  0,  0], dtype=uint8), array([ 99, 136,  87, ...,   0,   0,   0], dtype=uint8), array([21, 42, 55, ...,  1,  0,  0], dtype=uint8), array([0, 0, 0, ..., 0, 0, 0], dtype=uint8), array([71, 67, 60, ..., 10, 12, 14], dtype=uint8), array([0, 0, 0, ..., 0, 0, 0], dtype=uint8), array([ 19,  33, 101, ...,  72,  34,   0], dtype=uint8), array([0, 0, 0, ..., 1, 0, 0], dtype=uint8), array([ 0, 15, 52, ...,  0,  0,  0], dtype=uint8), array([0, 0, 0, ..., 0, 0, 0], dtype=uint8), array([ 0,  0, 28, ...,  0,  0,  0], dtype=uint8), array([21, 45, 54, ..., 14,  0,  0], dtype=uint8), array([36, 66, 96, ...,  0,  0,  0], dtype=uint8), array([ 93,  94, 115, ...,   0,   0,   1], dtype=uint8), array([ 96,  99, 100, ...,  26,  33,  33], dtype=uint8), array([152,  44,  44, ...,   0,   0,   0], dtype=uint8), array([10, 44, 69, ...,  0,  0,  0], dtype=uint8), array([138,  94, 126, ...,   0,   0,   0], dtype=uint8), array([37, 37, 37, ..., 44, 44, 45], dtype=uint8), array([ 2, 44, 55, ..., 28, 28, 28], dtype=uint8), array([161, 135, 135, ...,   0,   0,   0], dtype=uint8), array([0, 0, 0, ..., 0, 0, 0], dtype=uint8), array([ 32, 119, 101, ..., 112,  72,   2], dtype=uint8), array([0, 0, 0, ..., 0, 0, 0], dtype=uint8), array([ 48, 109,  81, ...,   0,   0,   0], dtype=uint8), array([20, 64, 56, ...,  0,  0,  0], dtype=uint8), array([0, 0, 0, ..., 0, 0, 0], dtype=uint8), array([ 0,  1, 25, ...,  0,  0,  0], dtype=uint8), array([0, 0, 5, ..., 0, 0, 0], dtype=uint8), array([47, 51, 57, ..., 53,  3, 10], dtype=uint8), array([1, 1, 1, ..., 0, 0, 0], dtype=uint8), array([ 81,  81,  81, ..., 220, 222, 219], dtype=uint8), array([ 53,  51, 131, ..., 111,  57,   0], dtype=uint8), array([0, 0, 0, ..., 0, 1, 1], dtype=uint8), array([ 72,  80, 109, ...,   4,   0,   0], dtype=uint8), array([ 82,  90, 255, ...,   0,   0,   0], dtype=uint8), array([53, 57, 63, ..., 31,  0,  0], dtype=uint8), array([23, 34, 43, ...,  0,  0,  0], dtype=uint8), array([ 6,  6, 23, ...,  0, 19, 27], dtype=uint8), array([105,  96,  94, ..., 254, 254, 254], dtype=uint8), array([ 0,  0,  0, ..., 68, 39,  0], dtype=uint8), array([71, 81, 83, ...,  0,  0,  0], dtype=uint8), array([30, 59, 73, ...,  0,  0,  0], dtype=uint8), array([11, 47, 89, ...,  0,  0,  0], dtype=uint8), array([9, 9, 9, ..., 6, 8, 7], dtype=uint8), array([46, 77, 86, ...,  0,  0,  0], dtype=uint8), array([0, 0, 0, ..., 0, 0, 0], dtype=uint8), array([ 4, 37, 40, ...,  0,  0,  0], dtype=uint8), array([0, 0, 0, ..., 0, 0, 0], dtype=uint8), array([69, 50, 53, ..., 14, 16, 17], dtype=uint8), array([0, 0, 0, ..., 0, 0, 0], dtype=uint8), array([255, 251,   9, ...,   0,   0,   0], dtype=uint8), array([2, 6, 5, ..., 1, 1, 1], dtype=uint8), array([1, 1, 1, ..., 0, 0, 0], dtype=uint8), array([47, 65, 72, ...,  0,  0,  0], dtype=uint8), array([ 22,  46,  52, ..., 108,  13,   0], dtype=uint8), array([110,   8,   0, ..., 172, 213, 228], dtype=uint8), array([ 35,   8,   4, ..., 225, 228, 200], dtype=uint8), array([0, 0, 3, ..., 0, 0, 0], dtype=uint8), array([66, 85, 91, ...,  0,  0,  0], dtype=uint8), array([ 2, 32, 50, ...,  0, 11, 13], dtype=uint8), array([ 6,  0, 23, ..., 22, 23, 37], dtype=uint8), array([19, 35, 76, ...,  0,  0,  0], dtype=uint8), array([121, 119, 118, ..., 140, 150,  76], dtype=uint8), array([196, 180, 165, ...,   2,   3,   3], dtype=uint8), array([206, 190, 196, ..., 206, 192, 216], dtype=uint8), array([ 9, 43, 59, ...,  0,  0,  0], dtype=uint8), array([75, 81, 86, ..., 20,  0,  0], dtype=uint8), array([ 1,  3, 15, ...,  0,  0,  0], dtype=uint8), array([141, 149, 151, ...,  26,  28,  29], dtype=uint8), array([  1, 112, 101, ...,  28,   1,   0], dtype=uint8), array([33, 76, 96, ...,  0,  0,  0], dtype=uint8), array([21, 46, 63, ...,  0,  0,  0], dtype=uint8), array([ 3,  8, 11, ...,  7, 10, 10], dtype=uint8), array([58, 61, 77, ..., 97, 55,  4], dtype=uint8), array([35, 71, 85, ...,  0,  0,  0], dtype=uint8), array([174, 156, 138, ...,  89,  47,  16], dtype=uint8), array([ 3, 30, 57, ...,  0,  0,  0], dtype=uint8), array([66, 69, 66, ...,  0,  0,  0], dtype=uint8), array([  0,   0,   4, ..., 129, 126, 168], dtype=uint8), array([ 7,  6,  6, ..., 50, 16,  7], dtype=uint8), array([77, 93, 94, ..., 22,  0,  0], dtype=uint8), array([44, 10, 13, ...,  0,  0,  0], dtype=uint8), array([0, 0, 0, ..., 0, 0, 0], dtype=uint8), array([ 0,  6, 28, ..., 43,  0,  0], dtype=uint8), array([24, 66, 90, ..., 18,  0,  0], dtype=uint8), array([0, 0, 0, ..., 0, 0, 0], dtype=uint8), array([  0, 255, 250, ...,   0,   0,   0], dtype=uint8), array([  0,   0,   0, ..., 206, 202, 205], dtype=uint8), array([20, 51, 70, ...,  0,  0,  0], dtype=uint8), array([121, 159, 166, ...,  37,   0,   0], dtype=uint8), array([62, 31, 35, ..., 80, 55, 45], dtype=uint8), array([16, 22, 21, ...,  0,  0,  0], dtype=uint8), array([234, 221, 226, ...,  22,   0,   0], dtype=uint8), array([37, 52, 60, ..., 43, 17,  0], dtype=uint8), array([ 47,  67,  81, ..., 103,  26,   0], dtype=uint8), array([74, 81, 54, ...,  0,  0,  0], dtype=uint8), array([101, 109, 109, ..., 255, 255, 255], dtype=uint8), array([55, 48, 43, ..., 38, 41, 39], dtype=uint8), array([22, 40, 37, ..., 35, 35,  0], dtype=uint8), array([41, 60, 62, ...,  4,  0,  0], dtype=uint8), array([53, 74, 95, ...,  0,  0,  0], dtype=uint8), array([0, 0, 0, ..., 0, 0, 0], dtype=uint8), array([ 5, 10, 19, ...,  0,  0,  0], dtype=uint8), array([14, 14, 14, ..., 16, 13, 12], dtype=uint8), array([ 0, 26, 24, ..., 51, 34,  0], dtype=uint8), array([63, 76, 86, ...,  0,  0,  0], dtype=uint8), array([ 91,  80,  88, ..., 245, 248, 248], dtype=uint8), array([0, 1, 2, ..., 5, 0, 0], dtype=uint8), array([ 0, 31, 71, ...,  0,  0,  0], dtype=uint8), array([35, 36, 31, ..., 40, 39, 40], dtype=uint8), array([ 0,  2, 19, ...,  0,  0,  0], dtype=uint8), array([89, 29, 30, ..., 42, 44, 44], dtype=uint8), array([38, 28, 22, ..., 11, 15, 18], dtype=uint8), array([43, 52, 55, ...,  0,  0,  0], dtype=uint8), array([ 1, 18, 31, ...,  0,  0,  0], dtype=uint8), array([ 36,  34, 122, ...,  90,  35,   0], dtype=uint8), array([182, 171, 143, ...,  14,  13,  10], dtype=uint8), array([ 6, 19, 29, ...,  0,  0,  0], dtype=uint8), array([182,   5,  15, ...,   8,   8,   8], dtype=uint8), array([0, 0, 6, ..., 0, 0, 0], dtype=uint8), array([  0,   0,   0, ...,   0, 171, 216], dtype=uint8), array([ 0,  1, 26, ...,  0,  0,  0], dtype=uint8), array([  2, 108, 121, ...,   0,   0,   0], dtype=uint8), array([6, 6, 6, ..., 7, 8, 9], dtype=uint8), array([ 85,  71,  76, ..., 151, 151, 133], dtype=uint8), array([36, 60, 75, ...,  0,  0,  0], dtype=uint8), array([51, 61, 86, ..., 58, 31,  0], dtype=uint8), array([  0,   0,  14, ..., 255, 255, 255], dtype=uint8), array([10, 47, 73, ...,  0,  0,  0], dtype=uint8), array([55, 44, 52, ..., 16, 21, 18], dtype=uint8), array([ 0, 15, 31, ..., 16,  0,  0], dtype=uint8), array([47, 61, 68, ..., 18, 20, 21], dtype=uint8), array([119,  77, 111, ..., 101,  55,   0], dtype=uint8), array([ 46,  57, 161, ...,   0,   0,   0], dtype=uint8), array([0, 0, 0, ..., 0, 0, 0], dtype=uint8), array([12, 35, 58, ..., 25,  0,  0], dtype=uint8), array([20, 44, 56, ...,  0,  0,  0], dtype=uint8), array([ 0,  0, 25, ...,  0,  0,  0], dtype=uint8), array([102,  64,  56, ...,   0,   0,   0], dtype=uint8), array([14, 22, 33, ...,  0,  0,  0], dtype=uint8), array([ 83, 111, 111, ...,   0,   0,   0], dtype=uint8), array([27, 27, 27, ..., 27, 27, 27], dtype=uint8), array([ 0,  0,  0, ..., 73, 24,  0], dtype=uint8), array([ 47,  53,  70, ..., 101,  43,   1], dtype=uint8), array([ 66,  77, 195, ...,  11,  15,  20], dtype=uint8), array([202, 205, 247, ...,  17,  19,  24], dtype=uint8), array([151, 112, 125, ...,  63,  41,  36], dtype=uint8), array([65, 60, 89, ...,  0,  0,  0], dtype=uint8), array([0, 0, 0, ..., 0, 0, 0], dtype=uint8), array([ 3,  3,  3, ..., 13, 28, 60], dtype=uint8), array([ 3,  6, 10, ...,  0,  0,  0], dtype=uint8), array([  0,   4, 247, ...,   0,   0,   0], dtype=uint8), array([ 0,  5, 25, ...,  0,  0,  0], dtype=uint8), array([74, 83, 92, ...,  0,  0,  0], dtype=uint8), array([  5,  18, 208, ...,   1,   1,   1], dtype=uint8), array([27, 51, 66, ...,  0,  0,  0], dtype=uint8), array([45, 55, 58, ..., 13,  0,  0], dtype=uint8), array([ 3, 11, 24, ...,  9,  0,  0], dtype=uint8), array([146, 138, 131, ...,   0,   2,   5], dtype=uint8), array([ 0,  0, 19, ...,  0,  0,  0], dtype=uint8), array([ 39,  41,  40, ..., 122,  74,  19], dtype=uint8), array([ 0, 22, 54, ...,  0,  0,  0], dtype=uint8), array([  0, 223,  29, ...,   2,   0,   0], dtype=uint8), array([234, 151, 103, ...,   0,   0,   0], dtype=uint8), array([240, 230, 224, ..., 255, 255, 255], dtype=uint8), array([141, 130, 123, ...,  98,  17,   0], dtype=uint8), array([234, 143,  52, ...,   0,   0,   0], dtype=uint8), array([116, 117, 126, ...,   8,   0,   0], dtype=uint8), array([74, 77, 76, ...,  0,  0,  0], dtype=uint8), array([ 0, 11, 34, ...,  0,  0,  0], dtype=uint8), array([17, 20, 16, ...,  0,  0,  0], dtype=uint8), array([107, 122, 131, ...,  31,  34,  43], dtype=uint8), array([ 73,  91, 101, ...,   0,   0,   0], dtype=uint8), array([ 0,  0, 23, ...,  0,  0,  0], dtype=uint8), array([3, 4, 5, ..., 0, 0, 0], dtype=uint8), array([0, 0, 0, ..., 0, 0, 0], dtype=uint8), array([ 0,  1, 33, ..., 87, 44, 13], dtype=uint8), array([ 86, 102, 111, ...,   0,   0,   0], dtype=uint8), array([0, 0, 1, ..., 0, 0, 0], dtype=uint8), array([14, 14, 13, ..., 20, 17, 17], dtype=uint8), array([4, 7, 8, ..., 0, 0, 0], dtype=uint8), array([116, 140, 129, ...,  34,   5,   0], dtype=uint8), array([182, 172, 171, ...,  66,  35,  12], dtype=uint8), array([204, 206, 205, ...,  89,   3,   7], dtype=uint8), array([19, 41, 46, ..., 25, 27, 27], dtype=uint8), array([0, 0, 0, ..., 0, 0, 0], dtype=uint8), array([0, 0, 0, ..., 0, 0, 0], dtype=uint8), array([ 0,  1, 28, ...,  0,  0,  0], dtype=uint8), array([46, 65, 67, ..., 46,  8,  6], dtype=uint8), array([ 0, 15, 33, ..., 17,  0,  0], dtype=uint8), array([23, 66, 90, ...,  0,  0,  0], dtype=uint8), array([ 68,  89, 103, ...,  80,  37,   0], dtype=uint8), array([ 52,  84, 121, ...,   0,   0,   0], dtype=uint8), array([12, 31, 49, ...,  0,  0,  0], dtype=uint8), array([25, 40, 50, ...,  0,  0,  0], dtype=uint8), array([30, 37, 45, ..., 30, 31, 34], dtype=uint8), array([0, 0, 0, ..., 0, 0, 0], dtype=uint8), array([47, 75, 99, ...,  0,  0,  0], dtype=uint8), array([ 8, 29, 61, ...,  0,  0,  0], dtype=uint8), array([0, 0, 1, ..., 1, 0, 0], dtype=uint8), array([26,  2,  2, ...,  0,  0,  0], dtype=uint8), array([16, 35, 37, ...,  0,  0,  0], dtype=uint8), array([  0,   6, 255, ...,   0,   0,   0], dtype=uint8), array([5, 6, 6, ..., 1, 0, 1], dtype=uint8), array([207, 246, 196, ...,   0,   1,   3], dtype=uint8), array([ 2, 28, 55, ...,  2,  2,  2], dtype=uint8), array([90, 70, 52, ..., 47, 30,  9], dtype=uint8), array([15, 24, 28, ...,  0,  0,  0], dtype=uint8), array([155, 153, 161, ...,   0,   0,   0], dtype=uint8), array([0, 0, 2, ..., 0, 0, 0], dtype=uint8), array([ 0,  0,  0, ..., 57, 17,  0], dtype=uint8), array([ 88, 102, 114, ...,  26,  27,   0], dtype=uint8), array([235, 137,  33, ...,   0,   0,   0], dtype=uint8), array([10, 10, 21, ...,  3,  5,  5], dtype=uint8), array([198, 196, 198, ...,  18,  17,  19], dtype=uint8), array([ 1, 52, 57, ..., 33, 37, 38], dtype=uint8), array([21, 39, 53, ...,  0,  0,  0], dtype=uint8), array([ 86, 143, 131, ...,  31,   0,   0], dtype=uint8), array([1, 2, 1, ..., 1, 2, 2], dtype=uint8), array([ 26,  53,  73, ..., 139,  24,   0], dtype=uint8), array([144,  73,  12, ...,   9,  12,  13], dtype=uint8), array([ 2, 19, 48, ...,  0,  0,  0], dtype=uint8), array([0, 0, 0, ..., 0, 0, 0], dtype=uint8), array([52, 52, 52, ..., 52, 52, 52], dtype=uint8), array([76, 58, 39, ..., 46,  0,  0], dtype=uint8), array([59, 56, 50, ..., 46,  1,  0], dtype=uint8), array([35, 43, 48, ..., 78, 34,  0], dtype=uint8), array([111, 117,  84, ...,  37,   9,   0], dtype=uint8), array([24,  5, 11, ...,  0,  0,  0], dtype=uint8), array([0, 0, 0, ..., 0, 0, 0], dtype=uint8), array([1, 0, 0, ..., 0, 0, 0], dtype=uint8), array([4, 7, 4, ..., 0, 0, 0], dtype=uint8), array([32, 26, 53, ..., 39, 42, 43], dtype=uint8), array([50, 67, 79, ...,  1,  0,  0], dtype=uint8), array([ 0,  0, 83, ...,  0,  0,  0], dtype=uint8), array([ 86,  97, 108, ...,  85,  31,   0], dtype=uint8), array([42, 41, 72, ..., 25, 25, 25], dtype=uint8), array([42, 50, 59, ..., 31, 26, 62], dtype=uint8), array([ 3,  8, 10, ...,  0,  0,  0], dtype=uint8), array([255, 133, 126, ...,   0,   0,   0], dtype=uint8), array([54, 71, 81, ...,  0,  0,  0], dtype=uint8), array([43, 49, 71, ..., 31,  8,  0], dtype=uint8), array([21, 19, 22, ..., 25, 22, 20], dtype=uint8), array([41, 40, 44, ...,  0,  0,  0], dtype=uint8), array([  0,   0,   0, ..., 113,  31,   0], dtype=uint8), array([ 0,  9, 41, ...,  0,  0,  0], dtype=uint8), array([  0,   0, 255, ...,   1,   0,   0], dtype=uint8), array([130, 111, 115, ...,   1,   0,   0], dtype=uint8), array([0, 0, 0, ..., 0, 0, 0], dtype=uint8), array([0, 0, 0, ..., 0, 0, 0], dtype=uint8), array([33, 17, 27, ...,  0,  0,  0], dtype=uint8), array([ 71,  73, 139, ...,   0,   0,   7], dtype=uint8), array([42, 53, 69, ...,  0,  0,  0], dtype=uint8), array([ 54,  55,  55, ..., 236, 240, 247], dtype=uint8), array([28, 28, 82, ..., 93, 41, 24], dtype=uint8), array([127, 193,  93, ...,   0,   0,   0], dtype=uint8), array([ 47,  55,  84, ..., 168, 158, 130], dtype=uint8), array([ 89, 103, 105, ..., 132,  55,   9], dtype=uint8), array([ 8, 19, 47, ...,  0,  0,  0], dtype=uint8), array([255, 250,  60, ...,   0,   0,   0], dtype=uint8), array([0, 0, 0, ..., 0, 0, 0], dtype=uint8), array([ 22, 113,  33, ...,   0,   0,   0], dtype=uint8), array([111, 118, 122, ...,   0,   0,   0], dtype=uint8), array([0, 0, 0, ..., 0, 0, 0], dtype=uint8), array([157, 157, 157, ...,  77,  75,  79], dtype=uint8), array([117, 117, 129, ...,  57,  64,  69], dtype=uint8), array([ 0, 17, 51, ...,  0,  0,  0], dtype=uint8), array([26, 32, 42, ..., 27,  0,  0], dtype=uint8), array([10, 21, 26, ..., 52, 34, 18], dtype=uint8), array([0, 0, 0, ..., 0, 0, 0], dtype=uint8), array([ 0, 16, 39, ...,  0,  0,  0], dtype=uint8), array([103,  86,  93, ...,  14,  18,  19], dtype=uint8), array([176, 192, 163, ...,  16,   0,   0], dtype=uint8), array([141, 122,  72, ...,   0,   0,   0], dtype=uint8), array([202, 156,  54, ...,  33,  34,  34], dtype=uint8), array([ 6, 23, 34, ...,  0,  0,  0], dtype=uint8), array([ 89, 106,  88, ...,  21,  22,  19], dtype=uint8), array([  0,   0,   0, ..., 116, 118,  22], dtype=uint8), array([ 0, 40, 61, ..., 39,  0,  0], dtype=uint8), array([0, 0, 0, ..., 0, 0, 0], dtype=uint8), array([144, 137, 132, ..., 113, 101,  40], dtype=uint8), array([38, 53, 62, ..., 19, 25, 49], dtype=uint8), array([29, 75, 83, ...,  0,  0,  0], dtype=uint8), array([67, 92, 96, ...,  7, 11, 15], dtype=uint8), array([ 0, 24, 60, ...,  0,  0,  0], dtype=uint8), array([32, 55, 80, ..., 42, 15,  0], dtype=uint8), array([ 8,  9,  9, ..., 72,  9, 10], dtype=uint8), array([10,  9,  8, ..., 89, 60, 33], dtype=uint8), array([11, 14, 20, ...,  0,  0,  0], dtype=uint8), array([35, 38, 36, ..., 51, 62, 70], dtype=uint8), array([ 85,  93, 101, ...,   0,   0,   0], dtype=uint8), array([ 0,  0,  0, ..., 11, 10, 11], dtype=uint8), array([ 4, 23, 57, ...,  0,  0, 27], dtype=uint8), array([123, 120, 127, ...,  10,  11,  10], dtype=uint8), array([65, 47, 81, ..., 32,  0,  0], dtype=uint8), array([0, 0, 0, ..., 0, 0, 0], dtype=uint8), array([ 91, 101, 109, ...,  27,   0,   0], dtype=uint8), array([250, 217,  96, ...,   0,   0,   0], dtype=uint8), array([0, 0, 0, ..., 0, 0, 0], dtype=uint8), array([9, 9, 9, ..., 0, 0, 0], dtype=uint8), array([ 2, 11, 28, ..., 56, 13,  0], dtype=uint8), array([50, 49, 46, ..., 41, 44, 45], dtype=uint8), array([120, 128, 141, ...,  74,  22,   0], dtype=uint8), array([ 13,  24, 188, ...,  12,  12,  13], dtype=uint8), array([58, 48, 47, ...,  2, 15, 20], dtype=uint8), array([110, 114, 167, ...,   0,   0,   0], dtype=uint8), array([0, 0, 0, ..., 0, 0, 0], dtype=uint8), array([173, 182, 180, ..., 154, 121,  71], dtype=uint8), array([151, 144, 147, ...,  23,  25,  26], dtype=uint8), array([201, 194, 194, ...,  27,  32,  38], dtype=uint8), array([ 2, 24, 54, ...,  0,  0,  0], dtype=uint8), array([255, 254,  27, ..., 145,   0,   0], dtype=uint8), array([155, 133, 124, ...,   0,   0,   0], dtype=uint8), array([ 30,  48,  62, ..., 136,  34,   1], dtype=uint8), array([100, 105,  90, ...,  24,   0,   3], dtype=uint8), array([143, 153, 155, ...,  95,  29,   0], dtype=uint8), array([ 69,  74,  76, ..., 133,  99,  71], dtype=uint8), array([ 96,  93, 102, ..., 101, 106, 108], dtype=uint8), array([146, 152, 152, ...,   0,   0,   0], dtype=uint8), array([ 0,  0, 34, ..., 40,  0,  0], dtype=uint8), array([19, 22, 34, ..., 46, 10,  0], dtype=uint8), array([23, 27, 36, ...,  7, 11,  7], dtype=uint8), array([ 1,  1,  1, ...,  0,  4, 18], dtype=uint8), array([  7,   8,   8, ..., 153, 133,  68], dtype=uint8), array([0, 0, 0, ..., 0, 1, 2], dtype=uint8), array([ 0,  3, 13, ...,  0,  0,  0], dtype=uint8), array([ 0, 12, 41, ...,  0,  0,  0], dtype=uint8), array([ 80, 103, 117, ...,   0,   0,   0], dtype=uint8), array([ 73, 102, 121, ...,  19,  27,  40], dtype=uint8), array([25, 18, 12, ...,  0,  0,  0], dtype=uint8), array([ 0,  8, 20, ...,  0,  0,  0], dtype=uint8), array([19, 29, 37, ...,  0,  0,  0], dtype=uint8), array([23, 23, 20, ..., 33, 33, 41], dtype=uint8), array([122,  68,  56, ...,  16,  19,  21], dtype=uint8), array([ 0, 24, 44, ...,  3,  0,  0], dtype=uint8), array([59, 69, 75, ...,  0,  0,  0], dtype=uint8), array([47, 65, 76, ..., 69, 17,  0], dtype=uint8), array([101, 157, 158, ...,   0,   0,   0], dtype=uint8), array([25, 27, 65, ...,  0,  0,  0], dtype=uint8), array([ 3,  3,  3, ..., 13, 28, 60], dtype=uint8), array([159, 166, 182, ...,   1,   1,   1], dtype=uint8), array([ 66,   3,  23, ..., 178, 187, 197], dtype=uint8), array([ 0, 31, 46, ...,  0,  0,  0], dtype=uint8), array([0, 0, 0, ..., 0, 0, 0], dtype=uint8), array([ 91, 100,  98, ...,   0,   0,   0], dtype=uint8), array([40, 47, 60, ..., 34, 36, 36], dtype=uint8), array([0, 0, 0, ..., 0, 0, 0], dtype=uint8), array([26, 25, 25, ..., 28, 26, 41], dtype=uint8), array([255, 255, 255, ...,   0,   0,   0], dtype=uint8), array([0, 0, 3, ..., 0, 0, 0], dtype=uint8), array([114, 112, 122, ..., 107,  86,  59], dtype=uint8), array([ 69, 101, 125, ..., 148,  52,   0], dtype=uint8), array([60, 61, 66, ...,  0,  0,  0], dtype=uint8), array([66, 85, 95, ...,  0,  7, 15], dtype=uint8), array([112, 195, 154, ...,  35,   0,   0], dtype=uint8), array([102, 116, 126, ..., 116,  86,  24], dtype=uint8), array([144,  77,  67, ...,   0,   0,   0], dtype=uint8), array([12, 35, 41, ..., 30, 31, 31], dtype=uint8), array([65, 74, 75, ...,  0,  0,  1], dtype=uint8), array([ 17,  20,  20, ...,  84, 183, 219], dtype=uint8), array([49, 49, 46, ...,  0,  0,  0], dtype=uint8), array([  0, 188, 143, ...,  15,  16,   0], dtype=uint8), array([103, 115, 132, ...,   0,   0,   0], dtype=uint8), array([179, 142, 146, ...,   0,   0,   0], dtype=uint8), array([ 65,  80,  92, ..., 136, 116,  28], dtype=uint8), array([20, 20, 22, ..., 23, 24, 25], dtype=uint8), array([116, 136, 147, ..., 125,  80,  62], dtype=uint8), array([19, 16, 14, ...,  0,  0,  0], dtype=uint8), array([ 96, 110, 162, ...,   0,   0,   0], dtype=uint8), array([43, 66, 76, ..., 22,  0,  0], dtype=uint8), array([42, 45, 53, ..., 26, 24, 56], dtype=uint8), array([ 8, 11, 15, ..., 68, 29,  0], dtype=uint8), array([ 99, 104, 114, ...,  21,  23,  29], dtype=uint8), array([ 92,  95, 109, ..., 107,  63,  60], dtype=uint8), array([ 0, 10, 36, ...,  0,  0,  0], dtype=uint8), array([ 72,  79,  90, ..., 101,  78,  51], dtype=uint8), array([84, 86, 96, ...,  3,  3,  3], dtype=uint8), array([57, 64, 87, ...,  0,  0,  0], dtype=uint8), array([ 91,  89, 126, ...,   0,   1,  15], dtype=uint8), array([ 54,  50, 109, ...,   0,   0,   0], dtype=uint8), array([160, 157, 126, ..., 194, 248, 255], dtype=uint8), array([46, 45, 73, ...,  0,  0,  0], dtype=uint8), array([17, 16, 15, ..., 28, 28, 28], dtype=uint8), array([30, 49, 54, ...,  0,  0,  0], dtype=uint8), array([26, 24, 24, ...,  0,  0,  0], dtype=uint8), array([12, 18, 15, ..., 34,  3,  8], dtype=uint8), array([ 10,  40,   6, ..., 121,  87,  68], dtype=uint8), array([51, 60, 64, ..., 10,  0,  0], dtype=uint8), array([ 78, 104, 162, ...,  35,   0,   0], dtype=uint8), array([39, 67, 80, ...,  0,  0,  0], dtype=uint8), array([  3,   0,   0, ..., 207, 197, 171], dtype=uint8), array([0, 0, 9, ..., 3, 0, 0], dtype=uint8), array([ 46,  94, 189, ...,  42,  42,  42], dtype=uint8), array([119, 135, 145, ...,   0,   0,   0], dtype=uint8), array([ 5, 31, 62, ...,  0,  0,  0], dtype=uint8), array([207, 255, 255, ..., 146,  63,   0], dtype=uint8), array([0, 0, 0, ..., 0, 0, 0], dtype=uint8), array([57, 51, 52, ...,  0,  0,  0], dtype=uint8), array([28, 35, 41, ..., 71, 62, 19], dtype=uint8), array([ 7, 17, 33, ...,  0,  0,  0], dtype=uint8), array([56, 56, 56, ..., 57, 56, 56], dtype=uint8), array([54, 53, 46, ..., 26, 50, 55], dtype=uint8), array([ 0,  0, 22, ...,  0,  0,  0], dtype=uint8), array([36, 59, 82, ...,  0,  0,  0], dtype=uint8), array([31, 40, 42, ..., 42, 38, 42], dtype=uint8), array([31, 60, 71, ...,  2,  4,  8], dtype=uint8), array([ 0,  9, 22, ..., 11,  0,  0], dtype=uint8), array([ 41,   0,   0, ..., 177, 159, 171], dtype=uint8), array([255, 253,   0, ...,   0,   0,   0], dtype=uint8), array([42, 52, 53, ..., 45,  3, 17], dtype=uint8), array([69, 69, 65, ...,  0,  0,  0], dtype=uint8), array([66, 86, 95, ...,  4,  0,  0], dtype=uint8), array([36, 42, 47, ..., 16, 18, 19], dtype=uint8), array([20, 44, 56, ...,  0,  0,  0], dtype=uint8), array([115,  63,  59, ..., 255, 255, 255], dtype=uint8), array([ 86,  95, 117, ...,  82,  67,  49], dtype=uint8), array([121,  73,  71, ...,   0,   0,   0], dtype=uint8), array([30, 27, 28, ...,  0,  0,  0], dtype=uint8), array([91, 90, 87, ...,  0,  0,  0], dtype=uint8), array([142, 136,  43, ...,  74,  45,   9], dtype=uint8), array([40, 64, 76, ...,  0,  0,  0], dtype=uint8), array([12, 29, 75, ...,  0,  0,  0], dtype=uint8), array([ 5, 15, 25, ...,  0,  0,  0], dtype=uint8), array([140,  81,  77, ...,   0,   0,   1], dtype=uint8), array([131, 132, 137, ..., 127,  93,  52], dtype=uint8), array([ 5,  9, 17, ...,  0,  0,  0], dtype=uint8), array([0, 0, 1, ..., 0, 0, 0], dtype=uint8), array([ 89,  94, 160, ...,  32,   0,   0], dtype=uint8), array([17, 42, 60, ...,  0,  0,  0], dtype=uint8), array([44, 47, 46, ..., 91, 89, 61], dtype=uint8), array([74, 88, 98, ...,  0,  0,  4], dtype=uint8), array([  1,   1,   1, ..., 102,  64,  37], dtype=uint8), array([ 0,  3, 19, ..., 89, 44,  0], dtype=uint8), array([0, 0, 0, ..., 0, 0, 0], dtype=uint8), array([ 10,  13,  16, ..., 160, 151, 238], dtype=uint8), array([45, 42, 35, ..., 11, 10, 14], dtype=uint8), array([23, 44, 73, ...,  0,  0,  0], dtype=uint8), array([ 69, 115,  97, ...,   0,   0,   0], dtype=uint8), array([ 2, 61, 66, ..., 27, 30, 31], dtype=uint8), array([11, 38, 54, ...,  0,  0,  0], dtype=uint8), array([26, 58, 74, ...,  0,  0,  0], dtype=uint8), array([0, 0, 0, ..., 0, 0, 0], dtype=uint8), array([230, 218, 227, ...,   0,   0,   1], dtype=uint8), array([37, 36, 37, ..., 74, 28, 17], dtype=uint8), array([15, 47, 43, ...,  0,  0,  0], dtype=uint8), array([34, 67, 88, ...,  0,  0,  0], dtype=uint8), array([ 54, 102,  93, ...,   0,   0,   0], dtype=uint8), array([19, 18, 18, ..., 76, 50,  1], dtype=uint8), array([87,  9, 12, ...,  0,  0,  0], dtype=uint8), array([75, 88, 98, ...,  7,  0,  0], dtype=uint8), array([0, 0, 0, ..., 0, 0, 0], dtype=uint8), array([11, 10, 11, ...,  7,  5, 28], dtype=uint8), array([ 37,  40,  39, ..., 231, 225, 214], dtype=uint8), array([ 2, 55, 69, ...,  3,  0,  0], dtype=uint8), array([30, 58, 65, ..., 20, 31, 20], dtype=uint8), array([  8, 255, 253, ...,   1,   2,   1], dtype=uint8), array([146,   4,   0, ...,   0,   0,   0], dtype=uint8), array([55, 57, 54, ..., 93, 80, 52], dtype=uint8), array([ 46,  57,  82, ..., 104,  59,  34], dtype=uint8), array([ 6, 15, 13, ...,  0,  0,  3], dtype=uint8), array([35, 41, 55, ..., 12, 12, 13], dtype=uint8), array([0, 0, 0, ..., 0, 0, 0], dtype=uint8), array([23, 38, 49, ..., 10, 11, 14], dtype=uint8), array([ 0,  0,  0, ..., 51,  2,  0], dtype=uint8), array([ 83,  78, 138, ..., 192, 224, 255], dtype=uint8), array([ 4,  8,  7, ..., 10, 12, 20], dtype=uint8), array([ 2, 10, 42, ...,  0,  0,  0], dtype=uint8), array([ 98,  99, 101, ..., 104,  72,  58], dtype=uint8), array([0, 0, 1, ..., 0, 0, 0], dtype=uint8), array([116, 154, 106, ...,  53,  19,   0], dtype=uint8), array([ 5, 12,  0, ...,  0,  0,  0], dtype=uint8), array([  3,  30,  54, ..., 102,  37,   0], dtype=uint8), array([34, 32, 23, ...,  0,  0,  0], dtype=uint8), array([ 0,  0, 23, ..., 19,  0,  0], dtype=uint8), array([66, 59, 54, ...,  0,  0,  0], dtype=uint8), array([ 83, 156, 128, ..., 139,  96,  14], dtype=uint8), array([55, 70, 78, ...,  0,  0,  0], dtype=uint8), array([124, 134, 134, ...,  51,  13,   1], dtype=uint8), array([0, 0, 0, ..., 0, 0, 0], dtype=uint8), array([ 67,  72, 143, ...,  62,   0,   2], dtype=uint8), array([  2,   1,   0, ..., 135, 107,  47], dtype=uint8), array([22, 30, 49, ...,  0,  0,  0], dtype=uint8), array([ 5,  8, 24, ..., 84,  8,  0], dtype=uint8), array([15, 19, 26, ...,  0,  0,  0], dtype=uint8), array([0, 0, 0, ..., 0, 0, 0], dtype=uint8), array([ 1,  1,  3, ..., 66, 57, 43], dtype=uint8), array([ 59, 128, 108, ..., 103, 123,  63], dtype=uint8), array([ 0,  0,  1, ..., 19,  0,  0], dtype=uint8), array([48, 44, 32, ..., 43, 24,  0], dtype=uint8), array([ 68,  97, 109, ...,  73,  14,  21], dtype=uint8), array([30, 54, 75, ..., 23,  0,  0], dtype=uint8), array([25, 31, 26, ..., 12, 15, 12], dtype=uint8), array([ 79, 112, 130, ...,  40,   0,   0], dtype=uint8), array([41, 68, 67, ..., 21, 30, 53], dtype=uint8), array([57, 58, 68, ..., 20, 21, 21], dtype=uint8), array([ 22,  24,  28, ..., 164, 157, 150], dtype=uint8), array([25, 40, 63, ..., 87, 35, 10], dtype=uint8), array([101, 113, 118, ...,   0,   0,   0], dtype=uint8), array([70, 87, 99, ...,  0,  1,  4], dtype=uint8), array([52, 73, 67, ...,  0,  0,  0], dtype=uint8), array([83, 86, 87, ..., 43, 23,  0], dtype=uint8), array([129, 140, 167, ...,   7,   8,  10], dtype=uint8), array([  0,   0, 220, ...,   0,   0,   0], dtype=uint8), array([0, 0, 0, ..., 0, 0, 0], dtype=uint8), array([107, 108, 114, ..., 234, 224, 216], dtype=uint8), array([ 0,  0, 21, ...,  0,  0,  1], dtype=uint8), array([42, 51, 48, ...,  0,  4,  5], dtype=uint8), array([0, 0, 0, ..., 0, 0, 0], dtype=uint8), array([ 54,  68,  66, ..., 115,  99, 101], dtype=uint8), array([0, 0, 0, ..., 0, 0, 0], dtype=uint8), array([ 0,  9, 29, ...,  0,  0,  0], dtype=uint8), array([31, 42, 44, ..., 23,  0,  0], dtype=uint8), array([ 52,  67, 126, ...,   0,   0,   0], dtype=uint8), array([80, 87, 92, ...,  0,  0,  0], dtype=uint8), array([0, 0, 0, ..., 1, 0, 0], dtype=uint8), array([56, 65, 64, ...,  4,  9, 10], dtype=uint8), array([61, 66, 66, ..., 52, 50, 34], dtype=uint8), array([51, 47, 45, ...,  0,  0,  0], dtype=uint8), array([118, 115, 159, ...,   0,   0,   0], dtype=uint8), array([55, 65, 70, ...,  0,  0,  0], dtype=uint8), array([71, 86, 93, ..., 93, 71, 45], dtype=uint8), array([166,   1,   0, ...,   0,   0,   0], dtype=uint8), array([254, 236,   7, ...,   0,   0,   0], dtype=uint8), array([13, 16, 20, ...,  3,  4,  4], dtype=uint8), array([141, 146, 139, ...,   0,   0,   0], dtype=uint8), array([45, 44, 49, ..., 59, 34,  2], dtype=uint8), array([ 0,  1, 50, ...,  0,  0,  0], dtype=uint8), array([80, 88, 93, ..., 98, 81, 69], dtype=uint8), array([29, 66, 78, ...,  0,  0,  0], dtype=uint8), array([161, 102,  92, ...,   0,   0,   0], dtype=uint8), array([0, 0, 3, ..., 0, 0, 0], dtype=uint8), array([ 0,  0, 19, ...,  0,  0,  0], dtype=uint8), array([174,  58,  88, ...,  42,  11,  17], dtype=uint8), array([91, 87, 75, ...,  0,  5,  7], dtype=uint8), array([11, 17, 25, ...,  0,  0,  0], dtype=uint8), array([ 5, 11, 23, ...,  0,  0,  0], dtype=uint8), array([132, 129, 146, ...,   0,   0,   0], dtype=uint8), array([39, 54, 68, ...,  1,  0,  0], dtype=uint8), array([33, 44, 55, ...,  0,  0,  0], dtype=uint8), array([232, 124,   4, ...,   0,   0,   0], dtype=uint8), array([17, 14,  9, ..., 21, 22, 22], dtype=uint8), array([2, 1, 1, ..., 0, 0, 0], dtype=uint8), array([ 23,  18,  11, ..., 107,  87,  72], dtype=uint8), array([0, 0, 0, ..., 0, 0, 0], dtype=uint8), array([111,  86,  95, ...,   0,   0,   0], dtype=uint8), array([0, 0, 0, ..., 0, 0, 0], dtype=uint8), array([22, 24, 23, ...,  0,  0,  0], dtype=uint8), array([37, 72, 55, ..., 32, 33, 34], dtype=uint8), array([19, 16,  9, ...,  0,  0,  0], dtype=uint8), array([ 46,  49,  57, ...,  78, 110, 112], dtype=uint8), array([ 38,  36,  35, ..., 147, 145, 117], dtype=uint8), array([ 16,  14,  13, ...,  16,  30, 127], dtype=uint8), array([108, 159, 140, ...,   0,   0,   0], dtype=uint8), array([49, 71, 85, ...,  8,  9,  6], dtype=uint8), array([72, 82, 94, ...,  0,  0,  0], dtype=uint8), array([18, 25, 30, ...,  0,  0,  0], dtype=uint8), array([134, 148, 141, ...,   0,   0,   0], dtype=uint8), array([ 0, 13, 20, ...,  0,  0,  0], dtype=uint8), array([ 77,  93, 141, ...,   0,   0, 255], dtype=uint8), array([ 0, 11, 65, ...,  0,  0,  0], dtype=uint8), array([ 98, 111, 125, ..., 194, 184, 137], dtype=uint8), array([59, 66, 90, ..., 18, 20, 21], dtype=uint8), array([ 60, 103, 103, ...,   0,   0,   0], dtype=uint8), array([16, 16, 14, ..., 18, 19, 21], dtype=uint8), array([26, 30, 35, ..., 22,  1,  0], dtype=uint8), array([ 0, 26, 38, ..., 56, 32,  6], dtype=uint8), array([ 26,  25,  25, ..., 128,  80,  28], dtype=uint8), array([ 0,  0, 35, ...,  0,  0,  0], dtype=uint8), array([135,  91,  75, ...,   0,   0,   0], dtype=uint8), array([ 96,  99, 102, ...,  10,   0,   0], dtype=uint8), array([47, 69, 94, ...,  0,  1,  1], dtype=uint8), array([127,   7,   3, ...,  14,  15,  15], dtype=uint8), array([42, 51, 45, ...,  0,  2,  2], dtype=uint8), array([ 63,  65,  62, ..., 150, 159, 145], dtype=uint8), array([ 76, 115, 114, ...,   0,   0,   0], dtype=uint8), array([ 2, 27, 55, ...,  0,  0,  0], dtype=uint8), array([  7,   8,   8, ..., 112,  80,  44], dtype=uint8), array([ 90,  86, 130, ...,   0,   0,   0], dtype=uint8), array([105, 111, 122, ..., 115,  31,   0], dtype=uint8), array([1, 1, 1, ..., 3, 5, 5], dtype=uint8), array([95, 91, 71, ..., 30, 35, 26], dtype=uint8), array([0, 0, 0, ..., 0, 0, 0], dtype=uint8), array([242, 255, 255, ...,  53,   1,   0], dtype=uint8), array([63, 78, 89, ...,  0,  0,  0], dtype=uint8), array([3, 0, 0, ..., 0, 0, 0], dtype=uint8), array([57, 72, 80, ...,  0,  0,  0], dtype=uint8), array([ 15,  15, 117, ...,  17,  15,  16], dtype=uint8), array([255, 255, 255, ...,  80,  28,   1], dtype=uint8), array([0, 0, 0, ..., 0, 0, 0], dtype=uint8), array([37, 60, 62, ..., 14,  0,  0], dtype=uint8), array([107, 104, 161, ...,  60,  30,   0], dtype=uint8), array([55, 81, 52, ...,  0,  0,  0], dtype=uint8), array([ 2, 12, 41, ..., 17,  0,  0], dtype=uint8), array([ 24,  21, 232, ...,   2,   6,   6], dtype=uint8), array([33, 53, 66, ...,  0,  0,  0], dtype=uint8), array([12, 27, 39, ...,  0,  0,  0], dtype=uint8), array([  0,   0, 255, ...,   4,   4,   3], dtype=uint8), array([53, 60, 65, ..., 94, 76, 50], dtype=uint8), array([38, 56, 61, ...,  0,  0,  0], dtype=uint8), array([13,  8, 35, ..., 10, 11, 12], dtype=uint8), array([ 1, 22, 21, ..., 77, 20,  1], dtype=uint8), array([4, 2, 9, ..., 0, 0, 0], dtype=uint8), array([78, 80, 87, ..., 74, 49, 20], dtype=uint8), array([ 16,  17,  18, ..., 180, 181, 178], dtype=uint8), array([ 0,  0,  0, ..., 65, 46, 30], dtype=uint8), array([0, 0, 4, ..., 0, 0, 0], dtype=uint8), array([0, 0, 9, ..., 0, 0, 0], dtype=uint8), array([255, 193,  56, ...,   0,   0,   0], dtype=uint8), array([ 69,  73, 153, ...,   0,   0,   0], dtype=uint8), array([0, 0, 5, ..., 0, 0, 0], dtype=uint8), array([80, 78, 81, ...,  0,  0,  0], dtype=uint8), array([251, 247, 225, ..., 242, 248, 251], dtype=uint8), array([0, 0, 0, ..., 0, 0, 0], dtype=uint8), array([ 26,  40, 115, ..., 176, 148,  39], dtype=uint8), array([ 92,  93,  95, ..., 143,  49,   1], dtype=uint8), array([ 55,  64,  69, ..., 158, 148, 133], dtype=uint8), array([35, 36, 36, ..., 30, 31, 31], dtype=uint8), array([171, 199, 201, ..., 191, 187, 179], dtype=uint8), array([13, 36, 51, ...,  0,  0,  0], dtype=uint8), array([23, 44, 58, ..., 43, 20,  0], dtype=uint8), array([40, 39, 36, ..., 18,  0,  0], dtype=uint8), array([166,   2,   0, ...,   0,   0,   0], dtype=uint8), array([ 9, 18, 24, ...,  0,  0,  0], dtype=uint8), array([1, 0, 0, ..., 1, 0, 1], dtype=uint8), array([54, 73, 77, ...,  0,  3,  7], dtype=uint8), array([138, 209, 209, ..., 190, 185, 178], dtype=uint8), array([27, 67, 91, ...,  0,  0,  0], dtype=uint8), array([65, 74, 78, ...,  0,  3,  5], dtype=uint8), array([48, 61, 70, ..., 19,  0,  0], dtype=uint8), array([17, 16, 20, ...,  0,  0,  0], dtype=uint8), array([136, 117, 119, ...,   0,   0,   0], dtype=uint8), array([ 67,  77, 136, ...,  19,   0,   0], dtype=uint8), array([66, 66, 70, ...,  0,  0,  0], dtype=uint8), array([ 36, 255, 254, ...,   0,   0,   0], dtype=uint8), array([0, 0, 0, ..., 0, 0, 0], dtype=uint8), array([2, 1, 1, ..., 1, 3, 2], dtype=uint8), array([255, 252,  46, ...,   0,   0,   0], dtype=uint8), array([35, 30, 33, ...,  0,  2, 17], dtype=uint8), array([61, 75, 74, ..., 29,  0,  0], dtype=uint8), array([1, 1, 1, ..., 1, 1, 1], dtype=uint8), array([41, 50, 60, ...,  0,  0,  0], dtype=uint8), array([ 89, 111, 127, ...,  37,  39,  41], dtype=uint8), array([1, 0, 0, ..., 0, 0, 0], dtype=uint8), array([ 0,  0, 14, ...,  0,  0,  0], dtype=uint8), array([0, 0, 0, ..., 0, 0, 0], dtype=uint8), array([ 0,  0,  0, ..., 23,  7,  0], dtype=uint8), array([ 79,  94,  83, ..., 215, 213, 214], dtype=uint8), array([63, 74, 78, ...,  0,  0,  0], dtype=uint8), array([167, 161, 153, ..., 217, 155, 127], dtype=uint8), array([58, 76, 96, ..., 28,  0,  0], dtype=uint8), array([ 94, 171,  98, ...,  41,  29,   0], dtype=uint8), array([ 45,  91, 113, ...,   0,   1,   6], dtype=uint8), array([0, 0, 0, ..., 0, 0, 0], dtype=uint8), array([71, 88, 92, ...,  0,  0,  0], dtype=uint8), array([108, 106, 140, ...,   4,   3,   4], dtype=uint8), array([59, 68, 81, ...,  0,  0,  0], dtype=uint8), array([171, 170, 169, ..., 164, 252, 251], dtype=uint8), array([69, 73, 82, ...,  2,  0,  0], dtype=uint8), array([ 12,  59, 109, ...,   0,   0,   0], dtype=uint8), array([254, 102, 106, ..., 244, 243, 244], dtype=uint8), array([3, 2, 1, ..., 4, 5, 5], dtype=uint8), array([  0,   0,   0, ..., 128,  82,  50], dtype=uint8), array([  1,   0,   0, ...,   0,  34, 147], dtype=uint8), array([ 0,  3, 10, ...,  0,  0,  0], dtype=uint8), array([  0,  39,  28, ..., 112,  75,   0], dtype=uint8), array([0, 0, 0, ..., 0, 0, 0], dtype=uint8), array([ 38,  53, 225, ...,  13,  14,  14], dtype=uint8), array([ 5,  5,  6, ...,  4,  4, 10], dtype=uint8), array([19, 27, 25, ..., 50,  8, 11], dtype=uint8), array([  1,   1,   1, ..., 204, 183,  87], dtype=uint8), array([ 52,  75, 251, ...,  11,  22,   9], dtype=uint8), array([ 0,  7, 35, ...,  0,  0,  0], dtype=uint8), array([80, 82, 81, ...,  0,  0,  0], dtype=uint8), array([ 0, 38, 32, ..., 15, 16,  0], dtype=uint8), array([  2, 253, 103, ...,   1,   1,   1], dtype=uint8), array([59, 63, 68, ..., 18,  2,  0], dtype=uint8), array([0, 0, 0, ..., 0, 0, 0], dtype=uint8), array([42, 55, 79, ..., 36,  0,  0], dtype=uint8), array([ 7, 10, 26, ...,  0,  0,  0], dtype=uint8), array([48, 74, 85, ...,  0,  0,  0], dtype=uint8), array([ 0, 36, 53, ...,  0,  0,  0], dtype=uint8), array([29, 43, 60, ...,  8,  4,  5], dtype=uint8), array([117, 121, 129, ..., 119, 123,  16], dtype=uint8), array([100, 111, 125, ...,  36,   0,   0], dtype=uint8), array([17, 13, 17, ...,  0,  0,  0], dtype=uint8), array([50, 63, 88, ...,  0,  0,  0], dtype=uint8), array([132, 130, 141, ...,   0,   0,   0], dtype=uint8), array([  0,   0,   0, ..., 124,  22,   0], dtype=uint8), array([176, 158, 140, ...,  20,  21,  21], dtype=uint8), array([ 0, 21, 56, ...,  0,  0,  0], dtype=uint8), array([  3,  10, 221, ...,   0,   0,   0], dtype=uint8), array([75, 79, 83, ..., 12, 13, 13], dtype=uint8), array([48, 67, 86, ...,  0,  0,  0], dtype=uint8), array([10, 39, 64, ...,  0,  0,  0], dtype=uint8), array([20, 23, 11, ...,  0,  0,  0], dtype=uint8), array([28, 49, 66, ..., 36,  0,  0], dtype=uint8), array([52, 73, 81, ..., 45,  0,  0], dtype=uint8), array([61, 55, 58, ..., 29, 30, 32], dtype=uint8), array([ 27,  36,  26, ..., 101,  32,  65], dtype=uint8), array([ 0, 20, 47, ..., 56, 19,  0], dtype=uint8), array([111,  83,  98, ...,  41,  10,   0], dtype=uint8), array([ 4, 31, 45, ...,  0,  0,  0], dtype=uint8), array([60, 73, 86, ...,  4,  4,  6], dtype=uint8), array([112,  79,  81, ...,  24,  27,  28], dtype=uint8), array([ 0,  0,  0, ..., 10,  0,  0], dtype=uint8), array([34, 39, 46, ...,  6,  9,  8], dtype=uint8), array([0, 0, 0, ..., 0, 0, 0], dtype=uint8), array([11, 23, 33, ...,  0,  0,  0], dtype=uint8), array([ 74,  99, 113, ...,   0,   0,   0], dtype=uint8), array([  2, 108,  81, ...,   0,   0,   0], dtype=uint8), array([114, 119, 119, ...,   7,   8,   9], dtype=uint8), array([ 0,  0,  0, ..., 10,  0,  0], dtype=uint8), array([ 80, 166, 111, ...,  35,   0,   0], dtype=uint8), array([13,  7, 61, ...,  0,  0,  0], dtype=uint8), array([51,  0,  0, ...,  0,  0,  0], dtype=uint8), array([255, 255, 254, ...,  52,   7,   0], dtype=uint8), array([ 82, 103, 107, ...,   0,   0,   0], dtype=uint8), array([6, 6, 6, ..., 6, 6, 6], dtype=uint8), array([40, 40, 38, ...,  0,  0,  0], dtype=uint8), array([ 44, 119, 149, ...,   1,   1,   1], dtype=uint8), array([116,   6,   5, ...,   0,   0,   0], dtype=uint8), array([10, 33, 52, ...,  0,  0,  0], dtype=uint8), array([ 80, 104, 108, ..., 219, 209, 208], dtype=uint8), array([38, 58, 66, ...,  0,  1,  1], dtype=uint8), array([70, 80, 85, ..., 17, 20, 21], dtype=uint8), array([194,  13,  25, ...,   0,   0,   0], dtype=uint8), array([49, 65, 73, ..., 13,  0,  0], dtype=uint8), array([ 4, 12, 15, ...,  0,  0,  0], dtype=uint8), array([ 0,  0, 15, ..., 16,  0,  0], dtype=uint8), array([ 0, 22, 34, ...,  0,  0,  0], dtype=uint8), array([ 0,  8, 24, ...,  0,  0,  0], dtype=uint8), array([ 7, 19, 50, ...,  6,  7,  7], dtype=uint8), array([ 95, 189, 135, ...,   0,   0,   0], dtype=uint8), array([37, 60, 72, ...,  1,  0,  0], dtype=uint8), array([ 57, 105, 110, ...,   0,   0,   0], dtype=uint8), array([ 9, 24, 63, ...,  0,  0,  0], dtype=uint8), array([ 82,  97, 153, ...,   0,   0,   0], dtype=uint8), array([56, 67, 78, ...,  0,  0,  0], dtype=uint8), array([78, 87, 76, ..., 57, 24,  0], dtype=uint8), array([0, 0, 0, ..., 0, 0, 0], dtype=uint8), array([43, 48, 49, ...,  0,  0,  0], dtype=uint8), array([72, 72, 55, ..., 68, 22,  0], dtype=uint8), array([ 51,  33,  31, ..., 101,  76,  43], dtype=uint8), array([ 0,  8, 29, ..., 31,  0,  0], dtype=uint8), array([14, 46, 47, ...,  0, 26, 78], dtype=uint8), array([10, 16, 29, ...,  0,  0,  0], dtype=uint8), array([ 49,  64, 154, ...,   0,   0,   0], dtype=uint8), array([30, 48, 67, ...,  0,  0,  0], dtype=uint8), array([68, 78, 84, ...,  4,  0,  0], dtype=uint8), array([35, 40, 47, ...,  0,  0,  0], dtype=uint8), array([1, 0, 0, ..., 1, 0, 1], dtype=uint8), array([58, 65, 75, ..., 49,  0,  0], dtype=uint8), array([255, 253,   0, ...,   0,   0,   0], dtype=uint8), array([20, 19, 17, ..., 97, 42,  0], dtype=uint8), array([28, 26, 23, ..., 27, 30, 32], dtype=uint8), array([0, 0, 0, ..., 0, 0, 0], dtype=uint8), array([112, 132, 253, ...,  11,  15,  18], dtype=uint8), array([32, 39, 43, ...,  6,  0,  0], dtype=uint8), array([12,  6,  0, ...,  2,  0,  0], dtype=uint8), array([ 77, 125, 119, ..., 113,  73,  34], dtype=uint8), array([255, 253, 248, ..., 161,   0,   0], dtype=uint8), array([36, 37, 31, ..., 21,  0,  0], dtype=uint8), array([ 95, 139, 148, ...,   0,   0,   0], dtype=uint8), array([38, 43, 59, ..., 10, 10, 11], dtype=uint8), array([255,   0,  24, ...,  22,   0,   0], dtype=uint8), array([20, 33, 93, ...,  7,  7,  7], dtype=uint8), array([113, 116, 119, ...,   0,   0,   0], dtype=uint8), array([  0,   0,   0, ..., 119,  74,   0], dtype=uint8), array([  0,  17,  43, ..., 131,  50,   0], dtype=uint8), array([ 7, 17, 24, ..., 10,  3,  0], dtype=uint8), array([50, 50, 49, ..., 58, 58, 58], dtype=uint8), array([ 88, 119, 122, ...,  26,  26,  26], dtype=uint8), array([  0,   0,   0, ..., 187, 167, 142], dtype=uint8), array([ 2,  4, 18, ...,  0,  0,  0], dtype=uint8), array([75, 80, 83, ..., 59, 15,  0], dtype=uint8), array([46, 57, 65, ..., 34, 31, 40], dtype=uint8), array([111, 119,  66, ...,   0,   0,   0], dtype=uint8), array([ 0, 18, 37, ..., 23,  0,  0], dtype=uint8), array([  1,   1,   2, ..., 199, 190, 177], dtype=uint8), array([39, 31, 76, ..., 46, 47, 49], dtype=uint8), array([ 4, 18, 16, ...,  0,  0,  0], dtype=uint8), array([ 41,  24,   0, ..., 126, 114,  31], dtype=uint8), array([ 35,  53,  60, ..., 113, 121,  63], dtype=uint8), array([ 43,  76, 141, ...,   8,   0,   0], dtype=uint8), array([ 78,  82,  87, ..., 118, 102,  80], dtype=uint8), array([117, 118, 124, ...,   0,   0,   0], dtype=uint8), array([30, 28, 27, ..., 24, 25, 26], dtype=uint8), array([134, 130,  71, ...,   0,   0,   0], dtype=uint8), array([ 53,   8,   7, ..., 111,  83,  37], dtype=uint8), array([80, 86, 79, ..., 18,  0,  0], dtype=uint8), array([140, 141, 152, ..., 175, 162, 135], dtype=uint8), array([115, 158, 142, ...,  14,  13,  13], dtype=uint8), array([101, 103, 106, ..., 152, 165, 191], dtype=uint8), array([ 0,  0,  0, ..., 21,  1,  0], dtype=uint8), array([ 0, 28, 62, ...,  0,  0,  0], dtype=uint8), array([38, 46, 52, ...,  1,  1,  1], dtype=uint8), array([13, 13, 73, ..., 10, 12, 12], dtype=uint8), array([43, 48, 61, ..., 46, 20,  0], dtype=uint8), array([ 78,  82, 127, ...,   0,   0,   0], dtype=uint8), array([ 15,  70, 117, ...,   1,   1,   1], dtype=uint8), array([ 91, 101, 123, ...,  16,   0,   0], dtype=uint8), array([6, 6, 6, ..., 5, 8, 8], dtype=uint8), array([103, 102, 105, ..., 115, 107, 103], dtype=uint8), array([10, 14, 18, ..., 19, 18, 19], dtype=uint8), array([254, 255, 255, ..., 255, 254, 255], dtype=uint8), array([185, 129, 122, ...,  31,   0,   0], dtype=uint8), array([101,  97,  97, ..., 146,  62,   8], dtype=uint8), array([57, 68, 70, ..., 20, 27, 27], dtype=uint8), array([15,  7,  7, ..., 64, 30, 13], dtype=uint8), array([ 0,  9, 24, ..., 12,  0,  0], dtype=uint8), array([ 0,  0,  0, ..., 10, 11, 11], dtype=uint8), array([37, 57, 65, ...,  0,  0,  0], dtype=uint8), array([53, 67, 66, ...,  0,  0,  0], dtype=uint8), array([36, 52, 48, ...,  0,  0,  0], dtype=uint8), array([51, 61, 72, ..., 99, 52, 17], dtype=uint8), array([35, 35, 35, ..., 33, 37, 38], dtype=uint8), array([163, 160, 161, ...,   1,  56,  86], dtype=uint8), array([122, 133, 114, ..., 171, 166, 144], dtype=uint8), array([ 69, 130, 128, ...,   0,   0,   0], dtype=uint8), array([ 4, 16, 33, ...,  0,  0,  0], dtype=uint8), array([0, 0, 0, ..., 0, 0, 0], dtype=uint8), array([112, 124, 113, ...,   0,   0,   0], dtype=uint8), array([0, 0, 0, ..., 0, 0, 0], dtype=uint8), array([  1,   1,   1, ..., 165,  74,  48], dtype=uint8), array([56, 67, 75, ..., 91, 47, 41], dtype=uint8), array([47, 51, 57, ...,  1,  0,  0], dtype=uint8), array([0, 0, 0, ..., 0, 0, 0], dtype=uint8), array([15, 37, 26, ..., 22, 17, 12], dtype=uint8), array([ 43, 129,  82, ...,   0,   0,   0], dtype=uint8), array([117, 130, 110, ...,   0,   0,   0], dtype=uint8), array([ 9, 22, 36, ...,  0,  0,  0], dtype=uint8), array([0, 0, 0, ..., 0, 0, 0], dtype=uint8), array([3, 2, 2, ..., 3, 4, 4], dtype=uint8), array([5, 5, 6, ..., 0, 0, 0], dtype=uint8), array([0, 0, 0, ..., 0, 0, 0], dtype=uint8), array([65, 65, 65, ...,  0,  0,  0], dtype=uint8), array([31, 33, 33, ..., 17,  0,  0], dtype=uint8), array([ 38,  46,  57, ..., 120, 111,  76], dtype=uint8), array([ 0,  0, 22, ..., 53,  0, 18], dtype=uint8), array([128,  88,  83, ...,   0,   0,   0], dtype=uint8), array([108, 110, 104, ..., 143, 130,  76], dtype=uint8), array([ 65, 146,  97, ...,  11,   0,   0], dtype=uint8), array([ 0,  0, 30, ...,  0,  0,  0], dtype=uint8), array([ 18,  33, 159, ...,  11,  11,  12], dtype=uint8), array([  9,  19,  27, ..., 122, 107,  62], dtype=uint8), array([76, 84, 81, ...,  0,  0,  0], dtype=uint8), array([41, 64, 78, ..., 23,  0,  0], dtype=uint8), array([0, 0, 0, ..., 0, 0, 0], dtype=uint8), array([31, 31, 31, ..., 11, 12, 12], dtype=uint8), array([109,  94,  70, ...,   0,   0,   0], dtype=uint8), array([0, 0, 0, ..., 0, 0, 0], dtype=uint8), array([48, 60, 58, ...,  0,  0,  0], dtype=uint8), array([ 0, 15, 14, ...,  9, 10,  0], dtype=uint8), array([46, 52, 49, ...,  0,  0,  0], dtype=uint8), array([116,   7,  14, ...,   7,   0,   0], dtype=uint8), array([116, 124, 131, ..., 168, 160, 142], dtype=uint8), array([ 24,  72, 104, ...,  11,  13,  11], dtype=uint8), array([1, 3, 6, ..., 0, 0, 0], dtype=uint8), array([76, 92, 82, ...,  0,  0,  0], dtype=uint8), array([ 90, 104, 110, ...,   0,   0,   0], dtype=uint8), array([107, 151, 166, ...,  15,   0,   0], dtype=uint8), array([ 62,  75, 255, ...,  18,  18,  18], dtype=uint8), array([ 30,  52, 104, ..., 103,  29,   0], dtype=uint8), array([0, 0, 2, ..., 0, 0, 0], dtype=uint8), array([ 79, 140, 124, ...,   0,   0,   0], dtype=uint8), array([ 0,  2, 26, ...,  0,  0,  0], dtype=uint8), array([131, 105, 101, ...,   0,   0,   0], dtype=uint8), array([ 0,  0,  0, ..., 11,  0,  0], dtype=uint8), array([51, 53, 99, ..., 20,  0,  0], dtype=uint8), array([ 94, 100, 107, ..., 122, 103,  80], dtype=uint8), array([  0,  15, 254, ...,   0,   0,   0], dtype=uint8), array([ 56, 105, 117, ...,   2,   0,   0], dtype=uint8), array([ 10,  20, 213, ...,  14,  16,  14], dtype=uint8), array([11, 12, 11, ..., 29, 30, 31], dtype=uint8), array([ 8,  6,  5, ..., 14, 10,  6], dtype=uint8), array([63, 79, 90, ...,  0,  0,  0], dtype=uint8), array([11, 28, 48, ...,  0,  0,  0], dtype=uint8), array([0, 0, 0, ..., 0, 0, 0], dtype=uint8), array([28, 52, 60, ...,  0,  0,  0], dtype=uint8), array([ 2,  9, 18, ...,  0,  0,  0], dtype=uint8), array([36, 63, 81, ..., 48, 22,  0], dtype=uint8), array([ 92, 104, 158, ...,   0,   0,   0], dtype=uint8), array([ 27,  31, 115, ...,  51,   2,   0], dtype=uint8), array([ 5, 22, 50, ...,  0,  0,  0], dtype=uint8), array([ 5, 25, 37, ...,  0,  0,  0], dtype=uint8), array([104,  79,  60, ...,  53,  18,  27], dtype=uint8), array([1, 3, 7, ..., 0, 0, 0], dtype=uint8), array([145, 109, 109, ...,   0,   0,   0], dtype=uint8), array([58, 66, 71, ..., 20,  0,  0], dtype=uint8), array([194,  12,   0, ...,   0,   0,   0], dtype=uint8), array([188, 183, 153, ...,  28,  31,  26], dtype=uint8), array([13, 29, 56, ...,  1,  1,  2], dtype=uint8), array([  0,   0, 197, ...,   0,   1,   1], dtype=uint8), array([ 0, 17, 46, ...,  0,  0,  0], dtype=uint8), array([ 0,  9, 78, ...,  0,  0,  0], dtype=uint8), array([39, 43, 46, ..., 15,  0,  0], dtype=uint8), array([63, 68, 64, ..., 47, 17, 25], dtype=uint8), array([177,  23,  25, ..., 255, 255, 255], dtype=uint8), array([41, 46, 49, ...,  0,  0,  0], dtype=uint8), array([42, 56, 60, ..., 12, 14, 14], dtype=uint8), array([30, 52, 69, ...,  0,  0,  0], dtype=uint8), array([40, 40, 42, ..., 29, 31, 31], dtype=uint8), array([48, 63, 63, ...,  6, 13, 10], dtype=uint8), array([0, 0, 0, ..., 0, 0, 0], dtype=uint8), array([ 0, 17, 17, ..., 14, 15,  0], dtype=uint8), array([0, 0, 8, ..., 0, 0, 0], dtype=uint8), array([ 0,  7, 26, ...,  0,  0,  0], dtype=uint8), array([28, 49, 57, ...,  0,  0,  0], dtype=uint8), array([125, 144, 141, ...,  20,  28,  32], dtype=uint8), array([ 66,  61, 106, ...,  34,   0,   0], dtype=uint8), array([35,  2, 40, ...,  0,  0,  0], dtype=uint8), array([130, 122, 122, ...,  10,  17,  18], dtype=uint8), array([ 79,  89,  85, ..., 118,  91,  62], dtype=uint8), array([41, 50, 96, ..., 92, 51,  6], dtype=uint8), array([ 74,  76,  81, ..., 151, 176,  59], dtype=uint8), array([42, 72, 97, ...,  0,  0,  0], dtype=uint8), array([115, 122, 122, ..., 109,  37,   9], dtype=uint8), array([110, 140, 137, ...,   1,   1,   2], dtype=uint8), array([106, 103,  99, ..., 123,  34,   0], dtype=uint8), array([63, 47, 48, ..., 76, 57, 13], dtype=uint8), array([ 77,  72,  72, ..., 145,  95,  81], dtype=uint8), array([ 95,  94, 143, ...,   0,   0,   0], dtype=uint8), array([ 9,  9,  9, ..., 17, 16, 15], dtype=uint8), array([101,  82,  93, ...,   0,   0,   0], dtype=uint8), array([187, 136, 160, ...,  13,  17,  19], dtype=uint8), array([30, 57, 82, ...,  0,  0,  0], dtype=uint8), array([65, 80, 74, ..., 16, 17, 18], dtype=uint8), array([62, 72, 81, ...,  0,  0,  0], dtype=uint8), array([65, 30, 53, ..., 58,  4, 14], dtype=uint8), array([32, 50, 76, ...,  0,  0,  0], dtype=uint8), array([18, 41, 52, ...,  0,  0,  0], dtype=uint8), array([47, 57, 61, ..., 37, 38, 37], dtype=uint8), array([0, 0, 5, ..., 0, 0, 0], dtype=uint8), array([17,  9,  8, ...,  0,  0,  0], dtype=uint8), array([ 0,  0, 11, ...,  0,  0,  0], dtype=uint8), array([ 1, 18, 18, ...,  0,  0,  0], dtype=uint8), array([ 0,  2, 35, ...,  0,  0,  0], dtype=uint8), array([56, 53, 58, ...,  0,  0,  0], dtype=uint8), array([ 4,  3, 13, ...,  0,  0,  2], dtype=uint8), array([ 2, 43, 39, ..., 36, 42, 37], dtype=uint8), array([123, 190,  80, ...,   0,   0,   0], dtype=uint8), array([128,  74,  70, ...,  37,   0,   0], dtype=uint8), array([ 0,  5, 25, ...,  0,  0,  0], dtype=uint8), array([0, 0, 0, ..., 0, 0, 0], dtype=uint8), array([ 0,  2, 10, ...,  0,  0,  0], dtype=uint8), array([188, 106, 100, ...,   0,   0,   0], dtype=uint8), array([0, 0, 0, ..., 0, 0, 0], dtype=uint8), array([71, 95, 99, ...,  0,  0,  0], dtype=uint8), array([ 50,  98, 119, ...,   0,   0,   0], dtype=uint8), array([ 3,  3,  7, ..., 14,  7,  3], dtype=uint8), array([104,  70,  70, ...,   0,   0,   1], dtype=uint8), array([64, 64, 67, ..., 19, 23, 20], dtype=uint8), array([70, 88, 53, ..., 76, 25,  8], dtype=uint8), array([38, 43, 59, ..., 10, 10, 11], dtype=uint8), array([ 4, 27, 45, ...,  0,  0,  0], dtype=uint8), array([ 22,  65, 106, ...,   0,   0,   0], dtype=uint8), array([ 3,  2,  0, ...,  9, 10, 11], dtype=uint8), array([ 0,  0, 13, ..., 10,  0,  0], dtype=uint8), array([0, 0, 0, ..., 0, 0, 0], dtype=uint8), array([ 0,  8, 39, ...,  0,  0,  0], dtype=uint8), array([ 53,  68, 149, ...,   0,   0,   0], dtype=uint8), array([ 0,  0, 19, ...,  0,  0,  0], dtype=uint8), array([ 0,  1, 18, ..., 12,  9, 10], dtype=uint8), array([0, 0, 0, ..., 0, 0, 0], dtype=uint8), array([186,  41,  64, ...,   0,   0,   0], dtype=uint8), array([ 0, 21,  0, ...,  0,  0,  0], dtype=uint8), array([ 74,  87, 145, ...,  56,   9,   0], dtype=uint8), array([  8,   8,   8, ..., 166, 138, 108], dtype=uint8), array([17, 28, 32, ...,  0,  0,  0], dtype=uint8), array([1, 1, 1, ..., 1, 1, 1], dtype=uint8), array([32, 30, 30, ..., 26, 29, 30], dtype=uint8), array([88, 68, 51, ..., 22, 25, 31], dtype=uint8), array([2, 0, 0, ..., 0, 0, 0], dtype=uint8), array([0, 0, 7, ..., 0, 0, 0], dtype=uint8), array([103, 115, 160, ...,   0,   0,   1], dtype=uint8), array([ 10,  25,  42, ..., 253, 254, 255], dtype=uint8), array([14, 12, 14, ..., 27, 29, 31], dtype=uint8), array([145, 159,  96, ..., 121,  78,  13], dtype=uint8), array([  0, 146, 149, ...,  14,  18,   0], dtype=uint8), array([106, 118, 116, ...,   0,   0,   0], dtype=uint8), array([115, 124, 126, ...,  97,  81,  64], dtype=uint8), array([23, 21, 49, ...,  0,  0,  0], dtype=uint8), array([162, 120, 133, ...,  22,  25,  26], dtype=uint8), array([58, 72, 71, ..., 92, 17,  0], dtype=uint8), array([0, 0, 0, ..., 0, 0, 0], dtype=uint8), array([ 0,  8, 16, ..., 17,  8,  0], dtype=uint8), array([254, 254, 255, ...,  82,  40,  18], dtype=uint8), array([1, 1, 0, ..., 1, 2, 2], dtype=uint8), array([0, 0, 3, ..., 0, 0, 0], dtype=uint8), array([0, 0, 1, ..., 0, 0, 0], dtype=uint8), array([ 69,  68,  77, ..., 113,  64,  13], dtype=uint8), array([129,  50,  64, ...,   0,   0,   2], dtype=uint8), array([146, 136, 131, ..., 101,  81,  63], dtype=uint8), array([ 97, 105, 111, ...,  15,  17,  19], dtype=uint8), array([1, 1, 1, ..., 1, 1, 1], dtype=uint8), array([ 0,  0, 29, ...,  0,  0,  0], dtype=uint8), array([155, 157, 150, ..., 161, 110,  10], dtype=uint8), array([139, 139, 129, ...,  38,  16,   0], dtype=uint8), array([222, 127, 103, ...,   0,   0,   0], dtype=uint8), array([147, 165, 185, ...,   0,   0,   0], dtype=uint8), array([221,  95,   0, ...,   0,   0,   0], dtype=uint8), array([19, 13, 38, ..., 39, 46, 76], dtype=uint8), array([ 37,  96,  86, ..., 117,  72,  34], dtype=uint8), array([14, 34, 44, ...,  0,  0,  0], dtype=uint8), array([40, 37, 38, ...,  0,  0,  0], dtype=uint8), array([68, 81, 96, ...,  0,  0,  0], dtype=uint8), array([68, 68, 65, ...,  2,  4,  2], dtype=uint8), array([109, 108, 163, ..., 146,  70,  22], dtype=uint8), array([12, 21, 13, ..., 10, 10, 12], dtype=uint8), array([ 2, 30, 65, ...,  0,  0,  0], dtype=uint8), array([ 0, 44, 58, ...,  0,  0,  0], dtype=uint8), array([74, 62, 64, ..., 12, 14, 23], dtype=uint8), array([111,  14,  24, ...,  25,   2,   5], dtype=uint8), array([ 0,  7, 15, ...,  0,  0,  0], dtype=uint8), array([72, 84, 92, ...,  0,  0,  0], dtype=uint8), array([ 0, 33, 63, ...,  0,  0,  0], dtype=uint8), array([43, 59, 66, ..., 28, 30, 33], dtype=uint8), array([50, 65, 77, ..., 58,  0,  0], dtype=uint8), array([ 0, 21, 46, ...,  0,  0,  0], dtype=uint8), array([14, 38, 56, ...,  0,  0,  0], dtype=uint8), array([137, 135, 149, ..., 145, 180, 122], dtype=uint8), array([58, 79, 90, ...,  0,  0,  0], dtype=uint8), array([19, 49, 60, ...,  0,  0,  0], dtype=uint8), array([ 0,  0, 13, ..., 19,  4,  0], dtype=uint8), array([37, 53, 65, ...,  0,  0,  0], dtype=uint8), array([57, 62, 69, ..., 19, 19, 17], dtype=uint8), array([ 17,  20,  24, ..., 248, 248, 248], dtype=uint8), array([ 56,  49,  46, ..., 125, 101,  72], dtype=uint8), array([111, 107, 131, ...,  19,   0,   0], dtype=uint8), array([2, 0, 0, ..., 0, 0, 0], dtype=uint8), array([147, 167, 164, ...,   0,   0, 129], dtype=uint8), array([0, 0, 1, ..., 0, 0, 0], dtype=uint8), array([255, 114, 129, ..., 149, 114, 106], dtype=uint8), array([216,  68,   5, ...,   8,   8,   8], dtype=uint8), array([ 41,  49, 136, ...,   0, 156, 179], dtype=uint8), array([ 10,  10,  10, ..., 195, 187, 169], dtype=uint8), array([0, 0, 0, ..., 1, 0, 0], dtype=uint8), array([122, 114, 112, ...,  53,   0,   0], dtype=uint8), array([ 40,  57,  71, ..., 105,  11,   0], dtype=uint8), array([ 40,  73, 102, ...,   0,   0,   0], dtype=uint8), array([0, 0, 0, ..., 0, 0, 0], dtype=uint8), array([ 0, 25, 41, ...,  0,  0,  0], dtype=uint8), array([30, 38, 46, ...,  0,  0,  0], dtype=uint8), array([19, 19, 58, ...,  0,  0,  0], dtype=uint8), array([ 2, 34, 28, ..., 13, 12,  4], dtype=uint8), array([ 78,  92, 141, ...,  13,  15,  17], dtype=uint8), array([ 9, 32, 46, ...,  0,  1,  0], dtype=uint8), array([157, 105,  93, ...,   6,   0,   0], dtype=uint8), array([ 0,  0,  0, ..., 41, 12,  0], dtype=uint8), array([0, 0, 0, ..., 1, 0, 0], dtype=uint8), array([63, 81, 95, ..., 31,  0,  0], dtype=uint8), array([0, 0, 0, ..., 0, 0, 0], dtype=uint8), array([ 71,  92, 173, ...,   0,   0,   0], dtype=uint8), array([0, 4, 9, ..., 0, 0, 0], dtype=uint8), array([ 7, 29, 46, ...,  0,  0,  0], dtype=uint8), array([ 2, 14, 17, ...,  0,  0,  0], dtype=uint8), array([132, 153, 130, ...,   0,   0,   0], dtype=uint8), array([ 55,  64,  69, ..., 158, 148, 133], dtype=uint8), array([0, 0, 0, ..., 0, 0, 0], dtype=uint8), array([ 1, 24, 50, ...,  0,  0,  0], dtype=uint8), array([ 96, 100, 146, ...,   0,   0,   0], dtype=uint8), array([  0,   0,   0, ..., 110, 106, 111], dtype=uint8), array([ 0, 18, 59, ...,  0,  0,  0], dtype=uint8), array([ 0,  0,  0, ..., 20,  0,  0], dtype=uint8), array([20, 26, 30, ...,  0,  0,  0], dtype=uint8), array([ 82,  86, 169, ...,  52,   2,   0], dtype=uint8), array([ 60, 106, 107, ...,   0,   0,   0], dtype=uint8), array([0, 0, 7, ..., 0, 0, 0], dtype=uint8), array([ 81, 103,  42, ..., 152,  43,  68], dtype=uint8), array([103,  13,   8, ...,   1,   0,   0], dtype=uint8), array([ 0,  0,  0, ...,  0,  0, 22], dtype=uint8), array([19, 20, 20, ..., 47, 24,  5], dtype=uint8), array([21, 49, 63, ...,  5,  8,  7], dtype=uint8), array([  1,   1,   2, ..., 199, 190, 177], dtype=uint8), array([ 71,  77, 127, ...,   0,   0,   0], dtype=uint8), array([208,  67,   0, ...,   0,   0,   0], dtype=uint8), array([0, 0, 0, ..., 0, 0, 0], dtype=uint8), array([0, 1, 1, ..., 0, 0, 0], dtype=uint8), array([12, 24, 34, ...,  0,  0,  0], dtype=uint8), array([0, 0, 3, ..., 6, 0, 0], dtype=uint8), array([15, 39, 11, ...,  7,  9, 12], dtype=uint8), array([14, 33, 44, ...,  0,  0,  0], dtype=uint8), array([50, 56, 58, ..., 56, 65, 54], dtype=uint8), array([ 30,  38, 185, ...,   9,  11,   8], dtype=uint8), array([ 0, 17, 45, ...,  0,  0,  0], dtype=uint8), array([43, 52, 60, ..., 21,  0,  0], dtype=uint8), array([117, 129, 149, ...,   0,   0,   0], dtype=uint8), array([0, 0, 0, ..., 3, 5, 5], dtype=uint8), array([117,  75,  53, ...,   0,   0,   0], dtype=uint8), array([17, 17, 16, ..., 24, 25, 26], dtype=uint8), array([59, 70, 43, ..., 23, 24, 25], dtype=uint8), array([105, 109, 122, ...,   0,   0,   0], dtype=uint8), array([ 19,  32, 137, ...,   5,   6,   6], dtype=uint8), array([ 86,  97, 119, ...,   0,   0,   0], dtype=uint8), array([112, 107, 110, ...,   0,   0,   0], dtype=uint8), array([103,  93,  79, ...,   0,   0,   0], dtype=uint8), array([ 51,  84, 110, ...,   0,   0,   0], dtype=uint8), array([ 0,  0, 16, ...,  6,  0,  0], dtype=uint8), array([0, 0, 0, ..., 0, 0, 0], dtype=uint8), array([ 84,  93,  85, ..., 102,  52,  11], dtype=uint8), array([0, 0, 0, ..., 8, 0, 0], dtype=uint8), array([121, 139,  86, ...,  62,  15,   0], dtype=uint8), array([107, 110, 112, ...,   0,   0,   0], dtype=uint8), array([51, 71, 81, ..., 24, 22, 27], dtype=uint8), array([19, 15, 10, ..., 63,  0, 17], dtype=uint8), array([0, 0, 0, ..., 0, 0, 0], dtype=uint8), array([ 0,  0, 21, ...,  0,  1,  0], dtype=uint8), array([54, 54, 57, ..., 37,  0,  0], dtype=uint8), array([103, 106, 101, ...,   0,   0,   0], dtype=uint8), array([0, 0, 0, ..., 0, 0, 0], dtype=uint8), array([ 71,  74, 129, ...,  28,   0,   0], dtype=uint8), array([0, 0, 0, ..., 0, 0, 0], dtype=uint8), array([ 0, 11, 44, ...,  0,  0,  0], dtype=uint8), array([27, 29, 31, ..., 72, 43, 24], dtype=uint8), array([ 75,  90, 100, ...,   0,   0,   0], dtype=uint8), array([12, 37, 56, ...,  0,  0,  0], dtype=uint8), array([185, 170, 173, ...,   0,   0,   0], dtype=uint8), array([47, 41, 37, ...,  0,  0,  0], dtype=uint8), array([121, 140, 147, ...,   0,   0,   0], dtype=uint8), array([ 1, 21, 45, ...,  1,  2,  1], dtype=uint8), array([55, 60, 60, ...,  0,  0,  0], dtype=uint8), array([102,  77, 108, ...,   0,   8, 159], dtype=uint8), array([5, 4, 4, ..., 5, 6, 5], dtype=uint8), array([ 0,  4, 13, ...,  0,  0,  0], dtype=uint8), array([ 3, 27, 57, ...,  2,  0,  0], dtype=uint8), array([130, 137, 132, ..., 126,  96,  97], dtype=uint8), array([ 0,  1, 38, ...,  5, 10,  6], dtype=uint8), array([  1,   1,   1, ..., 143, 117,  64], dtype=uint8), array([0, 0, 2, ..., 0, 0, 0], dtype=uint8), array([ 56,  73,  81, ..., 180,  53,  25], dtype=uint8), array([36, 34, 34, ..., 47, 15, 45], dtype=uint8), array([ 39,  57, 109, ...,   0,   0,   0], dtype=uint8), array([83, 32, 36, ...,  0,  0,  0], dtype=uint8), array([162, 152, 146, ...,   0,   0,   0], dtype=uint8), array([ 76, 127, 110, ...,   0,   0,   0], dtype=uint8), array([72, 71, 72, ..., 99, 84, 60], dtype=uint8), array([ 0,  0,  0, ..., 13,  0,  0], dtype=uint8), array([0, 0, 0, ..., 0, 0, 0], dtype=uint8), array([ 2, 12, 17, ...,  0,  0,  0], dtype=uint8), array([33, 41, 82, ..., 37,  7, 12], dtype=uint8), array([ 94,  96, 105, ...,   0,   0,   0], dtype=uint8), array([64, 82, 76, ..., 25, 30, 31], dtype=uint8), array([23, 48, 68, ...,  0,  0,  0], dtype=uint8), array([53, 43, 44, ...,  4,  0,  0], dtype=uint8), array([35, 43, 58, ..., 14, 17, 18], dtype=uint8), array([ 5, 43, 44, ..., 14, 22, 25], dtype=uint8), array([ 0,  0, 25, ...,  0,  0,  0], dtype=uint8), array([8, 6, 6, ..., 0, 0, 0], dtype=uint8), array([0, 0, 0, ..., 0, 0, 0], dtype=uint8), array([254, 252, 255, ..., 122, 141, 220], dtype=uint8), array([0, 0, 0, ..., 0, 0, 0], dtype=uint8), array([ 64,  88, 243, ...,  23,  26,  32], dtype=uint8), array([86, 75, 75, ...,  2,  2,  3], dtype=uint8), array([212, 197, 158, ..., 123,  63,  22], dtype=uint8), array([  0,  20,  38, ..., 103,   0,  46], dtype=uint8), array([ 29,  29,  29, ..., 149,  99,  88], dtype=uint8), array([101, 106, 107, ...,   0,   0,   0], dtype=uint8), array([78, 64, 74, ..., 42,  0,  0], dtype=uint8), array([23, 61, 79, ...,  0,  0,  0], dtype=uint8), array([255, 255, 255, ..., 254, 212, 210], dtype=uint8), array([22, 27, 32, ...,  0,  0,  0], dtype=uint8), array([0, 0, 0, ..., 0, 0, 1], dtype=uint8), array([50, 61, 62, ...,  0,  0,  0], dtype=uint8), array([240, 217,  58, ...,   2,   2,  59], dtype=uint8), array([ 74,  81, 141, ...,   0,   0,   0], dtype=uint8), array([36, 60, 68, ...,  0,  0,  0], dtype=uint8), array([173, 179, 182, ..., 255, 255, 255], dtype=uint8), array([176, 149, 149, ...,   0,   0,   0], dtype=uint8), array([ 19,  11,   6, ..., 128, 113,  90], dtype=uint8), array([39, 31, 76, ..., 46, 47, 49], dtype=uint8), array([ 0, 24, 41, ...,  0,  0,  1], dtype=uint8), array([  0, 180,   3, ...,   0,   0,   0], dtype=uint8), array([ 0, 15, 12, ..., 15, 22, 31], dtype=uint8), array([ 0,  0,  0, ..., 44,  2,  3], dtype=uint8), array([20, 17, 15, ...,  0,  0,  0], dtype=uint8), array([75, 70, 64, ..., 18, 35, 36], dtype=uint8), array([ 0, 10, 49, ...,  0,  0,  0], dtype=uint8), array([ 0,  0,  0, ..., 42,  1,  0], dtype=uint8), array([ 7,  5, 14, ...,  9, 11, 11], dtype=uint8), array([ 0,  4, 47, ...,  0,  0,  0], dtype=uint8), array([50, 57, 61, ...,  0,  0,  0], dtype=uint8), array([ 0,  0, 10, ...,  0,  0,  0], dtype=uint8), array([255, 255, 255, ...,  10,  12,  24], dtype=uint8), array([108, 127, 126, ..., 209, 186, 151], dtype=uint8), array([12, 41, 79, ...,  0,  0,  0], dtype=uint8), array([ 71,  72, 104, ..., 127,  77,  58], dtype=uint8), array([29, 29, 29, ..., 22, 27, 27], dtype=uint8), array([0, 0, 0, ..., 0, 0, 0], dtype=uint8), array([0, 0, 0, ..., 0, 0, 0], dtype=uint8), array([67, 41, 62, ...,  0,  0,  0], dtype=uint8), array([25, 45, 45, ...,  0,  0,  0], dtype=uint8), array([24, 35, 50, ...,  0,  0,  0], dtype=uint8), array([150,  57,  67, ...,   0,   0,   0], dtype=uint8), array([ 39,  43, 105, ...,   0,   0,   0], dtype=uint8), array([ 91,  80,  88, ..., 245, 248, 248], dtype=uint8), array([ 90,  95, 104, ...,  17,  20,  23], dtype=uint8), array([48, 70, 76, ...,  0,  0,  0], dtype=uint8), array([0, 0, 0, ..., 0, 0, 0], dtype=uint8), array([ 6,  6,  6, ..., 86, 60, 25], dtype=uint8), array([ 75, 119, 120, ...,  87,  54,  45], dtype=uint8), array([67, 66, 61, ..., 87, 63, 45], dtype=uint8), array([ 72,  82, 108, ...,   3,   0,   0], dtype=uint8), array([66, 71, 75, ..., 22, 24, 24], dtype=uint8), array([61, 64, 69, ..., 35, 36, 37], dtype=uint8), array([ 71, 100, 125, ...,   2,   2,   2], dtype=uint8), array([25, 25, 21, ..., 14, 19, 31], dtype=uint8), array([13,  0,  0, ..., 27,  0,  0], dtype=uint8), array([ 2, 12, 21, ...,  0,  0,  0], dtype=uint8), array([129,  22,  15, ...,  34,  54,  51], dtype=uint8), array([13, 12, 13, ..., 17, 17, 16], dtype=uint8), array([ 2, 71, 81, ..., 46, 46, 46], dtype=uint8), array([66, 83, 87, ..., 20, 21, 22], dtype=uint8), array([121, 137, 134, ...,  90,  13,   0], dtype=uint8), array([2, 2, 2, ..., 4, 4, 5], dtype=uint8), array([32, 40, 48, ...,  0,  0,  0], dtype=uint8), array([ 68,  87, 111, ...,   0,   0,   0], dtype=uint8), array([ 5, 14, 24, ..., 85, 21,  0], dtype=uint8), array([161, 142, 124, ...,  21,   0,   0], dtype=uint8), array([51, 52, 49, ..., 10,  0,  0], dtype=uint8), array([92, 93, 91, ..., 16, 22, 23], dtype=uint8), array([0, 0, 0, ..., 0, 0, 0], dtype=uint8), array([ 0,  0,  0, ..., 36,  0,  0], dtype=uint8), array([17, 12, 42, ..., 31, 32, 33], dtype=uint8), array([0, 0, 0, ..., 0, 0, 0], dtype=uint8), array([ 90,  73,  75, ..., 154,  69,   6], dtype=uint8), array([193, 185, 176, ..., 114,  58,   5], dtype=uint8), array([0, 0, 0, ..., 0, 0, 0], dtype=uint8), array([45, 47, 54, ..., 29, 35, 36], dtype=uint8), array([140, 178, 178, ...,   0,   1,   1], dtype=uint8), array([  9,   6,   6, ...,  98, 109, 119], dtype=uint8), array([40, 37, 40, ..., 32, 32, 32], dtype=uint8), array([ 0,  1, 11, ..., 30, 13,  0], dtype=uint8), array([103, 114, 255, ...,  82,  96,  43], dtype=uint8), array([0, 0, 0, ..., 0, 0, 0], dtype=uint8), array([151, 160, 168, ...,   0,   0,   0], dtype=uint8), array([137, 139, 140, ..., 194, 176, 161], dtype=uint8), array([  1,  68,  82, ..., 135,  85,   0], dtype=uint8), array([ 87,  96, 100, ...,   0,   1,   1], dtype=uint8), array([0, 0, 1, ..., 0, 0, 2], dtype=uint8), array([114,  62,  73, ...,  13,   0,   0], dtype=uint8), array([33, 34, 33, ..., 24, 39, 25], dtype=uint8), array([ 0, 12, 20, ..., 42, 15,  0], dtype=uint8), array([108, 139, 130, ..., 143, 121, 120], dtype=uint8), array([109, 103,  96, ...,  15,  30,  83], dtype=uint8), array([110,  25,  56, ...,   0,   0,   0], dtype=uint8), array([19, 61, 85, ...,  0,  0,  0], dtype=uint8), array([ 9, 27, 50, ...,  0,  0,  0], dtype=uint8), array([  1,   1,   1, ..., 209, 202, 203], dtype=uint8), array([25, 30, 80, ...,  4,  4,  4], dtype=uint8), array([ 89, 100, 143, ...,   0,   0,   0], dtype=uint8), array([48, 53, 55, ..., 53, 44, 29], dtype=uint8), array([52, 58, 89, ...,  1,  0,  0], dtype=uint8), array([  0,   0,   0, ..., 130, 120, 106], dtype=uint8), array([57, 17, 83, ..., 52, 13,  0], dtype=uint8), array([ 86, 143, 142, ...,   0,   0,   0], dtype=uint8), array([ 0,  0,  0, ..., 84, 68, 34], dtype=uint8), array([ 0,  4, 22, ...,  0,  0,  0], dtype=uint8), array([77, 77, 81, ..., 46,  1,  0], dtype=uint8), array([52, 47, 52, ..., 61,  2,  0], dtype=uint8), array([0, 0, 0, ..., 0, 0, 0], dtype=uint8), array([ 54,  67,  68, ..., 113,  98,  97], dtype=uint8), array([44, 46, 53, ..., 79, 24,  0], dtype=uint8), array([0, 0, 0, ..., 0, 0, 0], dtype=uint8), array([ 0,  2, 22, ...,  0,  0,  0], dtype=uint8), array([71, 86, 87, ...,  0,  0,  0], dtype=uint8), array([  0,   0,  13, ..., 111,  56,   0], dtype=uint8), array([55, 69, 71, ..., 10,  0,  0], dtype=uint8), array([142,  21,  29, ...,  20,  30,  37], dtype=uint8), array([28, 42, 43, ...,  0,  0,  0], dtype=uint8), array([69, 69, 72, ..., 65, 65, 65], dtype=uint8), array([ 7, 40, 67, ..., 22,  0,  0], dtype=uint8), array([188, 189, 191, ..., 140, 133, 126], dtype=uint8), array([83, 88, 92, ..., 12,  0,  0], dtype=uint8), array([40, 51, 66, ..., 12, 13, 13], dtype=uint8), array([16, 73, 78, ...,  0,  0,  0], dtype=uint8), array([ 3, 24, 41, ..., 99,  1,  0], dtype=uint8), array([ 57,  78,  90, ..., 120,  68,  17], dtype=uint8), array([72, 68, 74, ...,  0,  0,  0], dtype=uint8), array([ 0, 15, 31, ...,  0,  0,  0], dtype=uint8), array([ 0, 10, 19, ..., 27,  0,  0], dtype=uint8), array([111, 112, 101, ..., 138, 133,  57], dtype=uint8), array([136, 157, 220, ...,  30,   1,   0], dtype=uint8), array([ 44,  72, 137, ...,   0,   0,   2], dtype=uint8), array([0, 0, 0, ..., 0, 0, 0], dtype=uint8), array([110, 113, 110, ...,   0,   0,   0], dtype=uint8), array([0, 0, 8, ..., 0, 0, 0], dtype=uint8), array([217, 208, 203, ...,  30,  30,  29], dtype=uint8), array([56, 84, 92, ..., 39,  0,  0], dtype=uint8), array([0, 0, 0, ..., 0, 0, 0], dtype=uint8), array([128, 177, 165, ...,  24,   0,   0], dtype=uint8), array([0, 0, 0, ..., 0, 0, 0], dtype=uint8), array([0, 0, 0, ..., 0, 0, 0], dtype=uint8), array([25, 31, 26, ..., 12, 15, 12], dtype=uint8), array([46, 47, 66, ...,  0,  0,  0], dtype=uint8), array([ 3, 72, 63, ..., 31, 31, 31], dtype=uint8), array([0, 0, 0, ..., 0, 0, 0], dtype=uint8), array([ 75, 100, 120, ...,   0,   0,   0], dtype=uint8), array([80, 89, 94, ...,  0,  0,  0], dtype=uint8), array([12, 31, 56, ..., 14, 16, 22], dtype=uint8), array([133, 143, 147, ..., 101,  69,  52], dtype=uint8), array([ 85,  91, 150, ...,   0,   0,   0], dtype=uint8), array([ 95,  90, 100, ...,   0,   0,   0], dtype=uint8), array([3, 3, 3, ..., 3, 4, 3], dtype=uint8), array([0, 0, 0, ..., 0, 0, 0], dtype=uint8), array([30, 53, 71, ...,  0,  0,  0], dtype=uint8), array([176, 168, 165, ...,  32,  34,  34], dtype=uint8), array([ 58,  46, 137, ...,  88, 126,  69], dtype=uint8), array([36, 38, 46, ..., 14,  0,  0], dtype=uint8), array([16, 64, 98, ...,  6,  9, 10], dtype=uint8), array([ 3,  8, 34, ...,  1,  1,  1], dtype=uint8), array([0, 0, 0, ..., 0, 0, 0], dtype=uint8), array([ 0, 25, 47, ...,  0,  0,  0], dtype=uint8), array([1, 1, 1, ..., 1, 1, 1], dtype=uint8), array([ 0,  0,  0, ..., 44, 15,  0], dtype=uint8), array([20, 20, 24, ...,  7,  0,  0], dtype=uint8), array([ 89, 177, 132, ...,   0,   0,   0], dtype=uint8), array([ 49, 117,  94, ..., 166, 127, 117], dtype=uint8), array([55, 73, 87, ...,  0,  0,  0], dtype=uint8), array([  0,   0,   0, ..., 106, 141, 190], dtype=uint8), array([184,  10,  19, ..., 241, 236, 233], dtype=uint8), array([72, 89, 96, ...,  2,  3,  7], dtype=uint8), array([0, 0, 0, ..., 0, 0, 0], dtype=uint8), array([ 1,  1,  1, ..., 89, 57, 37], dtype=uint8), array([110, 119, 124, ..., 100,  59,  46], dtype=uint8), array([58, 84, 97, ..., 63,  5,  0], dtype=uint8), array([38, 48, 54, ..., 61, 39, 13], dtype=uint8), array([37, 47, 63, ..., 21, 22, 22], dtype=uint8), array([0, 0, 0, ..., 0, 0, 0], dtype=uint8), array([31, 36, 49, ...,  0,  0,  0], dtype=uint8), array([ 9, 18, 28, ...,  0,  0,  0], dtype=uint8), array([ 95,  98, 114, ...,  70,  30,   0], dtype=uint8), array([ 84,  73,  91, ..., 156,  34,   0], dtype=uint8), array([62, 65, 94, ..., 89, 77, 62], dtype=uint8), array([39, 44, 57, ...,  2, 13, 15], dtype=uint8), array([100, 104, 106, ..., 144, 122,  97], dtype=uint8), array([ 3, 19, 30, ...,  0,  0,  0], dtype=uint8), array([47, 56, 51, ...,  0,  0,  0], dtype=uint8), array([  9,   9, 189, ...,   8,   8,   8], dtype=uint8), array([ 0,  1, 32, ...,  0,  0,  0], dtype=uint8), array([0, 0, 0, ..., 0, 0, 0], dtype=uint8), array([77, 94, 96, ..., 12,  4, 13], dtype=uint8), array([60, 81, 91, ...,  0,  1,  0], dtype=uint8), array([ 0, 91, 63, ...,  0,  0,  0], dtype=uint8), array([14, 28, 39, ..., 20,  0,  0], dtype=uint8), array([45, 55, 62, ...,  0,  0,  0], dtype=uint8), array([ 60,  59,  68, ..., 157, 123,  83], dtype=uint8), array([ 59,  84, 159, ...,  30,   0,   0], dtype=uint8), array([0, 0, 0, ..., 0, 0, 0], dtype=uint8), array([25, 56, 67, ...,  0,  0,  0], dtype=uint8), array([ 0, 15, 58, ...,  0,  0,  0], dtype=uint8), array([ 90, 101, 102, ...,   0,   0,   0], dtype=uint8), array([32, 75, 67, ...,  0,  0,  0], dtype=uint8), array([63, 74, 83, ...,  9,  9,  9], dtype=uint8), array([ 0,  0, 16, ...,  0,  0,  0], dtype=uint8), array([0, 0, 2, ..., 0, 1, 1], dtype=uint8), array([31, 58, 90, ..., 34,  0,  0], dtype=uint8), array([4, 5, 5, ..., 4, 5, 5], dtype=uint8), array([60, 80, 96, ...,  0,  0,  0], dtype=uint8), array([53, 53, 56, ..., 12, 18, 18], dtype=uint8), array([20, 19, 15, ..., 19, 19, 19], dtype=uint8), array([12,  7, 40, ..., 12, 13, 14], dtype=uint8), array([41, 59, 76, ...,  0,  0,  0], dtype=uint8), array([24, 12,  4, ...,  0,  0,  0], dtype=uint8), array([134, 115, 111, ...,   0,   0,   0], dtype=uint8), array([41, 55, 66, ...,  0,  0,  0], dtype=uint8), array([52, 52, 43, ..., 36,  0,  0], dtype=uint8), array([ 83, 104, 106, ...,   0,   0,   0], dtype=uint8), array([183, 195, 195, ..., 116,  55,   2], dtype=uint8), array([11, 17, 16, ..., 21,  0,  0], dtype=uint8), array([19, 14, 41, ..., 27, 28, 28], dtype=uint8), array([4, 4, 3, ..., 1, 2, 4], dtype=uint8), array([ 0, 27, 45, ...,  0,  0,  0], dtype=uint8), array([ 1, 33, 55, ...,  0,  0,  0], dtype=uint8), array([24, 45, 90, ...,  2,  2,  2], dtype=uint8), array([150, 146, 162, ..., 147, 101,  40], dtype=uint8), array([68, 75, 74, ...,  0,  0,  0], dtype=uint8), array([ 94, 107, 254, ...,   0,   0,   0], dtype=uint8), array([ 0, 13, 28, ..., 70,  3,  0], dtype=uint8), array([92, 95, 98, ...,  0,  0,  0], dtype=uint8), array([0, 0, 0, ..., 0, 0, 0], dtype=uint8), array([25, 49, 69, ..., 73, 30,  1], dtype=uint8), array([ 0,  4, 34, ...,  0,  0,  0], dtype=uint8), array([  2, 254,  30, ...,   0,   0,   0], dtype=uint8), array([ 70,  71, 249, ..., 150, 119,  47], dtype=uint8), array([114, 149, 165, ..., 109,  44,   0], dtype=uint8), array([ 0,  4, 26, ...,  0,  0,  0], dtype=uint8), array([ 94, 129, 143, ...,   0,   0,   0], dtype=uint8), array([205, 214, 218, ...,   0,   0,   0], dtype=uint8), array([ 0,  7, 12, ...,  4,  0,  0], dtype=uint8), array([ 1, 57, 66, ..., 27, 33, 44], dtype=uint8), array([10, 10, 10, ..., 10,  9, 10], dtype=uint8), array([0, 0, 0, ..., 0, 0, 0], dtype=uint8), array([  5,   4,   4, ..., 181, 187, 172], dtype=uint8), array([27, 47, 61, ...,  0,  0,  0], dtype=uint8), array([173,   2,   5, ...,   0,   0,   0], dtype=uint8), array([57, 82, 89, ..., 18, 19, 20], dtype=uint8), array([0, 0, 0, ..., 6, 0, 0], dtype=uint8), array([ 71,  91, 129, ...,  18,   0,   0], dtype=uint8), array([ 0,  0, 12, ...,  1,  1,  1], dtype=uint8), array([ 0,  8, 17, ...,  0,  0,  0], dtype=uint8), array([33, 67, 85, ...,  0,  0,  0], dtype=uint8), array([42, 59, 84, ..., 23,  0,  0], dtype=uint8), array([ 3, 11,  5, ..., 15,  4,  1], dtype=uint8), array([116, 106, 114, ...,  20,   0,   0], dtype=uint8), array([ 1, 27, 46, ...,  0,  0,  0], dtype=uint8), array([65, 68, 68, ..., 28, 31, 32], dtype=uint8), array([0, 0, 0, ..., 0, 0, 0], dtype=uint8), array([ 0, 14, 26, ..., 26,  4,  0], dtype=uint8), array([18, 31, 34, ...,  0,  0,  0], dtype=uint8), array([ 0, 16, 50, ..., 33,  0,  0], dtype=uint8), array([133, 133, 142, ...,   0,   0,   0], dtype=uint8), array([ 81,  92, 104, ...,   0,   0,   0], dtype=uint8), array([246, 183,  18, ...,   0,   0,   0], dtype=uint8), array([ 85,  83, 119, ..., 154, 134,  83], dtype=uint8), array([ 75,  91, 100, ...,  12,   0,   0], dtype=uint8), array([61, 64, 67, ..., 69, 22, 22], dtype=uint8), array([45, 54, 60, ...,  0,  0,  0], dtype=uint8), array([122, 134, 140, ...,  45,   0,   0], dtype=uint8), array([ 51,  50,  45, ..., 167, 157, 151], dtype=uint8), array([12, 20, 55, ...,  0,  0,  0], dtype=uint8), array([ 0,  7, 28, ...,  0,  0,  0], dtype=uint8), array([100, 113, 123, ...,   0,   0,   0], dtype=uint8), array([ 17,  15,  36, ..., 164, 117,  78], dtype=uint8), array([  1,   1,   0, ..., 132, 125, 103], dtype=uint8), array([150, 161, 184, ...,   0,   0,   0], dtype=uint8), array([ 87, 119, 134, ...,   0,   0,   0], dtype=uint8), array([ 0,  1, 19, ...,  9,  8,  7], dtype=uint8), array([ 62,  86, 112, ...,  21,  23,  26], dtype=uint8), array([41, 58, 66, ...,  0,  0,  0], dtype=uint8), array([  0, 251, 185, ...,   0,   0,   0], dtype=uint8), array([ 0,  0, 16, ..., 67,  4,  0], dtype=uint8), array([ 0, 41, 82, ..., 55, 16,  0], dtype=uint8), array([ 58,  51,  44, ..., 118,  30,   0], dtype=uint8), array([ 0,  9, 23, ...,  0,  0,  0], dtype=uint8), array([ 92,  87, 140, ...,   0,   0,   0], dtype=uint8), array([ 72,  97, 105, ...,   2,   3,   3], dtype=uint8), array([158, 119, 101, ...,   8,   7,   5], dtype=uint8), array([219,  79,  75, ...,   0,   0,   0], dtype=uint8), array([ 0, 15,  0, ...,  0,  0,  0], dtype=uint8), array([17, 15,  9, ..., 73, 23, 49], dtype=uint8), array([ 0,  7, 46, ...,  0,  0,  0], dtype=uint8), array([215, 186, 206, ...,  63,   0,   0], dtype=uint8), array([ 20,  34, 193, ...,   0,   0,   0], dtype=uint8), array([36, 49, 72, ...,  3,  3,  4], dtype=uint8), array([ 81,  85, 154, ...,   0,   0,   0], dtype=uint8), array([87, 66, 27, ...,  0,  0,  0], dtype=uint8), array([ 53,  87, 108, ...,   0,   0,   0], dtype=uint8), array([43, 60, 69, ...,  0,  0,  0], dtype=uint8), array([ 0,  0, 11, ..., 10,  0,  0], dtype=uint8), array([82, 85, 69, ..., 41,  1,  5], dtype=uint8), array([ 0, 23, 59, ...,  0,  0,  0], dtype=uint8), array([ 60,  54,  38, ..., 138, 110,  41], dtype=uint8), array([ 91, 108, 114, ...,  76,  55,  23], dtype=uint8), array([ 53, 125, 114, ...,   9,   0,   0], dtype=uint8), array([ 0, 19, 45, ...,  0,  0,  0], dtype=uint8), array([139, 120, 108, ..., 179, 172, 158], dtype=uint8), array([ 0, 19, 46, ...,  0,  0,  0], dtype=uint8), array([22, 12, 13, ..., 17,  0,  0], dtype=uint8), array([ 39,  64, 167, ...,   0,   7,  31], dtype=uint8), array([117, 116, 105, ...,  26,   0,   0], dtype=uint8), array([101,  57, 114, ...,  43,  24,   0], dtype=uint8), array([0, 0, 0, ..., 0, 0, 0], dtype=uint8), array([ 0,  2, 31, ...,  3,  3,  5], dtype=uint8), array([10, 26, 24, ...,  8, 10, 11], dtype=uint8), array([255, 252,   0, ...,  49,   1,   0], dtype=uint8), array([38, 30, 36, ...,  0,  0,  0], dtype=uint8), array([0, 3, 3, ..., 0, 0, 0], dtype=uint8), array([30, 47, 60, ..., 19, 19, 35], dtype=uint8), array([ 2, 54, 61, ..., 20, 33, 26], dtype=uint8), array([32, 37, 42, ..., 32,  2,  7], dtype=uint8), array([60, 78, 93, ...,  0,  0,  0], dtype=uint8), array([ 41, 102,  98, ..., 126, 137,  73], dtype=uint8), array([117, 129, 138, ..., 145, 105,  74], dtype=uint8), array([39, 62, 78, ..., 17,  0,  0], dtype=uint8), array([79, 64, 80, ...,  0,  0,  0], dtype=uint8), array([ 52, 154, 113, ...,  27,   0,   0], dtype=uint8), array([146, 163, 180, ...,   0,   1,   1], dtype=uint8), array([34, 38, 45, ...,  9,  0,  0], dtype=uint8), array([ 76, 124, 126, ...,  54,  20,   0], dtype=uint8), array([48, 59, 58, ...,  0,  0,  0], dtype=uint8), array([46, 56, 79, ...,  3,  0,  0], dtype=uint8), array([177, 138, 135, ...,   0,   0,   0], dtype=uint8), array([0, 0, 0, ..., 0, 0, 0], dtype=uint8), array([  3,   2,   2, ..., 165, 174, 144], dtype=uint8), array([  1, 105, 114, ...,  39,  14,   9], dtype=uint8), array([  2,   0,   0, ..., 118, 100,  79], dtype=uint8), array([0, 0, 0, ..., 0, 0, 0], dtype=uint8), array([ 6, 19, 38, ...,  0,  0,  0], dtype=uint8), array([  9, 255, 252, ...,   0,   0,   0], dtype=uint8), array([ 6, 20, 29, ..., 34, 26, 12], dtype=uint8), array([0, 0, 1, ..., 0, 0, 0], dtype=uint8), array([ 97,  95, 100, ...,   0,   0,   0], dtype=uint8), array([ 0, 23, 44, ...,  0,  0,  0], dtype=uint8), array([49, 58, 71, ...,  0,  0,  0], dtype=uint8), array([ 1, 57, 58, ..., 31, 29, 32], dtype=uint8), array([ 41,  49,  56, ...,  27,  60, 157], dtype=uint8), array([ 0, 42, 52, ..., 36, 36, 38], dtype=uint8), array([6, 6, 5, ..., 6, 8, 7], dtype=uint8), array([ 79, 122, 140, ...,   1,   0,   0], dtype=uint8), array([26, 35, 57, ...,  0,  0,  0], dtype=uint8), array([38, 37, 97, ..., 81, 83, 83], dtype=uint8), array([ 3, 25, 29, ..., 40, 16,  0], dtype=uint8), array([24, 75, 65, ...,  4,  0,  0], dtype=uint8), array([ 0,  5, 11, ...,  0,  0,  0], dtype=uint8), array([52, 72, 88, ...,  0,  0,  0], dtype=uint8), array([ 30, 101, 124, ...,  34,   1,   0], dtype=uint8), array([0, 0, 1, ..., 0, 0, 0], dtype=uint8), array([51, 60, 64, ...,  0,  0,  0], dtype=uint8), array([61, 70, 79, ...,  0,  0,  0], dtype=uint8), array([19, 20, 24, ..., 59,  0,  0], dtype=uint8), array([ 83,  67, 148, ...,   0,   0,   0], dtype=uint8), array([53, 64, 71, ...,  0,  0,  0], dtype=uint8), array([25, 24, 23, ..., 27, 27, 28], dtype=uint8), array([15,  9,  7, ..., 29, 30, 33], dtype=uint8), array([133, 131, 135, ...,  72,  12,  32], dtype=uint8), array([ 86,  94, 102, ...,   0,   0,   0], dtype=uint8), array([ 47,  70,  75, ..., 105,  99,  46], dtype=uint8), array([  0,   0,   0, ..., 110,  21,   0], dtype=uint8), array([  0, 175, 170, ...,  10,  12,   0], dtype=uint8), array([ 0,  0,  4, ..., 32,  4,  0], dtype=uint8), array([ 51,  66, 114, ...,  28,   0,   0], dtype=uint8), array([255, 255, 255, ..., 234, 233, 230], dtype=uint8), array([60, 85, 93, ..., 24,  0,  0], dtype=uint8), array([ 6,  6,  6, ..., 10, 11, 11], dtype=uint8), array([ 81,  78,  88, ..., 138, 102,  71], dtype=uint8), array([81, 82, 88, ..., 31,  0,  0], dtype=uint8), array([59, 80, 96, ...,  0,  0,  0], dtype=uint8), array([ 0,  0, 23, ...,  2,  3,  3], dtype=uint8), array([ 0,  9, 34, ..., 58,  0,  0], dtype=uint8), array([52, 52, 52, ..., 52, 52, 52], dtype=uint8), array([24, 44, 52, ...,  0,  0,  0], dtype=uint8), array([56, 59, 64, ...,  0,  0,  0], dtype=uint8), array([ 0,  1, 12, ...,  0,  0,  0], dtype=uint8), array([0, 0, 3, ..., 0, 0, 0], dtype=uint8), array([186, 197, 223, ...,   0,   0,   0], dtype=uint8), array([93, 99, 96, ...,  0,  0,  0], dtype=uint8), array([ 58,  68,  73, ..., 125, 116, 100], dtype=uint8), array([205,  99,  79, ...,   0,   0,   0], dtype=uint8), array([12, 38, 54, ...,  0,  0,  0], dtype=uint8), array([ 49,  81,  89, ..., 201, 201, 211], dtype=uint8), array([112, 117, 121, ..., 126, 108,  91], dtype=uint8), array([ 91, 101, 108, ..., 137,  50,   2], dtype=uint8), array([45, 52, 58, ...,  0,  0,  0], dtype=uint8), array([202, 156,  54, ...,  33,  34,  34], dtype=uint8), array([34, 47, 62, ..., 15,  0,  0], dtype=uint8), array([0, 0, 1, ..., 0, 0, 0], dtype=uint8), array([43, 72, 84, ...,  0,  0,  0], dtype=uint8), array([59, 23, 28, ...,  7, 12, 13], dtype=uint8), array([51, 61, 69, ...,  5, 11, 15], dtype=uint8), array([33, 35, 37, ...,  0,  0,  0], dtype=uint8), array([ 0,  9, 13, ...,  0,  0,  0], dtype=uint8), array([ 4, 32, 42, ..., 14,  0,  0], dtype=uint8), array([ 0, 12, 42, ...,  0,  0,  3], dtype=uint8), array([109, 115, 143, ..., 168,  83,  34], dtype=uint8), array([ 0,  2, 16, ..., 43, 18,  0], dtype=uint8), array([ 4, 26, 57, ..., 29,  0,  0], dtype=uint8), array([ 50,  75,  77, ..., 137, 134, 112], dtype=uint8), array([110, 104,  92, ...,  91,  69,  43], dtype=uint8), array([121,   7,   0, ...,   0,   0,   0], dtype=uint8), array([39, 53, 66, ...,  0,  0,  0], dtype=uint8), array([ 0, 11, 19, ...,  7,  7,  7], dtype=uint8), array([63, 67, 72, ..., 57, 26, 30], dtype=uint8), array([0, 0, 0, ..., 0, 0, 0], dtype=uint8), array([12, 26, 51, ...,  1,  1,  9], dtype=uint8), array([58, 54, 51, ..., 59, 52, 16], dtype=uint8), array([ 72, 105, 122, ..., 225, 234, 243], dtype=uint8), array([119, 104, 115, ...,  38,   0,   0], dtype=uint8), array([ 2, 40, 74, ..., 55, 59, 56], dtype=uint8), array([5, 3, 1, ..., 0, 0, 0], dtype=uint8), array([ 1,  8, 17, ...,  0,  0,  0], dtype=uint8), array([155, 141, 142, ..., 166, 168, 131], dtype=uint8), array([108,  54,  72, ...,   0,   0,   0], dtype=uint8), array([131, 132, 149, ...,   0,   0,   0], dtype=uint8), array([ 31,  10, 219, ...,   3,   4,   5], dtype=uint8), array([0, 0, 6, ..., 0, 0, 0], dtype=uint8), array([ 84, 101, 113, ...,   0,   0,   0], dtype=uint8), array([ 0, 11, 14, ..., 17, 22, 27], dtype=uint8), array([ 70, 171,  84, ...,  96,  72,  35], dtype=uint8), array([82, 85, 86, ..., 19, 22, 23], dtype=uint8), array([0, 0, 0, ..., 0, 0, 0], dtype=uint8), array([  0, 143, 155, ..., 162, 158,   0], dtype=uint8), array([122, 105,  39, ...,  28,  29,  31], dtype=uint8), array([ 6, 48, 81, ...,  7,  0,  0], dtype=uint8), array([0, 0, 0, ..., 0, 0, 0], dtype=uint8), array([142, 156, 114, ...,   5,   0,   0], dtype=uint8), array([255, 255, 255, ..., 255, 255, 255], dtype=uint8), array([100, 104, 121, ...,  96,  71,  61], dtype=uint8), array([127, 196, 167, ...,   0,   0,   0], dtype=uint8), array([1, 1, 1, ..., 1, 1, 1], dtype=uint8), array([ 0,  0, 18, ...,  8,  7, 10], dtype=uint8), array([14, 30, 44, ..., 78, 50, 38], dtype=uint8), array([63, 45, 45, ..., 17,  0,  0], dtype=uint8), array([162,  15,  15, ...,   0,   0,   0], dtype=uint8), array([11, 11, 49, ..., 12, 13, 13], dtype=uint8), array([56, 61, 70, ..., 36, 38, 41], dtype=uint8), array([146, 152, 169, ...,   0,   0,   0], dtype=uint8), array([63, 53, 52, ...,  0,  0,  0], dtype=uint8), array([53, 54, 62, ..., 24, 25, 26], dtype=uint8), array([2, 3, 9, ..., 7, 0, 0], dtype=uint8), array([255, 255, 255, ...,  62,  22,   0], dtype=uint8), array([ 48,  90,  90, ..., 145,  76,   1], dtype=uint8), array([ 0,  0, 31, ...,  0,  0,  0], dtype=uint8), array([66, 57, 50, ..., 48,  0,  0], dtype=uint8), array([  8, 125,  16, ...,   0,   0,   0], dtype=uint8), array([34, 25, 80, ...,  0,  0, 29], dtype=uint8), array([41, 41, 46, ..., 17, 21, 22], dtype=uint8), array([85, 68, 54, ...,  0,  0,  0], dtype=uint8), array([86, 92, 67, ..., 32, 15, 23], dtype=uint8), array([ 0,  0,  0, ..., 12,  0,  0], dtype=uint8), array([29, 61, 62, ..., 30, 31, 38], dtype=uint8), array([0, 0, 3, ..., 0, 0, 0], dtype=uint8), array([ 0, 26, 49, ...,  0,  0,  0], dtype=uint8), array([16, 30, 35, ...,  2,  6,  8], dtype=uint8), array([ 0, 19, 58, ..., 22,  0,  0], dtype=uint8), array([146, 127, 127, ..., 153, 127, 159], dtype=uint8), array([ 82, 174, 117, ...,   0,   0,   0], dtype=uint8), array([  0,   0,   0, ..., 155, 119, 122], dtype=uint8), array([ 7, 26, 57, ...,  0,  0,  0], dtype=uint8), array([94, 71, 76, ..., 90, 45, 25], dtype=uint8), array([62, 78, 45, ..., 57, 68, 64], dtype=uint8), array([30, 47, 56, ...,  9, 10, 15], dtype=uint8), array([ 8,  7,  7, ..., 40,  7,  2], dtype=uint8), array([ 0, 30, 19, ..., 13,  0,  0], dtype=uint8), array([30, 63, 82, ...,  0,  0,  0], dtype=uint8), array([ 0,  0,  0, ..., 50,  0,  0], dtype=uint8), array([ 0, 19, 47, ...,  0,  0,  0], dtype=uint8), array([30, 28, 17, ..., 14,  9, 89], dtype=uint8), array([35, 41, 44, ..., 40, 26,  7], dtype=uint8), array([ 48,  72,  73, ..., 239, 238, 247], dtype=uint8), array([  0, 107,   1, ..., 124,  48,   0], dtype=uint8), array([ 80, 156, 152, ...,   0,   0,   0], dtype=uint8), array([ 6,  6,  6, ..., 55, 70, 56], dtype=uint8), array([ 0,  0, 12, ...,  0,  0,  0], dtype=uint8), array([ 0,  3, 32, ...,  0,  0,  0], dtype=uint8), array([ 0,  0, 17, ...,  0,  0,  0], dtype=uint8), array([0, 0, 0, ..., 0, 0, 0], dtype=uint8), array([133, 130, 124, ...,   0,   0,   0], dtype=uint8), array([ 0, 23, 50, ...,  0,  0,  0], dtype=uint8), array([11,  4,  1, ..., 83, 50,  1], dtype=uint8), array([252, 249,  42, ...,  80,   4,   0], dtype=uint8), array([ 0,  0, 38, ...,  0,  0,  0], dtype=uint8), array([51, 82, 96, ...,  0,  1,  2], dtype=uint8), array([28, 39, 44, ...,  0,  0,  0], dtype=uint8), array([53, 80, 95, ...,  0,  0,  0], dtype=uint8), array([0, 0, 0, ..., 0, 0, 0], dtype=uint8), array([101, 111, 140, ...,   8,   0,   0], dtype=uint8), array([65, 71, 75, ..., 25, 35, 28], dtype=uint8), array([238, 201, 175, ...,  19,   0,   0], dtype=uint8), array([ 9,  9, 11, ...,  0,  0,  0], dtype=uint8), array([35, 40, 47, ..., 72, 49, 21], dtype=uint8), array([14, 18, 97, ...,  4,  5,  7], dtype=uint8), array([  0,   5, 232, ...,  78,  14,   5], dtype=uint8), array([48, 74, 90, ...,  0,  0,  0], dtype=uint8), array([ 3,  8, 29, ...,  0,  0,  5], dtype=uint8), array([0, 0, 0, ..., 0, 0, 0], dtype=uint8), array([58, 61, 86, ...,  0,  0,  0], dtype=uint8), array([83, 97, 86, ..., 27, 28, 28], dtype=uint8), array([132, 135, 144, ...,  19,   0,   0], dtype=uint8), array([ 0,  1, 30, ...,  0,  0,  0], dtype=uint8), array([0, 0, 0, ..., 0, 0, 0], dtype=uint8), array([75, 51, 62, ...,  0,  0,  0], dtype=uint8), array([75, 85, 98, ..., 21,  0,  0], dtype=uint8), array([ 0, 32, 51, ...,  0,  0,  0], dtype=uint8), array([ 1, 15, 37, ...,  0,  0,  0], dtype=uint8), array([185, 180, 163, ...,  17,  15,  13], dtype=uint8), array([ 1, 13, 19, ...,  0,  0,  0], dtype=uint8), array([22, 43, 57, ..., 52,  1,  0], dtype=uint8), array([35, 30, 34, ...,  0,  0,  0], dtype=uint8), array([ 21,  33, 140, ...,  18,  23,  30], dtype=uint8), array([0, 0, 0, ..., 0, 0, 0], dtype=uint8), array([0, 4, 8, ..., 0, 0, 0], dtype=uint8), array([15, 35, 42, ..., 20, 22, 23], dtype=uint8), array([ 90, 104, 114, ...,   0,   0,   1], dtype=uint8), array([60, 76, 87, ...,  0,  0,  0], dtype=uint8), array([ 2, 23,  8, ...,  2,  0,  0], dtype=uint8), array([ 72,  91, 106, ...,   0,   0,   0], dtype=uint8), array([0, 0, 0, ..., 0, 0, 0], dtype=uint8), array([ 6,  6,  6, ...,  8,  8, 10], dtype=uint8), array([252, 229,  69, ..., 180, 154,  46], dtype=uint8), array([87,  7,  0, ...,  0,  0,  0], dtype=uint8), array([19, 17, 15, ...,  0,  3,  3], dtype=uint8), array([ 53,  77,  84, ..., 149,  33,   0], dtype=uint8), array([12, 29, 52, ...,  0,  0,  0], dtype=uint8), array([40, 38, 34, ..., 32, 36, 35], dtype=uint8), array([ 63,  93, 102, ...,  32,   0,   0], dtype=uint8), array([ 0, 13, 32, ..., 22,  0,  0], dtype=uint8), array([128, 120, 128, ...,  97,  46,  33], dtype=uint8), array([ 99, 114, 121, ...,   0,   0,   0], dtype=uint8), array([66, 71, 69, ..., 39,  0,  0], dtype=uint8), array([77, 81, 87, ...,  0,  0,  1], dtype=uint8), array([36, 37, 37, ..., 19, 20, 29], dtype=uint8), array([23, 41, 46, ...,  0,  0,  0], dtype=uint8), array([63, 75, 82, ..., 32,  0,  0], dtype=uint8), array([24, 22, 35, ..., 56, 23, 22], dtype=uint8), array([0, 0, 9, ..., 0, 0, 0], dtype=uint8), array([69, 74, 73, ..., 33,  0,  0], dtype=uint8), array([ 3,  3,  4, ..., 10, 10, 11], dtype=uint8), array([204, 199,  35, ...,  18,  20,  20], dtype=uint8), array([13, 37, 62, ...,  0,  0,  0], dtype=uint8), array([179, 185, 163, ...,   0,   0,   0], dtype=uint8), array([3, 4, 4, ..., 5, 5, 6], dtype=uint8), array([40, 58, 43, ..., 51, 55, 56], dtype=uint8), array([ 1,  1,  3, ..., 66, 57, 43], dtype=uint8), array([11, 10,  8, ..., 10, 11, 14], dtype=uint8), array([0, 0, 0, ..., 0, 0, 0], dtype=uint8), array([ 2, 76, 83, ...,  0,  0,  0], dtype=uint8), array([182, 172, 171, ...,  66,  35,  12], dtype=uint8), array([  2,   3, 208, ...,   0,   0,   0], dtype=uint8), array([27, 36, 41, ...,  0,  0,  0], dtype=uint8), array([255, 255, 255, ...,   0,   0,   0], dtype=uint8), array([113, 130,  69, ...,   0,   0,   0], dtype=uint8), array([ 0,  5, 15, ...,  3,  0,  0], dtype=uint8), array([122, 121, 131, ...,  10,   0,   0], dtype=uint8), array([ 95, 105, 166, ...,   0,   0,   0], dtype=uint8), array([0, 0, 0, ..., 0, 0, 0], dtype=uint8), array([69, 73, 87, ..., 28,  0,  0], dtype=uint8), array([235, 131, 125, ...,  10,  16,  12], dtype=uint8), array([ 0,  0,  0, ..., 54,  0,  0], dtype=uint8), array([17, 37, 42, ...,  0,  0,  0], dtype=uint8), array([ 6, 16, 26, ...,  0,  0,  0], dtype=uint8), array([48, 48, 85, ..., 61, 41, 30], dtype=uint8), array([ 1,  2, 53, ...,  0,  0,  0], dtype=uint8), array([ 88, 125,  59, ...,   0,   0,   0], dtype=uint8), array([89, 86, 88, ...,  0,  0,  0], dtype=uint8), array([0, 0, 0, ..., 0, 0, 0], dtype=uint8), array([ 47,  43,  56, ..., 102,  56,   0], dtype=uint8), array([ 4,  3,  3, ..., 48, 35,  1], dtype=uint8), array([112,  99, 106, ...,  91,  65,  17], dtype=uint8), array([11, 23, 25, ...,  0,  0,  0], dtype=uint8), array([ 0,  9, 36, ...,  0,  0,  0], dtype=uint8), array([ 4, 28, 58, ...,  0,  0,  0], dtype=uint8), array([152, 157, 239, ...,  94,   0,   0], dtype=uint8), array([ 0, 12, 14, ...,  0,  0,  0], dtype=uint8), array([ 89,  95, 143, ...,   0,   0,   0], dtype=uint8), array([63, 72, 64, ..., 26, 30, 32], dtype=uint8), array([0, 0, 1, ..., 0, 0, 0], dtype=uint8), array([79, 70, 53, ...,  0,  0,  0], dtype=uint8), array([69,  7,  3, ...,  0,  0,  2], dtype=uint8), array([ 0, 27, 43, ...,  0,  0,  0], dtype=uint8), array([27, 27, 35, ...,  0,  0,  0], dtype=uint8), array([49,  6, 10, ...,  0,  0,  0], dtype=uint8), array([12, 21, 27, ..., 99, 40,  9], dtype=uint8), array([81, 89, 94, ...,  0,  0,  0], dtype=uint8), array([0, 0, 0, ..., 0, 0, 0], dtype=uint8), array([63, 79, 87, ...,  0,  0,  0], dtype=uint8), array([16, 20, 26, ..., 25,  5,  0], dtype=uint8), array([255, 255, 255, ...,  94, 188, 255], dtype=uint8), array([1, 1, 1, ..., 0, 0, 0], dtype=uint8), array([ 1,  1,  1, ...,  0,  4, 18], dtype=uint8), array([22, 28, 30, ...,  3,  5,  5], dtype=uint8), array([41, 46, 46, ..., 48, 22,  3], dtype=uint8), array([37, 43, 48, ..., 11,  0,  0], dtype=uint8), array([0, 0, 0, ..., 0, 0, 0], dtype=uint8), array([255, 255, 255, ...,   0,   0,   0], dtype=uint8), array([ 81,  79,  91, ..., 137,  51,  10], dtype=uint8), array([10, 26, 49, ...,  0,  0,  0], dtype=uint8), array([204, 188, 192, ...,  32,   0,   0], dtype=uint8), array([140,   5,   0, ...,   0,   0,   0], dtype=uint8), array([0, 0, 0, ..., 0, 0, 0], dtype=uint8), array([251, 254,   9, ...,   0,   0,   0], dtype=uint8), array([ 0, 17, 42, ...,  0,  0,  0], dtype=uint8), array([139, 101, 122, ..., 112, 110,  67], dtype=uint8), array([ 47,   5,  18, ..., 105, 126, 121], dtype=uint8), array([33, 29, 23, ...,  0,  0,  0], dtype=uint8), array([54, 67, 74, ...,  0,  0,  0], dtype=uint8), array([  2,  11, 185, ...,   0,   0,   0], dtype=uint8), array([ 0, 16, 18, ..., 16, 16,  0], dtype=uint8), array([ 84, 141, 128, ...,   1,   0,   0], dtype=uint8), array([ 99,  97, 156, ...,   0,   0,   0], dtype=uint8), array([136, 174, 176, ...,   1,   1,   4], dtype=uint8), array([163, 139,  95, ..., 113,  55,  22], dtype=uint8), array([1, 1, 0, ..., 0, 1, 0], dtype=uint8), array([0, 0, 0, ..., 0, 0, 0], dtype=uint8), array([100, 125,  97, ...,   0,   0,   0], dtype=uint8), array([180, 179, 179, ..., 123, 111, 103], dtype=uint8), array([28, 28, 29, ...,  0,  0,  0], dtype=uint8), array([134, 116, 112, ...,   0,   0,   0], dtype=uint8), array([ 56,  72,  94, ..., 232, 242, 244], dtype=uint8), array([ 3,  2,  0, ..., 34, 17, 20], dtype=uint8), array([32, 33, 36, ..., 39, 41, 44], dtype=uint8), array([ 0, 31, 59, ...,  0,  0,  0], dtype=uint8), array([45, 52, 58, ...,  0,  0,  3], dtype=uint8), array([ 6, 18, 19, ..., 21,  0,  1], dtype=uint8), array([0, 0, 0, ..., 0, 0, 1], dtype=uint8), array([56, 62, 90, ..., 30, 31, 34], dtype=uint8), array([106, 133, 142, ...,  20,  21,  24], dtype=uint8), array([ 1,  0,  7, ..., 18,  0,  0], dtype=uint8), array([161,   2,   2, ..., 163, 154, 137], dtype=uint8), array([132,  46,  64, ...,   2,   0,   1], dtype=uint8), array([ 2, 39, 57, ...,  1,  0,  0], dtype=uint8), array([2, 0, 0, ..., 1, 1, 4], dtype=uint8), array([0, 0, 0, ..., 0, 0, 0], dtype=uint8), array([ 81,  96, 102, ...,   0,   0,   0], dtype=uint8), array([  2,   2,   5, ..., 173, 150, 123], dtype=uint8), array([  2,   3,   3, ..., 185, 183, 173], dtype=uint8), array([ 8, 23, 42, ...,  9,  0,  0], dtype=uint8), array([0, 0, 0, ..., 0, 0, 0], dtype=uint8), array([ 0,  0, 39, ...,  0,  0,  0], dtype=uint8), array([106,  99, 172, ...,   0,   0,   0], dtype=uint8), array([38, 60, 81, ..., 41,  1,  0], dtype=uint8), array([ 51,  52,  72, ..., 104,  91,  81], dtype=uint8), array([  0,   0,   0, ..., 170,  79,   1], dtype=uint8), array([95, 94, 97, ..., 13,  0,  0], dtype=uint8), array([ 0, 16, 48, ...,  0,  0,  0], dtype=uint8), array([199, 159, 146, ...,  33,  33,  49], dtype=uint8), array([51, 54, 56, ..., 50, 34, 15], dtype=uint8), array([15, 14, 13, ...,  6,  8,  9], dtype=uint8), array([0, 0, 0, ..., 0, 0, 0], dtype=uint8), array([0, 0, 0, ..., 0, 0, 0], dtype=uint8), array([25, 26, 21, ..., 19, 21, 20], dtype=uint8), array([58, 48, 47, ...,  2, 15, 20], dtype=uint8), array([125, 125, 128, ...,   0,   0,   1], dtype=uint8), array([ 0,  0, 10, ...,  0,  0,  0], dtype=uint8), array([25, 25, 76, ...,  0,  0,  0], dtype=uint8), array([50, 70, 88, ...,  9, 14, 14], dtype=uint8), array([ 16,  19,  19, ..., 120,  73,   3], dtype=uint8), array([29, 29, 31, ..., 30,  0,  0], dtype=uint8), array([62, 49, 74, ...,  0,  0,  0], dtype=uint8), array([66, 72, 82, ...,  0,  0,  0], dtype=uint8), array([26, 53, 72, ...,  1,  1,  1], dtype=uint8), array([ 70,  78, 125, ..., 188, 115,  30], dtype=uint8), array([ 38,  78,  92, ..., 134, 104,  82], dtype=uint8), array([  1, 100, 109, ...,   1,   0,   0], dtype=uint8), array([ 80,  95, 111, ...,  39,   3,   0], dtype=uint8), array([18, 32, 47, ..., 74, 22,  0], dtype=uint8), array([40, 56, 61, ..., 57,  2,  0], dtype=uint8), array([  0,   0,   0, ..., 130, 120, 106], dtype=uint8), array([122,  92,  90, ...,   0,   0,   0], dtype=uint8), array([ 90,  89, 123, ..., 145, 127, 148], dtype=uint8), array([59, 81, 93, ...,  0,  0,  0], dtype=uint8), array([55, 72, 88, ..., 18, 19, 19], dtype=uint8), array([21, 50, 51, ..., 98, 33,  0], dtype=uint8), array([ 0, 30, 41, ...,  0,  0,  0], dtype=uint8), array([72, 66, 74, ..., 88, 47, 72], dtype=uint8), array([ 94,  96, 100, ...,   0,   0,   0], dtype=uint8), array([24, 54, 66, ..., 22,  0,  0], dtype=uint8), array([ 12,  12, 128, ...,  31,   9,   0], dtype=uint8), array([35, 22,  7, ...,  0,  0,  0], dtype=uint8), array([  1,   1,   2, ..., 106,  98,  89], dtype=uint8), array([ 94,  95, 100, ...,  66,  23,   0], dtype=uint8), array([ 62,  67,  63, ..., 104,  23,   0], dtype=uint8), array([193, 149, 142, ...,   0,   0,   0], dtype=uint8), array([ 6, 15, 19, ...,  0,  0,  0], dtype=uint8), array([ 74, 114, 142, ...,   0,   0,   0], dtype=uint8), array([171, 141, 152, ...,   0,   0,   0], dtype=uint8), array([106, 106, 140, ...,   6,   0,   0], dtype=uint8), array([141, 145, 117, ...,   0,   0,   0], dtype=uint8), array([13, 27, 37, ..., 42,  0,  0], dtype=uint8), array([  2,   1, 236, ...,   1,   1,   1], dtype=uint8), array([26, 31, 44, ..., 33, 10, 33], dtype=uint8), array([ 79, 106, 112, ...,   0,   0,   0], dtype=uint8), array([ 2, 14, 16, ...,  0,  0,  0], dtype=uint8), array([255, 251,  67, ...,   0,   0,   0], dtype=uint8), array([67, 71, 89, ...,  0,  0,  0], dtype=uint8), array([0, 0, 1, ..., 0, 0, 0], dtype=uint8), array([72, 74, 70, ...,  0,  0,  0], dtype=uint8), array([203, 205, 199, ...,   0,   0,   0], dtype=uint8), array([178, 177, 178, ..., 120,  95,  66], dtype=uint8), array([117, 211, 126, ...,   0,   0,   0], dtype=uint8), array([165, 177, 171, ...,   0,   0,   0], dtype=uint8), array([ 0,  0,  0, ..., 82,  1,  0], dtype=uint8), array([97, 89, 82, ...,  0,  0,  0], dtype=uint8), array([ 13,  12,  12, ..., 255, 255, 255], dtype=uint8), array([1, 1, 1, ..., 1, 2, 4], dtype=uint8), array([179, 152, 146, ...,   0,   0,   0], dtype=uint8), array([47, 55, 59, ..., 44, 45, 46], dtype=uint8), array([  0,   0,   0, ..., 131,  84,  40], dtype=uint8), array([0, 0, 3, ..., 0, 0, 0], dtype=uint8), array([ 41,  49, 113, ...,  24,  27,  29], dtype=uint8), array([41, 37, 33, ..., 43, 44, 44], dtype=uint8), array([ 0,  0, 19, ...,  0,  0,  0], dtype=uint8), array([36, 51, 56, ...,  0,  0,  0], dtype=uint8), array([ 22,  16,  10, ..., 146,  58,   4], dtype=uint8), array([28, 22, 24, ...,  0,  0,  0], dtype=uint8), array([35, 54, 77, ..., 21,  0,  0], dtype=uint8), array([14, 14, 14, ..., 21, 15, 22], dtype=uint8), array([123, 120, 164, ...,   0,   0,   0], dtype=uint8), array([21, 50, 76, ...,  0,  0,  0], dtype=uint8), array([129,  93, 113, ...,   0,   0,   0], dtype=uint8), array([214, 223, 224, ...,  71,  30,   5], dtype=uint8), array([0, 0, 0, ..., 0, 0, 0], dtype=uint8), array([56, 69, 78, ..., 34, 20,  6], dtype=uint8), array([116, 121, 123, ..., 166, 141,  97], dtype=uint8), array([ 3, 12, 24, ..., 25,  6,  0], dtype=uint8), array([46, 73, 83, ...,  0,  0,  0], dtype=uint8), array([16, 32, 41, ...,  0,  0,  0], dtype=uint8), array([ 0, 54, 47, ..., 26, 28,  0], dtype=uint8), array([63, 79, 83, ..., 17,  0,  0], dtype=uint8), array([56, 57, 57, ..., 61, 55, 56], dtype=uint8), array([0, 0, 0, ..., 0, 0, 1], dtype=uint8), array([30, 61, 72, ...,  0,  0,  0], dtype=uint8), array([210, 191, 194, ..., 199, 188, 175], dtype=uint8), array([  2, 255, 250, ...,   0,   0,   0], dtype=uint8), array([ 0,  6, 12, ...,  0,  0,  0], dtype=uint8), array([48, 64, 83, ...,  0,  0,  0], dtype=uint8), array([65, 76, 86, ...,  0,  0,  0], dtype=uint8), array([ 23,  23, 133, ...,   5,   7,   9], dtype=uint8), array([ 31,  46,  60, ..., 156,  48,   0], dtype=uint8), array([114, 101,  47, ...,  48,  21,  19], dtype=uint8), array([ 1, 13, 31, ...,  0,  0,  0], dtype=uint8), array([43, 23, 24, ...,  0,  0,  0], dtype=uint8), array([ 2, 31, 69, ...,  0,  0,  0], dtype=uint8), array([0, 0, 0, ..., 0, 0, 0], dtype=uint8), array([42, 47, 58, ..., 46,  0,  0], dtype=uint8), array([36, 76, 79, ..., 31,  0,  0], dtype=uint8), array([0, 0, 1, ..., 0, 0, 0], dtype=uint8), array([ 53,  61, 131, ...,  15,   0,   0], dtype=uint8), array([103, 100,  96, ...,  95,  41,   0], dtype=uint8), array([74, 67, 90, ..., 42,  9,  6], dtype=uint8), array([ 9, 44, 58, ..., 24, 20, 20], dtype=uint8), array([ 10,  11,   5, ..., 139,  48,   0], dtype=uint8), array([60,  8, 25, ..., 17, 18, 18], dtype=uint8), array([18, 35, 38, ...,  0,  0,  0], dtype=uint8), array([0, 0, 1, ..., 0, 0, 0], dtype=uint8), array([0, 0, 0, ..., 0, 0, 0], dtype=uint8), array([ 2, 67, 66, ..., 53,  2, 10], dtype=uint8), array([ 0,  5, 40, ...,  0,  0,  0], dtype=uint8), array([21, 43, 65, ...,  0,  0,  0], dtype=uint8), array([ 90,  97, 128, ...,  43,  19,   6], dtype=uint8), array([56, 58, 57, ..., 46, 43, 15], dtype=uint8), array([53, 82, 90, ...,  0,  0,  0], dtype=uint8), array([201,  25,   0, ...,   0,   0,   0], dtype=uint8), array([165, 101,  98, ...,  35,  11,   0], dtype=uint8), array([0, 0, 0, ..., 0, 0, 0], dtype=uint8), array([48, 70, 70, ...,  0,  0,  0], dtype=uint8), array([25, 20, 69, ..., 35, 38, 41], dtype=uint8), array([ 0,  4, 27, ...,  0,  0,  0], dtype=uint8), array([0, 0, 0, ..., 0, 0, 0], dtype=uint8), array([206, 190, 196, ..., 206, 192, 216], dtype=uint8), array([ 82,  89, 150, ...,   0,   0,   0], dtype=uint8), array([111, 110, 132, ..., 177, 183, 182], dtype=uint8), array([1, 0, 0, ..., 1, 1, 3], dtype=uint8), array([  0, 183, 181, ...,  13,  15,   0], dtype=uint8), array([25, 37, 55, ...,  0,  0,  0], dtype=uint8), array([ 0,  0, 27, ...,  9,  0,  0], dtype=uint8), array([ 0,  0, 20, ...,  0,  0,  0], dtype=uint8), array([24, 55, 70, ...,  0,  0,  0], dtype=uint8), array([41, 43, 50, ..., 55,  5,  0], dtype=uint8), array([24, 20, 14, ...,  1,  1,  1], dtype=uint8), array([ 57, 125,  90, ...,   9,   0,   0], dtype=uint8), array([186, 187, 151, ...,   0,   0,   0], dtype=uint8), array([ 21, 117,  96, ...,   0,   0,   0], dtype=uint8), array([103, 112, 125, ...,   0,   0,   0], dtype=uint8), array([ 0, 13, 39, ...,  0,  0,  0], dtype=uint8), array([ 0,  0, 15, ..., 10,  0,  0], dtype=uint8), array([ 66,  76,  76, ..., 151, 165,  26], dtype=uint8), array([224, 217, 219, ...,   0,   0,   0], dtype=uint8), array([ 40, 110,  96, ...,  45,   0,   0], dtype=uint8), array([5, 6, 6, ..., 7, 7, 8], dtype=uint8), array([59, 70, 78, ...,  0,  0,  0], dtype=uint8), array([ 0,  0,  0, ..., 32,  0,  0], dtype=uint8), array([21, 29, 42, ...,  0,  0,  0], dtype=uint8), array([77, 70, 65, ...,  0,  0,  0], dtype=uint8), array([ 15, 132,  21, ...,   0,   0,   0], dtype=uint8), array([112,  55,  76, ...,  97, 105, 109], dtype=uint8), array([ 0,  0, 24, ...,  0,  0,  0], dtype=uint8), array([ 0, 12, 29, ..., 31, 10,  0], dtype=uint8), array([ 0,  0, 32, ..., 32, 32, 36], dtype=uint8), array([ 34,  37, 165, ...,   7,   8,   8], dtype=uint8), array([58, 56, 50, ..., 11,  9,  8], dtype=uint8), array([ 63,  60, 128, ...,  39,  12,   0], dtype=uint8), array([ 0,  0, 34, ...,  0,  0,  0], dtype=uint8), array([0, 0, 0, ..., 0, 0, 1], dtype=uint8), array([104, 136, 134, ..., 166, 154, 140], dtype=uint8), array([26, 57, 84, ..., 42,  0,  0], dtype=uint8), array([29, 29, 28, ..., 31, 33, 29], dtype=uint8), array([ 23, 255, 236, ...,  32,   0,   0], dtype=uint8), array([ 7, 11,  6, ...,  9, 10, 10], dtype=uint8), array([ 0, 10, 18, ..., 16,  6,  0], dtype=uint8), array([251, 217,  82, ...,   0,   0,   0], dtype=uint8), array([47, 62, 82, ..., 16, 19, 20], dtype=uint8), array([0, 0, 0, ..., 0, 0, 0], dtype=uint8), array([ 8, 21, 39, ...,  0,  0,  0], dtype=uint8), array([ 0,  0, 32, ...,  0,  0,  0], dtype=uint8), array([42, 91, 79, ...,  9,  9, 11], dtype=uint8), array([ 6,  6, 14, ...,  8, 19, 22], dtype=uint8), array([1, 1, 1, ..., 2, 1, 2], dtype=uint8), array([0, 0, 7, ..., 0, 0, 0], dtype=uint8), array([19,  8,  8, ..., 19, 22, 26], dtype=uint8), array([114, 100,  43, ...,  16,  15,  15], dtype=uint8), array([ 0,  0,  0, ..., 17, 18, 18], dtype=uint8), array([63, 77, 76, ...,  0,  0,  0], dtype=uint8), array([48, 41, 32, ..., 52, 15,  0], dtype=uint8), array([92, 85, 73, ...,  3,  0,  0], dtype=uint8), array([49, 65, 75, ..., 44, 11,  0], dtype=uint8), array([118, 115,  79, ...,   0,   0,   0], dtype=uint8), array([104, 112, 133, ...,   0,   0,   0], dtype=uint8), array([10,  9, 11, ..., 11, 11, 12], dtype=uint8), array([0, 0, 1, ..., 0, 0, 0], dtype=uint8), array([156, 151, 142, ..., 156, 118,  87], dtype=uint8), array([ 18,  20,  15, ..., 118,  64,  27], dtype=uint8), array([29, 29, 30, ...,  1,  1,  1], dtype=uint8), array([0, 0, 7, ..., 0, 0, 0], dtype=uint8), array([0, 0, 0, ..., 0, 0, 0], dtype=uint8), array([  1, 119, 125, ...,  28,  27,  32], dtype=uint8), array([ 0,  6, 23, ...,  0,  0,  0], dtype=uint8), array([89, 85, 78, ..., 66,  0,  0], dtype=uint8), array([ 85,  96, 106, ...,  15,   0,   0], dtype=uint8), array([0, 0, 8, ..., 1, 1, 2], dtype=uint8), array([ 0, 23, 55, ...,  0,  0,  0], dtype=uint8), array([ 12,  23, 254, ..., 131, 131, 130], dtype=uint8), array([0, 0, 0, ..., 0, 0, 0], dtype=uint8), array([ 52,  56,  57, ..., 103,  54,   1], dtype=uint8), array([  0,  20, 249, ...,  11,  11,  11], dtype=uint8), array([47, 58, 57, ...,  0,  0,  0], dtype=uint8), array([ 0,  0,  0, ..., 38,  0,  0], dtype=uint8), array([18,  8, 19, ...,  0,  0,  0], dtype=uint8), array([ 0,  0,  5, ..., 93,  0,  0], dtype=uint8), array([ 9,  8,  6, ..., 13, 13, 14], dtype=uint8), array([0, 0, 3, ..., 0, 0, 0], dtype=uint8), array([101, 100, 101, ...,   0,   0,   0], dtype=uint8), array([6, 9, 9, ..., 0, 0, 0], dtype=uint8), array([ 0,  9, 25, ...,  0,  0,  0], dtype=uint8), array([  0, 169, 173, ..., 113,  70,   0], dtype=uint8), array([ 10,  10, 192, ...,   5,   7,   9], dtype=uint8), array([16, 60, 91, ...,  0,  0,  0], dtype=uint8), array([ 0,  6, 11, ...,  0,  0,  0], dtype=uint8), array([0, 0, 0, ..., 0, 0, 0], dtype=uint8), array([96, 88, 98, ..., 18, 19, 20], dtype=uint8), array([ 3, 42, 43, ...,  1, 18, 21], dtype=uint8), array([51, 67, 89, ..., 62,  1,  1], dtype=uint8), array([52, 73, 79, ...,  0,  0,  0], dtype=uint8), array([94, 95, 87, ..., 18,  0,  0], dtype=uint8), array([ 90, 100, 113, ...,   0,   0,   0], dtype=uint8), array([36, 44, 68, ...,  0,  0,  0], dtype=uint8), array([0, 0, 0, ..., 6, 6, 6], dtype=uint8), array([ 93,  82,  84, ..., 169, 105,  38], dtype=uint8), array([ 6, 22, 50, ...,  0,  0,  0], dtype=uint8), array([53, 51, 50, ..., 16, 22, 26], dtype=uint8), array([14, 27, 29, ..., 83, 32,  0], dtype=uint8), array([ 56,  80, 254, ...,   0,   0,   0], dtype=uint8), array([ 0,  8, 21, ...,  0,  0,  0], dtype=uint8), array([32, 36, 34, ...,  5, 18, 20], dtype=uint8), array([118, 111, 114, ...,   0,   0,   0], dtype=uint8), array([208,  57,   0, ...,   0,   0,   0], dtype=uint8), array([30, 59, 70, ...,  0,  0,  0], dtype=uint8), array([43, 69, 60, ...,  0,  0,  0], dtype=uint8), array([0, 0, 0, ..., 0, 0, 0], dtype=uint8), array([16, 38, 28, ...,  0,  0,  0], dtype=uint8), array([51, 63, 79, ...,  0,  0,  0], dtype=uint8), array([34, 33, 26, ..., 33, 35, 36], dtype=uint8), array([ 92, 107, 161, ...,  18,  23,  27], dtype=uint8), array([  8, 104,  73, ...,   0,   0,   0], dtype=uint8), array([ 27,  42,  46, ..., 150, 144, 121], dtype=uint8), array([137, 153, 154, ...,   0,   0,   0], dtype=uint8), array([ 78,  84, 129, ...,  75,  27,   0], dtype=uint8), array([109, 120,  68, ...,   0,   0,   0], dtype=uint8), array([14, 31, 46, ...,  0,  0,  0], dtype=uint8), array([107, 153, 148, ...,   0,   0,   0], dtype=uint8), array([47, 69, 46, ...,  0,  0,  0], dtype=uint8), array([120, 122,  97, ...,   1,   0,   0], dtype=uint8), array([0, 3, 2, ..., 0, 0, 5], dtype=uint8), array([ 90,  96, 122, ...,   1,   0,   0], dtype=uint8), array([128, 100, 105, ...,   0,   0,   0], dtype=uint8), array([63, 77, 76, ..., 40, 13,  0], dtype=uint8), array([50, 64, 76, ...,  0,  0,  0], dtype=uint8), array([28, 27, 26, ...,  0,  0,  0], dtype=uint8), array([ 11,  18,  15, ..., 133, 149,  88], dtype=uint8), array([ 5,  8, 12, ...,  0,  0,  0], dtype=uint8), array([30, 30, 29, ..., 33, 25, 62], dtype=uint8), array([ 6,  6, 14, ...,  8, 19, 22], dtype=uint8), array([55, 78, 88, ...,  0,  0,  0], dtype=uint8), array([0, 0, 2, ..., 0, 0, 0], dtype=uint8), array([27, 57, 52, ...,  4,  9,  6], dtype=uint8), array([ 5, 30, 41, ...,  0,  0,  0], dtype=uint8), array([126, 125, 137, ...,   0,   0,   0], dtype=uint8), array([242, 250, 223, ...,  47,  11,   0], dtype=uint8), array([ 0,  0,  0, ..., 29,  0,  1], dtype=uint8), array([60, 74, 89, ...,  0,  0,  0], dtype=uint8), array([ 0,  0, 26, ...,  0,  0,  0], dtype=uint8), array([18, 43, 71, ...,  0,  0,  0], dtype=uint8), array([14, 18, 21, ..., 18, 20, 21], dtype=uint8), array([14, 55, 78, ...,  0,  0,  0], dtype=uint8), array([ 2, 68, 33, ..., 11, 17, 14], dtype=uint8), array([50, 59, 68, ..., 65, 20,  0], dtype=uint8), array([19, 16, 62, ..., 93, 96, 98], dtype=uint8), array([ 52,  59,  64, ..., 144,  74,  16], dtype=uint8), array([ 2,  9,  6, ..., 10,  1,  0], dtype=uint8), array([ 0,  0,  0, ..., 69, 47,  0], dtype=uint8), array([48, 72, 28, ..., 16, 17, 81], dtype=uint8), array([ 3, 44, 84, ...,  0,  0,  1], dtype=uint8), array([123,  95, 107, ...,   0,   0,   0], dtype=uint8), array([165, 142, 143, ...,   0,   0,   0], dtype=uint8), array([0, 0, 0, ..., 0, 0, 0], dtype=uint8), array([29, 22,  1, ...,  0,  0,  0], dtype=uint8), array([0, 0, 0, ..., 0, 0, 1], dtype=uint8), array([ 6,  6,  6, ...,  9,  8, 10], dtype=uint8), array([182, 132, 125, ...,   0,   0,   0], dtype=uint8), array([1, 1, 1, ..., 1, 1, 1], dtype=uint8), array([ 9, 33, 61, ...,  0,  0,  0], dtype=uint8), array([41, 42, 39, ..., 34, 35, 35], dtype=uint8), array([138, 134, 137, ...,   0,   0,   0], dtype=uint8), array([82, 56, 78, ...,  0,  0,  0], dtype=uint8), array([40, 38, 39, ..., 36, 38, 38], dtype=uint8), array([90, 85, 78, ...,  0,  0,  0], dtype=uint8), array([  0,  11,  30, ..., 114,  17,   0], dtype=uint8), array([ 33,  75, 100, ...,   0,   0,   0], dtype=uint8), array([57, 74, 89, ...,  0,  0,  0], dtype=uint8), array([41, 33, 34, ..., 21, 19, 21], dtype=uint8), array([17,  6, 41, ..., 43, 49, 61], dtype=uint8), array([111, 120,  79, ...,   0,   0,   0], dtype=uint8), array([ 0, 23, 39, ...,  0,  0,  0], dtype=uint8), array([65, 78, 89, ...,  0,  0,  0], dtype=uint8), array([ 0,  1,  5, ..., 22,  0,  0], dtype=uint8), array([0, 0, 0, ..., 6, 8, 6], dtype=uint8), array([0, 0, 0, ..., 0, 0, 0], dtype=uint8), array([ 55,  59,  57, ..., 157, 141, 109], dtype=uint8), array([59, 30,  1, ..., 11,  0,  0], dtype=uint8), array([ 0, 19, 50, ...,  0,  0,  0], dtype=uint8), array([3, 3, 3, ..., 2, 2, 2], dtype=uint8), array([ 19,  22,  24, ...,   0,   4, 214], dtype=uint8), array([5, 4, 1, ..., 0, 0, 0], dtype=uint8), array([65, 73, 64, ..., 52, 12,  0], dtype=uint8), array([ 50,  54, 101, ...,  99,  36,   0], dtype=uint8), array([130,  64,  65, ...,   0,   0,   0], dtype=uint8), array([27, 46, 51, ...,  0,  0,  0], dtype=uint8), array([ 0,  0, 11, ...,  0,  0,  0], dtype=uint8), array([185, 186, 191, ..., 104, 112, 116], dtype=uint8), array([ 4,  9, 13, ...,  0,  0,  0], dtype=uint8), array([ 11,  22, 163, ...,  11,  12,  12], dtype=uint8), array([0, 0, 0, ..., 0, 0, 0], dtype=uint8), array([31, 51, 56, ...,  0,  0,  0], dtype=uint8), array([0, 0, 7, ..., 0, 0, 0], dtype=uint8), array([ 75, 106,  63, ..., 101, 108,  22], dtype=uint8), array([ 20,  27,  29, ..., 107,  84,  43], dtype=uint8), array([42, 47, 48, ...,  0,  0,  0], dtype=uint8), array([126, 126, 189, ...,   0,   0,   0], dtype=uint8), array([62, 80, 84, ...,  6, 10, 14], dtype=uint8), array([119, 122, 123, ..., 113, 100,  73], dtype=uint8), array([  0,   0,   6, ..., 118,  75, 117], dtype=uint8), array([38, 46, 49, ...,  0,  0,  0], dtype=uint8), array([191, 172, 168, ...,  28,  29,  29], dtype=uint8), array([109, 103, 142, ...,   0,   0,   1], dtype=uint8), array([24, 28, 79, ...,  0,  0,  0], dtype=uint8), array([18, 20, 20, ..., 32, 36, 43], dtype=uint8), array([71, 74, 80, ...,  0,  0,  0], dtype=uint8), array([64, 73, 75, ...,  0,  0,  0], dtype=uint8), array([63, 62, 59, ..., 59, 57, 56], dtype=uint8), array([ 2,  9, 16, ..., 11,  0,  0], dtype=uint8), array([74, 68, 66, ...,  5,  9,  8], dtype=uint8), array([ 53,  68,  96, ..., 121,  93,  53], dtype=uint8), array([13,  9,  5, ...,  5, 10, 13], dtype=uint8), array([ 74, 135, 119, ...,   0,   0,   0], dtype=uint8), array([ 9, 40, 67, ...,  0,  0,  0], dtype=uint8), array([ 0, 24, 44, ...,  0,  0,  0], dtype=uint8), array([ 2, 24, 47, ..., 11,  0,  0], dtype=uint8), array([ 0,  9, 36, ...,  0,  0,  0], dtype=uint8), array([ 0,  0, 13, ...,  0,  0,  0], dtype=uint8), array([125, 121, 136, ...,   0,   0,   0], dtype=uint8), array([ 0,  0, 48, ..., 33, 11,  0], dtype=uint8), array([60, 73, 78, ..., 19, 20, 23], dtype=uint8), array([ 38,  37,  36, ..., 154, 103,  44], dtype=uint8), array([38, 64, 78, ...,  0,  0, 12], dtype=uint8), array([ 0,  6, 18, ...,  0,  0,  0], dtype=uint8), array([ 0,  1,  6, ..., 27, 13,  0], dtype=uint8), array([ 5, 15, 22, ...,  0,  0,  0], dtype=uint8), array([40, 52, 97, ...,  0,  0,  0], dtype=uint8), array([104, 129, 135, ...,  15,   0,   0], dtype=uint8), array([120, 126, 139, ...,   0,   0,   0], dtype=uint8), array([0, 0, 0, ..., 0, 0, 0], dtype=uint8), array([14, 23, 25, ...,  0,  0,  5], dtype=uint8), array([ 70,  64,  66, ..., 199, 209,  33], dtype=uint8), array([ 1, 38, 45, ..., 26, 28, 26], dtype=uint8), array([ 53,  68, 219, ...,   8,   8,   8], dtype=uint8), array([53, 63, 70, ..., 41,  7,  0], dtype=uint8), array([ 0,  0,  7, ..., 52, 11,  0], dtype=uint8), array([31, 28, 82, ...,  0,  0,  0], dtype=uint8), array([ 0,  0,  0, ..., 85, 19,  0], dtype=uint8), array([38, 49, 56, ..., 38,  0,  0], dtype=uint8), array([10, 10, 10, ...,  6,  4,  5], dtype=uint8), array([ 59,  95, 108, ...,   0,   0,   0], dtype=uint8), array([ 94,  97, 129, ...,   0,   0,   0], dtype=uint8), array([11, 23, 33, ..., 84, 13,  0], dtype=uint8), array([0, 0, 0, ..., 0, 0, 0], dtype=uint8), array([ 5, 23, 35, ...,  0,  0,  0], dtype=uint8), array([ 7,  9, 10, ...,  0,  0,  0], dtype=uint8), array([  0,   0, 115, ...,   5,   7,   5], dtype=uint8), array([65, 73, 86, ...,  0,  0,  1], dtype=uint8), array([234, 210, 208, ...,   0,   0,   0], dtype=uint8), array([ 2,  5, 23, ...,  0,  0,  0], dtype=uint8), array([ 4,  9, 21, ...,  0,  0,  0], dtype=uint8), array([109,  36,  34, ...,   0,   0,   0], dtype=uint8), array([21, 49, 68, ...,  0,  0,  0], dtype=uint8), array([0, 0, 0, ..., 0, 0, 0], dtype=uint8), array([ 2,  3, 18, ..., 51,  3,  0], dtype=uint8), array([45, 53, 61, ...,  0,  0,  0], dtype=uint8), array([15, 16, 20, ...,  2,  0,  0], dtype=uint8), array([27, 27, 27, ..., 27, 27, 27], dtype=uint8), array([0, 0, 0, ..., 0, 0, 0], dtype=uint8), array([68, 68, 65, ...,  2,  4,  2], dtype=uint8), array([ 2, 52, 60, ..., 26, 31, 26], dtype=uint8), array([101, 103, 105, ...,  20,  13,   1], dtype=uint8), array([195,  31,  33, ...,  20,   0,   0], dtype=uint8), array([1, 1, 1, ..., 3, 3, 4], dtype=uint8), array([78, 62, 57, ...,  8,  8,  8], dtype=uint8), array([16, 22, 23, ..., 11, 12, 10], dtype=uint8), array([146,   6,  16, ...,   0,   0,   0], dtype=uint8), array([ 9, 34, 55, ...,  0,  0,  0], dtype=uint8), array([117, 106, 102, ...,   0,   0,   0], dtype=uint8), array([ 0,  0, 11, ...,  0,  0,  0], dtype=uint8), array([12, 16, 19, ..., 50, 33,  0], dtype=uint8), array([ 74,  72, 106, ..., 215, 187, 167], dtype=uint8), array([58, 62, 56, ...,  0,  0,  0], dtype=uint8), array([ 0,  9, 16, ...,  0,  0,  0], dtype=uint8), array([ 67, 123, 120, ...,   0,   0,   0], dtype=uint8), array([ 0, 21, 39, ...,  0,  0,  0], dtype=uint8), array([21, 50, 79, ...,  1,  1,  1], dtype=uint8), array([25, 41, 61, ...,  0,  0,  0], dtype=uint8), array([163, 192, 174, ...,  34,   8,   0], dtype=uint8), array([19, 18, 15, ..., 28, 28, 27], dtype=uint8), array([ 0,  7, 23, ..., 12,  0,  0], dtype=uint8), array([75, 77, 81, ...,  0,  0,  0], dtype=uint8), array([ 8, 11, 11, ..., 96, 65, 56], dtype=uint8), array([  7,  24,  47, ..., 161,  50,  80], dtype=uint8), array([140,   5,   0, ...,   0,   0,   0], dtype=uint8), array([53, 56, 56, ..., 65,  7, 21], dtype=uint8), array([114, 121, 118, ...,  68,  16,   0], dtype=uint8), array([34, 50, 52, ...,  0,  0,  0], dtype=uint8), array([35, 39, 40, ..., 11, 10, 11], dtype=uint8), array([52, 23, 39, ..., 80, 39, 12], dtype=uint8), array([32, 25, 19, ..., 25, 31, 32], dtype=uint8), array([17, 42, 59, ...,  0,  0,  0], dtype=uint8), array([ 2, 66, 44, ...,  0,  0,  0], dtype=uint8), array([72, 47, 58, ...,  0,  0,  0], dtype=uint8), array([ 0,  0, 16, ..., 11,  0,  0], dtype=uint8), array([  7,   8,   8, ..., 112,  80,  44], dtype=uint8), array([82, 79, 76, ...,  0,  0,  0], dtype=uint8), array([255, 255, 255, ...,   0,   1,   1], dtype=uint8), array([89, 85, 81, ...,  9,  0,  0], dtype=uint8), array([95, 99, 83, ...,  0,  0,  0], dtype=uint8), array([34, 35, 37, ...,  7,  9,  8], dtype=uint8), array([14, 30, 41, ...,  0,  0,  0], dtype=uint8), array([ 0,  6, 44, ...,  0,  0,  0], dtype=uint8), array([27, 53, 33, ...,  0,  0,  0], dtype=uint8), array([101,  88,  82, ..., 153, 148, 144], dtype=uint8), array([16, 21, 23, ..., 15,  9,  9], dtype=uint8), array([0, 0, 0, ..., 0, 0, 0], dtype=uint8), array([0, 0, 0, ..., 5, 7, 6], dtype=uint8), array([ 0,  5, 40, ...,  0,  0,  0], dtype=uint8), array([ 53,  60, 102, ...,  17,   0,   0], dtype=uint8), array([187,  16,   3, ...,   0,   0,   0], dtype=uint8), array([81, 92, 94, ...,  0,  0,  0], dtype=uint8), array([0, 0, 0, ..., 9, 0, 0], dtype=uint8), array([241, 254, 255, ...,   6,   0,   0], dtype=uint8), array([18, 37, 62, ...,  0,  0,  0], dtype=uint8), array([43, 54, 75, ...,  0,  0,  0], dtype=uint8), array([28, 32, 33, ...,  0,  0,  0], dtype=uint8), array([ 13,  23, 156, ...,   1,   5,   5], dtype=uint8), array([176, 158, 148, ...,   0,   0,   0], dtype=uint8), array([1, 4, 5, ..., 0, 0, 0], dtype=uint8), array([39, 44, 87, ...,  0,  0,  0], dtype=uint8), array([ 0, 11, 28, ...,  0,  0,  0], dtype=uint8), array([0, 0, 0, ..., 0, 0, 0], dtype=uint8), array([ 7, 24, 56, ...,  0,  0,  0], dtype=uint8), array([28, 55, 68, ...,  0,  0,  0], dtype=uint8), array([17, 48, 73, ...,  1,  1,  2], dtype=uint8), array([0, 0, 0, ..., 0, 0, 0], dtype=uint8), array([ 44,  57, 115, ...,   0,   0,   0], dtype=uint8), array([49, 69, 74, ...,  0,  0,  0], dtype=uint8), array([ 77, 139, 139, ...,   0,   0,   0], dtype=uint8), array([ 69,  73,  75, ...,  20,  70, 174], dtype=uint8), array([0, 2, 0, ..., 0, 0, 0], dtype=uint8), array([ 0,  8, 20, ...,  0,  0,  0], dtype=uint8), array([ 1,  8, 25, ...,  0,  0,  0], dtype=uint8), array([0, 0, 0, ..., 0, 0, 0], dtype=uint8), array([  9,  17, 131, ...,   0,   0,   0], dtype=uint8), array([ 9, 13, 33, ...,  0,  0,  0], dtype=uint8), array([55, 61, 39, ..., 19, 21, 22], dtype=uint8), array([ 2, 18, 49, ...,  0,  0,  0], dtype=uint8), array([ 1, 69,  9, ...,  0,  0,  0], dtype=uint8), array([ 0, 17, 49, ...,  0,  0,  0], dtype=uint8), array([114, 123, 129, ...,  33,   0,   0], dtype=uint8), array([ 0,  0, 21, ...,  1,  0,  0], dtype=uint8), array([4, 4, 2, ..., 0, 0, 0], dtype=uint8), array([81, 92, 99, ...,  0,  0,  0], dtype=uint8), array([1, 4, 4, ..., 0, 0, 0], dtype=uint8), array([19, 24, 72, ...,  0,  0,  0], dtype=uint8), array([0, 0, 0, ..., 0, 0, 0], dtype=uint8), array([92, 57, 59, ..., 24, 25, 25], dtype=uint8), array([58, 54, 43, ...,  0,  0,  0], dtype=uint8), array([255, 255, 255, ..., 255, 255, 255], dtype=uint8), array([52, 70, 77, ...,  0,  0,  0], dtype=uint8), array([ 22,  50, 254, ...,   0,   0,   0], dtype=uint8), array([48, 43, 48, ..., 31, 12, 13], dtype=uint8), array([ 2, 13,  9, ...,  0,  0,  0], dtype=uint8), array([14, 39, 60, ...,  0,  0,  0], dtype=uint8), array([28, 33, 33, ..., 71, 38, 56], dtype=uint8), array([ 0, 23, 40, ...,  0,  0,  0], dtype=uint8), array([0, 0, 2, ..., 0, 0, 1], dtype=uint8), array([73, 16, 25, ..., 46, 23,  0], dtype=uint8), array([100,  95, 161, ...,   0,   0,   0], dtype=uint8), array([0, 0, 2, ..., 0, 0, 0], dtype=uint8), array([ 57,  58, 118, ...,  23,  24,  25], dtype=uint8), array([22, 41, 51, ...,  0,  0,  0], dtype=uint8), array([ 0,  0, 27, ...,  0,  0,  0], dtype=uint8), array([ 98, 105, 157, ...,   0,   0,   0], dtype=uint8), array([6, 0, 0, ..., 0, 0, 0], dtype=uint8), array([0, 0, 0, ..., 0, 0, 0], dtype=uint8), array([  0,   0,   1, ..., 123,  88,  48], dtype=uint8), array([ 44, 138,  96, ...,   0,   0,   0], dtype=uint8), array([59,  9, 26, ...,  0,  0,  0], dtype=uint8), array([110, 124, 177, ...,  48,  12,  14], dtype=uint8), array([185, 200, 196, ...,   0,   0,   0], dtype=uint8), array([ 8, 15, 17, ..., 49, 15,  1], dtype=uint8), array([150, 139, 125, ...,  20,  28,  40], dtype=uint8), array([ 9, 34, 53, ...,  0,  0,  0], dtype=uint8), array([23, 35, 45, ...,  0,  0,  0], dtype=uint8), array([63, 85, 92, ...,  2,  0,  0], dtype=uint8), array([ 0, 32, 52, ...,  0,  0,  0], dtype=uint8), array([29, 35, 72, ...,  0,  1,  2], dtype=uint8), array([44, 33, 49, ..., 19,  6,  0], dtype=uint8), array([10,  6, 15, ...,  4,  0,  0], dtype=uint8), array([123, 126, 123, ...,   9,   0,   0], dtype=uint8), array([100, 105, 108, ...,   0,   0,   0], dtype=uint8), array([253, 238,  63, ...,   0,   0,   0], dtype=uint8), array([28, 50, 68, ...,  0,  0,  0], dtype=uint8), array([254, 255, 255, ..., 229, 220, 211], dtype=uint8), array([ 5,  9, 11, ...,  0,  0,  0], dtype=uint8), array([ 2,  6, 17, ...,  0,  0,  0], dtype=uint8), array([ 0,  1, 14, ...,  0,  0,  0], dtype=uint8), array([ 88, 102, 113, ...,  67,   0,   2], dtype=uint8), array([65, 71, 80, ...,  0,  0,  0], dtype=uint8), array([36, 43, 45, ..., 44, 13, 13], dtype=uint8), array([ 47,  75, 111, ...,   0,   0,   0], dtype=uint8), array([0, 0, 0, ..., 0, 0, 0], dtype=uint8), array([132, 126, 112, ..., 172, 134, 111], dtype=uint8), array([24, 22, 27, ...,  0,  0,  0], dtype=uint8), array([77, 82, 81, ..., 34, 34, 37], dtype=uint8), array([ 0,  5, 33, ...,  0,  0,  0], dtype=uint8), array([ 0,  0,  1, ..., 44, 19,  0], dtype=uint8), array([78, 76, 74, ...,  9, 10,  8], dtype=uint8), array([111, 117,  98, ...,   0,   0,   0], dtype=uint8), array([29, 43, 53, ..., 17, 37, 67], dtype=uint8), array([129, 130, 128, ...,  57,  57,  57], dtype=uint8), array([11, 49, 93, ..., 95, 64,  2], dtype=uint8), array([ 92, 128, 119, ...,  46,   2,   0], dtype=uint8), array([255, 255, 255, ...,   0,   0,   0], dtype=uint8), array([53, 41, 45, ..., 23, 23, 23], dtype=uint8), array([0, 0, 0, ..., 0, 0, 0], dtype=uint8), array([ 0, 32, 55, ...,  0,  0,  0], dtype=uint8), array([12, 42, 68, ...,  0,  0,  0], dtype=uint8), array([51, 73, 87, ...,  0,  0,  0], dtype=uint8), array([ 31,  36, 255, ...,   0,   0,   0], dtype=uint8), array([72, 75, 84, ...,  4,  0,  0], dtype=uint8), array([74, 89, 86, ...,  0,  0,  0], dtype=uint8), array([17, 52, 64, ...,  0,  0,  0], dtype=uint8), array([127, 105, 106, ...,   0,   0,   0], dtype=uint8), array([  8,  25, 248, ...,   0,   0,   0], dtype=uint8), array([0, 0, 0, ..., 0, 0, 0], dtype=uint8), array([ 54, 156, 109, ...,   0,   0,   0], dtype=uint8), array([ 0,  0, 25, ..., 34,  0,  0], dtype=uint8), array([132,  18,  26, ...,   0,   0,   0], dtype=uint8), array([12, 45, 63, ...,  0,  0,  0], dtype=uint8), array([ 0,  0, 33, ..., 51,  0,  0], dtype=uint8), array([0, 0, 3, ..., 0, 0, 0], dtype=uint8), array([7, 6, 6, ..., 8, 8, 9], dtype=uint8), array([ 95, 126, 137, ...,   5,   5,   6], dtype=uint8), array([129, 101, 109, ...,   0,   0,   0], dtype=uint8), array([15, 52, 85, ...,  0,  5, 10], dtype=uint8), array([38, 45, 46, ..., 14, 17, 45], dtype=uint8), array([41, 47, 52, ...,  0,  0,  0], dtype=uint8), array([0, 0, 0, ..., 0, 0, 4], dtype=uint8), array([ 0,  0, 17, ...,  0,  0,  0], dtype=uint8), array([12, 12, 13, ..., 27, 60, 82], dtype=uint8), array([33, 42, 55, ...,  0,  0,  0], dtype=uint8), array([30, 30, 30, ..., 15, 24, 36], dtype=uint8), array([156, 155, 162, ...,  49,  48,  37], dtype=uint8), array([0, 0, 0, ..., 0, 0, 0], dtype=uint8), array([51, 38, 44, ..., 22, 23, 23], dtype=uint8), array([ 64,  87, 244, ...,  10,  10,  11], dtype=uint8), array([150, 155, 154, ..., 127,  92,  23], dtype=uint8), array([0, 0, 0, ..., 0, 0, 0], dtype=uint8), array([51, 76, 91, ...,  0,  0,  0], dtype=uint8), array([12, 12,  8, ...,  0,  4,  5], dtype=uint8), array([ 1, 61, 62, ...,  0,  0,  0], dtype=uint8), array([41, 53, 72, ...,  0,  0,  0], dtype=uint8), array([ 7, 21, 37, ...,  0,  0,  0], dtype=uint8), array([137, 137, 140, ...,  83,  54,  44], dtype=uint8), array([61, 91, 99, ...,  0,  0,  0], dtype=uint8), array([0, 0, 0, ..., 0, 0, 0], dtype=uint8), array([0, 0, 0, ..., 1, 0, 0], dtype=uint8), array([0, 0, 3, ..., 0, 0, 0], dtype=uint8), array([ 73,  74,  79, ..., 108,  68,  36], dtype=uint8), array([0, 0, 0, ..., 0, 0, 0], dtype=uint8), array([19, 25, 17, ...,  2,  2,  2], dtype=uint8), array([ 56, 149, 112, ...,   0,   0,   0], dtype=uint8), array([49,  7,  0, ...,  0,  0,  0], dtype=uint8), array([ 0, 11, 30, ...,  0,  0,  0], dtype=uint8), array([ 1,  5, 14, ...,  0,  0,  0], dtype=uint8), array([35, 20,  1, ...,  2,  8, 12], dtype=uint8), array([240,   1,   1, ..., 177, 127,  99], dtype=uint8), array([ 88,  93, 102, ...,  19,   0,   0], dtype=uint8), array([18, 40, 61, ...,  0,  0,  0], dtype=uint8), array([29, 35, 40, ..., 10,  0,  0], dtype=uint8), array([39, 53, 82, ..., 89, 33,  9], dtype=uint8), array([ 2,  8, 16, ...,  0,  0,  0], dtype=uint8), array([52, 68, 82, ..., 19,  0,  0], dtype=uint8), array([0, 0, 0, ..., 0, 0, 0], dtype=uint8), array([ 3, 52, 51, ..., 45, 40, 41], dtype=uint8), array([ 67,  63,  55, ..., 102,  92,   0], dtype=uint8), array([159, 159, 155, ...,   0,   0,   0], dtype=uint8), array([ 0, 23, 48, ...,  6,  0,  0], dtype=uint8), array([ 72, 102, 118, ...,   0,   0,   0], dtype=uint8), array([0, 0, 0, ..., 0, 0, 0], dtype=uint8), array([0, 0, 0, ..., 0, 0, 0], dtype=uint8), array([ 88,  89,  87, ..., 100,  99, 101], dtype=uint8), array([107, 108, 114, ..., 234, 224, 216], dtype=uint8), array([119,  74,  67, ...,   0,   0,   0], dtype=uint8), array([ 39,  46, 101, ..., 137, 106,  44], dtype=uint8), array([46, 51, 53, ..., 36, 37, 37], dtype=uint8), array([173,  44,  83, ...,   0,   0,   0], dtype=uint8), array([0, 0, 0, ..., 0, 0, 0], dtype=uint8), array([ 0, 30, 74, ...,  0,  0,  0], dtype=uint8), array([198, 196, 195, ...,  22,  23,  26], dtype=uint8), array([30, 31, 33, ..., 13, 13, 14], dtype=uint8), array([73, 89, 96, ...,  0,  0,  0], dtype=uint8), array([ 1, 94, 95, ...,  0,  0,  0], dtype=uint8), array([114, 109, 140, ...,   0,   0,   0], dtype=uint8), array([43, 36, 27, ...,  0,  0,  0], dtype=uint8), array([0, 0, 0, ..., 0, 0, 0], dtype=uint8), array([52, 69, 81, ..., 16, 18, 20], dtype=uint8), array([53, 64, 65, ..., 18,  0,  0], dtype=uint8), array([126, 124, 129, ...,   0,   0,   0], dtype=uint8), array([68, 73, 85, ..., 24, 25, 26], dtype=uint8), array([103, 112, 118, ..., 194,  99,  63], dtype=uint8), array([ 58,  77, 148, ...,  13,   0,   0], dtype=uint8), array([ 83,  92,  96, ..., 140, 111,  56], dtype=uint8), array([ 91,  95, 144, ...,   0,   0,   0], dtype=uint8), array([28, 27, 26, ..., 68, 56, 15], dtype=uint8), array([20, 56, 71, ..., 55, 12,  0], dtype=uint8), array([0, 0, 0, ..., 0, 0, 0], dtype=uint8), array([ 0,  1, 12, ...,  0,  0,  0], dtype=uint8), array([10, 17, 28, ...,  0,  0,  0], dtype=uint8), array([ 67,  72,  97, ..., 121, 114, 114], dtype=uint8), array([0, 0, 0, ..., 5, 0, 0], dtype=uint8), array([37, 54, 73, ...,  0,  0,  0], dtype=uint8), array([0, 0, 0, ..., 0, 0, 0], dtype=uint8), array([4, 3, 2, ..., 0, 1, 2], dtype=uint8), array([47, 52, 65, ..., 38,  3,  0], dtype=uint8), array([ 0,  8, 28, ...,  0,  0,  0], dtype=uint8), array([0, 0, 0, ..., 0, 0, 0], dtype=uint8), array([ 0,  0, 30, ...,  1,  1,  1], dtype=uint8), array([57, 62, 75, ..., 64, 44,  5], dtype=uint8), array([ 5, 17, 45, ...,  0,  0,  0], dtype=uint8), array([69, 81, 81, ...,  0,  0,  0], dtype=uint8), array([117, 117, 109, ...,   0,   0,   0], dtype=uint8), array([140, 143, 151, ..., 170, 171, 127], dtype=uint8), array([ 15,  38,  52, ..., 113, 126, 189], dtype=uint8), array([38, 70, 81, ...,  0,  0,  1], dtype=uint8), array([26, 42, 49, ...,  0,  0,  0], dtype=uint8), array([10, 44, 46, ..., 62, 36, 12], dtype=uint8), array([ 42,  95, 118, ...,   0,   0,   0], dtype=uint8), array([131, 134, 147, ...,   0,   0,   0], dtype=uint8), array([123, 130, 108, ..., 156, 114,  35], dtype=uint8), array([62, 76, 95, ..., 47,  0,  0], dtype=uint8), array([ 4, 13, 16, ...,  0,  0,  0], dtype=uint8), array([0, 0, 1, ..., 0, 0, 0], dtype=uint8), array([25, 35, 49, ..., 85, 73, 55], dtype=uint8), array([50, 74, 81, ..., 42, 19,  0], dtype=uint8), array([31, 45, 60, ..., 13,  0,  0], dtype=uint8), array([ 1, 14, 20, ...,  0,  0,  0], dtype=uint8), array([ 0,  1, 46, ..., 22,  0,  0], dtype=uint8), array([0, 0, 0, ..., 0, 0, 0], dtype=uint8), array([140, 148, 159, ...,   2,   1,   1], dtype=uint8), array([69, 79, 88, ...,  0,  0,  0], dtype=uint8), array([42, 62, 70, ...,  1,  4,  3], dtype=uint8), array([200,   9, 255, ...,   5,   6,   6], dtype=uint8), array([26, 43, 55, ...,  0,  0,  0], dtype=uint8), array([ 7,  8,  7, ...,  9, 11, 11], dtype=uint8), array([163, 110, 130, ...,  74,  41,   0], dtype=uint8), array([16, 38, 56, ...,  1,  0,  0], dtype=uint8), array([123, 129, 140, ..., 104,  98,  80], dtype=uint8), array([60, 70, 59, ..., 67, 32,  0], dtype=uint8), array([ 78,  92, 135, ...,  32,   0,   0], dtype=uint8), array([21, 23, 25, ..., 15,  0,  0], dtype=uint8), array([19, 54, 72, ..., 59,  0,  0], dtype=uint8), array([0, 0, 0, ..., 0, 0, 0], dtype=uint8), array([ 0,  0, 58, ...,  0,  0,  0], dtype=uint8), array([19, 55, 69, ..., 31, 34, 39], dtype=uint8), array([245, 184,   0, ...,   0,   0,   0], dtype=uint8), array([0, 0, 0, ..., 0, 0, 0], dtype=uint8), array([117, 171, 163, ...,   0,   0,   0], dtype=uint8), array([  7,  22,  29, ..., 134, 112,  20], dtype=uint8), array([0, 1, 9, ..., 0, 0, 0], dtype=uint8), array([ 61,  83, 101, ..., 121, 100, 110], dtype=uint8), array([132, 125, 101, ...,   9,  12,  13], dtype=uint8), array([140, 154, 134, ..., 114, 113, 109], dtype=uint8), array([ 0,  0, 11, ...,  0,  0,  0], dtype=uint8), array([135, 152,  68, ...,   0,   0,   0], dtype=uint8), array([ 5, 41, 75, ..., 25, 25, 26], dtype=uint8), array([ 5, 28, 53, ...,  0,  0,  0], dtype=uint8), array([56, 56, 56, ..., 67, 56, 56], dtype=uint8), array([26, 32, 66, ...,  0,  0,  0], dtype=uint8), array([58, 78, 96, ..., 52,  0,  0], dtype=uint8), array([ 76,  82, 162, ...,   0,   0,   0], dtype=uint8), array([ 90, 110, 114, ...,   0,   0,   0], dtype=uint8), array([0, 0, 0, ..., 0, 0, 0], dtype=uint8), array([ 98, 110, 116, ..., 176,  79,  61], dtype=uint8), array([51, 55, 62, ...,  0,  0,  0], dtype=uint8), array([170, 162, 160, ..., 163, 175, 186], dtype=uint8), array([72, 76, 77, ..., 16, 19, 19], dtype=uint8), array([25, 53, 69, ...,  0,  0,  0], dtype=uint8), array([30, 44, 81, ...,  0,  0,  0], dtype=uint8), array([ 0,  3, 18, ...,  6,  0,  0], dtype=uint8), array([111, 117, 147, ...,  67,  32,   0], dtype=uint8), array([0, 0, 0, ..., 0, 0, 0], dtype=uint8), array([70, 87, 90, ...,  0,  0,  0], dtype=uint8), array([ 40,  53,  58, ..., 170,  93,   3], dtype=uint8), array([ 0, 15, 42, ...,  0,  0,  0], dtype=uint8), array([77, 85, 82, ..., 13, 19, 23], dtype=uint8), array([142, 141, 148, ...,  25,   0,   0], dtype=uint8), array([31, 58, 75, ...,  0,  0,  0], dtype=uint8), array([48, 64, 79, ..., 42,  0,  0], dtype=uint8), array([ 0,  4, 15, ...,  9,  0,  0], dtype=uint8), array([58, 62, 65, ..., 70, 21,  0], dtype=uint8), array([157,  65,  54, ...,   9,  12,  13], dtype=uint8), array([104,  65,  65, ..., 254, 251, 254], dtype=uint8), array([33, 65, 81, ...,  0,  0,  0], dtype=uint8), array([121, 114,  59, ...,   0,   0,   0], dtype=uint8), array([ 77,  89, 100, ...,  16,  18,  20], dtype=uint8), array([73, 81, 97, ...,  0,  0,  0], dtype=uint8), array([51, 52, 56, ..., 22, 26, 27], dtype=uint8), array([116, 175, 130, ...,   0,   0,   0], dtype=uint8), array([ 0,  7, 18, ...,  0,  0,  0], dtype=uint8), array([49,  6,  0, ..., 11,  0,  0], dtype=uint8), array([128, 133, 137, ...,   3,   7,   9], dtype=uint8), array([13, 10, 31, ..., 68, 38,  0], dtype=uint8), array([1, 0, 0, ..., 0, 0, 0], dtype=uint8), array([ 0,  5, 24, ...,  0,  0,  0], dtype=uint8), array([3, 0, 0, ..., 0, 0, 0], dtype=uint8), array([67, 88, 94, ...,  0,  0,  0], dtype=uint8), array([12, 20, 28, ...,  0,  0,  0], dtype=uint8), array([244, 241, 253, ...,   0,   0,   0], dtype=uint8), array([ 12,  11,  11, ..., 154, 149, 136], dtype=uint8), array([ 81,  70,  91, ..., 211, 127,  14], dtype=uint8), array([ 77,  80, 104, ...,  47,   0,   0], dtype=uint8), array([36, 49, 63, ..., 14,  0,  3], dtype=uint8), array([21, 33, 70, ...,  0,  0,  0], dtype=uint8), array([133, 143, 141, ...,   0,   0,   0], dtype=uint8), array([26, 46, 44, ..., 35, 24,  0], dtype=uint8), array([ 40,  59, 137, ...,   0,   0,   0], dtype=uint8), array([14, 33, 61, ...,  0,  0,  0], dtype=uint8), array([66, 74, 55, ..., 17,  0,  0], dtype=uint8), array([37, 43, 48, ..., 17,  4,  2], dtype=uint8), array([103, 104, 105, ...,  58,  11,   0], dtype=uint8), array([3, 3, 2, ..., 0, 1, 0], dtype=uint8), array([0, 0, 4, ..., 0, 0, 0], dtype=uint8), array([ 0,  0,  0, ..., 32,  0,  0], dtype=uint8), array([ 51,  50,  45, ..., 167, 157, 151], dtype=uint8), array([47, 52, 57, ..., 41, 32, 10], dtype=uint8), array([147, 137, 149, ..., 113,  62,  21], dtype=uint8), array([50, 65, 81, ..., 43,  0,  0], dtype=uint8), array([22, 43, 64, ...,  0,  0,  0], dtype=uint8), array([120, 129, 102, ...,  25,   0,   0], dtype=uint8), array([60, 68, 70, ..., 42, 28, 45], dtype=uint8), array([55, 60, 85, ..., 15, 15, 15], dtype=uint8), array([0, 0, 0, ..., 0, 0, 0], dtype=uint8), array([187, 139, 131, ...,   0,   1,   6], dtype=uint8), array([ 79, 110, 119, ...,   0,   0,   0], dtype=uint8), array([93, 85, 78, ...,  0,  0,  0], dtype=uint8), array([0, 0, 5, ..., 0, 0, 0], dtype=uint8), array([17, 31, 41, ...,  0,  0,  0], dtype=uint8), array([175, 145, 100, ...,   9,   0,   0], dtype=uint8), array([230, 230, 235, ...,  94,  32,   0], dtype=uint8), array([36, 24, 27, ...,  0,  0,  0], dtype=uint8), array([131, 131, 134, ...,  57,  34,  99], dtype=uint8), array([13, 34, 74, ...,  0,  0,  0], dtype=uint8), array([15, 14, 33, ...,  8,  9,  9], dtype=uint8), array([ 66,  69, 138, ...,  79,  22,   0], dtype=uint8), array([ 2, 43, 45, ...,  4, 23, 26], dtype=uint8), array([155, 177, 102, ...,   0,   0,   0], dtype=uint8), array([67, 62, 62, ..., 77, 67, 50], dtype=uint8), array([42, 40, 78, ...,  0,  0,  0], dtype=uint8), array([ 78, 254, 203, ...,   0,   0,   0], dtype=uint8), array([ 0, 14, 23, ...,  1,  0,  0], dtype=uint8), array([ 8,  7,  7, ..., 40,  7,  2], dtype=uint8), array([15,  7,  5, ..., 45,  3, 12], dtype=uint8), array([0, 0, 0, ..., 0, 0, 0], dtype=uint8), array([45, 63, 64, ..., 33, 33, 34], dtype=uint8), array([255, 255, 255, ...,  71,  86, 116], dtype=uint8), array([136, 149, 141, ...,   0,   0,   0], dtype=uint8), array([18, 33, 43, ...,  7,  0,  0], dtype=uint8), array([28, 23, 22, ..., 30, 29, 22], dtype=uint8), array([ 30,  31, 117, ...,  11,  12,  12], dtype=uint8), array([123,  91,  79, ..., 105,  67,  28], dtype=uint8), array([181, 137, 138, ..., 110,  93,  70], dtype=uint8), array([11, 44, 82, ..., 17,  2,  3], dtype=uint8), array([ 0, 17, 48, ...,  0,  0,  0], dtype=uint8), array([ 8,  6,  7, ...,  8,  9, 13], dtype=uint8), array([15,  8, 25, ..., 25, 25, 29], dtype=uint8), array([69, 85, 90, ...,  0,  0,  0], dtype=uint8), array([132,  80,  43, ...,  21,  22,  23], dtype=uint8), array([48, 50, 54, ..., 22, 23, 24], dtype=uint8), array([ 0,  0, 26, ...,  0,  0,  0], dtype=uint8), array([73, 73, 67, ..., 34, 34, 32], dtype=uint8), array([52, 65, 81, ...,  0,  0,  0], dtype=uint8), array([ 3, 33, 74, ...,  0,  0,  0], dtype=uint8), array([ 82, 103, 116, ...,  22,   0,   0], dtype=uint8), array([17, 21, 28, ..., 54, 11,  0], dtype=uint8), array([ 16,  15,  15, ..., 122,  81,  51], dtype=uint8), array([0, 0, 0, ..., 0, 0, 0], dtype=uint8), array([11, 49, 93, ..., 95, 64,  2], dtype=uint8), array([0, 0, 0, ..., 0, 0, 0], dtype=uint8), array([ 3, 20, 40, ...,  0,  0,  0], dtype=uint8), array([44, 51, 54, ..., 28, 29, 29], dtype=uint8), array([71, 31, 43, ...,  0,  0,  0], dtype=uint8), array([27, 53, 77, ...,  0,  0,  0], dtype=uint8), array([75, 53, 27, ...,  0,  0,  0], dtype=uint8), array([ 69, 121,  89, ...,  40,   0,   0], dtype=uint8), array([ 0,  0,  0, ..., 90, 84,  0], dtype=uint8), array([191, 184, 175, ...,  98,  81,  62], dtype=uint8), array([104, 107, 127, ..., 174,  98,   0], dtype=uint8), array([ 93, 105, 112, ...,  99,  73,  52], dtype=uint8), array([161,  82,  79, ...,   0,   0,   0], dtype=uint8), array([ 7, 11,  6, ...,  9, 10, 10], dtype=uint8), array([56, 73, 93, ...,  5,  0,  0], dtype=uint8), array([16, 23, 20, ..., 16, 24, 32], dtype=uint8), array([ 0,  3, 13, ...,  0,  0,  0], dtype=uint8), array([48, 48, 51, ...,  2,  4,  5], dtype=uint8), array([0, 0, 0, ..., 0, 0, 0], dtype=uint8), array([ 0,  5, 29, ...,  0,  0,  0], dtype=uint8), array([14, 55, 86, ...,  0,  0,  0], dtype=uint8), array([44, 67, 92, ...,  0,  0,  0], dtype=uint8), array([31,  0,  0, ...,  0,  0,  0], dtype=uint8), array([158, 137, 108, ...,  32,  35,  30], dtype=uint8), array([ 53,  65,  99, ..., 114, 111, 104], dtype=uint8), array([215, 255,  98, ...,  31,   0,   0], dtype=uint8), array([193,  71,  83, ...,   2,   4,   5], dtype=uint8), array([254, 254, 255, ...,  82,  40,  18], dtype=uint8), array([ 0,  0,  0, ..., 34,  0,  0], dtype=uint8), array([ 25,  26, 202, ...,  12,  13,  15], dtype=uint8), array([31, 52, 65, ...,  0,  0,  0], dtype=uint8), array([ 3, 31, 63, ...,  0,  1,  2], dtype=uint8), array([  2,   3,   4, ..., 133, 109,  47], dtype=uint8), array([16, 55, 66, ..., 11, 14, 15], dtype=uint8), array([ 87,  94, 118, ...,  24,  25,  26], dtype=uint8), array([22, 47, 65, ..., 31,  0,  0], dtype=uint8), array([ 0,  1, 16, ...,  0,  0,  0], dtype=uint8), array([ 76,  96, 104, ...,   0,   0,   0], dtype=uint8), array([16, 32, 51, ...,  0,  0,  0], dtype=uint8), array([62, 71, 73, ..., 30,  2,  0], dtype=uint8), array([148, 142, 156, ...,   0,   0,   0], dtype=uint8), array([85, 55, 57, ...,  7,  9,  9], dtype=uint8), array([107, 116, 115, ...,   0,   0,   0], dtype=uint8), array([ 70,  86,  88, ..., 154, 154,  47], dtype=uint8), array([24, 40, 60, ...,  0,  0,  0], dtype=uint8), array([26, 41, 50, ..., 18,  0,  0], dtype=uint8), array([ 0,  0, 13, ...,  0,  0,  0], dtype=uint8), array([51, 52, 51, ..., 17, 17, 18], dtype=uint8), array([ 0,  0, 24, ...,  0,  0,  0], dtype=uint8), array([0, 0, 0, ..., 0, 0, 0], dtype=uint8), array([ 0,  5, 13, ...,  0,  0,  0], dtype=uint8), array([ 0,  7, 21, ...,  0,  0,  0], dtype=uint8), array([10,  9,  9, ...,  0,  0,  0], dtype=uint8), array([52, 71, 83, ...,  0,  0,  0], dtype=uint8), array([ 9,  5, 24, ...,  3,  5,  7], dtype=uint8), array([51, 53, 63, ..., 68, 78, 99], dtype=uint8), array([ 1, 39, 73, ...,  0,  0,  0], dtype=uint8), array([24, 14, 12, ..., 50, 17, 21], dtype=uint8), array([20, 22, 17, ...,  0,  0,  1], dtype=uint8), array([ 0,  3, 20, ...,  0,  0,  0], dtype=uint8), array([29, 61, 92, ...,  0,  0,  0], dtype=uint8), array([122, 111, 255, ...,   3,   4,   5], dtype=uint8), array([ 0,  2, 11, ...,  0,  0,  0], dtype=uint8), array([81, 82, 96, ...,  0,  0,  0], dtype=uint8), array([ 18,  29, 103, ...,  10,  10,  10], dtype=uint8), array([39, 43, 39, ...,  0,  0,  0], dtype=uint8), array([ 0,  0, 30, ...,  0,  0,  0], dtype=uint8), array([ 65,  88, 103, ...,   0,   0,   0], dtype=uint8), array([69, 79, 94, ...,  0,  0,  0], dtype=uint8), array([1, 1, 1, ..., 1, 1, 1], dtype=uint8), array([ 57,  58,  60, ..., 218, 150,  77], dtype=uint8), array([34, 35, 36, ..., 72, 58, 29], dtype=uint8), array([83, 93, 87, ...,  0,  0,  0], dtype=uint8), array([202, 187, 152, ...,  20,  24,  23], dtype=uint8), array([ 5, 28, 41, ..., 14,  0,  0], dtype=uint8), array([135, 128, 131, ...,  65,  15,   0], dtype=uint8), array([28, 53, 93, ..., 17, 19, 20], dtype=uint8), array([28, 49, 65, ..., 28,  0,  0], dtype=uint8), array([136,  54,  88, ...,   0,   0,   0], dtype=uint8), array([0, 0, 0, ..., 9, 0, 0], dtype=uint8), array([115,  59,  46, ...,   0,   0,   0], dtype=uint8), array([10, 10,  9, ..., 67,  9, 11], dtype=uint8), array([13, 20, 99, ..., 27,  0,  0], dtype=uint8), array([ 0,  0, 15, ...,  0,  0,  0], dtype=uint8), array([ 3, 25, 47, ...,  0,  0,  0], dtype=uint8), array([40, 39, 39, ..., 69, 45, 30], dtype=uint8), array([169, 161, 152, ...,  33,  29,  27], dtype=uint8), array([35, 37, 44, ...,  0,  0,  0], dtype=uint8), array([0, 0, 0, ..., 0, 0, 0], dtype=uint8), array([17, 14, 16, ...,  2, 23, 37], dtype=uint8), array([110, 160,  80, ...,   0,   0,   0], dtype=uint8), array([52, 66, 66, ...,  0,  0,  0], dtype=uint8), array([22, 15, 12, ..., 91, 48, 26], dtype=uint8), array([0, 0, 0, ..., 0, 0, 0], dtype=uint8), array([23, 58, 68, ...,  0,  0,  0], dtype=uint8), array([95,  8,  8, ...,  0,  0,  0], dtype=uint8), array([ 53,  79,  76, ..., 114,  55,  54], dtype=uint8), array([3, 3, 0, ..., 0, 0, 3], dtype=uint8), array([20, 50, 68, ...,  0,  0,  0], dtype=uint8), array([ 67,  80,  85, ..., 116,  95,  69], dtype=uint8), array([0, 0, 0, ..., 0, 0, 0], dtype=uint8), array([135,   4,   0, ...,   0,   0,   0], dtype=uint8), array([81, 71, 59, ...,  0,  0,  0], dtype=uint8), array([192, 158, 137, ..., 189, 178, 167], dtype=uint8), array([ 0,  0,  8, ..., 41,  0,  0], dtype=uint8), array([19, 44, 49, ...,  0,  0,  0], dtype=uint8), array([ 41,  52,  68, ..., 117,  75,  43], dtype=uint8), array([0, 0, 0, ..., 0, 0, 0], dtype=uint8), array([3, 4, 4, ..., 5, 5, 6], dtype=uint8), array([ 19,  35,  39, ..., 172, 105,  41], dtype=uint8), array([ 80, 159, 122, ...,   0,   0,   0], dtype=uint8), array([39, 73, 87, ...,  0,  0,  0], dtype=uint8), array([37, 53, 79, ...,  0,  0,  0], dtype=uint8), array([66, 63, 67, ..., 44, 51, 17], dtype=uint8), array([ 0,  0, 19, ..., 21,  0,  0], dtype=uint8), array([190, 109, 116, ...,   0,   0,   0], dtype=uint8), array([ 5, 28, 47, ...,  0,  0,  0], dtype=uint8), array([238, 217, 240, ...,  68,  21,   0], dtype=uint8), array([138, 158, 162, ..., 180, 179, 178], dtype=uint8), array([125,  76,  74, ...,  64,  28,   0], dtype=uint8), array([26,  5, 27, ...,  0,  0,  0], dtype=uint8), array([ 0,  0, 35, ...,  2,  0,  0], dtype=uint8), array([86, 97, 98, ...,  0,  0,  0], dtype=uint8), array([49, 70, 78, ...,  0,  0,  0], dtype=uint8), array([6, 7, 6, ..., 8, 9, 8], dtype=uint8), array([218,  77,  85, ...,   0,   0,   0], dtype=uint8), array([ 0, 11, 22, ...,  0,  0,  0], dtype=uint8), array([118, 114, 101, ...,  43,  47,  45], dtype=uint8), array([0, 0, 0, ..., 0, 0, 0], dtype=uint8), array([19, 25, 26, ..., 27, 20, 22], dtype=uint8), array([ 99, 114, 111, ...,   0,   0,   0], dtype=uint8), array([ 75,  98, 110, ...,   0,   0,   0], dtype=uint8), array([ 40,  58, 253, ..., 153,   9,   9], dtype=uint8), array([0, 0, 0, ..., 0, 0, 0], dtype=uint8), array([ 0,  5, 19, ...,  0,  0,  0], dtype=uint8), array([104, 114, 111, ..., 137, 102,  23], dtype=uint8), array([ 38,  56, 140, ...,   0,   0,   0], dtype=uint8), array([64, 85, 92, ...,  0,  0,  0], dtype=uint8), array([ 15,  10,  16, ..., 119, 123,  31], dtype=uint8), array([57, 62, 65, ..., 44, 59, 24], dtype=uint8), array([ 5,  4,  4, ..., 48, 33,  4], dtype=uint8), array([71, 82, 88, ...,  0,  0,  0], dtype=uint8), array([69, 64, 62, ...,  0,  0,  3], dtype=uint8), array([0, 0, 0, ..., 0, 0, 0], dtype=uint8), array([106, 112, 113, ...,  56,  42,   4], dtype=uint8), array([237, 160,  28, ...,   1,   0,   0], dtype=uint8), array([ 73, 100, 112, ...,   0,   0,   0], dtype=uint8), array([0, 0, 0, ..., 0, 0, 0], dtype=uint8), array([4, 5, 4, ..., 5, 5, 5], dtype=uint8), array([ 86,  94, 119, ...,  31,   0,   0], dtype=uint8), array([131,  61,  60, ..., 118, 183,  84], dtype=uint8), array([73, 82, 90, ...,  2,  5,  5], dtype=uint8), array([48, 54, 79, ...,  0,  0,  0], dtype=uint8), array([0, 0, 7, ..., 0, 0, 0], dtype=uint8), array([ 0,  0, 19, ...,  0,  0,  0], dtype=uint8), array([175, 176, 178, ..., 144, 120,  59], dtype=uint8), array([ 90,  93, 119, ...,   8,   0,   0], dtype=uint8), array([ 53, 199,  84, ...,  15,  20,  19], dtype=uint8), array([ 5,  4,  3, ..., 11,  8,  9], dtype=uint8), array([ 0,  0,  0, ..., 16, 22, 30], dtype=uint8), array([73, 80, 91, ...,  0,  0,  0], dtype=uint8), array([ 0,  1, 41, ...,  0,  0,  0], dtype=uint8), array([255, 255, 255, ...,  14,   0,   0], dtype=uint8), array([ 0,  0, 36, ..., 51, 14,  0], dtype=uint8), array([  1,   1,   0, ..., 168, 188, 126], dtype=uint8), array([ 2,  4, 11, ...,  0,  0,  0], dtype=uint8), array([190,  81,  75, ...,   0,   0,  16], dtype=uint8), array([14, 11, 29, ...,  0,  0,  0], dtype=uint8), array([0, 0, 0, ..., 0, 0, 0], dtype=uint8), array([ 86,  94, 167, ...,   0,   0,   0], dtype=uint8), array([54, 47, 53, ..., 13,  0,  0], dtype=uint8), array([12, 25, 27, ..., 71, 28,  0], dtype=uint8), array([ 15,   6, 105, ...,   6,   0,   1], dtype=uint8), array([28, 26, 98, ..., 32, 32, 34], dtype=uint8), array([80, 82, 91, ..., 96, 70, 54], dtype=uint8), array([153, 152, 147, ...,  72,  28,  38], dtype=uint8), array([72, 89, 54, ..., 32, 33, 36], dtype=uint8), array([22, 32, 48, ...,  0,  0,  0], dtype=uint8), array([7, 8, 7, ..., 1, 5, 6], dtype=uint8), array([45, 56, 66, ..., 44, 27,  0], dtype=uint8), array([ 0,  0,  0, ..., 58,  0,  0], dtype=uint8), array([ 7, 18, 38, ...,  0,  0,  0], dtype=uint8), array([0, 0, 1, ..., 0, 0, 0], dtype=uint8), array([128, 114,  39, ...,   0,   0,   0], dtype=uint8), array([125, 156, 173, ...,   0,   0,   0], dtype=uint8), array([ 87, 105,  97, ...,  51,   0,   0], dtype=uint8), array([0, 0, 0, ..., 0, 0, 0], dtype=uint8), array([ 0,  0,  0, ..., 16, 14, 14], dtype=uint8), array([ 74,  97, 104, ...,   0,   0,   0], dtype=uint8), array([ 0,  8, 36, ...,  0,  0,  0], dtype=uint8), array([32, 37, 40, ..., 11, 12, 13], dtype=uint8), array([8, 8, 6, ..., 0, 0, 0], dtype=uint8), array([85, 95, 96, ..., 89, 70, 49], dtype=uint8), array([0, 0, 0, ..., 0, 0, 0], dtype=uint8), array([0, 0, 0, ..., 0, 0, 0], dtype=uint8), array([ 1,  4, 11, ...,  0,  0,  0], dtype=uint8), array([ 23,  20, 250, ...,   1,   0,   0], dtype=uint8), array([12, 29, 42, ...,  0,  0,  0], dtype=uint8), array([ 35,  33,  29, ..., 224, 198, 195], dtype=uint8), array([ 42,  70,  83, ..., 103,  38,   0], dtype=uint8), array([ 5,  0,  0, ..., 60, 33,  0], dtype=uint8), array([ 0, 10, 19, ...,  0,  0,  0], dtype=uint8), array([ 7, 40, 90, ...,  0,  0,  0], dtype=uint8), array([74, 81, 82, ...,  0,  0,  0], dtype=uint8), array([  2, 129, 137, ..., 181,  94,  50], dtype=uint8), array([13, 12, 11, ..., 13, 13, 14], dtype=uint8), array([107, 126, 127, ...,   0,   5,   8], dtype=uint8), array([ 5, 29, 62, ...,  0,  0,  0], dtype=uint8), array([68, 47, 80, ...,  0,  3,  3], dtype=uint8), array([25, 33, 36, ...,  6,  5,  4], dtype=uint8), array([  2,   1,   1, ..., 163, 145, 119], dtype=uint8), array([22, 28, 24, ..., 28, 12,  0], dtype=uint8), array([75, 28,  0, ...,  0,  0,  0], dtype=uint8), array([0, 0, 0, ..., 0, 0, 0], dtype=uint8), array([104, 108, 179, ...,   0,   0,   0], dtype=uint8), array([0, 0, 0, ..., 0, 0, 0], dtype=uint8), array([27, 23, 21, ..., 25, 25, 26], dtype=uint8), array([ 0, 14, 44, ...,  0,  0,  0], dtype=uint8), array([0, 0, 0, ..., 0, 0, 0], dtype=uint8), array([78,  7,  1, ...,  0,  0,  0], dtype=uint8), array([13, 48, 63, ...,  0,  0,  0], dtype=uint8), array([ 0, 26, 44, ...,  0,  0,  0], dtype=uint8), array([0, 0, 2, ..., 0, 0, 0], dtype=uint8), array([ 9,  6, 21, ...,  8,  9, 12], dtype=uint8), array([46, 53, 62, ..., 55, 23, 29], dtype=uint8), array([73, 82, 87, ...,  0,  0,  0], dtype=uint8), array([44, 80, 97, ...,  0,  0,  0], dtype=uint8), array([  0,   0,  70, ..., 168,   0,   0], dtype=uint8), array([ 0,  0,  0, ..., 50, 16,  0], dtype=uint8), array([0, 0, 0, ..., 0, 0, 0], dtype=uint8), array([116, 124, 127, ...,  40,   0,   1], dtype=uint8), array([104, 100, 100, ..., 185, 173, 158], dtype=uint8), array([61, 67, 66, ...,  0,  0,  0], dtype=uint8), array([0, 0, 0, ..., 0, 0, 0], dtype=uint8), array([43, 45, 49, ...,  0,  0,  0], dtype=uint8), array([ 4,  4,  4, ..., 75,  4, 11], dtype=uint8), array([13, 34, 53, ...,  0,  0,  0], dtype=uint8), array([ 6, 33, 50, ..., 37, 10,  0], dtype=uint8), array([43, 54, 71, ..., 23,  1,  0], dtype=uint8), array([31, 39, 51, ...,  0,  0,  0], dtype=uint8)]\n",
            "[1, 2, 2, 1, 1, 2, 1, 1, 0, 1, 1, 1, 1, 1, 1, 1, 1, 1, 1, 2, 2, 1, 2, 2, 2, 1, 2, 2, 1, 2, 1, 1, 1, 0, 2, 1, 1, 2, 2, 2, 1, 0, 1, 1, 2, 1, 2, 1, 1, 2, 0, 1, 0, 2, 1, 1, 2, 0, 1, 1, 2, 1, 2, 0, 1, 1, 0, 1, 1, 2, 1, 2, 1, 1, 1, 1, 2, 2, 2, 2, 1, 2, 1, 1, 0, 1, 1, 1, 2, 2, 1, 1, 2, 0, 0, 1, 2, 2, 2, 1, 1, 2, 0, 1, 1, 1, 2, 2, 1, 1, 2, 1, 2, 2, 2, 2, 0, 1, 2, 2, 0, 2, 2, 2, 2, 2, 2, 2, 0, 1, 1, 2, 2, 1, 2, 1, 1, 2, 1, 1, 1, 1, 1, 0, 1, 2, 1, 1, 1, 1, 2, 0, 1, 2, 2, 1, 1, 2, 1, 1, 0, 1, 2, 1, 1, 2, 2, 1, 1, 1, 0, 2, 1, 2, 1, 2, 1, 1, 1, 1, 2, 1, 2, 1, 2, 1, 1, 1, 0, 1, 1, 1, 1, 1, 1, 1, 2, 1, 1, 1, 1, 1, 2, 2, 1, 0, 1, 2, 2, 2, 2, 1, 1, 0, 2, 2, 1, 1, 2, 1, 1, 1, 1, 2, 1, 1, 2, 2, 1, 2, 2, 2, 2, 1, 2, 1, 2, 1, 1, 1, 1, 1, 2, 2, 2, 1, 0, 2, 2, 1, 1, 1, 2, 1, 1, 1, 1, 2, 2, 2, 1, 1, 2, 2, 2, 1, 2, 2, 1, 2, 2, 2, 2, 2, 2, 2, 2, 2, 2, 2, 1, 1, 2, 2, 2, 2, 2, 0, 1, 2, 2, 1, 2, 2, 1, 1, 2, 1, 2, 1, 1, 2, 2, 1, 1, 2, 0, 1, 1, 1, 2, 1, 1, 1, 1, 2, 2, 1, 2, 1, 0, 1, 2, 2, 1, 2, 1, 2, 0, 1, 2, 1, 2, 2, 1, 2, 1, 1, 2, 2, 1, 1, 1, 1, 2, 2, 1, 1, 1, 1, 2, 2, 2, 2, 2, 0, 1, 1, 1, 1, 1, 2, 0, 1, 2, 2, 1, 2, 0, 2, 1, 0, 2, 2, 2, 0, 1, 1, 1, 1, 2, 1, 2, 1, 1, 2, 0, 0, 1, 1, 2, 1, 2, 1, 1, 1, 2, 2, 1, 1, 1, 2, 2, 0, 2, 2, 1, 2, 1, 2, 1, 2, 1, 2, 2, 1, 1, 1, 1, 1, 2, 2, 1, 2, 2, 1, 1, 2, 1, 2, 2, 2, 2, 1, 2, 1, 1, 2, 1, 2, 2, 1, 1, 1, 0, 2, 2, 1, 1, 2, 0, 1, 1, 1, 0, 2, 2, 2, 2, 1, 1, 1, 1, 2, 0, 2, 1, 2, 2, 1, 2, 0, 2, 2, 2, 2, 2, 1, 0, 2, 2, 1, 1, 2, 1, 2, 2, 2, 2, 2, 1, 1, 1, 2, 1, 0, 1, 1, 0, 1, 1, 1, 1, 1, 2, 1, 1, 2, 2, 2, 1, 0, 2, 1, 1, 1, 0, 0, 2, 2, 2, 2, 0, 1, 2, 1, 2, 2, 1, 0, 2, 2, 2, 1, 1, 1, 1, 2, 1, 1, 1, 2, 1, 1, 1, 2, 1, 2, 1, 0, 1, 2, 1, 1, 1, 2, 1, 2, 2, 0, 2, 2, 2, 1, 1, 2, 2, 1, 0, 1, 2, 2, 0, 1, 1, 1, 1, 1, 1, 2, 2, 1, 1, 1, 1, 2, 2, 2, 2, 2, 1, 2, 1, 1, 1, 1, 2, 1, 1, 0, 1, 1, 1, 2, 2, 2, 0, 2, 1, 1, 1, 2, 2, 2, 2, 2, 1, 1, 1, 2, 1, 1, 1, 1, 0, 2, 2, 2, 2, 1, 2, 1, 1, 1, 2, 2, 2, 2, 1, 1, 0, 1, 2, 0, 2, 1, 1, 2, 1, 1, 2, 1, 1, 1, 1, 1, 2, 2, 1, 1, 2, 2, 1, 1, 2, 2, 2, 0, 0, 1, 1, 1, 1, 2, 1, 0, 1, 1, 1, 0, 2, 0, 1, 1, 1, 2, 2, 0, 1, 0, 1, 1, 1, 2, 2, 2, 1, 2, 2, 2, 2, 2, 2, 0, 2, 2, 2, 1, 1, 2, 2, 1, 2, 1, 2, 1, 1, 1, 2, 2, 0, 2, 2, 0, 2, 2, 0, 1, 1, 2, 2, 2, 2, 0, 2, 2, 2, 1, 2, 1, 1, 1, 2, 1, 1, 2, 2, 1, 2, 2, 1, 2, 2, 1, 2, 2, 1, 1, 2, 2, 1, 2, 1, 1, 2, 2, 1, 2, 1, 2, 2, 2, 1, 1, 2, 2, 1, 1, 1, 1, 1, 0, 2, 2, 2, 1, 0, 1, 1, 2, 2, 2, 2, 1, 1, 2, 1, 1, 2, 1, 2, 2, 2, 2, 1, 1, 2, 1, 2, 2, 2, 1, 1, 0, 0, 1, 2, 1, 2, 2, 2, 2, 1, 1, 0, 1, 2, 2, 2, 2, 1, 1, 1, 2, 2, 2, 0, 2, 1, 2, 1, 1, 0, 2, 2, 1, 2, 1, 2, 2, 2, 1, 2, 2, 2, 1, 0, 2, 1, 0, 2, 1, 1, 2, 1, 2, 0, 2, 0, 1, 1, 2, 0, 2, 0, 2, 1, 2, 1, 2, 2, 0, 2, 2, 2, 1, 1, 0, 2, 2, 1, 0, 1, 1, 2, 1, 2, 2, 1, 2, 2, 0, 1, 1, 1, 1, 1, 2, 2, 1, 1, 1, 2, 2, 1, 1, 1, 1, 2, 2, 2, 2, 0, 2, 1, 2, 1, 2, 2, 1, 1, 1, 1, 2, 2, 1, 2, 2, 2, 1, 1, 1, 1, 2, 2, 1, 1, 2, 2, 2, 2, 1, 1, 2, 2, 2, 2, 1, 1, 1, 2, 0, 1, 2, 2, 2, 2, 1, 1, 2, 2, 2, 2, 1, 1, 2, 2, 1, 2, 1, 2, 2, 1, 2, 2, 1, 1, 1, 1, 1, 2, 2, 2, 2, 1, 2, 2, 1, 2, 1, 1, 1, 2, 1, 2, 1, 2, 2, 2, 1, 2, 2, 2, 2, 1, 2, 2, 2, 1, 2, 2, 1, 2, 2, 1, 2, 2, 1, 2, 2, 1, 0, 2, 0, 2, 2, 2, 2, 2, 1, 2, 1, 1, 1, 2, 1, 1, 1, 2, 2, 0, 2, 1, 2, 2, 2, 2, 2, 0, 2, 2, 2, 2, 1, 2, 2, 1, 1, 2, 1, 2, 1, 0, 1, 2, 1, 2, 1, 1, 1, 2, 1, 1, 2, 2, 1, 1, 2, 1, 2, 0, 2, 1, 1, 2, 2, 0, 2, 2, 0, 1, 1, 1, 1, 2, 1, 1, 2, 0, 1, 2, 1, 1, 0, 2, 1, 1, 2, 2, 2, 1, 0, 1, 1, 1, 1, 1, 1, 2, 1, 1, 1, 1, 2, 1, 2, 1, 0, 1, 2, 1, 0, 2, 1, 2, 1, 2, 2, 1, 1, 1, 1, 1, 2, 2, 1, 2, 1, 1, 1, 1, 2, 1, 2, 2, 1, 1, 1, 2, 1, 2, 1, 1, 2, 1, 1, 2, 2, 1, 1, 1, 1, 1, 2, 1, 1, 2, 2, 2, 2, 2, 0, 1, 1, 2, 1, 1, 1, 1, 2, 1, 1, 1, 2, 2, 2, 2, 2, 2, 2, 1, 1, 1, 0, 1, 2, 2, 2, 1, 2, 1, 1, 1, 1, 2, 1, 1, 0, 1, 1, 0, 1, 0, 2, 1, 2, 2, 2, 1, 2, 1, 2, 2, 1, 2, 2, 0, 2, 2, 2, 1, 1, 1, 2, 2, 1, 2, 1, 0, 1, 1, 1, 0, 2, 2, 1, 2, 2, 2, 2, 2, 1, 2, 2, 1, 2, 2, 2, 2, 1, 2, 1, 1, 2, 2, 1, 2, 1, 1, 1, 1, 2, 2, 1, 2, 2, 2, 1, 2, 2, 2, 2, 2, 2, 2, 1, 2, 2, 2, 1, 2, 0, 2, 2, 2, 1, 0, 1, 1, 0, 1, 2, 1, 2, 0, 2, 1, 1, 1, 2, 1, 2, 2, 0, 1, 0, 1, 1, 2, 1, 1, 2, 1, 1, 2, 1, 1, 2, 1, 2, 2, 1, 1, 1, 2, 2, 2, 1, 1, 2, 1, 1, 2, 2, 1, 1, 0, 2, 1, 2, 1, 2, 1, 2, 2, 1, 0, 1, 2, 1, 1, 2, 1, 0, 1, 1, 0, 2, 1, 2, 2, 1, 2, 2, 1, 1, 2, 2, 2, 1, 1, 2, 1, 2, 2, 2, 2, 1, 1, 2, 1, 1, 1, 1, 1, 1, 2, 1, 2, 1, 1, 2, 2, 2, 2, 1, 1, 1, 1, 1, 1, 1, 1, 2, 1, 1, 2, 2, 2, 1, 2, 2, 2, 1, 1, 2, 0, 2, 1, 2, 2, 1, 2, 1, 1, 1, 0, 1, 2, 2, 2, 1, 2, 2, 1, 1, 0, 2, 1, 2, 1, 1, 2, 1, 2, 1, 2, 2, 2, 2, 1, 1, 0, 2, 1, 1, 1, 0, 1, 2, 2, 1, 1, 2, 1, 1, 1, 2, 1, 2, 2, 2, 1, 2, 1, 1, 2, 2, 1, 1, 1, 2, 2, 2, 1, 1, 2, 2, 2, 0, 1, 2, 2, 1, 1, 1, 1, 2, 1, 2, 1, 2, 1, 2, 1, 1, 2, 1, 1, 1, 2, 2, 1, 2, 2, 1, 1, 0, 1, 0, 1, 2, 2, 2, 2, 1, 2, 2, 1, 2, 2, 2, 2, 2, 2, 2, 2, 1, 1, 1, 2, 1, 1, 1, 1, 2, 2, 2, 2, 1, 1, 1, 1, 2, 2, 0, 1, 2, 2, 1, 1, 2, 1, 0, 2, 2, 2, 2, 1, 1, 2, 1, 2, 2, 2, 1, 2, 2, 2, 2, 1, 2, 2, 1, 1, 2, 1, 1, 2, 1, 2, 2, 2, 1, 2, 2, 2, 2, 2, 1, 1, 0, 1, 1, 2, 1, 2, 2, 1, 1, 2, 0, 2, 2, 1, 2, 1, 2, 2, 0, 2, 1, 0, 2, 2, 1, 2, 2, 2, 2, 1, 2, 2, 1, 2, 1, 1, 2, 2, 2, 1, 1, 2, 2, 2, 1, 2, 2, 0, 1, 0, 2, 2, 2, 2, 0, 1, 1, 1, 2, 1, 2, 0, 0, 2, 0, 1, 1, 1, 2, 2, 1, 1, 1, 1, 1, 2, 1, 2, 1, 2, 1, 1, 2, 2, 2, 1, 2, 2, 1, 2, 1, 2, 2, 2, 2, 1, 1, 2, 2, 1, 2, 2, 1, 2, 2, 1, 1, 1, 1, 1, 2, 2, 2, 1, 1, 2, 2, 1, 1, 0, 1, 2, 1, 2, 1, 2, 2, 1, 1, 2, 2, 1, 1, 1, 2, 0, 2, 1, 1, 0, 2, 2, 1, 1, 1, 1, 2, 1, 1, 1, 1, 1, 2, 2, 2, 1, 1, 1, 2, 2, 2, 1, 1, 2, 1, 2, 1, 2, 1, 1, 2, 1, 2, 2, 2, 1, 1, 1, 2, 0, 0, 0, 2, 2, 1, 2, 1, 2, 1, 1, 2, 1, 0, 1, 2, 0, 1, 1, 2, 1, 1, 1, 2, 1, 0, 1, 1, 0, 1, 1, 1, 2, 2, 1, 2, 2, 2, 2, 1, 1, 0, 2, 1, 0, 1, 2, 0, 0, 2, 2, 1, 2, 1, 0, 1, 1, 1, 2, 2, 2, 2, 2, 2, 0, 2, 1, 1, 1, 1, 1, 1, 1, 2, 1, 1, 1, 1, 1, 1, 0, 1, 1, 1, 2, 1, 1, 1, 2, 2, 2, 1, 0, 2, 1, 2, 2, 2, 2, 1, 1, 1, 2, 2, 2, 1, 2, 1, 2, 1, 2, 0, 2, 1, 1, 1, 0, 2, 2, 2, 2, 2, 2, 2, 2, 1, 1, 2, 1, 2, 1, 2, 1, 2, 2, 2, 2, 2, 2, 1, 2, 2, 0, 2, 1, 0, 2, 2, 1, 2, 2, 1, 0, 2, 2, 1, 1, 1, 2, 2, 1, 1, 2, 2, 2, 2, 2, 2, 1, 1, 1, 1, 2, 2, 1, 2, 2, 1, 2, 1, 2, 1, 0, 1, 0, 2, 1, 1, 2, 1, 1, 2, 2, 1, 2, 1, 1, 1, 1, 2, 1, 1, 1, 1, 1, 2, 1, 2, 1, 1, 2, 1, 2, 2, 1, 1, 2, 2, 1, 1, 2, 2, 2, 2, 1, 1, 2, 1, 2, 2, 0, 1, 1, 2, 2, 1, 1, 1, 1, 2, 1, 1, 1, 0, 1, 0, 2, 1, 1, 1, 1, 1, 2, 1, 0, 1, 2, 2, 1, 1, 2, 1, 2, 1, 2, 2, 1, 1, 2, 2, 2, 2, 2, 2, 1, 2, 1, 2, 1, 2, 2, 2, 2, 1, 2, 1, 2, 2, 2, 1, 2, 0, 0, 1, 2, 1, 1, 2, 2, 1, 1, 2, 2, 2, 1, 2, 2, 2, 1, 1, 1, 1, 2, 2, 2, 1, 2, 2, 1, 2, 0, 2, 1, 1, 1, 1, 1, 1, 1, 1, 2, 0, 2, 2, 1, 1, 2, 1, 1, 2, 2, 1, 0, 2, 2, 2, 1, 2, 1, 1, 1, 1, 1, 2, 1, 1, 1, 2, 2, 2, 2, 1, 1, 2, 2, 2, 1, 1, 1, 2, 1, 2, 0, 2, 1, 1, 2, 2, 1, 2, 1, 1, 2, 2, 1, 2, 1, 2, 2, 2, 1, 0, 2, 2, 2, 1, 2, 1, 1, 2, 1, 1, 1, 2, 2, 0, 1, 2, 2, 2, 2, 1, 1, 2, 2, 2, 1, 2, 1, 1, 2, 1, 1, 2, 2, 1, 1, 2, 2, 2, 2, 1, 1, 2, 2, 1, 1, 1, 2, 2, 2, 0, 1, 2, 1, 2, 2, 2, 2, 2, 2, 1, 1, 2, 1, 2, 1, 1, 1, 1, 2, 1, 1, 2, 2, 1, 2, 2, 2, 2, 1, 1, 2, 2, 2, 1, 2, 1, 2, 0, 1, 1, 1, 1, 2, 1, 1, 1, 0, 2, 1, 2, 1, 1, 2, 1, 1, 1, 2, 2, 1, 2, 2, 2, 1, 2, 2, 2, 1, 2, 1, 2, 1, 2, 2, 1, 2, 2, 1, 2, 2, 2, 2, 2, 1, 1, 1, 2, 1, 1, 2, 2, 2, 1, 0, 1, 2, 1, 1, 1, 2, 2, 2, 1, 1, 2, 2, 2, 2, 1, 1, 1, 2, 1, 2, 1, 2, 2, 2, 1, 2, 1, 1, 2, 2, 2, 1, 2, 2, 1, 0, 1, 2, 2, 0, 1, 2, 1, 1, 2, 2, 2, 1, 1, 2, 2, 2, 0, 0, 1, 0, 2, 1, 1, 1, 1, 2, 1, 2, 2, 1, 2, 1, 1, 1, 2, 1, 1, 2, 1, 2, 1, 1, 2, 2, 1, 2, 2, 2, 2, 2, 2, 2, 2, 1, 1, 1, 2, 2, 1, 2, 0, 1, 2, 1, 1, 2, 2, 2, 1, 2, 1, 2, 1, 0, 1, 1, 2, 2, 1, 1, 2, 1, 2, 2, 1, 1, 1, 1, 0, 0, 1, 2, 2, 1, 2, 1, 2, 2, 1, 1, 2, 1, 2, 1, 1, 2, 2, 2, 1, 2, 2, 2, 1, 1, 2, 2, 2, 2, 1, 0, 2, 1, 1, 1, 2, 2, 2, 2, 2, 2, 1, 1, 1, 2, 1, 1, 1, 1, 1, 2, 2, 1, 1, 2, 2, 2, 2, 2, 1, 0, 1, 0, 2, 2, 2, 1, 1, 2, 1, 1, 1, 2, 2, 1, 1, 1, 2, 2, 2, 0, 2, 1, 2, 1, 0, 1, 1, 1, 1, 2, 2, 2, 0, 2, 1, 2, 1, 1, 1, 1, 1, 1, 2, 2, 1, 1, 2, 1, 2, 0, 1, 1, 1, 1, 2, 1, 2, 2, 2, 2, 2, 2, 1, 1, 2, 1, 0, 1, 1, 2, 2, 2, 1, 1, 1, 1, 2, 1, 2, 2, 1, 0, 2, 2, 1, 1, 1, 2, 2, 2, 1, 1, 2, 2, 2, 1, 1, 2, 0, 2, 2, 1, 1, 1, 2, 1, 2, 1, 0, 0, 1, 2, 0, 2, 2, 2, 2, 2, 0, 2, 1, 0, 2, 1, 2, 2, 1, 2, 1, 2, 1, 1, 2, 2, 0, 1, 1, 2, 2, 1, 1, 1, 1, 0, 2, 2, 1, 2, 1, 2, 2, 2, 1, 2, 1, 1, 0, 2, 0, 1, 2, 0, 1, 2, 2, 1, 2, 1, 2, 1, 1, 1, 2, 1, 2, 1, 0, 1, 1, 2, 1, 2, 1, 1, 2, 1, 1, 1, 2, 2, 1, 2, 2, 1, 1, 2, 1, 1, 2, 1, 1, 2, 1, 0, 1, 2, 1, 2, 2, 2, 2, 1, 2, 1, 2, 2, 1, 2, 1, 2, 2, 2, 1, 2, 2, 1, 2, 2, 1, 2, 2, 2, 1, 2, 1, 2, 1, 2, 1, 1, 2, 1, 1, 2, 1, 1, 1, 2, 1, 1, 1, 1, 2, 1, 1, 2, 1, 1, 1, 2, 1, 2, 2, 2, 2, 2, 0, 2, 1, 1, 1, 1, 2, 2, 0, 1, 1, 0, 2, 2, 1, 2, 1, 2, 2, 1, 1, 1, 1, 2, 1, 2, 2, 2, 1, 2, 1, 1, 0, 2, 1, 2, 1, 1, 2, 1, 2, 2, 2, 2, 2, 1, 0, 2, 0, 2, 2, 2, 1, 1, 1, 1, 2, 1, 2, 2, 2, 1, 1, 2, 2, 1, 1, 1, 1, 1, 2, 1, 1, 2, 1, 2, 1, 2, 0, 2, 1, 1, 1, 2, 2, 1, 1, 2, 1, 1, 2, 2, 2, 1, 1, 2, 1, 1, 2, 2, 2, 2, 1, 0, 1, 2, 2, 2]\n"
          ],
          "name": "stdout"
        }
      ]
    },
    {
      "cell_type": "code",
      "metadata": {
        "id": "LhLqXIxSLqK0",
        "outputId": "66b7aa4e-7b74-46eb-e007-9406c4a108e7",
        "colab": {
          "base_uri": "https://localhost:8080/",
          "height": 51
        }
      },
      "source": [
        "xtrain, xtest, ytrain, ytest = train_test_split(features, labels, test_size=TEST_SIZE)\n",
        "print(f'Train images: {len(xtrain)}')\n",
        "print(f'Test images: {len(xtest)}')"
      ],
      "execution_count": null,
      "outputs": [
        {
          "output_type": "stream",
          "text": [
            "Train images: 2324\n",
            "Test images: 581\n"
          ],
          "name": "stdout"
        }
      ]
    },
    {
      "cell_type": "markdown",
      "metadata": {
        "id": "y1oB_3fsKbrg"
      },
      "source": [
        "### 7. Instantiate SVC model with Support Vector Machine from SKlearn\n",
        "<h3>Hyperparameters used</h3>\n",
        "\n",
        "* <b>Regularisation parameter (C)</b> = 1\n",
        "* gamma set to <b>auto</b>\n",
        "* <b>Kernel type</b> = poly"
      ]
    },
    {
      "cell_type": "code",
      "metadata": {
        "id": "oTldG6tBG_97",
        "outputId": "031eb89c-7920-4aab-fd55-d023030b21e0",
        "colab": {
          "base_uri": "https://localhost:8080/",
          "height": 204
        }
      },
      "source": [
        "#defining the SVC with Support Vector Machine\n",
        "kernels = ['poly', 'linear']\n",
        "models = []\n",
        "for kernel in kernels:\n",
        "    models.append(SVC(C=1, gamma='auto', kernel=kernel))\n",
        "    print(models)"
      ],
      "execution_count": null,
      "outputs": [
        {
          "output_type": "stream",
          "text": [
            "[SVC(C=1, break_ties=False, cache_size=200, class_weight=None, coef0=0.0,\n",
            "    decision_function_shape='ovr', degree=3, gamma='auto', kernel='poly',\n",
            "    max_iter=-1, probability=False, random_state=None, shrinking=True,\n",
            "    tol=0.001, verbose=False)]\n",
            "[SVC(C=1, break_ties=False, cache_size=200, class_weight=None, coef0=0.0,\n",
            "    decision_function_shape='ovr', degree=3, gamma='auto', kernel='poly',\n",
            "    max_iter=-1, probability=False, random_state=None, shrinking=True,\n",
            "    tol=0.001, verbose=False), SVC(C=1, break_ties=False, cache_size=200, class_weight=None, coef0=0.0,\n",
            "    decision_function_shape='ovr', degree=3, gamma='auto', kernel='linear',\n",
            "    max_iter=-1, probability=False, random_state=None, shrinking=True,\n",
            "    tol=0.001, verbose=False)]\n"
          ],
          "name": "stdout"
        }
      ]
    },
    {
      "cell_type": "markdown",
      "metadata": {
        "id": "oPUKOypFLOx_"
      },
      "source": [
        "#### 8. Fitting the model and performing evaluation"
      ]
    },
    {
      "cell_type": "code",
      "metadata": {
        "id": "BRb8GJpjHBA9",
        "outputId": "27491da3-00aa-4bb6-beff-0491860702d8",
        "colab": {
          "base_uri": "https://localhost:8080/",
          "height": 100,
          "referenced_widgets": [
            "50118b94f18e4b149e57b714e2a52f36",
            "80e4eca77b0c4b008d982d8b8828f991",
            "1aae4a749f7644eba1b16b69744d1994",
            "6b29ef50e78244e8905ba790982ee2f5",
            "7cd79aa2dade4bd1a9d1a729d54ea7c2",
            "8b509562f94c460eb5eccd7921105e6a",
            "58a50a601608499fb6db49016618109b",
            "f15df37e40d04b1caa981e926ba1358e"
          ]
        }
      },
      "source": [
        "for model in tq.tqdm(models):\n",
        "    start = time.time()\n",
        "    model.fit(xtrain, ytrain)\n",
        "    end = time.time()\n",
        "    print(f'[{kernels[models.index(model)]}]Time taken for fit: {end - start}s')"
      ],
      "execution_count": null,
      "outputs": [
        {
          "output_type": "display_data",
          "data": {
            "application/vnd.jupyter.widget-view+json": {
              "model_id": "50118b94f18e4b149e57b714e2a52f36",
              "version_minor": 0,
              "version_major": 2
            },
            "text/plain": [
              "HBox(children=(FloatProgress(value=0.0, max=2.0), HTML(value='')))"
            ]
          },
          "metadata": {
            "tags": []
          }
        },
        {
          "output_type": "stream",
          "text": [
            "[poly]Time taken for fit: 22.609201431274414s\n",
            "[linear]Time taken for fit: 22.37925100326538s\n",
            "\n"
          ],
          "name": "stdout"
        }
      ]
    },
    {
      "cell_type": "markdown",
      "metadata": {
        "id": "Ub-8nTvnMXU6"
      },
      "source": [
        "#### 9. Evaluation of the model using test dataset we have created in part 6"
      ]
    },
    {
      "cell_type": "code",
      "metadata": {
        "id": "hRsoY0SbHCIc",
        "outputId": "c943bda2-f501-4c7d-f1f4-2d8b9bb4f4d3",
        "colab": {
          "base_uri": "https://localhost:8080/",
          "height": 168,
          "referenced_widgets": [
            "64b81f12692c4321ae974e4fdac8195b",
            "f72b626c72214a0f94f770df6599aef1",
            "a5afa3760aef486ba47673a1482eed45",
            "bf4fcf867ada4e3f8474d1a306774303",
            "3bab8aa4661046138284344910bcb5e6",
            "1f80131681fe46c68e18f52a4a6176f6",
            "91f7753a82694254bc3f23d1dbf7f537",
            "49c2dac7d4a140cdb7341763b48974e3"
          ]
        }
      },
      "source": [
        "#Evaluating models for each different kernel used in Support Vector Machine\n",
        "model_acc = []\n",
        "for model in tq.tqdm(models):\n",
        "    start = time.time()\n",
        "    accuracy = model.score(xtest, ytest)\n",
        "    end = time.time()\n",
        "    print(f'[{kernels[models.index(model)]}]Accuracy: {accuracy}, time taken: {end - start}s')\n",
        "    model_acc.append((model, accuracy))\n",
        "\n",
        "best_model = max(model_acc, key=lambda x:x[1])\n",
        "print(f'Model with best accuracy: {best_model}')"
      ],
      "execution_count": null,
      "outputs": [
        {
          "output_type": "display_data",
          "data": {
            "application/vnd.jupyter.widget-view+json": {
              "model_id": "64b81f12692c4321ae974e4fdac8195b",
              "version_minor": 0,
              "version_major": 2
            },
            "text/plain": [
              "HBox(children=(FloatProgress(value=0.0, max=2.0), HTML(value='')))"
            ]
          },
          "metadata": {
            "tags": []
          }
        },
        {
          "output_type": "stream",
          "text": [
            "[poly]Accuracy: 0.9397590361445783, time taken: 5.121783018112183s\n",
            "[linear]Accuracy: 0.9345955249569707, time taken: 5.222192049026489s\n",
            "\n",
            "Model with best accuracy: (SVC(C=1, break_ties=False, cache_size=200, class_weight=None, coef0=0.0,\n",
            "    decision_function_shape='ovr', degree=3, gamma='auto', kernel='poly',\n",
            "    max_iter=-1, probability=False, random_state=None, shrinking=True,\n",
            "    tol=0.001, verbose=False), 0.9397590361445783)\n"
          ],
          "name": "stdout"
        }
      ]
    },
    {
      "cell_type": "markdown",
      "metadata": {
        "id": "8tYZTnSzMm0-"
      },
      "source": [
        "#### Confusion Table/Matrix using Test Data"
      ]
    },
    {
      "cell_type": "code",
      "metadata": {
        "id": "HsExVa40MDvq",
        "outputId": "adf633e6-899f-4597-cec1-c30b78968404",
        "colab": {
          "base_uri": "https://localhost:8080/",
          "height": 777
        }
      },
      "source": [
        "classifier = best_model\n",
        "print(classifier[0])\n",
        "np.set_printoptions(precision=2)\n",
        "\n",
        "titles_options = [(\"Confusion Matrix, without normalization\", None),\n",
        "                  (\"Normalized confusion matrix\", 'true')]\n",
        "for title, normalize in titles_options:\n",
        "    disp = plot_confusion_matrix(classifier[0], xtest, ytest,\n",
        "                                 display_labels = categories,\n",
        "                                 cmap=plt.cm.Blues,\n",
        "                                 normalize=normalize)\n",
        "    disp.ax_.set_title(title)\n",
        "    print(title)\n",
        "    print(disp.confusion_matrix)\n",
        "plt.show()"
      ],
      "execution_count": null,
      "outputs": [
        {
          "output_type": "stream",
          "text": [
            "SVC(C=1, break_ties=False, cache_size=200, class_weight=None, coef0=0.0,\n",
            "    decision_function_shape='ovr', degree=3, gamma='auto', kernel='poly',\n",
            "    max_iter=-1, probability=False, random_state=None, shrinking=True,\n",
            "    tol=0.001, verbose=False)\n",
            "Confusion Matrix, without normalization\n",
            "[[ 38   3   5]\n",
            " [  3 257  16]\n",
            " [  1   7 251]]\n",
            "Normalized confusion matrix\n",
            "[[0.83 0.07 0.11]\n",
            " [0.01 0.93 0.06]\n",
            " [0.   0.03 0.97]]\n"
          ],
          "name": "stdout"
        },
        {
          "output_type": "display_data",
          "data": {
            "image/png": "[encoded data removed]",
            "text/plain": [
              "<Figure size 432x288 with 2 Axes>"
            ]
          },
          "metadata": {
            "tags": [],
            "needs_background": "light"
          }
        },
        {
          "output_type": "display_data",
          "data": {
            "image/png": "[encoded data removed]",
            "text/plain": [
              "<Figure size 432x288 with 2 Axes>"
            ]
          },
          "metadata": {
            "tags": [],
            "needs_background": "light"
          }
        }
      ]
    },
    {
      "cell_type": "code",
      "metadata": {
        "id": "uk9wMcOqY-iw"
      },
      "source": [
        "from sklearn.feature_selection import RFE\n",
        "from sklearn.svm import SVR\n",
        "\n",
        "estimator = SVR(kernel='linear')\n",
        "selector = RFE(estimator, n_features_to_select=3, step=1)\n",
        "selector = selector.fit(features, labels)\n",
        "selector.support_\n",
        "selector.ranking_"
      ],
      "execution_count": null,
      "outputs": []
    },
    {
      "cell_type": "markdown",
      "metadata": {
        "id": "1k7EoA5PNZny"
      },
      "source": [
        "### Saving the Model"
      ]
    },
    {
      "cell_type": "code",
      "metadata": {
        "id": "t5_yNTMmQ4jz",
        "outputId": "913f7a17-fa05-419b-8495-960c4c21eec4",
        "colab": {
          "base_uri": "https://localhost:8080/",
          "height": 34
        }
      },
      "source": [
        "model = models[0]\n",
        "#SAVING THE SVC MODEL\n",
        "pkl_filename = \"pickle_model_svc_poly_50.pkl\"\n",
        "\n",
        "with open(pkl_filename, 'wb') as file:\n",
        "    pickle.dump(model, file)\n",
        "\n",
        "os.listdir()"
      ],
      "execution_count": null,
      "outputs": [
        {
          "output_type": "execute_result",
          "data": {
            "text/plain": [
              "['.config', 'pickle_model_svc_poly_50.pkl', 'drive', 'sample_data']"
            ]
          },
          "metadata": {
            "tags": []
          },
          "execution_count": 47
        }
      ]
    },
    {
      "cell_type": "code",
      "metadata": {
        "id": "PuH1-ZzTMesb",
        "outputId": "2f88a98c-1058-4138-adb9-d28fe41e725f",
        "colab": {
          "base_uri": "https://localhost:8080/",
          "height": 136
        }
      },
      "source": [
        "# Get support vectors themselves\n",
        "support_vectors = model.support_vectors_\n",
        "print(support_vectors)"
      ],
      "execution_count": null,
      "outputs": [
        {
          "output_type": "stream",
          "text": [
            "[[  7.   8.   7. ...   3.   5.   7.]\n",
            " [  0.   0.   0. ...  22.  75. 189.]\n",
            " [184. 146. 124. ...  93.  86.  65.]\n",
            " ...\n",
            " [ 19.  38.  56. ...   0.   0.   0.]\n",
            " [162. 159. 167. ... 156. 142. 109.]\n",
            " [ 24.  22.  21. ...   6.   6.   6.]]\n"
          ],
          "name": "stdout"
        }
      ]
    },
    {
      "cell_type": "code",
      "metadata": {
        "id": "FLSPCSgvNSov"
      },
      "source": [
        ""
      ],
      "execution_count": null,
      "outputs": []
    },
    {
      "cell_type": "markdown",
      "metadata": {
        "id": "eMtpIoyaMsoc"
      },
      "source": [
        "### Image Reduction: using 50x50\n"
      ]
    },
    {
      "cell_type": "code",
      "metadata": {
        "id": "YVpcL-nsMzR9",
        "outputId": "1f061eb5-6121-4b1e-edc7-1d162ff27539",
        "colab": {
          "base_uri": "https://localhost:8080/",
          "height": 231,
          "referenced_widgets": [
            "8e9c2f63bc524e378585f770bfc31570",
            "02fdd500ec0e40a5b8674ef1b3d236be",
            "86243504c31b4058a07f83c4b7d3bc01",
            "b28553cb13f341a9b4ef757988dcdaf4",
            "5edbbfeac5d040ada0177628f5ba86e9",
            "f3f75178ab1547f2bd2b67da28c2991c",
            "f52790b4d8b8419987051d4f1d209aeb",
            "99779f0b3d4f4397afa98bfe39cbf7e4",
            "3b4fd947ae6e4ed9b3577c2a414a7312",
            "c02340b42a154436b7f3a3f31be417f8",
            "490e764925ad4908b05e0d949c01f239",
            "12f91152b4244d01b1bca348e34680c5",
            "b0786e82293943208c7cf0eef8eba8d6",
            "d3d9cdb8ab8a421fabee04414a84ad28",
            "a1dadab2824a42c1ac86d880c41dc1c7",
            "aa448669594d46d393390d634b370462",
            "270cadd29eb543d9b2a6aac7c861669a",
            "8342927df2b04b0f8beb41fd8abbdeed",
            "b4bdaf6e68d543188ab6b5205a0da94d",
            "f85cb9c10deb496eba8e38997b5a9dff",
            "1276e6a76a6a4594a235acd5480acadd",
            "e9ecae5473e84ef7904d2331fc277449",
            "2771161ec66a464eb5348a7e5eedf999",
            "8b716761842747b3a51d41f6bdb72b7d",
            "b2b6d452e07745899ce057476f5f9a08",
            "60637d7350a54614b93f6a969bd2948e",
            "9279e10688bb4003845990920ed5f4d1",
            "c228c2671cb1490ebf11f8c1fb9fca06",
            "ff003af032614c138e68be90223847e5",
            "5a8b083959f147f38a21f26327730bfa",
            "c89fcf1d1b2a455b87a70e0d43fd6b32",
            "14262879849443dda8420988f30abaf0"
          ]
        }
      },
      "source": [
        "#SVM\n",
        "import cv2\n",
        "\n",
        "PATH = './drive/My Drive/Kaggle/COVID-19 Radiography Database/'\n",
        "print(os.listdir(PATH))\n",
        "categories = ['COVID-19', 'NORMAL', 'Viral Pneumonia']\n",
        "\n",
        "data = []\n",
        "for category in tq.tqdm(categories):\n",
        "    path = os.path.join(PATH, category)\n",
        "    label = categories.index(category)\n",
        "\n",
        "    for img in tq.tqdm(os.listdir(path)):\n",
        "        imgpath = os.path.join(path, img)\n",
        "        xray_img = cv2.imread(imgpath, 0)\n",
        "        xray_img = cv2.resize(xray_img, (50, 50))\n",
        "\n",
        "        image = np.array(xray_img).flatten()\n",
        "        data.append([image, label])\n",
        "        #print(f'{image} {label}')"
      ],
      "execution_count": null,
      "outputs": [
        {
          "output_type": "stream",
          "text": [
            "['COVID-19.metadata.xlsx', 'NORMAL.metadata.xlsx', 'Viral Pneumonia.matadata.xlsx', 'README.md.txt', 'COVID-19', 'NORMAL', 'Viral Pneumonia']\n"
          ],
          "name": "stdout"
        },
        {
          "output_type": "display_data",
          "data": {
            "application/vnd.jupyter.widget-view+json": {
              "model_id": "8e9c2f63bc524e378585f770bfc31570",
              "version_minor": 0,
              "version_major": 2
            },
            "text/plain": [
              "HBox(children=(FloatProgress(value=0.0, max=3.0), HTML(value='')))"
            ]
          },
          "metadata": {
            "tags": []
          }
        },
        {
          "output_type": "display_data",
          "data": {
            "application/vnd.jupyter.widget-view+json": {
              "model_id": "3b4fd947ae6e4ed9b3577c2a414a7312",
              "version_minor": 0,
              "version_major": 2
            },
            "text/plain": [
              "HBox(children=(FloatProgress(value=0.0, max=219.0), HTML(value='')))"
            ]
          },
          "metadata": {
            "tags": []
          }
        },
        {
          "output_type": "stream",
          "text": [
            "\n"
          ],
          "name": "stdout"
        },
        {
          "output_type": "display_data",
          "data": {
            "application/vnd.jupyter.widget-view+json": {
              "model_id": "270cadd29eb543d9b2a6aac7c861669a",
              "version_minor": 0,
              "version_major": 2
            },
            "text/plain": [
              "HBox(children=(FloatProgress(value=0.0, max=1341.0), HTML(value='')))"
            ]
          },
          "metadata": {
            "tags": []
          }
        },
        {
          "output_type": "stream",
          "text": [
            "\n"
          ],
          "name": "stdout"
        },
        {
          "output_type": "display_data",
          "data": {
            "application/vnd.jupyter.widget-view+json": {
              "model_id": "b2b6d452e07745899ce057476f5f9a08",
              "version_minor": 0,
              "version_major": 2
            },
            "text/plain": [
              "HBox(children=(FloatProgress(value=0.0, max=1345.0), HTML(value='')))"
            ]
          },
          "metadata": {
            "tags": []
          }
        },
        {
          "output_type": "stream",
          "text": [
            "\n",
            "\n"
          ],
          "name": "stdout"
        }
      ]
    },
    {
      "cell_type": "code",
      "metadata": {
        "id": "yi61QhqxM4Vp"
      },
      "source": [
        "pickle_in = open('./drive/My Drive/xray_dataset_sklearn_50.pickle', 'wb')\n",
        "pickle.dump(data, pickle_in)\n",
        "pickle_in.close()"
      ],
      "execution_count": null,
      "outputs": []
    },
    {
      "cell_type": "markdown",
      "metadata": {
        "id": "WtgjUBt6NCAY"
      },
      "source": [
        "Load the saved data"
      ]
    },
    {
      "cell_type": "code",
      "metadata": {
        "id": "cPxEVgL-M4uc"
      },
      "source": [
        "pickle_in = open('./drive/My Drive/xray_dataset_sklearn_50.pickle', 'rb')\n",
        "data = pickle.load(pickle_in)\n",
        "pickle_in.close()"
      ],
      "execution_count": null,
      "outputs": []
    },
    {
      "cell_type": "code",
      "metadata": {
        "id": "xqJnCHdYPKfN",
        "outputId": "eac452ea-67ef-4f6e-ef12-1422d47cc848",
        "colab": {
          "base_uri": "https://localhost:8080/",
          "height": 155,
          "referenced_widgets": [
            "7e9d2674e797482ab3805bc5c7d09739",
            "8886db0eab7942738ed26cbb42133b7d",
            "e73c0947d679403083280810bf0d588c",
            "72bb296490be4c9d9935a62fd3a85238",
            "9d192b071518402cace3809fa5424da5",
            "634882143e744606839436c54060fc2e",
            "1d7d0039b24245188557216ca43a4428",
            "a6c1531dee0846269ead1004bd382954"
          ]
        }
      },
      "source": [
        "random.shuffle(data)\n",
        "TEST_SIZE = 0.2\n",
        "features = []\n",
        "labels = []\n",
        "\n",
        "for feature, label in tq.tqdm(data):\n",
        "    features.append(feature)\n",
        "    labels.append(label)\n",
        "print(features)\n",
        "print(labels)\n",
        "\n",
        "xtrain, xtest, ytrain, ytest = train_test_split(features, labels, test_size=TEST_SIZE)\n",
        "print(f'Train images: {len(xtrain)}')\n",
        "print(f'Test images: {len(xtest)}')"
      ],
      "execution_count": null,
      "outputs": [
        {
          "output_type": "display_data",
          "data": {
            "application/vnd.jupyter.widget-view+json": {
              "model_id": "7e9d2674e797482ab3805bc5c7d09739",
              "version_minor": 0,
              "version_major": 2
            },
            "text/plain": [
              "HBox(children=(FloatProgress(value=0.0, max=2905.0), HTML(value='')))"
            ]
          },
          "metadata": {
            "tags": []
          }
        },
        {
          "output_type": "stream",
          "text": [
            "\n",
            "[array([49, 72, 95, ...,  0,  0,  0], dtype=uint8), array([124, 130, 110, ..., 120,  37,   2], dtype=uint8), array([0, 0, 0, ..., 0, 0, 0], dtype=uint8), array([ 93,  99, 104, ...,  38,   0,   0], dtype=uint8), array([ 0,  9, 26, ..., 23,  0,  0], dtype=uint8), array([72, 70, 70, ..., 34, 33, 31], dtype=uint8), array([231, 107, 112, ..., 254, 254, 254], dtype=uint8), array([172, 174, 177, ..., 158, 129,  72], dtype=uint8), array([255,  67,  84, ...,   0,   0,   0], dtype=uint8), array([2, 0, 2, ..., 0, 0, 0], dtype=uint8), array([ 8,  7,  7, ..., 55, 25,  2], dtype=uint8), array([44, 52, 54, ..., 27, 29, 29], dtype=uint8), array([143, 163,  96, ...,  40,   0,   0], dtype=uint8), array([ 0, 17, 57, ...,  0,  0,  0], dtype=uint8), array([56, 71, 64, ..., 19, 24, 25], dtype=uint8), array([ 67,  91,  94, ..., 124, 116, 109], dtype=uint8), array([ 53, 106, 124, ...,   0,   0,   0], dtype=uint8), array([23, 49, 61, ...,  0,  0,  0], dtype=uint8), array([156, 105, 116, ...,   0,   0,   0], dtype=uint8), array([49, 60, 61, ..., 30,  0,  0], dtype=uint8), array([110, 113, 121, ..., 121,  58,   0], dtype=uint8), array([12,  7, 47, ...,  6, 11, 13], dtype=uint8), array([ 42,  59, 142, ...,  47,   0,   0], dtype=uint8), array([255, 255, 255, ...,   0,   0,   0], dtype=uint8), array([5, 5, 1, ..., 4, 2, 8], dtype=uint8), array([  0,   0,   0, ..., 118, 146,   6], dtype=uint8), array([ 9, 35, 60, ...,  0,  0,  0], dtype=uint8), array([255,   3,   0, ...,   0,   0,   0], dtype=uint8), array([  0,   0,   0, ..., 126, 124, 115], dtype=uint8), array([0, 0, 0, ..., 0, 0, 0], dtype=uint8), array([53, 66, 97, ..., 51,  0,  0], dtype=uint8), array([ 71,  73,  80, ...,  26,  78, 174], dtype=uint8), array([ 0,  0, 14, ...,  0,  0,  0], dtype=uint8), array([255, 255, 255, ..., 193, 192, 184], dtype=uint8), array([142,  49,  57, ..., 129,  60,   6], dtype=uint8), array([ 0,  6, 15, ...,  0,  0,  0], dtype=uint8), array([ 0,  8, 22, ..., 33,  0,  0], dtype=uint8), array([124, 145, 103, ...,  19,   0,   0], dtype=uint8), array([0, 0, 0, ..., 0, 0, 0], dtype=uint8), array([ 37,  90, 103, ...,   0,   0,   0], dtype=uint8), array([209, 186, 185, ..., 216, 177, 215], dtype=uint8), array([ 53,  85, 103, ...,   0,   0,   0], dtype=uint8), array([107, 110, 116, ...,  57,  43,   7], dtype=uint8), array([ 0, 13, 39, ...,  0,  0,  0], dtype=uint8), array([ 37,  84, 108, ...,   4,   6,   0], dtype=uint8), array([120, 124, 222, ...,   4,   8,   9], dtype=uint8), array([ 0,  5, 32, ...,  0,  0,  7], dtype=uint8), array([42, 61, 87, ...,  0,  0,  0], dtype=uint8), array([52, 82, 97, ...,  0,  0,  0], dtype=uint8), array([120, 123, 125, ..., 136,  64,  15], dtype=uint8), array([77, 83, 82, ..., 82, 65, 23], dtype=uint8), array([151,  62,  57, ..., 128, 137,  85], dtype=uint8), array([253,  29, 254, ...,   0,  79,   0], dtype=uint8), array([ 0,  0,  0, ..., 76, 51, 31], dtype=uint8), array([53, 72, 81, ...,  0,  0,  0], dtype=uint8), array([6, 6, 5, ..., 8, 8, 8], dtype=uint8), array([65, 85, 99, ...,  0,  0,  0], dtype=uint8), array([ 19,  61, 103, ...,   0,   0,   0], dtype=uint8), array([0, 0, 0, ..., 0, 0, 0], dtype=uint8), array([102, 115, 119, ...,  36,   0,   0], dtype=uint8), array([109, 118, 216, ...,   0,   0,   0], dtype=uint8), array([62, 48, 52, ..., 92,  1,  0], dtype=uint8), array([ 60, 112, 136, ...,  21,   0,   0], dtype=uint8), array([0, 0, 0, ..., 0, 0, 0], dtype=uint8), array([43, 42, 46, ...,  0,  0,  0], dtype=uint8), array([ 2,  6, 11, ..., 87, 32,  0], dtype=uint8), array([40, 54, 76, ...,  9, 15, 12], dtype=uint8), array([73, 97, 93, ...,  0,  0,  0], dtype=uint8), array([ 55,  51,  59, ..., 145,  62,   0], dtype=uint8), array([148, 153, 161, ..., 112,  54,  19], dtype=uint8), array([ 53, 102, 126, ...,   4,   3,   2], dtype=uint8), array([19, 22, 12, ..., 16, 26, 30], dtype=uint8), array([82, 90, 94, ..., 30,  0,  0], dtype=uint8), array([ 7, 35, 57, ..., 47,  0,  0], dtype=uint8), array([ 0, 19, 33, ...,  0,  0,  0], dtype=uint8), array([ 0, 10, 34, ...,  2,  0,  0], dtype=uint8), array([132, 136, 141, ..., 141, 101,  59], dtype=uint8), array([53, 59, 71, ..., 62, 74, 95], dtype=uint8), array([  7, 187,  16, ...,   0,   0,   0], dtype=uint8), array([50, 58, 58, ...,  0,  0,  0], dtype=uint8), array([ 88,  84, 100, ..., 184, 103,   0], dtype=uint8), array([ 8, 34, 63, ...,  0,  0,  0], dtype=uint8), array([14, 13, 59, ..., 19, 19, 94], dtype=uint8), array([ 0, 30, 52, ..., 84, 29,  0], dtype=uint8), array([43, 70, 83, ..., 43,  0,  0], dtype=uint8), array([130,  86,  96, ...,   0,   0,   0], dtype=uint8), array([ 0, 12, 66, ...,  0,  0,  0], dtype=uint8), array([ 85, 139, 125, ...,  65,  12,   0], dtype=uint8), array([113, 112, 140, ...,  30,  36,  43], dtype=uint8), array([4, 1, 3, ..., 0, 1, 1], dtype=uint8), array([63, 79, 82, ..., 75, 19,  0], dtype=uint8), array([232,  46,   0, ...,  10,   0,   0], dtype=uint8), array([30, 81, 78, ..., 17,  0,  0], dtype=uint8), array([ 90, 102, 120, ..., 150, 118,  19], dtype=uint8), array([ 2, 21, 66, ...,  2,  1,  1], dtype=uint8), array([ 57,  72, 122, ...,   0,   0,   0], dtype=uint8), array([167, 161, 152, ...,  10,  48, 101], dtype=uint8), array([30, 69, 81, ...,  0,  0,  0], dtype=uint8), array([65, 58, 55, ..., 80, 69, 53], dtype=uint8), array([255, 255, 255, ..., 107,  77, 255], dtype=uint8), array([16, 55, 85, ...,  4,  0,  0], dtype=uint8), array([0, 0, 0, ..., 0, 0, 0], dtype=uint8), array([  6,   6, 158, ...,   1,  14,  25], dtype=uint8), array([53, 53, 90, ..., 13, 22, 59], dtype=uint8), array([19, 30, 43, ...,  3,  5,  6], dtype=uint8), array([33, 62, 93, ...,  0,  0,  0], dtype=uint8), array([ 54,  61, 219, ...,  30,  31,  32], dtype=uint8), array([39, 50, 53, ...,  6, 19, 20], dtype=uint8), array([ 90,  95, 107, ...,   0,   0,   0], dtype=uint8), array([ 2,  8, 41, ...,  6,  0,  0], dtype=uint8), array([ 92, 141, 139, ...,   0,   0,   0], dtype=uint8), array([ 78,  88,  93, ..., 137, 106,  85], dtype=uint8), array([ 89,  97, 171, ...,   1,   0, 161], dtype=uint8), array([200, 175, 147, ...,  75,  49,   0], dtype=uint8), array([4, 4, 4, ..., 5, 5, 6], dtype=uint8), array([ 0, 28, 58, ...,  0,  0,  0], dtype=uint8), array([ 0,  9, 26, ...,  0,  0,  0], dtype=uint8), array([255,  17,  44, ...,  37,   0,   0], dtype=uint8), array([15,  6,  7, ..., 46,  0,  0], dtype=uint8), array([117, 119, 148, ...,  38,   0,   0], dtype=uint8), array([ 1, 64, 68, ..., 59, 27, 12], dtype=uint8), array([39, 41, 33, ..., 87,  0,  0], dtype=uint8), array([43, 39, 40, ..., 43,  0,  0], dtype=uint8), array([ 0, 22, 51, ..., 67,  0,  0], dtype=uint8), array([ 88, 139, 146, ...,  38,   0,   0], dtype=uint8), array([0, 0, 0, ..., 0, 0, 0], dtype=uint8), array([ 8, 20, 45, ...,  0,  0,  0], dtype=uint8), array([52, 64, 77, ..., 27, 47, 30], dtype=uint8), array([ 0, 39, 77, ...,  0,  0,  0], dtype=uint8), array([ 8,  8, 12, ...,  0,  3,  2], dtype=uint8), array([0, 0, 0, ..., 0, 0, 0], dtype=uint8), array([  8,  37,  70, ..., 180,  88,  73], dtype=uint8), array([  4,   6,   1, ..., 184, 159, 123], dtype=uint8), array([52, 68, 72, ..., 62, 12,  9], dtype=uint8), array([24, 22, 43, ..., 96, 20, 22], dtype=uint8), array([ 54, 128,  85, ...,   0,   0,   0], dtype=uint8), array([ 45,  58, 134, ...,  99,   9,   0], dtype=uint8), array([ 1, 20, 35, ...,  0,  0,  0], dtype=uint8), array([ 0,  0, 22, ..., 31,  0,  0], dtype=uint8), array([6, 6, 5, ..., 6, 8, 7], dtype=uint8), array([ 0,  6, 18, ..., 25,  8,  0], dtype=uint8), array([27, 58, 77, ...,  0,  0,  0], dtype=uint8), array([  2,   1,   1, ..., 131, 104,  56], dtype=uint8), array([ 51,  60,  67, ..., 109,  38,   0], dtype=uint8), array([ 0, 17, 17, ..., 14, 12,  0], dtype=uint8), array([52, 69, 79, ...,  0,  0,  0], dtype=uint8), array([ 0,  8, 23, ...,  0,  0,  0], dtype=uint8), array([0, 0, 0, ..., 0, 0, 0], dtype=uint8), array([10, 11, 10, ...,  7,  5, 20], dtype=uint8), array([ 60, 223,   0, ...,  55,   8,   0], dtype=uint8), array([ 37,  32, 174, ...,  42,  43,  44], dtype=uint8), array([ 23,  24, 255, ...,   2,   0,   0], dtype=uint8), array([  4,   2,   1, ..., 131, 109,  85], dtype=uint8), array([251, 255, 255, ..., 118,  93, 176], dtype=uint8), array([244, 146,  75, ...,   0,   0,   0], dtype=uint8), array([156, 153, 119, ...,   0,   0,   0], dtype=uint8), array([ 0,  5, 20, ...,  1,  0,  0], dtype=uint8), array([ 45,  81, 100, ..., 224, 233, 238], dtype=uint8), array([31, 48, 70, ..., 15, 37, 53], dtype=uint8), array([106, 116, 126, ...,   5,   4,   4], dtype=uint8), array([ 53,  68, 107, ...,   0,   0,   0], dtype=uint8), array([0, 0, 7, ..., 0, 0, 0], dtype=uint8), array([ 26,  76, 110, ...,   0,   1,   2], dtype=uint8), array([63, 72, 77, ...,  0,  0,  0], dtype=uint8), array([0, 0, 5, ..., 0, 0, 0], dtype=uint8), array([67, 80, 81, ..., 17, 18, 18], dtype=uint8), array([ 0,  0,  0, ...,  9, 11, 11], dtype=uint8), array([ 52,  63, 239, ...,  24,  28,  27], dtype=uint8), array([12, 34, 48, ..., 13,  0,  0], dtype=uint8), array([30, 36, 41, ..., 11, 12, 12], dtype=uint8), array([18, 40, 62, ...,  0,  0,  0], dtype=uint8), array([39, 64, 79, ...,  0,  0,  6], dtype=uint8), array([ 67,  78,  88, ..., 124,  68,   9], dtype=uint8), array([ 0,  4, 15, ...,  0,  0,  0], dtype=uint8), array([ 0, 33, 85, ...,  0,  0,  0], dtype=uint8), array([ 70,  70,  60, ..., 137,  91,   0], dtype=uint8), array([ 4,  4,  4, ..., 95,  5,  7], dtype=uint8), array([18, 11, 43, ...,  0, 10, 16], dtype=uint8), array([ 82, 114, 132, ...,   0,   0,   0], dtype=uint8), array([0, 0, 3, ..., 0, 0, 0], dtype=uint8), array([ 79, 139, 120, ...,   0,   0,   0], dtype=uint8), array([ 0,  0,  9, ..., 37,  0,  0], dtype=uint8), array([ 0,  0, 22, ...,  0,  0,  0], dtype=uint8), array([ 46,  64,  69, ..., 116,  17,   0], dtype=uint8), array([  0,   0,   0, ..., 178,  59,   0], dtype=uint8), array([ 0,  0,  0, ..., 89, 94, 42], dtype=uint8), array([113,  79,  82, ..., 149,  46,   0], dtype=uint8), array([54, 53, 86, ..., 62, 14,  0], dtype=uint8), array([0, 0, 3, ..., 0, 0, 0], dtype=uint8), array([253, 252,  63, ...,   0,   0,   0], dtype=uint8), array([14, 54, 84, ...,  0,  0,  0], dtype=uint8), array([ 27,  39, 199, ...,  11,  12,  15], dtype=uint8), array([ 32,  39,  72, ..., 121, 109,   0], dtype=uint8), array([ 71,  87,  97, ..., 109,  71,  47], dtype=uint8), array([ 30,  31,  33, ..., 139,  33,   0], dtype=uint8), array([65, 75, 78, ...,  0,  0,  0], dtype=uint8), array([ 0,  3, 39, ..., 49,  0,  0], dtype=uint8), array([ 0,  0, 14, ...,  0,  0,  0], dtype=uint8), array([79, 68, 31, ...,  1,  0,  0], dtype=uint8), array([122, 144, 233, ...,   7,  15,  16], dtype=uint8), array([ 78,  88, 101, ..., 114,  89,  72], dtype=uint8), array([ 14,  12,  71, ...,  20, 165,  23], dtype=uint8), array([ 0,  0, 35, ...,  1,  3,  2], dtype=uint8), array([79, 71, 54, ...,  6,  0,  0], dtype=uint8), array([36, 44, 52, ..., 92, 60, 26], dtype=uint8), array([21, 23, 24, ..., 52, 16, 22], dtype=uint8), array([ 70, 103,  98, ...,  13,   0,   0], dtype=uint8), array([0, 0, 0, ..., 0, 0, 0], dtype=uint8), array([20, 13, 68, ...,  0,  0,  0], dtype=uint8), array([ 54,  69,  83, ..., 116,  69,  33], dtype=uint8), array([60, 70, 72, ...,  0,  0,  0], dtype=uint8), array([ 21,  49,  67, ..., 106,  21,   0], dtype=uint8), array([ 78,  65,  78, ..., 105,  78,  67], dtype=uint8), array([23, 45, 57, ...,  0,  0,  0], dtype=uint8), array([ 71,  95, 122, ...,  89,   0,   0], dtype=uint8), array([8, 8, 9, ..., 6, 7, 6], dtype=uint8), array([ 71,  71,  71, ..., 106,  90,  61], dtype=uint8), array([117, 142, 136, ...,   0,   0,   0], dtype=uint8), array([ 18, 143,  22, ...,   6,  10,  10], dtype=uint8), array([0, 0, 0, ..., 0, 0, 0], dtype=uint8), array([120, 116, 115, ..., 255, 255, 255], dtype=uint8), array([  7, 214,  51, ...,   7,   0,   0], dtype=uint8), array([44, 32, 25, ...,  0,  0,  0], dtype=uint8), array([132, 119, 102, ...,   0,  12,  14], dtype=uint8), array([0, 0, 0, ..., 0, 0, 0], dtype=uint8), array([  5,   3, 253, ...,   0,   1,   1], dtype=uint8), array([ 1, 15, 27, ...,  6,  6,  2], dtype=uint8), array([ 0,  0, 13, ...,  0,  0,  0], dtype=uint8), array([ 8, 43, 69, ...,  2,  2,  3], dtype=uint8), array([110, 107, 111, ..., 153, 126,  78], dtype=uint8), array([114, 119, 146, ...,  60,  11,  15], dtype=uint8), array([38, 45, 57, ..., 47, 47, 13], dtype=uint8), array([0, 0, 0, ..., 0, 0, 0], dtype=uint8), array([  6,   5, 252, ...,  10,  11,  11], dtype=uint8), array([ 89, 102, 100, ...,   0,   0,   0], dtype=uint8), array([ 73,  63,  67, ..., 198, 202, 167], dtype=uint8), array([142, 121, 140, ...,   0,   0,   0], dtype=uint8), array([ 98, 118, 126, ..., 111,   6,   0], dtype=uint8), array([16, 53, 59, ..., 11,  0,  0], dtype=uint8), array([0, 0, 0, ..., 6, 6, 3], dtype=uint8), array([151,  94,  92, ...,  51,   0,   0], dtype=uint8), array([250, 237, 122, ...,  25,   1,   0], dtype=uint8), array([ 62,  70, 143, ...,  39,   1,   0], dtype=uint8), array([ 0, 38, 67, ...,  0,  0,  0], dtype=uint8), array([ 12,  11,  12, ..., 156,  75,  62], dtype=uint8), array([110, 114, 111, ...,   0,   0,   0], dtype=uint8), array([46, 58, 65, ..., 93,  4,  0], dtype=uint8), array([ 0,  0,  6, ..., 16,  0,  0], dtype=uint8), array([30, 29, 28, ..., 33, 30, 60], dtype=uint8), array([ 0,  0, 17, ...,  0,  0,  0], dtype=uint8), array([125,   8,  51, ...,   0,   0,   0], dtype=uint8), array([ 0, 18, 45, ..., 52,  0,  0], dtype=uint8), array([147, 129, 149, ..., 197, 173, 255], dtype=uint8), array([ 56, 124,  89, ...,  93,   0,   0], dtype=uint8), array([ 13,  21,  26, ..., 131,  93,  49], dtype=uint8), array([ 60,  94, 124, ...,   4,   0,   0], dtype=uint8), array([ 99, 109, 112, ...,  16,  23,  29], dtype=uint8), array([ 54,  48, 100, ..., 161, 115,  59], dtype=uint8), array([ 8,  7,  7, ..., 55, 25,  2], dtype=uint8), array([253, 218,  45, ..., 136,  99,  20], dtype=uint8), array([0, 0, 0, ..., 0, 0, 0], dtype=uint8), array([23, 50, 57, ..., 88,  0,  0], dtype=uint8), array([47, 52, 51, ..., 93,  0,  0], dtype=uint8), array([19, 34, 48, ...,  9, 10, 10], dtype=uint8), array([28, 55, 73, ...,  0,  0,  0], dtype=uint8), array([97, 70, 69, ..., 27,  0,  0], dtype=uint8), array([ 61,  66,  72, ..., 236, 236, 237], dtype=uint8), array([ 0,  6, 18, ...,  0,  0,  0], dtype=uint8), array([32, 43, 52, ..., 45,  2,  0], dtype=uint8), array([0, 0, 4, ..., 5, 2, 3], dtype=uint8), array([ 0,  4, 12, ...,  0,  0,  0], dtype=uint8), array([5, 1, 0, ..., 0, 0, 1], dtype=uint8), array([109,  29,  30, ..., 199, 207, 178], dtype=uint8), array([ 0, 32, 68, ...,  0,  0,  0], dtype=uint8), array([1, 1, 1, ..., 3, 4, 3], dtype=uint8), array([209, 160, 153, ..., 163,  78,  30], dtype=uint8), array([ 66,  73, 133, ..., 154, 201, 173], dtype=uint8), array([186, 100,  95, ...,   0,   0,   0], dtype=uint8), array([0, 0, 6, ..., 0, 0, 0], dtype=uint8), array([50, 73, 85, ...,  0,  0,  0], dtype=uint8), array([ 97,  97, 102, ..., 157,  84,  59], dtype=uint8), array([ 6,  7, 63, ...,  1, 16, 20], dtype=uint8), array([46, 78, 93, ...,  0,  0,  0], dtype=uint8), array([3, 3, 3, ..., 2, 3, 3], dtype=uint8), array([ 0,  0,  0, ..., 84, 16,  0], dtype=uint8), array([ 6, 29, 57, ...,  0,  0,  0], dtype=uint8), array([36, 64, 78, ...,  0,  0,  0], dtype=uint8), array([33, 63, 72, ..., 24,  0,  0], dtype=uint8), array([ 50,  29,  22, ..., 174, 186, 196], dtype=uint8), array([0, 0, 0, ..., 9, 0, 0], dtype=uint8), array([11, 55, 82, ...,  0,  0,  0], dtype=uint8), array([62, 80, 93, ...,  0,  0,  0], dtype=uint8), array([ 71,  88, 102, ...,   1,   1,   5], dtype=uint8), array([0, 0, 0, ..., 7, 6, 4], dtype=uint8), array([101, 160, 147, ..., 192, 111,  31], dtype=uint8), array([111,  90,  77, ...,   0,   0,   1], dtype=uint8), array([0, 0, 1, ..., 0, 0, 0], dtype=uint8), array([55, 50, 53, ..., 68, 60, 12], dtype=uint8), array([ 48,  72,  85, ..., 130,  59,   0], dtype=uint8), array([189, 176, 163, ...,  14,  14,  14], dtype=uint8), array([ 92,  98, 107, ..., 171,  76,  11], dtype=uint8), array([117, 159,  66, ...,  74,  22,   0], dtype=uint8), array([ 31,  62,  74, ..., 111, 108,   0], dtype=uint8), array([255, 255, 255, ..., 212, 190, 143], dtype=uint8), array([ 62,  82, 130, ..., 119,   0,   0], dtype=uint8), array([ 22,  61,  79, ..., 112,  24,   0], dtype=uint8), array([27, 27, 27, ..., 27, 27, 27], dtype=uint8), array([79, 80, 80, ..., 11, 28, 31], dtype=uint8), array([27, 44, 41, ...,  4,  5,  6], dtype=uint8), array([67, 86, 95, ..., 59,  8, 12], dtype=uint8), array([107, 129, 129, ...,   0,   0,   0], dtype=uint8), array([ 0,  0, 10, ...,  0,  0,  0], dtype=uint8), array([44, 63, 82, ..., 41,  0,  0], dtype=uint8), array([254,   0, 254, ...,  56,   9,   0], dtype=uint8), array([ 71,  82, 255, ..., 114,  84,  37], dtype=uint8), array([0, 0, 0, ..., 0, 0, 0], dtype=uint8), array([1, 1, 1, ..., 1, 1, 1], dtype=uint8), array([56, 56, 56, ..., 91, 62, 56], dtype=uint8), array([143, 183, 171, ...,   1,   0,  96], dtype=uint8), array([ 61,  80, 100, ...,  86,   0,   0], dtype=uint8), array([52, 61, 78, ..., 34,  0,  0], dtype=uint8), array([31, 63, 77, ...,  0,  0,  0], dtype=uint8), array([  0, 253,   0, ...,   0,   0,   0], dtype=uint8), array([254,  21,  82, ...,   0,   0,   0], dtype=uint8), array([255,  31,  12, ...,   0,   0,   0], dtype=uint8), array([ 12,   6,  14, ..., 126, 167,  39], dtype=uint8), array([47, 51, 61, ..., 36, 37, 37], dtype=uint8), array([ 57,  80,  83, ..., 236, 228, 214], dtype=uint8), array([ 8, 15, 45, ...,  0,  0,  0], dtype=uint8), array([254,   5,   0, ...,   0,   0,   0], dtype=uint8), array([  0, 203,  20, ...,   0,   0,   0], dtype=uint8), array([108, 106,  85, ..., 110,  73,  46], dtype=uint8), array([ 9, 40, 74, ...,  0,  0,  0], dtype=uint8), array([14, 20, 19, ...,  0,  0,  0], dtype=uint8), array([254, 251, 106, ...,   0,   0,   0], dtype=uint8), array([ 0,  0, 84, ..., 29,  0,  0], dtype=uint8), array([255,  97,  74, ..., 223, 224, 222], dtype=uint8), array([34, 36, 55, ..., 20, 24, 22], dtype=uint8), array([85, 86, 91, ...,  0,  0,  0], dtype=uint8), array([70, 87, 99, ...,  0,  0,  0], dtype=uint8), array([117, 115,  64, ...,   0,   0,   0], dtype=uint8), array([17, 16, 10, ..., 27, 27, 27], dtype=uint8), array([171, 164, 159, ...,  32,  35,  35], dtype=uint8), array([ 50, 188,  78, ...,  41,  42,  42], dtype=uint8), array([65, 86, 96, ...,  0,  0,  0], dtype=uint8), array([ 0,  0,  0, ..., 16,  0,  0], dtype=uint8), array([164, 149, 165, ...,  19,   0,   0], dtype=uint8), array([19,  4,  3, ..., 23, 25, 27], dtype=uint8), array([ 25,  28, 114, ...,   2,   5,   6], dtype=uint8), array([ 0,  0,  0, ..., 31,  0,  0], dtype=uint8), array([10, 13, 25, ...,  0,  0,  0], dtype=uint8), array([62, 67, 61, ..., 45,  5, 25], dtype=uint8), array([6, 6, 6, ..., 8, 8, 9], dtype=uint8), array([16, 22, 69, ...,  2,  5,  5], dtype=uint8), array([48, 37, 49, ..., 23, 23, 23], dtype=uint8), array([ 24,   1,  10, ..., 115,  61,   2], dtype=uint8), array([ 42, 118,  80, ...,   7,   0,   0], dtype=uint8), array([72, 87, 92, ...,  0,  0,  0], dtype=uint8), array([49, 22, 29, ...,  0,  0,  0], dtype=uint8), array([54, 65, 79, ..., 29,  0,  0], dtype=uint8), array([35, 22, 19, ..., 13, 14, 29], dtype=uint8), array([0, 0, 0, ..., 0, 0, 0], dtype=uint8), array([31, 39, 65, ..., 10,  9, 16], dtype=uint8), array([254, 255, 254, ...,  85,  41,   0], dtype=uint8), array([15, 42, 67, ...,  0,  0,  0], dtype=uint8), array([ 0,  0, 49, ..., 15,  0,  0], dtype=uint8), array([13, 24, 11, ...,  9, 11, 12], dtype=uint8), array([11, 37, 53, ..., 10, 13, 13], dtype=uint8), array([  0,  10,  46, ..., 106,  44,   2], dtype=uint8), array([156, 129, 128, ...,  28,  34,  29], dtype=uint8), array([ 0,  0, 15, ...,  0,  0,  0], dtype=uint8), array([ 57,  77, 160, ...,   0,   0,   0], dtype=uint8), array([146, 130, 117, ...,   0,   0,   0], dtype=uint8), array([ 5, 33, 50, ...,  0,  0,  0], dtype=uint8), array([111, 125, 129, ...,  25,  34,  40], dtype=uint8), array([65, 83, 93, ...,  0,  1,  2], dtype=uint8), array([128,  92,  82, ...,   4,   0,   0], dtype=uint8), array([ 12,  23,  27, ..., 119,  53,  10], dtype=uint8), array([  0, 254, 253, ...,   0,   0,   0], dtype=uint8), array([65, 67, 73, ..., 91, 66, 19], dtype=uint8), array([ 0, 13, 49, ..., 73,  0,  0], dtype=uint8), array([52, 62, 53, ..., 56, 52, 52], dtype=uint8), array([ 0,  0, 27, ...,  0,  0,  1], dtype=uint8), array([0, 0, 0, ..., 0, 0, 0], dtype=uint8), array([ 71, 115, 136, ...,   2,   2,   2], dtype=uint8), array([ 0, 22, 47, ...,  0,  0,  0], dtype=uint8), array([ 77, 129, 119, ...,   0,   0,   0], dtype=uint8), array([28, 31, 30, ...,  7, 16, 20], dtype=uint8), array([12, 10, 35, ..., 91, 50,  0], dtype=uint8), array([ 13,  22,  37, ..., 100,  27,   0], dtype=uint8), array([0, 0, 0, ..., 0, 0, 0], dtype=uint8), array([113, 115, 109, ...,   0,   0,   0], dtype=uint8), array([2, 2, 2, ..., 0, 0, 0], dtype=uint8), array([ 63, 253, 223, ...,  61,  28,   9], dtype=uint8), array([21, 39, 49, ...,  0,  0,  0], dtype=uint8), array([ 0, 12, 55, ...,  0,  0,  0], dtype=uint8), array([155,   8,  17, ...,  71,  19,   0], dtype=uint8), array([ 66,  92, 103, ...,   0,   0,   0], dtype=uint8), array([ 95, 100,  91, ...,   0,   0,   0], dtype=uint8), array([ 49,  59,  61, ..., 102,  65,   2], dtype=uint8), array([255, 254,  96, ...,  64,  21,   0], dtype=uint8), array([ 39, 254, 247, ...,  40,   8,   0], dtype=uint8), array([ 50,  53, 144, ...,  44,  45,  46], dtype=uint8), array([53, 51, 43, ..., 52,  8, 13], dtype=uint8), array([128, 148, 151, ..., 108, 171, 126], dtype=uint8), array([ 0, 13, 27, ...,  0,  0,  0], dtype=uint8), array([48, 55, 55, ...,  0,  0,  0], dtype=uint8), array([38, 40, 99, ..., 20,  0,  0], dtype=uint8), array([ 80,  80,  81, ..., 224, 223, 220], dtype=uint8), array([153, 157, 245, ...,  35,  67, 208], dtype=uint8), array([127, 204, 223, ...,  65,  18,   0], dtype=uint8), array([158, 172, 241, ..., 138,  14,   0], dtype=uint8), array([52, 74, 80, ..., 68, 30,  0], dtype=uint8), array([10, 14, 10, ...,  4,  7,  9], dtype=uint8), array([184, 181, 132, ...,  25,  31,  29], dtype=uint8), array([0, 0, 0, ..., 0, 0, 0], dtype=uint8), array([ 78, 107, 159, ...,   4,   8,   3], dtype=uint8), array([ 4,  9, 35, ...,  1,  0,  0], dtype=uint8), array([42, 56, 59, ..., 57, 32, 17], dtype=uint8), array([ 0,  0, 21, ...,  0,  0,  0], dtype=uint8), array([0, 0, 0, ..., 0, 0, 0], dtype=uint8), array([ 79,  81, 135, ...,  57,   0,   0], dtype=uint8), array([25, 21, 34, ..., 17, 20, 19], dtype=uint8), array([ 3,  2, 10, ...,  2,  4,  5], dtype=uint8), array([ 16,  22, 247, ...,   0,   0,   0], dtype=uint8), array([94, 87, 73, ..., 41,  0,  0], dtype=uint8), array([ 0, 25, 77, ...,  0,  0,  0], dtype=uint8), array([ 70,  93,  88, ..., 119,  34,   9], dtype=uint8), array([17, 49, 70, ...,  0,  0,  0], dtype=uint8), array([ 61,  61,  52, ..., 101,  15,   0], dtype=uint8), array([147, 124, 135, ...,   0,   0,   0], dtype=uint8), array([54, 77, 82, ..., 73, 16,  0], dtype=uint8), array([ 0,  0, 22, ...,  0,  0,  0], dtype=uint8), array([48, 76, 89, ...,  0,  0,  0], dtype=uint8), array([126, 126, 113, ..., 128, 114,  76], dtype=uint8), array([  0,   0,  31, ..., 152,   0,   0], dtype=uint8), array([ 0,  0, 14, ...,  0,  0,  0], dtype=uint8), array([ 0,  0, 12, ..., 12,  0,  0], dtype=uint8), array([ 91,  90, 145, ...,   2,   2,   3], dtype=uint8), array([ 23,   5,   0, ..., 124,   0,   0], dtype=uint8), array([4, 9, 4, ..., 0, 0, 1], dtype=uint8), array([ 8, 35, 52, ...,  0,  0,  0], dtype=uint8), array([60, 86, 94, ...,  0,  0,  0], dtype=uint8), array([110,  78,  80, ...,   1,   0,   0], dtype=uint8), array([ 16,  38,  48, ..., 108,  59,  41], dtype=uint8), array([ 0, 13, 38, ...,  0,  0,  0], dtype=uint8), array([ 46,  76,  80, ..., 131,  73,   2], dtype=uint8), array([0, 0, 0, ..., 0, 0, 0], dtype=uint8), array([72, 88, 99, ..., 39,  0,  0], dtype=uint8), array([255, 103,  14, ...,   0,   0,   0], dtype=uint8), array([ 0,  0, 23, ...,  0,  0,  0], dtype=uint8), array([44, 29, 28, ..., 14, 17, 18], dtype=uint8), array([ 0,  4, 17, ...,  0,  0,  0], dtype=uint8), array([52, 25,  7, ..., 36,  0,  0], dtype=uint8), array([118, 174, 170, ...,   0,   0,   0], dtype=uint8), array([ 0,  0, 11, ...,  0,  1,  4], dtype=uint8), array([57, 72, 77, ...,  0,  0,  0], dtype=uint8), array([ 34,  32,  44, ..., 121,  50,  55], dtype=uint8), array([0, 0, 0, ..., 0, 0, 0], dtype=uint8), array([ 79, 111, 122, ...,   0,   0,   0], dtype=uint8), array([25, 70, 92, ...,  1,  1,  1], dtype=uint8), array([35, 66, 95, ..., 86, 74, 11], dtype=uint8), array([201, 101,  68, ...,  32,  33,  34], dtype=uint8), array([ 71,  77, 133, ..., 167, 145,  30], dtype=uint8), array([64, 81, 98, ..., 54, 17,  0], dtype=uint8), array([ 40,  46,  68, ..., 108,  30,   0], dtype=uint8), array([76, 75, 56, ...,  0,  0,  0], dtype=uint8), array([0, 0, 0, ..., 0, 0, 0], dtype=uint8), array([88, 83, 84, ...,  0,  0,  0], dtype=uint8), array([  0,  11,  71, ...,   1,   0, 171], dtype=uint8), array([43, 63, 70, ..., 47,  0,  0], dtype=uint8), array([0, 0, 0, ..., 0, 0, 0], dtype=uint8), array([ 0,  0,  2, ..., 38,  0,  0], dtype=uint8), array([51, 70, 81, ...,  0,  0,  0], dtype=uint8), array([51, 67, 79, ..., 73,  0,  0], dtype=uint8), array([ 8,  8, 14, ..., 28, 29, 37], dtype=uint8), array([108,  99,  87, ..., 191, 178, 159], dtype=uint8), array([ 82, 113, 110, ...,   0,   0,   0], dtype=uint8), array([ 0,  0, 36, ...,  8,  0,  0], dtype=uint8), array([ 0, 10, 36, ...,  0,  0,  0], dtype=uint8), array([ 29,  33, 248, ...,  12,  11,  13], dtype=uint8), array([185, 187, 195, ..., 203, 106, 114], dtype=uint8), array([171, 156, 146, ..., 124,  32,  28], dtype=uint8), array([169, 162, 162, ..., 255, 255, 255], dtype=uint8), array([235,  62,  65, ...,   0,   0,   0], dtype=uint8), array([29, 22, 13, ..., 71, 39,  0], dtype=uint8), array([ 0, 19, 60, ..., 34,  0,  0], dtype=uint8), array([230, 226, 204, ...,   0,   0,   0], dtype=uint8), array([72, 91, 91, ...,  0,  0,  0], dtype=uint8), array([  0,  87,  90, ..., 143,  97,   0], dtype=uint8), array([135,  22,  57, ..., 167, 149, 115], dtype=uint8), array([114, 116, 120, ..., 129, 116,  96], dtype=uint8), array([ 10,  94,  88, ..., 112,  74,   1], dtype=uint8), array([ 7,  7,  7, ..., 77, 27,  7], dtype=uint8), array([ 0,  0,  2, ..., 15,  0,  0], dtype=uint8), array([10,  9, 58, ..., 56,  5,  5], dtype=uint8), array([1, 0, 0, ..., 0, 0, 0], dtype=uint8), array([ 87, 100, 138, ...,  26,   0,   0], dtype=uint8), array([ 1,  3, 15, ...,  0,  0,  0], dtype=uint8), array([17, 53, 81, ..., 31,  0,  0], dtype=uint8), array([ 28,  50,  72, ..., 174,  52,   5], dtype=uint8), array([26, 22, 63, ...,  1,  1,  1], dtype=uint8), array([46, 57, 70, ..., 17,  0,  0], dtype=uint8), array([127, 130,  84, ...,   0,   0,   0], dtype=uint8), array([ 0,  0,  0, ..., 43,  0,  0], dtype=uint8), array([ 0,  6, 32, ...,  0,  0,  0], dtype=uint8), array([ 12,  11,  11, ..., 101,  18,   0], dtype=uint8), array([ 0, 35, 26, ..., 15, 15,  0], dtype=uint8), array([208,   2,   5, ...,  14,   0,   0], dtype=uint8), array([ 0, 12, 32, ...,  0,  0,  0], dtype=uint8), array([0, 0, 0, ..., 0, 0, 0], dtype=uint8), array([73, 88, 98, ...,  0,  0,  0], dtype=uint8), array([132, 120, 124, ..., 144, 108,  75], dtype=uint8), array([64, 66, 69, ..., 24, 32, 31], dtype=uint8), array([ 14,   1,   0, ..., 101,   9,   0], dtype=uint8), array([ 0,  4, 52, ..., 22,  0,  0], dtype=uint8), array([ 49, 100,  92, ..., 182, 130, 120], dtype=uint8), array([80, 89, 97, ...,  0,  0,  0], dtype=uint8), array([46, 52, 60, ..., 56, 49, 33], dtype=uint8), array([56, 63, 67, ...,  1, 11, 10], dtype=uint8), array([10, 34, 30, ...,  9, 25, 12], dtype=uint8), array([1, 1, 7, ..., 0, 2, 2], dtype=uint8), array([21, 49, 72, ..., 60, 63, 64], dtype=uint8), array([ 6,  7, 63, ...,  1, 16, 20], dtype=uint8), array([22, 57, 79, ...,  0,  0,  0], dtype=uint8), array([4, 4, 5, ..., 5, 5, 5], dtype=uint8), array([43, 46, 49, ..., 82, 89, 66], dtype=uint8), array([0, 0, 0, ..., 0, 0, 0], dtype=uint8), array([ 0, 24, 44, ...,  0,  0,  0], dtype=uint8), array([253, 248, 132, ...,   6,   0,   0], dtype=uint8), array([1, 0, 0, ..., 0, 0, 0], dtype=uint8), array([1, 0, 3, ..., 0, 0, 0], dtype=uint8), array([1, 1, 1, ..., 0, 1, 2], dtype=uint8), array([14, 31, 50, ...,  0,  0,  0], dtype=uint8), array([132, 109, 109, ..., 138, 171, 151], dtype=uint8), array([ 0, 14, 56, ...,  0,  0,  0], dtype=uint8), array([ 92, 105, 181, ...,  45,  21,  22], dtype=uint8), array([39, 71, 84, ...,  0,  0,  1], dtype=uint8), array([0, 0, 0, ..., 0, 0, 0], dtype=uint8), array([ 4, 33, 50, ...,  0,  0,  0], dtype=uint8), array([31, 41, 50, ..., 41, 88, 43], dtype=uint8), array([ 0, 41, 55, ..., 33, 36, 38], dtype=uint8), array([16, 40, 71, ...,  0,  0,  0], dtype=uint8), array([ 81,  97, 111, ...,   2,   1,  52], dtype=uint8), array([  8,   6,   6, ...,  76,  89, 108], dtype=uint8), array([ 0, 17, 41, ..., 59, 14,  0], dtype=uint8), array([53, 73, 74, ...,  9, 13, 14], dtype=uint8), array([74, 86, 93, ...,  0,  3,  7], dtype=uint8), array([ 0,  7, 48, ...,  0,  0,  0], dtype=uint8), array([ 6, 15, 34, ..., 35,  0,  0], dtype=uint8), array([ 0,  3, 17, ...,  0,  0,  0], dtype=uint8), array([  5,  48, 104, ...,   0,   0,   0], dtype=uint8), array([86, 46, 58, ..., 20, 24, 31], dtype=uint8), array([208, 206, 180, ...,  17,  17,  18], dtype=uint8), array([ 54, 122, 106, ...,  55,   0,   0], dtype=uint8), array([ 7,  6,  6, ...,  9, 11,  6], dtype=uint8), array([ 0,  9, 27, ..., 56, 21,  0], dtype=uint8), array([123, 183, 167, ...,   0,   0,   0], dtype=uint8), array([52, 52, 51, ..., 52, 52, 52], dtype=uint8), array([0, 0, 0, ..., 0, 0, 0], dtype=uint8), array([0, 0, 0, ..., 0, 0, 0], dtype=uint8), array([ 6, 43, 80, ..., 11,  0,  0], dtype=uint8), array([96, 88, 76, ...,  3,  0,  0], dtype=uint8), array([98, 95, 74, ..., 70,  0,  8], dtype=uint8), array([120, 123, 118, ...,  98,  16,   0], dtype=uint8), array([ 0, 18, 13, ...,  9, 10,  0], dtype=uint8), array([0, 0, 5, ..., 0, 0, 0], dtype=uint8), array([35, 44, 43, ..., 16,  0,  0], dtype=uint8), array([ 75,  80,  79, ..., 181, 163,  63], dtype=uint8), array([38, 42, 49, ..., 47, 31, 12], dtype=uint8), array([35, 67, 73, ...,  5,  4,  4], dtype=uint8), array([ 78,  91, 101, ...,   0,   0,   0], dtype=uint8), array([105, 119, 153, ..., 110,  90,  59], dtype=uint8), array([ 44,  61, 120, ...,   0,   0,   0], dtype=uint8), array([ 88,  97, 137, ..., 110,   7,   0], dtype=uint8), array([ 48,  72, 105, ...,  87,  38,   0], dtype=uint8), array([ 3,  2, 19, ..., 18, 82,  3], dtype=uint8), array([ 0,  0, 25, ...,  0,  0,  0], dtype=uint8), array([255, 255, 255, ...,   0,   0,   0], dtype=uint8), array([  1, 131, 142, ..., 183, 127,  63], dtype=uint8), array([58, 76, 86, ...,  0,  0,  0], dtype=uint8), array([ 71,  79, 122, ...,  40,   0,   0], dtype=uint8), array([ 0,  3,  8, ..., 10,  0,  0], dtype=uint8), array([ 59,  88,  94, ..., 115,  23,   0], dtype=uint8), array([0, 0, 0, ..., 0, 0, 0], dtype=uint8), array([79, 63, 56, ..., 41, 25, 50], dtype=uint8), array([ 91,  98, 145, ...,  86,  18,   0], dtype=uint8), array([ 83, 145, 148, ...,  44,   0, 254], dtype=uint8), array([110, 139, 188, ...,  46,   9, 100], dtype=uint8), array([60, 57, 81, ..., 76, 54, 20], dtype=uint8), array([129, 141, 122, ...,  56,  26,  26], dtype=uint8), array([ 76,  80, 120, ..., 116,  27,   0], dtype=uint8), array([  0,  28,  40, ..., 121,  62,  13], dtype=uint8), array([0, 0, 1, ..., 1, 0, 0], dtype=uint8), array([52, 70, 80, ...,  0,  0,  0], dtype=uint8), array([16,  5,  1, ..., 25,  0,  0], dtype=uint8), array([31, 71, 72, ...,  7,  0,  0], dtype=uint8), array([ 0, 15, 24, ...,  0,  0,  0], dtype=uint8), array([ 0, 27, 54, ...,  0,  0,  3], dtype=uint8), array([64, 62, 85, ..., 26, 32, 35], dtype=uint8), array([51, 71, 66, ...,  0,  0,  0], dtype=uint8), array([19, 43, 64, ...,  0,  0,  0], dtype=uint8), array([ 0,  6, 19, ...,  0,  0,  0], dtype=uint8), array([54, 75, 85, ...,  0,  0,  0], dtype=uint8), array([12, 12, 14, ..., 15, 18, 16], dtype=uint8), array([25, 37, 28, ..., 57, 12, 22], dtype=uint8), array([27, 53, 67, ..., 80, 28,  0], dtype=uint8), array([40, 49, 55, ...,  9, 10, 11], dtype=uint8), array([ 6, 35, 51, ...,  0,  0,  0], dtype=uint8), array([174,  92, 154, ...,   0,   0,   0], dtype=uint8), array([32, 64, 72, ..., 15, 21, 21], dtype=uint8), array([0, 0, 0, ..., 0, 0, 0], dtype=uint8), array([  2,   2,   3, ..., 196, 194, 186], dtype=uint8), array([44, 71, 81, ...,  0,  0,  0], dtype=uint8), array([ 0,  0,  0, ..., 69, 19,  0], dtype=uint8), array([251, 250,  25, ...,   0,   0,   0], dtype=uint8), array([ 0,  0, 13, ...,  1,  0,  0], dtype=uint8), array([  0,   0,   0, ..., 131,  26,   0], dtype=uint8), array([25, 51, 75, ..., 95, 12,  0], dtype=uint8), array([103, 156, 156, ...,   1,   6,   3], dtype=uint8), array([ 7, 11, 15, ..., 14, 20, 24], dtype=uint8), array([255, 255, 255, ...,   0,   0,   0], dtype=uint8), array([47, 74, 80, ..., 13, 14, 20], dtype=uint8), array([ 86,  94, 150, ...,  36,   0,   0], dtype=uint8), array([38, 40, 36, ..., 83, 61, 28], dtype=uint8), array([ 35,  62, 124, ..., 111,  17,   0], dtype=uint8), array([  0,   0,   0, ..., 121,  50,   0], dtype=uint8), array([ 82, 138, 144, ...,  43,   0,   0], dtype=uint8), array([ 79,  99, 128, ...,   0,   0,   0], dtype=uint8), array([  2,  59, 106, ...,  26,  25,  26], dtype=uint8), array([  4,  30,  34, ..., 169, 204, 168], dtype=uint8), array([ 0, 30, 64, ...,  0,  0,  0], dtype=uint8), array([62, 82, 86, ...,  4,  9, 12], dtype=uint8), array([ 68,  97, 114, ...,  93,   9,  21], dtype=uint8), array([ 87, 103, 102, ..., 139,  77,   7], dtype=uint8), array([ 0, 25, 63, ...,  0,  0,  0], dtype=uint8), array([ 8, 13,  3, ...,  0,  0,  0], dtype=uint8), array([ 32,  50,  56, ..., 110,  52,   0], dtype=uint8), array([113, 119, 102, ...,   0,   0,   0], dtype=uint8), array([ 53,  88,  71, ...,  75, 122,  55], dtype=uint8), array([0, 0, 0, ..., 0, 0, 0], dtype=uint8), array([ 0, 20, 57, ...,  0,  0,  0], dtype=uint8), array([111, 101,  68, ...,  68,  34,  18], dtype=uint8), array([ 97, 104, 115, ..., 107,  39,   1], dtype=uint8), array([151, 154, 151, ..., 164, 141,  97], dtype=uint8), array([28, 27, 23, ..., 15,  0,  0], dtype=uint8), array([28, 39, 42, ...,  3,  0,  0], dtype=uint8), array([ 0,  5, 55, ...,  0,  1,  1], dtype=uint8), array([ 0, 33, 61, ...,  0,  0,  0], dtype=uint8), array([ 0, 26, 50, ..., 36,  0,  0], dtype=uint8), array([19, 16, 18, ...,  3,  0,  0], dtype=uint8), array([49, 68, 66, ..., 57, 38,  6], dtype=uint8), array([ 22,  23, 106, ...,   0,   0,   0], dtype=uint8), array([0, 0, 0, ..., 0, 0, 0], dtype=uint8), array([0, 0, 0, ..., 0, 0, 0], dtype=uint8), array([126,  12,  14, ...,   6,  12,  13], dtype=uint8), array([254, 252,   5, ...,   0,   0,   0], dtype=uint8), array([102, 120, 165, ...,  20,   1,  42], dtype=uint8), array([ 85, 116, 122, ..., 122,  14,   0], dtype=uint8), array([129, 148, 102, ...,   0,   0,   0], dtype=uint8), array([ 86, 101, 113, ...,  65,   7,   0], dtype=uint8), array([50, 49, 45, ..., 57, 58, 58], dtype=uint8), array([ 73, 107, 116, ...,   0,   0,   0], dtype=uint8), array([107, 118, 142, ...,   0,   0,   0], dtype=uint8), array([254,  83,  83, ...,   0,   0,   0], dtype=uint8), array([ 56,  85, 102, ...,   0,   0,   0], dtype=uint8), array([33, 33, 33, ..., 38, 40, 44], dtype=uint8), array([40, 38, 34, ..., 30, 35, 35], dtype=uint8), array([253, 111,  92, ...,   0,   1,  25], dtype=uint8), array([ 19,  21,  19, ...,  99, 122, 217], dtype=uint8), array([ 53, 132, 110, ...,  41,   0,   0], dtype=uint8), array([39, 68, 84, ...,  0,  0,  0], dtype=uint8), array([  0,   0,   0, ...,   0,   0, 195], dtype=uint8), array([14, 56, 88, ..., 58,  2,  3], dtype=uint8), array([143, 143, 185, ...,   0,   0,   0], dtype=uint8), array([92, 74, 85, ..., 16, 26, 27], dtype=uint8), array([ 98, 129, 160, ...,   0,   0,   0], dtype=uint8), array([33, 56, 68, ..., 11,  0,  0], dtype=uint8), array([123, 125, 125, ...,  11,  10,  11], dtype=uint8), array([ 0,  0, 19, ...,  1,  1,  1], dtype=uint8), array([ 80, 115, 128, ..., 132, 138, 144], dtype=uint8), array([0, 0, 5, ..., 0, 0, 0], dtype=uint8), array([ 84, 107,  51, ..., 169, 139,  51], dtype=uint8), array([ 9, 10, 93, ..., 52, 11,  7], dtype=uint8), array([ 68,  98, 120, ...,   0,   0,   0], dtype=uint8), array([0, 0, 0, ..., 0, 0, 0], dtype=uint8), array([ 36,  82, 119, ...,  45,   0,   0], dtype=uint8), array([254, 218,  24, ...,   0,   0,   0], dtype=uint8), array([145, 132, 128, ..., 172, 175, 129], dtype=uint8), array([  0,   0, 255, ...,   0,   0,   0], dtype=uint8), array([0, 0, 0, ..., 0, 0, 0], dtype=uint8), array([42, 42, 43, ..., 28, 30, 31], dtype=uint8), array([ 49,  46, 219, ...,  87,  42,  28], dtype=uint8), array([71, 74, 86, ...,  0,  2,  5], dtype=uint8), array([ 3, 31, 58, ...,  0,  0,  0], dtype=uint8), array([  0,  21,  47, ..., 127,  90,   0], dtype=uint8), array([22, 39, 48, ..., 65,  0,  0], dtype=uint8), array([74, 70, 51, ..., 94, 32,  0], dtype=uint8), array([105,  89,  73, ...,   0,   0,   0], dtype=uint8), array([ 4, 36, 74, ...,  0,  0,  0], dtype=uint8), array([ 90, 105, 117, ...,  77,  25,   0], dtype=uint8), array([ 80, 150, 124, ...,  74,   3,   0], dtype=uint8), array([ 0,  0,  0, ..., 15, 14, 13], dtype=uint8), array([0, 0, 0, ..., 0, 0, 0], dtype=uint8), array([ 0,  0, 15, ...,  0,  0,  1], dtype=uint8), array([ 33,  35,  29, ..., 156, 103,   9], dtype=uint8), array([ 0,  0, 18, ...,  0,  0,  0], dtype=uint8), array([ 0,  4, 16, ...,  0,  0,  0], dtype=uint8), array([ 0,  1, 75, ...,  0,  0,  0], dtype=uint8), array([ 77,  82, 142, ...,   0,   0,   0], dtype=uint8), array([ 55,  55, 139, ...,   0,   0,   0], dtype=uint8), array([0, 0, 0, ..., 0, 1, 1], dtype=uint8), array([28, 39, 47, ..., 30, 31, 33], dtype=uint8), array([255, 252,   2, ..., 122, 184, 224], dtype=uint8), array([48, 86, 98, ...,  0,  0,  0], dtype=uint8), array([ 1, 36, 62, ...,  0,  0,  0], dtype=uint8), array([26, 31, 88, ...,  0,  0,  0], dtype=uint8), array([80, 51, 46, ..., 32, 32, 33], dtype=uint8), array([ 65,  68, 104, ...,  97,  42,   1], dtype=uint8), array([ 25,  70, 107, ...,   2,   2,   2], dtype=uint8), array([3, 5, 9, ..., 0, 0, 0], dtype=uint8), array([ 0,  0,  0, ..., 37,  0,  0], dtype=uint8), array([ 9, 43, 48, ..., 14, 23, 23], dtype=uint8), array([105,  85,  95, ...,  17,  19,  20], dtype=uint8), array([ 30,  37, 151, ...,  34,  16,  20], dtype=uint8), array([133, 110, 102, ...,   1,   0,   0], dtype=uint8), array([ 48,  66, 140, ...,  20,   0,   0], dtype=uint8), array([0, 0, 0, ..., 0, 0, 0], dtype=uint8), array([0, 0, 0, ..., 0, 0, 0], dtype=uint8), array([21, 25, 43, ...,  0,  0,  0], dtype=uint8), array([25, 56, 75, ...,  3,  6,  9], dtype=uint8), array([ 1, 14, 24, ...,  0,  0,  0], dtype=uint8), array([142, 118,  63, ...,  17,   0,   0], dtype=uint8), array([0, 0, 0, ..., 0, 0, 0], dtype=uint8), array([41, 73, 90, ...,  0,  0,  0], dtype=uint8), array([108, 119, 195, ...,   0,   0,   0], dtype=uint8), array([11, 10, 31, ...,  8, 11, 12], dtype=uint8), array([0, 0, 0, ..., 0, 0, 0], dtype=uint8), array([13, 41, 58, ...,  0,  0,  0], dtype=uint8), array([ 0,  8, 39, ...,  0,  0,  0], dtype=uint8), array([57, 65, 64, ..., 17, 20, 21], dtype=uint8), array([253, 208, 152, ...,   0,   0,   0], dtype=uint8), array([ 12,  67, 119, ...,   0, 255, 181], dtype=uint8), array([ 86,  83,  92, ..., 233, 247, 248], dtype=uint8), array([0, 0, 0, ..., 0, 0, 0], dtype=uint8), array([ 35, 116,  99, ..., 129, 107,  11], dtype=uint8), array([ 0,  7, 53, ...,  9,  0,  0], dtype=uint8), array([ 0, 14, 38, ...,  0,  0,  0], dtype=uint8), array([127, 134, 130, ...,  83,  51,  32], dtype=uint8), array([34, 54, 77, ..., 28,  0,  0], dtype=uint8), array([ 2,  1,  0, ..., 47, 19, 20], dtype=uint8), array([27, 35, 51, ...,  8,  0,  0], dtype=uint8), array([ 2, 34, 77, ...,  2,  2,  2], dtype=uint8), array([28, 39, 37, ...,  2,  8,  5], dtype=uint8), array([ 0,  1, 20, ...,  0,  0,  0], dtype=uint8), array([151, 111, 118, ...,  47,   0,   0], dtype=uint8), array([ 35,  83, 112, ...,   0,   0,   0], dtype=uint8), array([ 59,  46,  46, ..., 108,  46,  55], dtype=uint8), array([23, 55, 70, ...,  0,  0,  0], dtype=uint8), array([14, 52, 69, ...,  0,  0,  0], dtype=uint8), array([  6, 175,  66, ...,   8,  10,  11], dtype=uint8), array([ 12,  13, 220, ...,  18,  50,  78], dtype=uint8), array([ 15,  39,  53, ..., 104,  38,   0], dtype=uint8), array([ 0, 12, 34, ...,  0,  0,  0], dtype=uint8), array([39, 60, 52, ...,  5,  4,  0], dtype=uint8), array([236, 178, 182, ...,  35,   0,   0], dtype=uint8), array([ 8, 23, 38, ...,  0,  0,  0], dtype=uint8), array([ 80,  91, 106, ...,  93, 150,  28], dtype=uint8), array([ 0,  4, 37, ...,  0,  0,  0], dtype=uint8), array([11, 10, 12, ..., 49,  9, 21], dtype=uint8), array([73, 79, 87, ...,  0,  0,  0], dtype=uint8), array([46, 70, 82, ...,  0,  0,  0], dtype=uint8), array([10, 36, 63, ..., 17,  0,  0], dtype=uint8), array([126, 100, 117, ...,   0,   0,   0], dtype=uint8), array([  9,  28,  47, ..., 255, 238, 255], dtype=uint8), array([63, 56, 56, ...,  0,  0,  0], dtype=uint8), array([ 17,  22, 144, ...,   1,   2,   2], dtype=uint8), array([183, 181, 212, ...,  96,  48,   0], dtype=uint8), array([ 0,  0, 21, ...,  3,  3,  4], dtype=uint8), array([24, 42, 53, ..., 14,  0,  0], dtype=uint8), array([ 0,  0, 31, ...,  0,  0, 10], dtype=uint8), array([ 62,  68, 152, ...,   0,   0,   0], dtype=uint8), array([13, 33, 59, ...,  9,  0,  0], dtype=uint8), array([18, 25, 24, ..., 90, 41,  0], dtype=uint8), array([ 0, 10, 20, ...,  0,  0,  0], dtype=uint8), array([ 2,  7, 32, ...,  0,  0,  0], dtype=uint8), array([105, 255,  27, ...,  70,  31,   0], dtype=uint8), array([ 64,  70, 131, ...,  70,  24,   0], dtype=uint8), array([0, 0, 8, ..., 0, 0, 0], dtype=uint8), array([45, 50, 51, ..., 72, 43,  5], dtype=uint8), array([49, 65, 58, ..., 22,  0,  0], dtype=uint8), array([ 6, 32, 42, ...,  0,  0,  2], dtype=uint8), array([135, 157, 159, ..., 147,  74,   6], dtype=uint8), array([117, 116, 134, ..., 125, 129,  30], dtype=uint8), array([ 57,  73, 136, ...,   7,   8,   8], dtype=uint8), array([171, 158, 156, ..., 158, 170, 183], dtype=uint8), array([ 0, 15, 47, ...,  0,  0,  0], dtype=uint8), array([131,  67,  63, ...,   4,  11,  12], dtype=uint8), array([ 52,  60,  65, ..., 107,  81,  53], dtype=uint8), array([ 16,  22,  29, ..., 255, 255, 255], dtype=uint8), array([ 2,  7, 21, ...,  0,  0,  0], dtype=uint8), array([  0,   0,   0, ..., 143,  42,   0], dtype=uint8), array([ 0, 32, 57, ...,  0,  0,  0], dtype=uint8), array([ 0,  3, 43, ..., 66, 17,  0], dtype=uint8), array([ 0,  0,  0, ..., 40,  0,  0], dtype=uint8), array([ 0, 14, 22, ...,  0,  0,  0], dtype=uint8), array([ 24,  83, 118, ...,   5,   5,  10], dtype=uint8), array([114, 121, 125, ..., 108,  87,  67], dtype=uint8), array([ 0, 14, 35, ..., 23,  0,  0], dtype=uint8), array([12, 11, 10, ..., 18,  3,  5], dtype=uint8), array([137,  98,  83, ...,  15,  24,  39], dtype=uint8), array([ 82,  94, 150, ..., 118,  19,   0], dtype=uint8), array([142, 145, 142, ...,   0,   3,   1], dtype=uint8), array([54, 80, 94, ..., 73,  0,  0], dtype=uint8), array([ 54,  98, 122, ...,   0,   0,   0], dtype=uint8), array([37, 37, 35, ..., 42, 44, 44], dtype=uint8), array([36, 31, 30, ..., 17, 19, 21], dtype=uint8), array([ 63,  94, 100, ...,  62,   0,   0], dtype=uint8), array([ 21,  28,  74, ..., 112,   0,   0], dtype=uint8), array([0, 0, 0, ..., 0, 0, 0], dtype=uint8), array([47, 56, 61, ..., 60, 38, 29], dtype=uint8), array([  0,   0,   0, ..., 178,  41,   0], dtype=uint8), array([ 50,  70, 125, ...,   0,   0,   0], dtype=uint8), array([  7,  66, 194, ...,  13,  13,  14], dtype=uint8), array([126, 125, 109, ...,   0,   0,   0], dtype=uint8), array([ 67,  83,  93, ..., 157, 139,  36], dtype=uint8), array([0, 0, 0, ..., 0, 0, 0], dtype=uint8), array([ 92, 106, 110, ...,   0,   1,   2], dtype=uint8), array([ 0, 26, 62, ...,  0,  0,  0], dtype=uint8), array([130, 139, 177, ...,  65,   6,  12], dtype=uint8), array([30, 65, 83, ...,  0,  0,  0], dtype=uint8), array([0, 0, 0, ..., 0, 0, 0], dtype=uint8), array([ 85, 129, 123, ..., 161, 111,  84], dtype=uint8), array([ 2,  2,  1, ..., 88, 47, 12], dtype=uint8), array([44, 51, 49, ..., 33,  3,  4], dtype=uint8), array([  1,  58,  98, ..., 116,  31,   0], dtype=uint8), array([ 12,   5,   4, ..., 136, 123,  93], dtype=uint8), array([ 0,  0,  0, ..., 36,  0,  0], dtype=uint8), array([ 55,  63, 116, ...,  14,   0,   0], dtype=uint8), array([137, 138, 146, ...,   7,   0,   0], dtype=uint8), array([ 0,  1, 26, ...,  0,  0,  0], dtype=uint8), array([17, 34, 42, ...,  0,  0,  0], dtype=uint8), array([99, 79, 83, ..., 68, 16,  0], dtype=uint8), array([27, 27, 27, ..., 27, 27, 27], dtype=uint8), array([175,  64,  91, ...,   3,   5,   1], dtype=uint8), array([ 1, 59, 56, ..., 48, 43, 47], dtype=uint8), array([79, 87, 91, ...,  0,  0,  0], dtype=uint8), array([ 57, 132, 119, ...,   0,   0,   0], dtype=uint8), array([40, 32, 45, ...,  1,  0,  0], dtype=uint8), array([25, 46, 57, ...,  0,  0,  0], dtype=uint8), array([ 0,  6, 30, ...,  0,  0,  0], dtype=uint8), array([ 72,  88,  87, ..., 158, 110,  76], dtype=uint8), array([ 7, 35, 56, ..., 61, 19,  0], dtype=uint8), array([ 0,  0, 28, ...,  0,  0,  0], dtype=uint8), array([ 54,  82, 113, ...,   0,   0,   0], dtype=uint8), array([47, 70, 72, ..., 64, 15,  0], dtype=uint8), array([43, 41, 37, ..., 55,  0,  0], dtype=uint8), array([ 63, 102, 113, ...,   0,   1,   2], dtype=uint8), array([106, 104, 104, ...,  13,   0,   0], dtype=uint8), array([76, 78, 67, ...,  0,  0,  0], dtype=uint8), array([ 75,  83, 164, ...,  47,   0,   0], dtype=uint8), array([138,  63, 101, ...,   0,   0,   0], dtype=uint8), array([ 0, 20, 64, ...,  0,  1,  5], dtype=uint8), array([151, 150, 142, ..., 140,  56,  37], dtype=uint8), array([36, 70, 87, ...,  0,  0,  0], dtype=uint8), array([0, 0, 2, ..., 0, 0, 0], dtype=uint8), array([118, 137,  83, ...,   6,   0,   0], dtype=uint8), array([ 5, 27, 64, ...,  0,  0,  0], dtype=uint8), array([10,  9, 71, ...,  2,  5,  5], dtype=uint8), array([ 33,   0,   0, ..., 255, 254, 254], dtype=uint8), array([167, 176, 196, ..., 101, 170, 249], dtype=uint8), array([ 2, 12, 28, ..., 91, 21,  0], dtype=uint8), array([254, 148,   1, ...,   0,   0,   0], dtype=uint8), array([52, 57, 57, ..., 32, 16, 18], dtype=uint8), array([255,   4,  13, ...,   0,   0,   0], dtype=uint8), array([0, 0, 0, ..., 0, 0, 0], dtype=uint8), array([ 72,  75, 119, ...,   0,   0,   0], dtype=uint8), array([36, 66, 76, ..., 91, 39,  0], dtype=uint8), array([ 1, 13, 38, ...,  0,  0,  0], dtype=uint8), array([13, 14, 14, ..., 17, 15, 13], dtype=uint8), array([1, 1, 1, ..., 1, 2, 1], dtype=uint8), array([15, 52, 19, ...,  7,  0,  0], dtype=uint8), array([27, 20, 15, ..., 16, 30, 32], dtype=uint8), array([27, 51, 65, ...,  0,  0,  0], dtype=uint8), array([ 6,  6,  6, ..., 24,  7,  8], dtype=uint8), array([ 0,  0, 42, ...,  0,  0,  0], dtype=uint8), array([84, 80, 68, ..., 62, 30, 34], dtype=uint8), array([254,   6,  40, ...,  14,   0,   0], dtype=uint8), array([179, 141, 131, ...,  18,  20,  21], dtype=uint8), array([125, 123, 153, ...,   0,   0,   0], dtype=uint8), array([0, 0, 0, ..., 0, 0, 0], dtype=uint8), array([2, 2, 2, ..., 1, 1, 1], dtype=uint8), array([40, 63, 68, ...,  0,  0,  0], dtype=uint8), array([0, 0, 0, ..., 0, 0, 0], dtype=uint8), array([ 79,  88, 138, ..., 116,   9,   0], dtype=uint8), array([ 36, 118,  92, ...,   0,   0,   0], dtype=uint8), array([36, 42, 41, ..., 30, 32, 32], dtype=uint8), array([123, 122, 121, ...,   8,   4,   4], dtype=uint8), array([0, 0, 0, ..., 0, 0, 0], dtype=uint8), array([ 0,  4, 35, ...,  0,  0,  0], dtype=uint8), array([0, 0, 0, ..., 0, 0, 0], dtype=uint8), array([29, 32, 38, ..., 77, 32, 57], dtype=uint8), array([ 0,  0, 21, ...,  1,  0,  0], dtype=uint8), array([ 6, 24, 51, ...,  0,  2,  3], dtype=uint8), array([ 2,  6, 18, ...,  0,  0,  0], dtype=uint8), array([19, 26, 24, ...,  0,  0,  0], dtype=uint8), array([ 0,  0,  0, ..., 28,  0,  0], dtype=uint8), array([ 67,  97, 105, ...,   9,   4,   6], dtype=uint8), array([  0, 254, 251, ...,   0,   0,   0], dtype=uint8), array([  4,   6, 254, ...,  14,   9,   0], dtype=uint8), array([ 17,  30,  76, ...,   0,   0, 215], dtype=uint8), array([ 47,  83, 114, ...,   0,   0,   0], dtype=uint8), array([ 9, 19, 28, ...,  0,  0,  0], dtype=uint8), array([ 60,  88, 105, ...,   0,   0,   0], dtype=uint8), array([ 82,  83,  83, ..., 124, 110, 104], dtype=uint8), array([ 0,  0, 18, ...,  0,  0,  0], dtype=uint8), array([ 74,  75, 126, ...,   0,   0,   0], dtype=uint8), array([ 8, 41, 58, ...,  0,  0,  0], dtype=uint8), array([34, 56, 77, ...,  0,  0,  0], dtype=uint8), array([48, 71, 84, ...,  0,  0,  0], dtype=uint8), array([17, 42, 62, ...,  0,  0,  0], dtype=uint8), array([ 0,  0, 15, ...,  0,  0,  0], dtype=uint8), array([ 52,  58, 159, ...,  35,  37,  38], dtype=uint8), array([51, 59, 61, ..., 25, 48, 40], dtype=uint8), array([33, 32, 31, ..., 47, 44, 43], dtype=uint8), array([30, 26, 25, ...,  0,  0,  0], dtype=uint8), array([ 51,  61,  96, ..., 135,  75,  21], dtype=uint8), array([0, 0, 0, ..., 1, 0, 0], dtype=uint8), array([111, 106, 165, ...,   3,   3,   4], dtype=uint8), array([ 64, 102,  46, ...,  19,  28,  31], dtype=uint8), array([40, 68, 78, ...,  0,  0,  0], dtype=uint8), array([ 0, 24, 50, ..., 17,  0,  0], dtype=uint8), array([127, 141, 152, ...,  25,   0,   0], dtype=uint8), array([58, 67, 74, ..., 23,  0,  0], dtype=uint8), array([23, 33, 71, ...,  0,  0,  0], dtype=uint8), array([28, 75, 97, ...,  0,  0,  0], dtype=uint8), array([ 7,  6,  4, ..., 78, 40,  9], dtype=uint8), array([27, 45, 53, ...,  1,  7,  8], dtype=uint8), array([ 85, 117, 134, ...,  28,   0,   0], dtype=uint8), array([47, 62, 62, ...,  0,  0,  0], dtype=uint8), array([49, 76, 81, ..., 10, 13, 14], dtype=uint8), array([ 3, 82, 21, ..., 24,  8,  0], dtype=uint8), array([ 42,  83,  91, ..., 137, 106,  86], dtype=uint8), array([ 0, 35, 43, ..., 64, 38,  7], dtype=uint8), array([ 0, 15, 64, ...,  0,  0,  0], dtype=uint8), array([255, 255, 255, ..., 255, 255, 255], dtype=uint8), array([ 25, 103, 141, ...,  80,  10,   0], dtype=uint8), array([13, 53, 88, ...,  0,  0,  0], dtype=uint8), array([142, 111, 101, ...,   0,   0,   0], dtype=uint8), array([ 1,  1,  1, ...,  0,  1, 14], dtype=uint8), array([ 14,  13,  11, ..., 156, 171, 158], dtype=uint8), array([255, 255, 255, ..., 155, 131,  79], dtype=uint8), array([ 0, 35, 69, ...,  0,  0,  0], dtype=uint8), array([ 32, 255, 195, ..., 138,  56,  12], dtype=uint8), array([ 0, 21, 58, ...,  0,  0,  0], dtype=uint8), array([0, 0, 0, ..., 0, 0, 0], dtype=uint8), array([ 64,  94, 101, ...,  61,   0,   0], dtype=uint8), array([76, 86, 90, ..., 76,  2,  0], dtype=uint8), array([ 64,  73, 254, ..., 213, 210, 192], dtype=uint8), array([ 54,  67, 140, ...,  23,   0,   0], dtype=uint8), array([ 0,  0, 13, ...,  0,  0,  0], dtype=uint8), array([142,  74,  73, ...,  72,   0,   0], dtype=uint8), array([145, 159, 164, ..., 180, 174, 174], dtype=uint8), array([84, 79, 10, ...,  0,  0,  0], dtype=uint8), array([ 90, 113,  68, ...,  30,   0,   0], dtype=uint8), array([0, 0, 0, ..., 0, 0, 0], dtype=uint8), array([ 0, 29, 67, ..., 89,  2,  0], dtype=uint8), array([ 9,  9,  9, ..., 11,  9,  9], dtype=uint8), array([112, 121, 132, ..., 146,  72,  43], dtype=uint8), array([232,  48,  43, ...,  26,   4,   0], dtype=uint8), array([73, 73, 76, ..., 21, 23, 24], dtype=uint8), array([254, 254,  17, ...,  12,   0,   0], dtype=uint8), array([22, 72, 91, ...,  0,  0,  0], dtype=uint8), array([ 0, 15, 50, ..., 51,  8,  0], dtype=uint8), array([17, 48, 65, ...,  0,  0,  0], dtype=uint8), array([88, 72, 52, ...,  0,  0,  0], dtype=uint8), array([ 0,  0, 21, ..., 18,  0,  0], dtype=uint8), array([ 98,  98, 108, ..., 112,  80,  53], dtype=uint8), array([255, 254,  16, ...,  22,   2,   0], dtype=uint8), array([20, 56, 70, ..., 22, 21,  6], dtype=uint8), array([  0,   0, 246, ...,   0,   0,   0], dtype=uint8), array([0, 0, 0, ..., 8, 3, 4], dtype=uint8), array([  0, 255, 180, ...,   0,   0,   0], dtype=uint8), array([18, 41, 51, ...,  5, 11,  3], dtype=uint8), array([44, 52, 59, ...,  9,  0,  0], dtype=uint8), array([101, 101, 103, ...,  15,   3,   4], dtype=uint8), array([  6,  17,  31, ..., 111,  50,   3], dtype=uint8), array([  0,  17,  51, ..., 139,  55,  22], dtype=uint8), array([ 63,  82, 133, ...,  53,   0,   0], dtype=uint8), array([0, 0, 0, ..., 0, 0, 0], dtype=uint8), array([63, 73, 72, ..., 27,  4,  4], dtype=uint8), array([ 25,  61,  84, ..., 120,   8,   0], dtype=uint8), array([ 0,  0, 12, ...,  0,  0,  0], dtype=uint8), array([  8,   0,   0, ..., 143, 126,  53], dtype=uint8), array([ 0,  0,  0, ..., 27,  0,  0], dtype=uint8), array([ 3,  0,  0, ..., 79, 49,  8], dtype=uint8), array([73, 86, 98, ..., 28,  4,  5], dtype=uint8), array([140, 130, 122, ..., 132,  72,  14], dtype=uint8), array([ 8,  8,  7, ..., 52, 19,  0], dtype=uint8), array([ 20,  23,  29, ..., 172, 153, 149], dtype=uint8), array([253,   1,   0, ...,   0,   0,   0], dtype=uint8), array([51, 70, 74, ..., 68, 19,  0], dtype=uint8), array([ 0,  0,  0, ..., 36,  0,  0], dtype=uint8), array([35, 38, 43, ...,  6,  9,  8], dtype=uint8), array([254,  89, 105, ...,   0,   0,   0], dtype=uint8), array([41, 42, 68, ...,  8,  1,  1], dtype=uint8), array([125,  64,  81, ..., 144, 111,  39], dtype=uint8), array([ 0,  0, 22, ...,  5,  0,  0], dtype=uint8), array([ 0,  0,  0, ..., 67, 53,  2], dtype=uint8), array([ 76, 103, 106, ...,   0,   0,   0], dtype=uint8), array([16, 44, 63, ...,  0,  0,  0], dtype=uint8), array([ 77, 102, 113, ..., 143,  81,  64], dtype=uint8), array([253, 156,   0, ...,  23,   0,   0], dtype=uint8), array([ 2,  1, 34, ...,  2,  1,  1], dtype=uint8), array([ 2,  6, 34, ...,  6,  0,  0], dtype=uint8), array([ 0, 13, 36, ...,  3,  0,  0], dtype=uint8), array([ 47,  70,  73, ..., 115,  64,   0], dtype=uint8), array([65, 76, 85, ...,  0,  0,  4], dtype=uint8), array([0, 0, 0, ..., 3, 6, 7], dtype=uint8), array([41, 25,  8, ...,  0,  0,  0], dtype=uint8), array([ 25,  17,  12, ..., 148, 109,  69], dtype=uint8), array([22, 59, 94, ...,  0,  1,  1], dtype=uint8), array([ 0, 16, 24, ...,  8,  8,  8], dtype=uint8), array([255, 253,  23, ...,  13,   0,   0], dtype=uint8), array([3, 3, 2, ..., 0, 2, 3], dtype=uint8), array([0, 0, 0, ..., 0, 1, 0], dtype=uint8), array([255, 254,   0, ...,   0,   0,   0], dtype=uint8), array([11, 46, 66, ...,  0,  0,  0], dtype=uint8), array([ 67,  70, 121, ..., 147,  39,   0], dtype=uint8), array([  6,  32,  26, ..., 153,  79,  12], dtype=uint8), array([80, 80, 81, ..., 49,  7,  3], dtype=uint8), array([11, 11, 13, ..., 26, 27, 30], dtype=uint8), array([  5,  51, 114, ...,  32,  40,  34], dtype=uint8), array([47, 45, 43, ...,  0,  0,  0], dtype=uint8), array([0, 0, 0, ..., 0, 0, 0], dtype=uint8), array([26, 56, 79, ..., 14,  0,  0], dtype=uint8), array([183, 186, 203, ..., 193, 186, 182], dtype=uint8), array([ 98, 100, 123, ...,   0,   0,   0], dtype=uint8), array([0, 0, 0, ..., 0, 0, 0], dtype=uint8), array([ 8, 72, 84, ..., 46, 46, 46], dtype=uint8), array([ 1, 41, 48, ..., 44, 26, 31], dtype=uint8), array([ 0, 15, 41, ...,  0,  0,  0], dtype=uint8), array([9, 8, 9, ..., 7, 5, 6], dtype=uint8), array([99, 36, 39, ...,  6,  0,  0], dtype=uint8), array([ 78,  94, 102, ...,  52,   4,   0], dtype=uint8), array([ 6,  8, 15, ...,  0,  0,  0], dtype=uint8), array([11, 26, 44, ...,  0,  0,  0], dtype=uint8), array([25, 50, 78, ...,  0,  0,  0], dtype=uint8), array([ 18,   9,   3, ..., 124,  94,  77], dtype=uint8), array([211, 166, 143, ...,  29,  33,  43], dtype=uint8), array([ 6,  6,  6, ..., 77, 67, 25], dtype=uint8), array([ 8, 16, 26, ...,  0,  0,  0], dtype=uint8), array([ 23,  27,  24, ..., 123,  55,   0], dtype=uint8), array([184, 195, 172, ...,   0,   0,   0], dtype=uint8), array([ 30,  40,  87, ...,  98, 110,  26], dtype=uint8), array([13, 24, 44, ..., 12, 16, 14], dtype=uint8), array([ 74,  91, 103, ...,   0,   0,   0], dtype=uint8), array([ 93, 101, 107, ...,  46,   0,   0], dtype=uint8), array([ 0, 37, 48, ..., 11, 12, 13], dtype=uint8), array([ 0,  3, 17, ...,  0,  0,  0], dtype=uint8), array([1, 0, 0, ..., 0, 0, 0], dtype=uint8), array([ 80, 118, 133, ..., 100,  25,   0], dtype=uint8), array([  0,   0,   0, ..., 176, 113, 163], dtype=uint8), array([78, 81, 91, ...,  0,  0,  0], dtype=uint8), array([ 8,  8, 11, ...,  7,  8,  8], dtype=uint8), array([  0, 254, 253, ...,   0,   0,   0], dtype=uint8), array([ 84,  93,  87, ..., 111,   9,  25], dtype=uint8), array([132, 137, 126, ...,  29,   0,   0], dtype=uint8), array([ 0,  9, 51, ..., 12, 15, 14], dtype=uint8), array([33, 48, 56, ..., 73, 30,  0], dtype=uint8), array([13,  8, 30, ...,  0,  0,  0], dtype=uint8), array([84, 83, 80, ..., 16, 17, 18], dtype=uint8), array([ 0,  0, 14, ...,  0,  0,  0], dtype=uint8), array([177, 146, 130, ..., 116, 186, 156], dtype=uint8), array([ 47,  61, 145, ..., 150,  94,   1], dtype=uint8), array([ 61,  66,  60, ..., 113, 106,  78], dtype=uint8), array([ 24, 255, 243, ...,   0,   0,   0], dtype=uint8), array([ 0,  0, 49, ..., 13, 20, 30], dtype=uint8), array([149, 145, 152, ..., 144,  80,  23], dtype=uint8), array([38, 46, 50, ..., 25, 26, 28], dtype=uint8), array([11, 42, 78, ...,  0,  3,  3], dtype=uint8), array([0, 0, 0, ..., 0, 0, 0], dtype=uint8), array([  1,   0,   0, ..., 185, 198, 177], dtype=uint8), array([ 96,  99, 109, ...,   0,   0,   0], dtype=uint8), array([253, 250,   1, ...,   2,   0,   0], dtype=uint8), array([1, 1, 2, ..., 3, 2, 5], dtype=uint8), array([ 87, 111, 110, ...,  62,   6,   0], dtype=uint8), array([0, 0, 7, ..., 0, 0, 1], dtype=uint8), array([ 0, 38, 70, ...,  0,  0,  0], dtype=uint8), array([49, 30, 14, ...,  0,  0,  0], dtype=uint8), array([3, 3, 4, ..., 5, 6, 5], dtype=uint8), array([ 73, 116, 127, ...,  22,  25,  31], dtype=uint8), array([148, 153, 161, ..., 112,  54,  19], dtype=uint8), array([ 42,  73, 103, ...,  16,   0,   1], dtype=uint8), array([ 8,  8,  8, ..., 26,  1,  6], dtype=uint8), array([ 28,  65,  76, ..., 116,   7,   0], dtype=uint8), array([26, 23, 29, ...,  0,  0,  0], dtype=uint8), array([ 41,  49,  57, ...,  21,  30, 136], dtype=uint8), array([132, 105, 113, ..., 141, 120,  68], dtype=uint8), array([23, 47, 59, ...,  0,  0,  0], dtype=uint8), array([125,  55,  21, ...,   0,   3,   0], dtype=uint8), array([ 77, 133, 184, ..., 119, 159,  55], dtype=uint8), array([58, 74, 87, ...,  3,  7,  7], dtype=uint8), array([110, 112, 130, ..., 182, 127,   5], dtype=uint8), array([45, 43, 37, ...,  0,  0,  0], dtype=uint8), array([114, 118, 111, ..., 114,  99,  62], dtype=uint8), array([0, 0, 1, ..., 6, 0, 0], dtype=uint8), array([138, 146, 154, ..., 181, 177, 130], dtype=uint8), array([154, 201, 118, ...,  73,   0,   0], dtype=uint8), array([31, 73, 92, ...,  0,  0,  0], dtype=uint8), array([91, 68, 90, ..., 45, 50, 52], dtype=uint8), array([49, 70, 86, ...,  0,  0,  0], dtype=uint8), array([ 0, 40, 16, ..., 11, 23,  3], dtype=uint8), array([74, 65, 58, ..., 73, 16,  0], dtype=uint8), array([68, 84, 84, ..., 32,  9,  9], dtype=uint8), array([  1,  29, 255, ...,  11,   0,   0], dtype=uint8), array([ 97, 105, 109, ..., 140, 109,  84], dtype=uint8), array([0, 0, 0, ..., 0, 0, 0], dtype=uint8), array([151, 150, 148, ...,   0,   0,   0], dtype=uint8), array([ 70, 115, 120, ...,   0,   0,   0], dtype=uint8), array([14, 17, 33, ..., 97, 38,  0], dtype=uint8), array([ 0, 27, 65, ...,  0,  0,  0], dtype=uint8), array([15, 16, 16, ...,  0,  0,  0], dtype=uint8), array([253, 244,  30, ...,   0,   0,   0], dtype=uint8), array([ 2, 17, 26, ...,  0,  0,  0], dtype=uint8), array([38, 42, 47, ..., 38,  1,  0], dtype=uint8), array([ 56,  79,  89, ..., 184,  54,   0], dtype=uint8), array([38, 40, 46, ..., 37, 63, 71], dtype=uint8), array([ 0, 10, 38, ...,  0,  0,  0], dtype=uint8), array([0, 0, 0, ..., 0, 0, 0], dtype=uint8), array([50, 73, 81, ...,  4,  0,  0], dtype=uint8), array([ 0, 24, 55, ...,  0,  0,  0], dtype=uint8), array([230, 226, 251, ..., 123,  42,   0], dtype=uint8), array([120, 122, 137, ...,  56,   0,   0], dtype=uint8), array([ 0,  0,  0, ..., 67, 14,  0], dtype=uint8), array([ 0,  0, 50, ...,  0,  0,  0], dtype=uint8), array([162, 139, 151, ...,  93,  53,   0], dtype=uint8), array([12, 14, 13, ..., 14, 17, 17], dtype=uint8), array([123, 127,  85, ...,   0,   0,   0], dtype=uint8), array([17, 43, 56, ...,  0,  0,  0], dtype=uint8), array([100, 145, 159, ...,  37,   0,   0], dtype=uint8), array([22,  2, 16, ...,  0,  0,  0], dtype=uint8), array([125,  68,  79, ...,   0,   0,   0], dtype=uint8), array([ 0, 10, 60, ..., 45,  0,  0], dtype=uint8), array([18, 62, 92, ...,  0,  0,  0], dtype=uint8), array([  0, 146, 116, ...,  27,  28,  30], dtype=uint8), array([ 88,  96, 168, ...,   0,   0,   0], dtype=uint8), array([ 43,  72,  78, ..., 139, 143, 112], dtype=uint8), array([ 81,  88, 109, ..., 168, 159, 140], dtype=uint8), array([ 0, 10,  0, ..., 59,  0,  0], dtype=uint8), array([87, 99, 12, ..., 45,  0,  3], dtype=uint8), array([ 55,  61,  91, ..., 121,  76,  12], dtype=uint8), array([ 59,  94, 142, ...,   0,   0,   0], dtype=uint8), array([ 63,  58,  53, ..., 179,  96,   0], dtype=uint8), array([ 32,  20,  12, ..., 136, 112,   7], dtype=uint8), array([ 27,  26,  25, ..., 107,  65,  31], dtype=uint8), array([18, 62, 77, ..., 34, 34, 40], dtype=uint8), array([ 4,  5, 59, ...,  0,  0,  0], dtype=uint8), array([  1, 254, 249, ...,   0,   0,   0], dtype=uint8), array([  0,  21,  50, ..., 114,  25,   0], dtype=uint8), array([ 51,  49, 118, ..., 172, 161, 150], dtype=uint8), array([ 0, 28, 49, ...,  0,  0,  0], dtype=uint8), array([3, 1, 2, ..., 0, 0, 0], dtype=uint8), array([ 81, 105, 166, ...,   0,   6,   2], dtype=uint8), array([64, 86, 91, ..., 17, 21, 22], dtype=uint8), array([0, 0, 0, ..., 0, 0, 0], dtype=uint8), array([16, 36, 47, ...,  0,  0,  0], dtype=uint8), array([0, 0, 5, ..., 0, 0, 0], dtype=uint8), array([ 64,  70,  74, ..., 112,  73,  25], dtype=uint8), array([27, 49, 69, ...,  0,  0,  0], dtype=uint8), array([ 76,  80,  85, ..., 169, 168,  49], dtype=uint8), array([  0,   0,   0, ..., 117,  40,   1], dtype=uint8), array([ 0, 20, 43, ..., 48,  0,  0], dtype=uint8), array([249,  32,  59, ...,   0,   0,   0], dtype=uint8), array([55, 57, 58, ..., 51, 42, 13], dtype=uint8), array([45, 67, 76, ..., 19, 18, 18], dtype=uint8), array([ 45, 199, 201, ...,  11,  21,  19], dtype=uint8), array([37, 24, 38, ...,  0,  0,  0], dtype=uint8), array([ 0,  0, 40, ..., 21,  0,  0], dtype=uint8), array([0, 0, 0, ..., 0, 0, 0], dtype=uint8), array([ 6, 14, 30, ...,  0,  0,  0], dtype=uint8), array([103, 121, 129, ...,  24,  26,  26], dtype=uint8), array([36, 40, 58, ..., 11, 12, 13], dtype=uint8), array([0, 0, 0, ..., 0, 0, 0], dtype=uint8), array([0, 0, 0, ..., 0, 0, 0], dtype=uint8), array([ 0,  0,  0, ..., 19,  0,  0], dtype=uint8), array([62, 62, 64, ..., 63, 61, 63], dtype=uint8), array([  0, 248,   7, ...,   0,   0,   0], dtype=uint8), array([ 43,  63,  87, ..., 164,  33,   0], dtype=uint8), array([143, 148, 157, ..., 190, 167, 143], dtype=uint8), array([35, 35, 24, ..., 45, 33, 38], dtype=uint8), array([49, 74, 85, ...,  0,  0,  0], dtype=uint8), array([33, 35, 35, ..., 91, 63, 26], dtype=uint8), array([ 95, 102, 141, ...,   0,   0,   0], dtype=uint8), array([159, 132, 150, ...,  18,   0,   0], dtype=uint8), array([56, 59, 65, ..., 49, 57, 24], dtype=uint8), array([ 0,  0,  0, ..., 11,  2,  5], dtype=uint8), array([0, 0, 0, ..., 0, 0, 0], dtype=uint8), array([0, 0, 0, ..., 0, 0, 0], dtype=uint8), array([29, 61, 83, ..., 47,  0,  0], dtype=uint8), array([48, 70, 79, ..., 94, 11,  0], dtype=uint8), array([156,  66,  67, ...,   0,   0,   0], dtype=uint8), array([25, 45, 73, ..., 50, 26,  0], dtype=uint8), array([55, 57, 58, ..., 83, 59, 21], dtype=uint8), array([  3, 235,   6, ...,  79, 103,  43], dtype=uint8), array([22, 17, 15, ..., 29, 35, 41], dtype=uint8), array([156, 145, 184, ...,   0,   0,   0], dtype=uint8), array([20, 33, 51, ...,  1,  0,  0], dtype=uint8), array([19, 30, 22, ..., 64, 39, 14], dtype=uint8), array([210, 252, 174, ...,   0,   1,   3], dtype=uint8), array([178, 178, 178, ...,  81,  77,  78], dtype=uint8), array([ 35, 152, 175, ..., 105,  99,  89], dtype=uint8), array([35, 36, 38, ..., 30, 31, 31], dtype=uint8), array([49, 47, 49, ..., 58, 60, 67], dtype=uint8), array([47, 54, 70, ..., 53, 36, 10], dtype=uint8), array([ 0,  0, 35, ..., 37,  0,  0], dtype=uint8), array([70, 61, 37, ..., 69, 15,  0], dtype=uint8), array([93, 53, 70, ...,  8,  9,  8], dtype=uint8), array([ 9, 41, 51, ..., 29, 31, 31], dtype=uint8), array([0, 0, 0, ..., 0, 0, 0], dtype=uint8), array([20, 16, 19, ...,  2,  9, 15], dtype=uint8), array([101, 105, 202, ...,  49,   0,   0], dtype=uint8), array([ 0, 22, 41, ..., 90, 22,  0], dtype=uint8), array([117,  73,  96, ...,   0,   0,   0], dtype=uint8), array([ 0, 29, 58, ...,  0,  0,  0], dtype=uint8), array([127, 116,  84, ...,   0,   0,   0], dtype=uint8), array([20, 16, 11, ..., 55, 47, 18], dtype=uint8), array([104, 121, 154, ...,   0,   0,   0], dtype=uint8), array([ 0,  0, 42, ...,  0,  0,  0], dtype=uint8), array([41, 44, 44, ...,  0,  0,  0], dtype=uint8), array([ 5,  6,  6, ..., 33,  8,  7], dtype=uint8), array([ 60,  60,  56, ..., 126, 165, 147], dtype=uint8), array([41, 29,  3, ...,  0,  6,  8], dtype=uint8), array([ 38,  55,  51, ..., 140,  18,   0], dtype=uint8), array([ 15,  41, 254, ...,   0,   1,   0], dtype=uint8), array([  1,   1,   1, ..., 128,  88,  42], dtype=uint8), array([1, 1, 1, ..., 1, 1, 1], dtype=uint8), array([ 83, 112, 104, ...,  54,   0,   0], dtype=uint8), array([ 94,  89,  96, ..., 159, 148, 145], dtype=uint8), array([0, 0, 0, ..., 0, 0, 0], dtype=uint8), array([ 2, 21, 22, ...,  0,  0,  0], dtype=uint8), array([35, 51, 71, ..., 30,  9,  0], dtype=uint8), array([138, 151, 253, ...,   0,   0,   0], dtype=uint8), array([83, 83, 85, ..., 21, 20, 22], dtype=uint8), array([143, 115, 127, ..., 136,  90,  70], dtype=uint8), array([ 0,  0, 18, ...,  8,  0,  0], dtype=uint8), array([57, 61, 57, ...,  0,  0,  0], dtype=uint8), array([ 45, 123, 197, ...,   0,   0,   0], dtype=uint8), array([  0, 254, 253, ...,   0,   0,   0], dtype=uint8), array([138, 139, 140, ..., 178, 178, 177], dtype=uint8), array([0, 0, 0, ..., 0, 0, 0], dtype=uint8), array([254, 250, 142, ..., 106,  26,   5], dtype=uint8), array([ 32, 173, 144, ...,  12,  15,   0], dtype=uint8), array([ 0,  0, 16, ...,  0,  0,  0], dtype=uint8), array([120, 137, 141, ..., 124, 138,  73], dtype=uint8), array([ 0,  0, 16, ...,  0,  0,  0], dtype=uint8), array([ 29, 254, 250, ...,   0,   0,   0], dtype=uint8), array([115, 148,  77, ...,   0,   0,   0], dtype=uint8), array([0, 0, 0, ..., 0, 0, 0], dtype=uint8), array([105, 119,  63, ...,   0,   0,   0], dtype=uint8), array([0, 0, 0, ..., 0, 0, 0], dtype=uint8), array([101,  86,  85, ...,   5,  17,  19], dtype=uint8), array([100, 102, 109, ..., 149, 155, 191], dtype=uint8), array([29, 40, 57, ...,  0,  0,  0], dtype=uint8), array([130, 133, 138, ..., 124,  58,  26], dtype=uint8), array([ 3,  3,  5, ..., 11, 10, 11], dtype=uint8), array([ 30,  67, 100, ...,   0,   0,   0], dtype=uint8), array([41, 74, 90, ..., 56,  1,  0], dtype=uint8), array([112,  49,  73, ...,   4,   4,   3], dtype=uint8), array([23, 45, 75, ...,  0,  0,  0], dtype=uint8), array([46, 35, 43, ..., 75, 30,  1], dtype=uint8), array([  0,   0,   0, ..., 182, 176, 118], dtype=uint8), array([ 3, 33, 76, ...,  0,  0, 12], dtype=uint8), array([  0,   0,   0, ..., 204, 179, 145], dtype=uint8), array([  8,   7,   8, ..., 102,  43,   9], dtype=uint8), array([41, 54, 60, ...,  0,  0,  0], dtype=uint8), array([72, 64, 87, ...,  0,  0,  0], dtype=uint8), array([ 0,  4, 59, ...,  0,  0,  0], dtype=uint8), array([10, 41, 57, ...,  0,  0,  0], dtype=uint8), array([ 43,  84, 110, ...,   0,   0,   0], dtype=uint8), array([254,  42,  49, ...,   0,   0,   0], dtype=uint8), array([89, 94, 90, ...,  0,  0,  0], dtype=uint8), array([ 24,  62, 101, ...,  94,   0, 119], dtype=uint8), array([ 58,  69,  73, ..., 106,  40,   0], dtype=uint8), array([253,   0,   0, ...,   0,   0,   0], dtype=uint8), array([ 79,  99, 112, ...,   0,   0,   0], dtype=uint8), array([197, 196, 181, ...,  21,  23,  24], dtype=uint8), array([20, 21, 22, ..., 23, 22, 19], dtype=uint8), array([255, 254,  11, ...,   0,   0,   0], dtype=uint8), array([ 8, 39, 76, ...,  0,  0,  2], dtype=uint8), array([116, 142, 156, ..., 180, 101,  61], dtype=uint8), array([115, 131, 127, ..., 105,  52,  15], dtype=uint8), array([ 0,  0, 16, ...,  0,  0,  0], dtype=uint8), array([0, 0, 0, ..., 0, 0, 0], dtype=uint8), array([0, 0, 5, ..., 0, 0, 1], dtype=uint8), array([ 0,  0, 12, ...,  0,  0,  0], dtype=uint8), array([ 72,  81, 108, ..., 112,  86,  54], dtype=uint8), array([21, 48, 75, ..., 22,  0,  0], dtype=uint8), array([158, 153, 145, ...,   0,   0,   0], dtype=uint8), array([254,   1,   0, ...,   0,   0,   0], dtype=uint8), array([29, 39, 51, ...,  0,  0,  0], dtype=uint8), array([ 0, 12, 37, ...,  0,  0,  0], dtype=uint8), array([33, 78, 96, ...,  0,  0,  0], dtype=uint8), array([40, 42, 63, ..., 17,  0,  0], dtype=uint8), array([ 0,  0, 10, ...,  0,  0,  0], dtype=uint8), array([28, 29, 29, ...,  0,  0,  0], dtype=uint8), array([ 0,  1, 30, ...,  1,  6,  1], dtype=uint8), array([75, 88, 99, ...,  0,  0,  0], dtype=uint8), array([  0,   2,   0, ..., 145,  99,   0], dtype=uint8), array([ 93, 107, 110, ...,  16,  17,  18], dtype=uint8), array([50, 71, 79, ...,  0,  0,  0], dtype=uint8), array([102, 148, 134, ..., 172, 163, 141], dtype=uint8), array([23, 21, 18, ..., 31, 31, 36], dtype=uint8), array([51, 69, 74, ...,  4,  0,  0], dtype=uint8), array([35, 41, 57, ...,  8, 10,  9], dtype=uint8), array([152, 147, 255, ...,   0,   0,   0], dtype=uint8), array([ 85, 101, 106, ...,   0,   1,   1], dtype=uint8), array([ 0, 22, 42, ...,  0,  0,  0], dtype=uint8), array([53, 43, 34, ...,  0,  0,  0], dtype=uint8), array([69, 75, 78, ...,  0,  0,  0], dtype=uint8), array([  0,   0,   0, ..., 148, 138,  77], dtype=uint8), array([113, 149,  78, ...,   0,   0,   0], dtype=uint8), array([15, 46, 65, ...,  0,  0,  0], dtype=uint8), array([ 95, 105,  79, ..., 119,  72,  31], dtype=uint8), array([ 10,  30,  39, ..., 171,  99,  26], dtype=uint8), array([ 0, 14, 62, ..., 28,  0,  0], dtype=uint8), array([50, 83, 96, ...,  0,  0,  0], dtype=uint8), array([ 4, 28, 55, ...,  0,  0,  0], dtype=uint8), array([231,  74, 104, ...,   0,   0,   0], dtype=uint8), array([ 53, 107, 136, ...,   0,   0,   0], dtype=uint8), array([46, 49, 54, ...,  0,  0,  0], dtype=uint8), array([ 0, 21, 67, ..., 50,  0,  0], dtype=uint8), array([ 0,  3, 52, ...,  0,  0,  0], dtype=uint8), array([ 0, 54, 84, ..., 17,  0,  0], dtype=uint8), array([27, 42, 43, ...,  0,  0,  0], dtype=uint8), array([130, 121, 154, ...,  56,  12,   0], dtype=uint8), array([ 0,  0, 33, ..., 66,  0,  0], dtype=uint8), array([ 33,  49,  67, ..., 104,   2,   4], dtype=uint8), array([44, 58, 62, ...,  0,  0,  0], dtype=uint8), array([33, 37, 41, ..., 12, 12, 10], dtype=uint8), array([ 99, 105,  58, ...,   0,   0,   0], dtype=uint8), array([53, 29, 28, ..., 41, 43, 44], dtype=uint8), array([27, 54, 66, ..., 55, 27,  0], dtype=uint8), array([0, 0, 0, ..., 0, 0, 0], dtype=uint8), array([ 29,  27, 220, ...,  22,  24,  26], dtype=uint8), array([ 6, 36, 67, ...,  0,  0,  0], dtype=uint8), array([24, 41, 63, ...,  0,  0,  0], dtype=uint8), array([6, 6, 6, ..., 8, 9, 9], dtype=uint8), array([34, 70, 96, ...,  0,  0,  0], dtype=uint8), array([ 80, 138, 150, ...,   8,   5,   6], dtype=uint8), array([ 33,  44,  56, ..., 101,   0,   0], dtype=uint8), array([ 9, 41, 55, ..., 16,  0,  0], dtype=uint8), array([ 2,  2,  7, ..., 19,  9,  1], dtype=uint8), array([ 1, 28, 24, ..., 60, 40,  0], dtype=uint8), array([89, 94, 90, ...,  0,  0,  0], dtype=uint8), array([109,  66,  53, ...,   0,   0,   0], dtype=uint8), array([0, 0, 0, ..., 0, 0, 0], dtype=uint8), array([ 66,  85,  97, ..., 152,  82,  19], dtype=uint8), array([0, 0, 0, ..., 0, 0, 0], dtype=uint8), array([ 65,  74,  73, ..., 131, 126, 100], dtype=uint8), array([181, 170, 140, ...,  26,  28,  29], dtype=uint8), array([3, 3, 4, ..., 5, 6, 5], dtype=uint8), array([ 3,  3,  3, ...,  6, 16, 59], dtype=uint8), array([ 0,  4, 10, ...,  1,  0,  0], dtype=uint8), array([  1,   1,   1, ..., 103,  70,  44], dtype=uint8), array([0, 0, 0, ..., 0, 3, 4], dtype=uint8), array([110,  98,  79, ...,  55,  19,   0], dtype=uint8), array([ 41,  49, 223, ...,   6,   0,   0], dtype=uint8), array([35, 45, 51, ...,  0,  0,  0], dtype=uint8), array([ 0,  0, 22, ...,  0,  0,  0], dtype=uint8), array([21, 22, 23, ...,  0,  0,  0], dtype=uint8), array([48, 52, 62, ...,  0,  0,  0], dtype=uint8), array([149,  76,  83, ...,   0,   0,   0], dtype=uint8), array([ 6, 16, 25, ...,  0,  0,  0], dtype=uint8), array([ 89,  99, 110, ...,   0,   0,   0], dtype=uint8), array([32, 55, 66, ..., 14,  0,  0], dtype=uint8), array([46, 41, 81, ...,  0, 63,  0], dtype=uint8), array([ 50,  45,  43, ..., 185, 107, 102], dtype=uint8), array([151, 139, 154, ...,   0,   7,   1], dtype=uint8), array([ 8,  8,  7, ...,  7, 10, 12], dtype=uint8), array([  0,  32, 255, ...,   0,   0,   0], dtype=uint8), array([0, 0, 0, ..., 0, 0, 0], dtype=uint8), array([123, 144, 102, ...,  63,   9,   0], dtype=uint8), array([165, 170, 181, ...,   0,   1, 207], dtype=uint8), array([0, 0, 0, ..., 0, 0, 0], dtype=uint8), array([ 0, 38, 19, ...,  0,  0,  0], dtype=uint8), array([93, 95, 91, ..., 50,  0,  0], dtype=uint8), array([93, 61, 58, ..., 24, 24, 25], dtype=uint8), array([0, 0, 5, ..., 0, 0, 0], dtype=uint8), array([77, 67, 67, ...,  5, 19, 26], dtype=uint8), array([71, 92, 96, ...,  4,  9, 13], dtype=uint8), array([26, 25, 23, ..., 30, 33, 33], dtype=uint8), array([ 0,  0,  0, ..., 36,  0,  0], dtype=uint8), array([254, 231,   7, ...,   0,   0,   0], dtype=uint8), array([ 0,  5, 21, ...,  0,  0,  0], dtype=uint8), array([112, 112, 118, ...,  69,   0,   0], dtype=uint8), array([255,   7,  22, ...,   0,   0,   0], dtype=uint8), array([20, 32, 28, ...,  0,  0,  0], dtype=uint8), array([ 0, 36, 73, ...,  6,  0,  0], dtype=uint8), array([55, 48, 56, ...,  8,  8,  8], dtype=uint8), array([10, 38, 66, ...,  0,  0,  0], dtype=uint8), array([31, 67, 63, ..., 31, 31, 31], dtype=uint8), array([75, 79, 77, ..., 14, 18, 19], dtype=uint8), array([51, 68, 78, ..., 32,  0,  0], dtype=uint8), array([38, 56, 63, ..., 32, 35, 37], dtype=uint8), array([ 0,  0,  0, ..., 50,  1,  0], dtype=uint8), array([70, 80, 81, ..., 38,  0,  0], dtype=uint8), array([15, 55, 98, ...,  0,  0,  0], dtype=uint8), array([ 5, 15, 28, ...,  0,  0,  0], dtype=uint8), array([ 0, 31, 54, ...,  0,  0,  0], dtype=uint8), array([118,  95, 103, ...,   0,   1,   0], dtype=uint8), array([ 78, 108, 111, ...,   0,   0,   0], dtype=uint8), array([251, 254, 253, ..., 253, 253, 253], dtype=uint8), array([ 98,  93,  87, ..., 108,  38,   0], dtype=uint8), array([46, 59, 59, ..., 53, 46, 16], dtype=uint8), array([34, 29, 41, ..., 29, 34, 36], dtype=uint8), array([ 0, 28, 51, ...,  0,  0,  0], dtype=uint8), array([ 79,  88, 245, ...,  87, 205, 205], dtype=uint8), array([216, 217, 218, ...,   0,   0,   0], dtype=uint8), array([165, 155, 167, ..., 162, 111,  11], dtype=uint8), array([ 40,  49,  96, ..., 115, 143,  13], dtype=uint8), array([ 0,  0,  0, ..., 30,  0,  0], dtype=uint8), array([0, 0, 0, ..., 0, 0, 0], dtype=uint8), array([ 90, 104,  71, ...,   0,   0,   0], dtype=uint8), array([58, 49, 85, ..., 72, 44,  0], dtype=uint8), array([63, 66, 79, ..., 59, 11,  0], dtype=uint8), array([15, 14,  9, ..., 16, 18, 16], dtype=uint8), array([48, 77, 96, ...,  0,  0,  0], dtype=uint8), array([137, 145, 126, ...,  52,  27,   6], dtype=uint8), array([ 98,  99, 101, ...,   7,   5,   4], dtype=uint8), array([253, 218,   0, ...,   0,   0,   0], dtype=uint8), array([ 0, 17, 45, ...,  0,  0,  0], dtype=uint8), array([ 78, 126, 149, ...,   0,   0,   0], dtype=uint8), array([ 0,  2, 19, ...,  0,  0,  0], dtype=uint8), array([65, 77, 90, ...,  0,  0,  1], dtype=uint8), array([100, 112, 121, ..., 170, 178,  64], dtype=uint8), array([ 78,  88, 122, ...,  51,   4,   0], dtype=uint8), array([34, 73, 96, ..., 79, 35,  1], dtype=uint8), array([ 35,  43, 252, ...,   2,   8,   8], dtype=uint8), array([ 0, 12, 49, ..., 17,  0,  0], dtype=uint8), array([20, 20, 21, ..., 22, 24, 25], dtype=uint8), array([48, 79, 83, ...,  5,  5,  8], dtype=uint8), array([47, 75, 85, ...,  1,  0,  0], dtype=uint8), array([100, 103, 154, ...,   0,   0,  81], dtype=uint8), array([ 39,  58,  88, ..., 139,  82,  46], dtype=uint8), array([ 88, 106,  94, ..., 173, 185, 135], dtype=uint8), array([55, 66, 85, ...,  0, 10,  3], dtype=uint8), array([ 0,  1, 40, ...,  0,  0,  1], dtype=uint8), array([78, 85, 89, ..., 11, 12, 13], dtype=uint8), array([  0,   0,  44, ..., 127,  74,   5], dtype=uint8), array([  6,   2,   2, ..., 122, 122, 102], dtype=uint8), array([111, 181, 157, ...,   7,   3,   4], dtype=uint8), array([0, 0, 0, ..., 0, 0, 0], dtype=uint8), array([ 83,  94, 113, ...,   0,   0,   0], dtype=uint8), array([34, 45, 64, ..., 75, 29,  0], dtype=uint8), array([0, 0, 0, ..., 0, 0, 0], dtype=uint8), array([117, 111, 116, ...,   0,   0,   0], dtype=uint8), array([118, 136, 165, ...,  50,  28,  30], dtype=uint8), array([ 0,  8, 24, ...,  0,  0,  0], dtype=uint8), array([ 0, 11, 59, ...,  0,  0,  0], dtype=uint8), array([129, 176, 131, ...,   0,   0,   0], dtype=uint8), array([0, 0, 0, ..., 0, 0, 0], dtype=uint8), array([0, 0, 1, ..., 0, 0, 0], dtype=uint8), array([127, 161,  87, ..., 135,  36,   0], dtype=uint8), array([12, 40, 71, ...,  0,  0,  0], dtype=uint8), array([  0,   0,   0, ..., 132,  25,   0], dtype=uint8), array([ 21,   9,  57, ..., 102,  35,  13], dtype=uint8), array([23, 46, 72, ...,  0,  0,  0], dtype=uint8), array([0, 0, 0, ..., 0, 0, 0], dtype=uint8), array([ 7, 23, 31, ..., 29,  5,  0], dtype=uint8), array([47, 39, 37, ..., 15, 15, 76], dtype=uint8), array([ 0, 41, 44, ..., 24, 30, 27], dtype=uint8), array([106, 106,  98, ...,  79,  45,   0], dtype=uint8), array([  0,   0,   0, ...,  97, 113,  53], dtype=uint8), array([73, 81, 81, ...,  0,  0,  0], dtype=uint8), array([64, 64, 70, ..., 52, 49, 16], dtype=uint8), array([40, 21, 49, ...,  0,  0,  0], dtype=uint8), array([254,  92, 111, ...,   0,   0,   0], dtype=uint8), array([0, 0, 0, ..., 0, 0, 0], dtype=uint8), array([125, 120, 113, ...,  42,  45,  44], dtype=uint8), array([92, 87, 71, ..., 60,  0,  4], dtype=uint8), array([ 0,  0, 20, ...,  0,  0,  0], dtype=uint8), array([11, 42, 71, ...,  0,  0,  0], dtype=uint8), array([70,  3,  2, ..., 13, 15, 15], dtype=uint8), array([ 76, 102, 100, ...,   0,   0,   1], dtype=uint8), array([  1,   1,   1, ..., 214, 203, 202], dtype=uint8), array([54, 58, 57, ..., 78, 50, 37], dtype=uint8), array([ 0,  0,  6, ..., 79, 21,  7], dtype=uint8), array([ 72,  74,  71, ..., 161,  38,   0], dtype=uint8), array([ 1, 40, 69, ..., 42, 41, 40], dtype=uint8), array([ 8,  3, 82, ...,  7,  9, 11], dtype=uint8), array([ 0,  0,  0, ..., 89, 58,  0], dtype=uint8), array([253, 250,   0, ...,  31,   4,   0], dtype=uint8), array([56, 56, 52, ...,  0,  0,  0], dtype=uint8), array([  0,   0, 253, ...,  10,  11,  11], dtype=uint8), array([254, 243,  72, ...,   0,   0,   0], dtype=uint8), array([ 0, 63, 75, ..., 20, 32, 51], dtype=uint8), array([13, 46, 65, ...,  0,  0,  0], dtype=uint8), array([ 0,  0, 16, ..., 11,  0,  0], dtype=uint8), array([52, 55, 60, ..., 23, 27, 29], dtype=uint8), array([ 0,  0, 10, ...,  0,  0,  0], dtype=uint8), array([105, 115, 113, ...,  35,   0,   0], dtype=uint8), array([ 8, 38, 52, ...,  0,  0,  0], dtype=uint8), array([1, 1, 0, ..., 0, 0, 0], dtype=uint8), array([ 0,  8, 38, ..., 82, 16,  0], dtype=uint8), array([11,  5,  6, ..., 60, 19, 12], dtype=uint8), array([16, 36, 71, ..., 43,  0,  0], dtype=uint8), array([255,  62,  66, ..., 179, 144,  49], dtype=uint8), array([200, 198, 146, ...,  61,  17,   0], dtype=uint8), array([1, 1, 1, ..., 6, 3, 5], dtype=uint8), array([ 88, 100, 113, ..., 119,  98,  64], dtype=uint8), array([181, 201, 185, ...,   0,   0,   0], dtype=uint8), array([  8,   8,   6, ..., 183, 156, 117], dtype=uint8), array([49, 46, 37, ..., 32, 44, 46], dtype=uint8), array([63, 79, 87, ...,  0,  0,  0], dtype=uint8), array([18, 16, 25, ...,  0,  0,  0], dtype=uint8), array([75, 85, 87, ..., 26,  1,  2], dtype=uint8), array([  0,   0,   0, ..., 157, 154, 119], dtype=uint8), array([161, 133, 147, ...,   0,   0,   0], dtype=uint8), array([ 0,  2, 13, ...,  3,  0,  0], dtype=uint8), array([137, 142,  79, ...,   0,   0,   0], dtype=uint8), array([1, 1, 0, ..., 3, 3, 4], dtype=uint8), array([ 20,  15,  52, ..., 173, 129,  83], dtype=uint8), array([31, 75, 78, ...,  7, 15, 10], dtype=uint8), array([189, 152, 159, ...,   4,   7,  12], dtype=uint8), array([ 49,  75, 126, ...,  36,   1,  42], dtype=uint8), array([55, 78, 97, ...,  0,  0,  0], dtype=uint8), array([0, 0, 0, ..., 4, 0, 0], dtype=uint8), array([253, 246,   9, ...,  39,  10,   0], dtype=uint8), array([ 13, 108,  80, ...,   5,   0,   0], dtype=uint8), array([ 0, 33, 45, ...,  0,  5,  7], dtype=uint8), array([ 37,  86, 101, ...,  79,  80,  86], dtype=uint8), array([ 0, 17, 47, ...,  0,  0,  0], dtype=uint8), array([173, 117, 162, ...,  17,  24,  25], dtype=uint8), array([ 72,  73, 114, ...,  67,   8,   0], dtype=uint8), array([ 53,  61, 123, ...,  24,   0,   0], dtype=uint8), array([ 51,  55, 130, ...,  61,  42,  12], dtype=uint8), array([ 97, 119, 121, ...,   0,   0,   0], dtype=uint8), array([180,   2,  84, ...,   6,   8,   8], dtype=uint8), array([ 59,  55, 102, ...,  81,  21,   0], dtype=uint8), array([ 72,  79, 173, ..., 254, 253, 253], dtype=uint8), array([250, 128, 115, ...,  15,   0,   0], dtype=uint8), array([ 1,  5, 14, ...,  3,  0,  0], dtype=uint8), array([28, 46, 56, ..., 38,  8, 13], dtype=uint8), array([ 0,  0,  0, ..., 99, 99, 53], dtype=uint8), array([47, 49, 65, ..., 21, 23, 24], dtype=uint8), array([39, 63, 60, ..., 20, 19, 29], dtype=uint8), array([64, 74, 71, ...,  0,  0,  0], dtype=uint8), array([122,  99, 111, ...,  25,   0,   0], dtype=uint8), array([72, 68, 70, ...,  0,  0,  0], dtype=uint8), array([ 58,  85, 100, ...,  51,   0,   0], dtype=uint8), array([ 0, 14, 71, ...,  3,  4,  4], dtype=uint8), array([ 5, 10, 22, ...,  0,  0,  0], dtype=uint8), array([73, 70, 71, ..., 65, 65, 65], dtype=uint8), array([102, 155, 155, ...,   0,   0, 153], dtype=uint8), array([255, 250,  13, ...,   0,   0,   0], dtype=uint8), array([ 4, 27, 35, ..., 84, 22,  2], dtype=uint8), array([104,  71,  76, ...,  97,   0,   0], dtype=uint8), array([ 0,  0, 23, ...,  1,  1,  1], dtype=uint8), array([105, 163, 174, ..., 153,  64,   0], dtype=uint8), array([106, 122,  88, ...,   0,   0,   0], dtype=uint8), array([89, 81, 57, ..., 51, 17, 22], dtype=uint8), array([ 16,  25, 160, ...,   0,   0,   0], dtype=uint8), array([ 25, 105,  84, ...,   0,   0,   0], dtype=uint8), array([ 0, 36, 78, ..., 47,  0,  0], dtype=uint8), array([ 0,  0,  0, ..., 28,  0,  0], dtype=uint8), array([21, 56, 79, ...,  0,  0,  0], dtype=uint8), array([0, 0, 0, ..., 0, 0, 0], dtype=uint8), array([108,  99,  99, ..., 171,  84,  25], dtype=uint8), array([54, 65, 66, ..., 32, 33, 33], dtype=uint8), array([64, 52, 46, ..., 47,  0,  0], dtype=uint8), array([ 9, 10, 11, ...,  0,  0,  0], dtype=uint8), array([0, 1, 4, ..., 0, 0, 0], dtype=uint8), array([ 48,  88,  96, ..., 136, 134,   4], dtype=uint8), array([178, 118, 118, ...,   0,   0,   0], dtype=uint8), array([156, 162, 167, ...,   0,   0, 242], dtype=uint8), array([29, 51, 64, ..., 35,  0,  0], dtype=uint8), array([  1, 253, 247, ...,   0,   0,   0], dtype=uint8), array([21, 25, 15, ..., 30, 29, 23], dtype=uint8), array([36, 43, 40, ..., 32, 34, 35], dtype=uint8), array([ 48,  69, 145, ...,   0,   0,   0], dtype=uint8), array([  0,  16,  15, ..., 125,  16,   5], dtype=uint8), array([24, 39, 58, ...,  0,  0,  0], dtype=uint8), array([25, 55, 81, ...,  0,  0,  0], dtype=uint8), array([123, 133, 124, ...,   0,   0,   0], dtype=uint8), array([ 46,  57, 116, ...,  58,   0,   0], dtype=uint8), array([190, 192, 193, ..., 161, 147, 128], dtype=uint8), array([ 25,  58,  76, ..., 136,  51,   4], dtype=uint8), array([  9,  22,  35, ..., 147, 159, 100], dtype=uint8), array([ 24,  26,  22, ..., 127,  88, 105], dtype=uint8), array([113, 149, 168, ...,   0,   0,   1], dtype=uint8), array([78, 90, 87, ..., 11,  0,  0], dtype=uint8), array([100, 128, 100, ...,  19,   0,   0], dtype=uint8), array([13, 41, 71, ..., 28,  1,  4], dtype=uint8), array([ 0,  0, 15, ...,  1,  4,  1], dtype=uint8), array([69, 60, 74, ...,  0,  0,  0], dtype=uint8), array([ 0, 31, 60, ..., 50,  0,  0], dtype=uint8), array([1, 1, 1, ..., 1, 1, 1], dtype=uint8), array([182,  29,  37, ..., 222, 229, 227], dtype=uint8), array([250, 182, 137, ..., 173, 155, 252], dtype=uint8), array([0, 0, 0, ..., 0, 0, 0], dtype=uint8), array([  0, 159, 147, ...,   9,  10,   0], dtype=uint8), array([11, 18, 42, ...,  0,  0,  0], dtype=uint8), array([ 8, 30, 29, ..., 26, 25, 29], dtype=uint8), array([ 64,  85, 126, ...,   0,   0,   0], dtype=uint8), array([29, 46, 56, ...,  5, 10,  5], dtype=uint8), array([ 89, 106, 146, ...,  15,  21,  29], dtype=uint8), array([ 64,  79, 149, ...,   0,   0,   0], dtype=uint8), array([  0,  10,  30, ..., 101,  23,   0], dtype=uint8), array([159, 143, 147, ...,   0,   0,   0], dtype=uint8), array([ 4, 15,  0, ...,  0,  0,  0], dtype=uint8), array([30, 28, 28, ..., 33, 33, 31], dtype=uint8), array([ 1, 61, 82, ..., 33, 36, 34], dtype=uint8), array([0, 0, 0, ..., 0, 0, 0], dtype=uint8), array([193, 184, 189, ...,  91,   2,   0], dtype=uint8), array([138,  96, 118, ...,   0,   0,   0], dtype=uint8), array([ 77,  72, 167, ...,   0,   0,   0], dtype=uint8), array([ 58,  80, 103, ...,  15,  19,  21], dtype=uint8), array([136, 127, 139, ...,   0,   0,   0], dtype=uint8), array([26, 44, 46, ..., 45,  0,  0], dtype=uint8), array([ 56,  76, 138, ..., 138,  73,  17], dtype=uint8), array([107, 113, 114, ..., 165, 141,  33], dtype=uint8), array([255, 255, 152, ...,  51,   0,   0], dtype=uint8), array([0, 0, 1, ..., 0, 0, 0], dtype=uint8), array([255,  55,  57, ...,   7,   0,   0], dtype=uint8), array([224,  66,  65, ...,  11,   0,   0], dtype=uint8), array([15, 40, 66, ...,  9,  4,  1], dtype=uint8), array([  0,   0,  25, ..., 103, 123, 144], dtype=uint8), array([ 66, 255, 255, ...,  34,   0,   0], dtype=uint8), array([ 95, 101, 104, ..., 133,  41,   0], dtype=uint8), array([ 0, 15, 29, ...,  0,  0,  0], dtype=uint8), array([ 0, 11, 26, ...,  1,  0,  0], dtype=uint8), array([0, 0, 0, ..., 6, 0, 0], dtype=uint8), array([ 26,  80, 244, ...,  30,  31,  32], dtype=uint8), array([ 38,  78, 101, ...,   0,   0,   0], dtype=uint8), array([ 0, 12, 37, ...,  0,  0,  0], dtype=uint8), array([111, 123, 129, ..., 176, 192, 112], dtype=uint8), array([136, 141, 149, ...,  50,   0,   0], dtype=uint8), array([ 6,  6,  6, ...,  8,  8, 10], dtype=uint8), array([111,  31,  35, ...,   0,   0,   0], dtype=uint8), array([ 59,  67,  63, ..., 113, 107,  77], dtype=uint8), array([47, 38, 63, ..., 73, 32,  3], dtype=uint8), array([ 0, 35, 66, ...,  0,  0,  0], dtype=uint8), array([ 47,  49, 253, ...,   0,   4,   5], dtype=uint8), array([34, 57, 65, ...,  0,  0,  0], dtype=uint8), array([29, 35, 32, ..., 75, 49, 27], dtype=uint8), array([ 0,  9, 33, ...,  0,  0,  0], dtype=uint8), array([72, 82, 88, ..., 20, 25, 26], dtype=uint8), array([86, 86, 86, ..., 36,  0,  0], dtype=uint8), array([0, 0, 5, ..., 0, 0, 0], dtype=uint8), array([31, 47, 52, ..., 44, 33, 28], dtype=uint8), array([  0,   0,  38, ..., 128,  25,   0], dtype=uint8), array([12, 58, 92, ...,  0,  0,  0], dtype=uint8), array([ 82,  85, 128, ..., 100,  40,   0], dtype=uint8), array([253, 110,  72, ...,   0,   0,   0], dtype=uint8), array([46, 50, 58, ..., 19,  0,  0], dtype=uint8), array([ 80, 100, 124, ..., 173, 216, 255], dtype=uint8), array([ 24,  27, 255, ...,   0,   0,   0], dtype=uint8), array([ 83,  89,  98, ..., 147, 123,  59], dtype=uint8), array([151, 113, 229, ...,   7,   9,   5], dtype=uint8), array([ 78,  95, 103, ...,  39,   0,   4], dtype=uint8), array([255, 248, 251, ...,   0,   0,   0], dtype=uint8), array([ 30,  47,  69, ..., 141, 106,   0], dtype=uint8), array([42, 73, 83, ..., 79, 32,  0], dtype=uint8), array([121, 119, 116, ..., 143, 117,  14], dtype=uint8), array([0, 0, 1, ..., 6, 0, 0], dtype=uint8), array([124, 112, 138, ...,  36,   0,   0], dtype=uint8), array([0, 0, 0, ..., 0, 0, 0], dtype=uint8), array([0, 0, 7, ..., 0, 0, 0], dtype=uint8), array([ 98, 114,  89, ..., 126, 116,  33], dtype=uint8), array([100, 109, 116, ...,  58,  14,   0], dtype=uint8), array([ 1, 30, 50, ...,  0,  0,  0], dtype=uint8), array([  2,   2, 187, ...,   0,   1,   3], dtype=uint8), array([  2, 255, 254, ...,   6,   0,   0], dtype=uint8), array([59, 15, 16, ..., 12,  0,  0], dtype=uint8), array([ 71, 116, 107, ..., 128,  92,  36], dtype=uint8), array([ 9, 10, 11, ...,  9,  9, 10], dtype=uint8), array([ 0,  0,  2, ..., 62, 30,  0], dtype=uint8), array([ 0,  0,  0, ..., 19,  0,  0], dtype=uint8), array([55, 56, 62, ...,  0,  0,  0], dtype=uint8), array([ 3, 11, 34, ..., 45, 12,  0], dtype=uint8), array([ 0, 10, 50, ...,  8,  8,  4], dtype=uint8), array([55, 59, 67, ..., 41,  1,  4], dtype=uint8), array([ 58,  70, 196, ..., 179,  86,   9], dtype=uint8), array([ 1, 14, 13, ...,  9, 11,  0], dtype=uint8), array([10, 36, 67, ..., 14,  0,  0], dtype=uint8), array([ 17, 190,  29, ...,   0,   0,   0], dtype=uint8), array([ 97,  89, 146, ...,   0,   0,   0], dtype=uint8), array([ 42, 118,  90, ...,  52,   0,   0], dtype=uint8), array([209, 206, 210, ..., 106,   2,   6], dtype=uint8), array([ 64,  62,  67, ..., 144,  73,  49], dtype=uint8), array([125, 116,  96, ...,   0,   0,   0], dtype=uint8), array([14, 14, 40, ...,  0,  0,  0], dtype=uint8), array([26, 47, 53, ...,  0,  0,  0], dtype=uint8), array([45, 28, 28, ...,  1, 10, 13], dtype=uint8), array([ 59, 101, 118, ...,   0,   0,   0], dtype=uint8), array([ 0, 11, 32, ...,  0,  0,  0], dtype=uint8), array([103,  92,  96, ..., 178, 190, 137], dtype=uint8), array([  0,   0, 254, ...,  46,  13,   0], dtype=uint8), array([144, 162, 174, ...,   0,   0,  92], dtype=uint8), array([190,   0,   3, ...,   0,   0,   0], dtype=uint8), array([109,  82,  52, ...,  27,  29,  29], dtype=uint8), array([  0,   9,  21, ..., 118,  76,   0], dtype=uint8), array([35, 43, 46, ...,  0,  0,  0], dtype=uint8), array([45, 36, 42, ..., 66, 89, 49], dtype=uint8), array([ 15,  29,  60, ..., 116,  58,   0], dtype=uint8), array([ 0, 34, 72, ...,  0,  0,  0], dtype=uint8), array([102, 106, 108, ..., 156, 138,  98], dtype=uint8), array([ 32,  97, 219, ...,  11,  11,  13], dtype=uint8), array([ 0,  0,  0, ..., 21,  0,  0], dtype=uint8), array([72, 62, 70, ..., 34, 36, 37], dtype=uint8), array([ 22,  21,  28, ..., 164, 156, 179], dtype=uint8), array([128, 129,  67, ...,   0,   0,   0], dtype=uint8), array([ 30,  28,  30, ..., 157, 107, 121], dtype=uint8), array([60, 63, 64, ...,  0,  0,  0], dtype=uint8), array([ 49,  68,  76, ..., 101,  33,   0], dtype=uint8), array([ 7, 40, 71, ...,  0,  0,  0], dtype=uint8), array([126, 120, 147, ..., 179, 185, 183], dtype=uint8), array([150, 151, 163, ...,  21,  22,  26], dtype=uint8), array([254, 250, 248, ...,  73,  22,   0], dtype=uint8), array([63, 78, 85, ..., 35,  0,  0], dtype=uint8), array([ 69,  85, 107, ...,  53,   0,   0], dtype=uint8), array([27, 18, 12, ..., 71, 13, 18], dtype=uint8), array([ 30,  33,  47, ..., 162, 148, 135], dtype=uint8), array([96, 57, 52, ..., 55, 19,  0], dtype=uint8), array([  0,   0,  33, ..., 252, 255, 255], dtype=uint8), array([ 0,  0,  0, ..., 26,  0,  0], dtype=uint8), array([38, 54, 86, ..., 34, 39, 45], dtype=uint8), array([23, 26, 24, ..., 67, 34,  8], dtype=uint8), array([ 21,  78, 114, ...,   5,   8,   9], dtype=uint8), array([ 7,  8, 30, ...,  0,  0,  0], dtype=uint8), array([36, 44, 51, ..., 43, 15, 20], dtype=uint8), array([ 4,  3,  2, ..., 62, 42,  0], dtype=uint8), array([ 90, 104, 126, ...,  49,   0,  14], dtype=uint8), array([ 67,  80, 219, ...,  12,  11,   9], dtype=uint8), array([34, 56, 90, ...,  0,  0,  1], dtype=uint8), array([77, 87, 92, ..., 26,  0,  0], dtype=uint8), array([66, 76, 82, ...,  0,  0,  0], dtype=uint8), array([13, 31, 44, ...,  8,  0,  0], dtype=uint8), array([107, 197, 144, ...,  63,   3,   0], dtype=uint8), array([73, 88, 94, ...,  0,  3,  8], dtype=uint8), array([ 81,  90, 100, ...,  26,   1,   0], dtype=uint8), array([ 2,  2,  1, ..., 88, 47, 12], dtype=uint8), array([16, 23, 12, ..., 38,  8,  0], dtype=uint8), array([ 80,  98, 101, ...,  21,   0,   0], dtype=uint8), array([ 1,  2, 97, ...,  5, 10, 11], dtype=uint8), array([40, 49, 63, ..., 22,  0,  0], dtype=uint8), array([74, 81, 92, ...,  0,  0,  0], dtype=uint8), array([73, 66, 63, ...,  2,  7, 12], dtype=uint8), array([ 0,  0, 11, ...,  0,  0,  0], dtype=uint8), array([ 75,  94, 141, ...,   0,   0,   0], dtype=uint8), array([ 61,  61,  71, ..., 202, 134,  26], dtype=uint8), array([ 0,  0, 13, ...,  0,  0,  0], dtype=uint8), array([ 1,  9, 41, ..., 73, 26,  0], dtype=uint8), array([5, 4, 2, ..., 0, 0, 0], dtype=uint8), array([ 7, 69, 99, ..., 23, 25, 25], dtype=uint8), array([5, 2, 0, ..., 0, 0, 0], dtype=uint8), array([19, 44, 64, ..., 19,  0,  0], dtype=uint8), array([56, 69, 74, ..., 31,  0,  0], dtype=uint8), array([ 14,  15, 252, ...,   0,   0,   0], dtype=uint8), array([74, 84, 82, ...,  0,  0,  0], dtype=uint8), array([1, 1, 1, ..., 1, 1, 1], dtype=uint8), array([ 7, 46, 56, ..., 36,  0,  0], dtype=uint8), array([113,  61,  48, ...,  17,  19,  19], dtype=uint8), array([130, 136, 149, ...,  43,   6,   0], dtype=uint8), array([42, 43, 48, ...,  0,  7,  3], dtype=uint8), array([ 0,  0, 11, ...,  0,  0,  0], dtype=uint8), array([ 72, 254,  46, ...,   0,   1,   0], dtype=uint8), array([ 41,  65, 119, ...,  37,   0,   0], dtype=uint8), array([56, 55, 56, ..., 64, 56, 56], dtype=uint8), array([0, 0, 0, ..., 0, 0, 0], dtype=uint8), array([ 27,  37,  46, ..., 111,  33,   0], dtype=uint8), array([ 6,  5,  5, ..., 34, 12, 20], dtype=uint8), array([ 68,  82, 110, ...,  70,  15,   0], dtype=uint8), array([ 82, 141, 109, ...,   5,   5,   5], dtype=uint8), array([ 68,  82, 105, ...,   4,  10,   2], dtype=uint8), array([ 6, 20, 34, ...,  0,  0,  0], dtype=uint8), array([120, 120, 125, ...,  36,   0,   0], dtype=uint8), array([245, 131,  70, ...,   0,   0,   0], dtype=uint8), array([ 72,  98, 101, ...,  82,  27, 212], dtype=uint8), array([ 30,  30,  19, ..., 114,  90,  45], dtype=uint8), array([ 53,  48,  40, ..., 130, 112,  78], dtype=uint8), array([29, 46, 57, ...,  0,  0,  0], dtype=uint8), array([ 5, 32, 64, ...,  0,  0,  0], dtype=uint8), array([2, 2, 2, ..., 4, 4, 4], dtype=uint8), array([19, 39, 58, ...,  8, 11, 12], dtype=uint8), array([ 0,  0, 29, ...,  0,  0,  0], dtype=uint8), array([ 15,  10,  51, ...,  22,  20, 106], dtype=uint8), array([1, 1, 1, ..., 1, 1, 1], dtype=uint8), array([62, 85, 95, ..., 52,  0,  0], dtype=uint8), array([66, 74, 78, ..., 50,  2,  0], dtype=uint8), array([36, 41, 48, ..., 42,  0,  7], dtype=uint8), array([61, 54, 50, ..., 10,  8,  9], dtype=uint8), array([30, 65, 79, ...,  0,  0,  0], dtype=uint8), array([  9,  58, 109, ...,  10,   3,   4], dtype=uint8), array([77, 87, 97, ..., 30,  0,  0], dtype=uint8), array([13, 12, 10, ..., 14, 19, 20], dtype=uint8), array([58, 56, 46, ..., 59,  9,  0], dtype=uint8), array([172,  78,  98, ...,   0,   0,   0], dtype=uint8), array([ 39,  47,  51, ..., 129, 117,  83], dtype=uint8), array([ 0, 12, 40, ...,  0,  0,  0], dtype=uint8), array([ 0, 10, 34, ..., 36,  0,  0], dtype=uint8), array([67, 91, 94, ..., 57,  0,  0], dtype=uint8), array([61, 56, 61, ..., 16, 18, 18], dtype=uint8), array([ 1,  1,  1, ...,  0,  1, 14], dtype=uint8), array([ 47,  94,  95, ..., 194, 218, 203], dtype=uint8), array([ 0,  0,  3, ..., 93, 44,  0], dtype=uint8), array([ 63, 111,  97, ...,  40,   0,   0], dtype=uint8), array([39, 47, 57, ..., 12, 18, 19], dtype=uint8), array([155, 145, 157, ...,  83,   0,   0], dtype=uint8), array([ 0,  0, 36, ..., 49,  7,  0], dtype=uint8), array([27, 42, 58, ...,  0,  0,  0], dtype=uint8), array([11, 11,  9, ..., 28, 30, 30], dtype=uint8), array([90, 66, 56, ..., 64, 17, 24], dtype=uint8), array([43, 49, 46, ..., 24, 27,  0], dtype=uint8), array([15, 16, 19, ...,  0,  0,  0], dtype=uint8), array([63, 26, 42, ..., 92, 37,  0], dtype=uint8), array([ 8, 36, 62, ...,  0,  0,  0], dtype=uint8), array([0, 0, 4, ..., 0, 1, 2], dtype=uint8), array([121, 134, 142, ...,   2,   0,   2], dtype=uint8), array([ 8, 29, 57, ...,  7,  3,  9], dtype=uint8), array([ 3, 38, 67, ...,  0,  0,  0], dtype=uint8), array([141, 180, 183, ...,   0,   0,   1], dtype=uint8), array([14, 15,  7, ..., 21,  0,  0], dtype=uint8), array([50, 70, 87, ..., 52,  0,  0], dtype=uint8), array([16, 14, 12, ..., 27, 28, 29], dtype=uint8), array([ 0,  6, 23, ..., 28,  0,  0], dtype=uint8), array([29, 26, 64, ..., 15, 25, 27], dtype=uint8), array([18, 67, 87, ...,  1,  2,  0], dtype=uint8), array([ 1, 51, 95, ...,  0,  0,  0], dtype=uint8), array([ 3, 56, 53, ..., 41, 32, 29], dtype=uint8), array([ 0, 35, 51, ...,  0,  0,  0], dtype=uint8), array([ 10,  10,  11, ..., 198, 179, 177], dtype=uint8), array([0, 0, 0, ..., 0, 0, 0], dtype=uint8), array([49, 67, 68, ..., 31, 33, 38], dtype=uint8), array([157,  72,  62, ...,  45,   8,  16], dtype=uint8), array([34, 64, 80, ..., 53,  0,  0], dtype=uint8), array([0, 0, 0, ..., 0, 0, 0], dtype=uint8), array([ 45,  53, 109, ...,   0,   0,   0], dtype=uint8), array([ 33, 176,  27, ...,   0,   0,   0], dtype=uint8), array([115, 126, 121, ..., 113,  40,  52], dtype=uint8), array([ 78, 137, 137, ...,   4,   6,  11], dtype=uint8), array([36, 45, 84, ...,  0,  0,  0], dtype=uint8), array([0, 0, 0, ..., 0, 0, 0], dtype=uint8), array([  4,   5,   2, ..., 148, 145, 137], dtype=uint8), array([37, 60, 76, ...,  0,  0,  0], dtype=uint8), array([22, 42, 70, ...,  0,  0,  0], dtype=uint8), array([ 0,  5, 36, ...,  0,  0,  0], dtype=uint8), array([62, 78, 72, ..., 19,  3, 30], dtype=uint8), array([57, 81, 95, ...,  0,  0,  0], dtype=uint8), array([ 3, 38, 66, ...,  0,  0,  0], dtype=uint8), array([ 26, 254,   9, ...,  10,  11,  11], dtype=uint8), array([  4, 150,  39, ...,   7,   7,   7], dtype=uint8), array([ 1, 29, 57, ...,  0,  0,  0], dtype=uint8), array([  0,   2,   1, ...,   0,   0, 243], dtype=uint8), array([16, 44, 45, ..., 56,  0,  0], dtype=uint8), array([ 2, 43, 57, ..., 28, 28, 28], dtype=uint8), array([67, 77, 77, ...,  0,  0,  0], dtype=uint8), array([198, 255, 221, ..., 141, 119,   1], dtype=uint8), array([120, 120, 138, ..., 174, 161, 144], dtype=uint8), array([0, 0, 0, ..., 0, 0, 0], dtype=uint8), array([14, 37, 51, ..., 16,  1,  0], dtype=uint8), array([ 0, 17, 16, ..., 13, 13,  0], dtype=uint8), array([52, 78, 98, ..., 91,  0,  0], dtype=uint8), array([65, 71, 74, ..., 76, 13, 21], dtype=uint8), array([ 0,  0,  4, ..., 72,  7,  0], dtype=uint8), array([63, 64, 70, ...,  1,  4,  2], dtype=uint8), array([ 71,  85,  85, ...,  28,  27, 112], dtype=uint8), array([0, 0, 0, ..., 0, 0, 2], dtype=uint8), array([12, 13, 12, ...,  9, 10, 11], dtype=uint8), array([135,  49,  63, ...,   0,   0,   0], dtype=uint8), array([33, 24, 27, ...,  0,  0,  0], dtype=uint8), array([ 9, 15, 21, ...,  0,  0,  0], dtype=uint8), array([ 0, 32, 49, ...,  1,  0,  3], dtype=uint8), array([ 0,  5, 12, ...,  0,  0,  0], dtype=uint8), array([ 1, 14, 30, ..., 22, 22, 32], dtype=uint8), array([13,  6, 36, ...,  0,  7, 11], dtype=uint8), array([21, 42, 65, ...,  4,  0,  0], dtype=uint8), array([90, 90, 76, ..., 52,  2,  8], dtype=uint8), array([ 6,  3,  8, ..., 10,  8, 11], dtype=uint8), array([ 92, 126, 142, ...,  27,   2,   6], dtype=uint8), array([52, 57, 68, ..., 34,  6,  0], dtype=uint8), array([29, 43, 45, ..., 46, 20, 24], dtype=uint8), array([35, 33, 31, ..., 39, 38, 38], dtype=uint8), array([52, 57, 63, ...,  0,  0,  0], dtype=uint8), array([ 7, 15, 21, ...,  0,  0,  0], dtype=uint8), array([41, 65, 79, ...,  0,  0,  0], dtype=uint8), array([254,   1,   0, ...,   3,   0,   0], dtype=uint8), array([147, 145, 143, ..., 160,  56,   0], dtype=uint8), array([ 51,  72,  70, ..., 126, 119,  69], dtype=uint8), array([80, 35, 50, ...,  0,  0,  0], dtype=uint8), array([ 18, 149, 100, ...,   0,   4,   8], dtype=uint8), array([143, 153, 153, ...,   2,   2,   1], dtype=uint8), array([ 40, 103,  96, ...,  95,  10,   0], dtype=uint8), array([  0,   0,   0, ...,   0,   0, 208], dtype=uint8), array([ 93, 107, 151, ...,   0,   0,   0], dtype=uint8), array([0, 0, 0, ..., 9, 3, 4], dtype=uint8), array([0, 0, 5, ..., 0, 0, 0], dtype=uint8), array([ 23,  44,  59, ..., 134,  34,   1], dtype=uint8), array([254, 247, 159, ...,  13,  18,  21], dtype=uint8), array([143, 153, 158, ...,   0,   0,   0], dtype=uint8), array([ 1,  9, 13, ...,  0,  0,  0], dtype=uint8), array([255, 255, 255, ...,   0,   0,   0], dtype=uint8), array([ 40,  92, 100, ...,   0,   0,   0], dtype=uint8), array([ 14,  51, 127, ...,  98,  55,   0], dtype=uint8), array([  3,   9,  13, ..., 103,  80,  35], dtype=uint8), array([ 26,  25,  28, ..., 164, 107,  29], dtype=uint8), array([47, 52, 61, ..., 71, 50,  9], dtype=uint8), array([42, 39, 30, ..., 28, 34,  2], dtype=uint8), array([37, 46, 49, ...,  0,  0,  0], dtype=uint8), array([  0,   0,   0, ...,   0,   2, 113], dtype=uint8), array([ 0,  0,  4, ..., 85, 19,  0], dtype=uint8), array([ 8, 26, 40, ...,  0,  0,  0], dtype=uint8), array([0, 0, 0, ..., 0, 0, 0], dtype=uint8), array([ 97,  93, 104, ...,  25,   0,   0], dtype=uint8), array([27, 22, 58, ..., 12,  8, 74], dtype=uint8), array([103, 110, 115, ...,   0,   0,   0], dtype=uint8), array([ 22,  34, 100, ..., 135,  46,   0], dtype=uint8), array([15, 19, 27, ..., 54, 12,  0], dtype=uint8), array([72, 55, 50, ...,  0,  0,  0], dtype=uint8), array([ 76, 109, 192, ...,   9,  10,  11], dtype=uint8), array([148, 152, 150, ..., 118,  85,  51], dtype=uint8), array([ 8, 61, 97, ..., 40,  0,  0], dtype=uint8), array([ 57,  71, 160, ...,  45,   0,   0], dtype=uint8), array([5, 8, 6, ..., 2, 3, 1], dtype=uint8), array([ 6, 25, 59, ...,  0,  0,  0], dtype=uint8), array([24, 60, 77, ...,  0,  0,  0], dtype=uint8), array([ 0,  0, 30, ...,  0,  0,  0], dtype=uint8), array([163, 169, 139, ...,  11,   0,   0], dtype=uint8), array([33, 65, 76, ...,  0,  0,  0], dtype=uint8), array([ 10,  94,  88, ..., 112,  74,   1], dtype=uint8), array([  0,  27,  68, ..., 121, 103,   0], dtype=uint8), array([ 84, 128,  67, ...,   0,   0,   0], dtype=uint8), array([47, 60, 64, ...,  0,  0,  0], dtype=uint8), array([ 75, 100, 108, ..., 133,  50,   0], dtype=uint8), array([ 75,  95, 108, ...,   0,   0,   0], dtype=uint8), array([54, 54, 47, ..., 12, 17, 18], dtype=uint8), array([ 0,  0, 24, ...,  5,  4,  3], dtype=uint8), array([0, 0, 0, ..., 0, 0, 0], dtype=uint8), array([ 0,  0,  0, ..., 50,  0,  0], dtype=uint8), array([ 4, 14, 19, ...,  0,  0,  0], dtype=uint8), array([ 0,  6, 12, ...,  0,  0,  0], dtype=uint8), array([0, 0, 0, ..., 0, 0, 0], dtype=uint8), array([78, 88, 82, ...,  0,  0,  0], dtype=uint8), array([29, 59, 73, ...,  1,  4,  4], dtype=uint8), array([18, 15, 18, ...,  0,  0,  0], dtype=uint8), array([50, 90, 97, ..., 20,  0,  0], dtype=uint8), array([220,  14,  23, ...,   1,   0,   0], dtype=uint8), array([ 43,  49,  47, ..., 114,  64,  13], dtype=uint8), array([19, 23, 25, ..., 11, 12, 13], dtype=uint8), array([30, 49, 57, ...,  0,  0,  0], dtype=uint8), array([113, 166,  84, ...,   0,   0,   0], dtype=uint8), array([ 0, 13, 39, ...,  7,  0,  0], dtype=uint8), array([ 3, 18, 11, ..., 16,  6,  0], dtype=uint8), array([ 0, 15, 50, ..., 28,  0,  0], dtype=uint8), array([34, 55, 66, ..., 19,  0,  0], dtype=uint8), array([0, 0, 1, ..., 0, 0, 0], dtype=uint8), array([140,  56,  31, ...,  27,  26,  25], dtype=uint8), array([ 0,  0, 23, ...,  0,  0,  0], dtype=uint8), array([ 56,  76, 102, ...,   0,   0,   0], dtype=uint8), array([ 72,  89, 141, ...,   0,   0,   0], dtype=uint8), array([22, 70, 94, ...,  0,  0,  0], dtype=uint8), array([254,   1,   0, ...,   0,   0,   0], dtype=uint8), array([ 53,  64, 110, ...,   3,   0,   0], dtype=uint8), array([ 1, 21, 51, ..., 19,  0,  0], dtype=uint8), array([52, 82, 97, ...,  0,  0,  0], dtype=uint8), array([118, 120, 117, ..., 127,  37,   0], dtype=uint8), array([40, 47, 65, ...,  0,  0,  0], dtype=uint8), array([ 82, 113, 136, ...,   0,   0, 129], dtype=uint8), array([14, 40, 70, ...,  0,  0,  0], dtype=uint8), array([ 77,  85, 170, ...,   0,   0,   0], dtype=uint8), array([ 60,  58,  70, ..., 142, 148,  87], dtype=uint8), array([ 87, 104,  93, ...,   0,   0,   0], dtype=uint8), array([  2, 104,  98, ...,  68,  26,  11], dtype=uint8), array([103,  48,   0, ...,  32,   0,   0], dtype=uint8), array([54, 54, 54, ..., 27, 30, 31], dtype=uint8), array([ 48,  40, 183, ...,  38,  10,  16], dtype=uint8), array([70, 78, 55, ..., 32,  5,  0], dtype=uint8), array([ 0, 21, 64, ...,  0,  0,  0], dtype=uint8), array([120, 126, 125, ..., 175, 153, 104], dtype=uint8), array([ 8, 34, 53, ...,  0,  1,  3], dtype=uint8), array([ 28, 133,  50, ...,   0,   0,   0], dtype=uint8), array([0, 0, 5, ..., 0, 0, 0], dtype=uint8), array([60, 76, 69, ...,  0,  0,  0], dtype=uint8), array([23, 25, 19, ...,  0,  0,  0], dtype=uint8), array([108, 125, 134, ..., 190, 204, 167], dtype=uint8), array([111, 126, 138, ...,  41,   0,   0], dtype=uint8), array([  5,  14, 253, ...,  47,   8,   0], dtype=uint8), array([ 0,  0,  5, ..., 19,  0,  0], dtype=uint8), array([0, 0, 0, ..., 0, 0, 0], dtype=uint8), array([60, 73, 82, ...,  0,  0,  0], dtype=uint8), array([41, 47, 54, ...,  0,  0,  0], dtype=uint8), array([22, 36, 64, ...,  0,  0,  0], dtype=uint8), array([49, 67, 63, ..., 20,  0,  0], dtype=uint8), array([70, 67, 63, ...,  6, 11, 12], dtype=uint8), array([ 0, 29, 62, ...,  0,  0,  0], dtype=uint8), array([15, 30, 83, ...,  8,  9,  9], dtype=uint8), array([ 85,  96, 254, ...,  71,  34,   3], dtype=uint8), array([64, 69, 71, ..., 74, 52, 40], dtype=uint8), array([72, 73, 27, ...,  0,  0,  0], dtype=uint8), array([139, 141, 151, ..., 120,  13,   0], dtype=uint8), array([0, 0, 0, ..., 0, 0, 0], dtype=uint8), array([36, 59, 95, ...,  0,  0,  0], dtype=uint8), array([122, 121, 118, ...,  55,  15,  18], dtype=uint8), array([ 24,  88, 114, ...,  13,  14,  15], dtype=uint8), array([ 49, 104,  98, ...,  35,   0,   0], dtype=uint8), array([71, 73, 89, ..., 55, 34, 31], dtype=uint8), array([0, 0, 0, ..., 0, 0, 0], dtype=uint8), array([0, 0, 0, ..., 0, 0, 0], dtype=uint8), array([252, 221,  24, ...,  19,   0,   0], dtype=uint8), array([0, 0, 0, ..., 0, 0, 0], dtype=uint8), array([ 0, 45, 85, ...,  1,  1,  2], dtype=uint8), array([  0,  13, 254, ...,  39,   0,   0], dtype=uint8), array([ 0,  4, 64, ..., 79, 27,  1], dtype=uint8), array([123, 114, 106, ...,   0,   0,   0], dtype=uint8), array([33, 59, 80, ...,  0,  0,  0], dtype=uint8), array([255, 253,  50, ...,   6,   0,   0], dtype=uint8), array([10, 66, 97, ...,  0,  0,  0], dtype=uint8), array([ 27,  23, 204, ...,  24,  30,  31], dtype=uint8), array([91, 71, 85, ..., 60, 28,  4], dtype=uint8), array([ 0,  0, 82, ...,  0,  0,  0], dtype=uint8), array([101, 102, 100, ...,  36,   0,   0], dtype=uint8), array([ 56,  68,  70, ..., 109,  54,  43], dtype=uint8), array([ 1, 43, 34, ..., 12, 16, 16], dtype=uint8), array([ 70,  73, 106, ...,  86,  46,   0], dtype=uint8), array([148, 135, 125, ..., 168, 139, 150], dtype=uint8), array([60, 63, 66, ..., 98,  5,  0], dtype=uint8), array([ 0,  7, 21, ...,  0,  0,  0], dtype=uint8), array([70, 48, 51, ..., 10, 16, 17], dtype=uint8), array([ 26,  42,  53, ..., 107,  74,  56], dtype=uint8), array([21, 52, 73, ..., 64,  0,  0], dtype=uint8), array([130, 119, 140, ...,  72,  41,  63], dtype=uint8), array([ 46,  83, 125, ...,   0,   0,   0], dtype=uint8), array([134,  92, 108, ...,  34,  41,  43], dtype=uint8), array([15, 37, 39, ...,  0,  0,  0], dtype=uint8), array([ 0, 29, 56, ...,  0,  0,  0], dtype=uint8), array([0, 0, 5, ..., 0, 1, 1], dtype=uint8), array([ 8, 51, 71, ..., 45,  0,  0], dtype=uint8), array([27, 57, 78, ...,  0,  0,  0], dtype=uint8), array([0, 0, 0, ..., 0, 0, 0], dtype=uint8), array([112, 123, 132, ..., 101,  60,  49], dtype=uint8), array([13, 37, 57, ...,  0,  3,  5], dtype=uint8), array([253,  36,  44, ...,   0,   0,   0], dtype=uint8), array([  0, 254, 252, ...,   0,   0,   0], dtype=uint8), array([52, 77, 91, ...,  0,  0,  0], dtype=uint8), array([6, 6, 5, ..., 0, 0, 0], dtype=uint8), array([  2,   2,   3, ..., 196, 194, 186], dtype=uint8), array([80, 92, 55, ..., 43,  0,  0], dtype=uint8), array([51, 66, 80, ..., 20, 39, 31], dtype=uint8), array([42, 51, 81, ...,  0,  0,  7], dtype=uint8), array([51, 53, 61, ...,  4,  6,  3], dtype=uint8), array([ 0, 40, 87, ...,  0,  0,  0], dtype=uint8), array([61, 87, 93, ..., 68, 14,  0], dtype=uint8), array([30, 51, 77, ...,  0,  0,  0], dtype=uint8), array([44, 55, 70, ..., 22,  0,  0], dtype=uint8), array([52, 85, 90, ...,  0,  0,  0], dtype=uint8), array([52, 75, 88, ...,  5, 11, 17], dtype=uint8), array([56, 86, 95, ...,  0,  0,  0], dtype=uint8), array([ 72, 109,  92, ...,  18,   0,   0], dtype=uint8), array([136, 146, 153, ...,   0,   0,   0], dtype=uint8), array([ 2, 17, 26, ..., 34,  0,  0], dtype=uint8), array([ 19,  26, 152, ...,  87,  43,  78], dtype=uint8), array([ 95, 102, 102, ...,  59,  30,  33], dtype=uint8), array([ 84,  86, 101, ...,  45,   0,   0], dtype=uint8), array([143,  87, 113, ..., 130,  96,  77], dtype=uint8), array([ 42,  56, 126, ...,   0,   4, 174], dtype=uint8), array([  1,  19, 218, ...,   8,   9,   9], dtype=uint8), array([113,  92, 120, ..., 169,  56,   0], dtype=uint8), array([0, 0, 0, ..., 1, 0, 0], dtype=uint8), array([28, 67, 69, ..., 76, 43, 19], dtype=uint8), array([ 8, 20, 57, ...,  1,  0,  0], dtype=uint8), array([25, 24, 22, ..., 28, 27, 39], dtype=uint8), array([170, 163, 151, ...,  25,  10,  15], dtype=uint8), array([ 83, 102, 104, ...,  26,   7,   0], dtype=uint8), array([ 75,  89,  91, ..., 147, 118,   2], dtype=uint8), array([ 1, 12, 40, ..., 20,  0,  0], dtype=uint8), array([119, 130,  86, ..., 125,  42,   0], dtype=uint8), array([ 89, 110,  68, ...,  47,   0,   0], dtype=uint8), array([0, 0, 7, ..., 0, 0, 0], dtype=uint8), array([0, 0, 6, ..., 0, 0, 0], dtype=uint8), array([  0,   0,   0, ..., 111, 107, 110], dtype=uint8), array([ 0, 10, 27, ..., 22,  0,  0], dtype=uint8), array([ 73,  89,  97, ..., 212, 145,  57], dtype=uint8), array([ 74, 119, 124, ..., 107,  73,  46], dtype=uint8), array([44, 57, 75, ..., 49, 28,  0], dtype=uint8), array([195, 165, 131, ...,  16,  18,  22], dtype=uint8), array([27, 29, 42, ...,  0,  0,  0], dtype=uint8), array([254, 252,   4, ...,   0,   0,   0], dtype=uint8), array([ 0, 50, 79, ...,  0,  0,  0], dtype=uint8), array([252, 232,   0, ...,   0,   0,   0], dtype=uint8), array([ 87, 127, 151, ...,   0,  10,   3], dtype=uint8), array([ 28,  39, 227, ...,  30,   1,  11], dtype=uint8), array([48, 63, 88, ..., 66,  0,  0], dtype=uint8), array([3, 3, 5, ..., 3, 8, 5], dtype=uint8), array([0, 0, 0, ..., 0, 0, 0], dtype=uint8), array([ 92, 104, 107, ...,  47,   0,   0], dtype=uint8), array([ 0,  7, 27, ...,  0,  0,  0], dtype=uint8), array([11, 27, 36, ...,  0,  0,  0], dtype=uint8), array([ 42,  57, 139, ...,   0,   3,   1], dtype=uint8), array([122, 114, 114, ...,  23,   0,   0], dtype=uint8), array([  0,   0, 254, ...,  81,   1,   2], dtype=uint8), array([20, 49, 59, ..., 47,  7,  2], dtype=uint8), array([ 0,  0, 15, ...,  0,  0,  0], dtype=uint8), array([ 82,  86,  94, ..., 136,  80,  20], dtype=uint8), array([76, 80, 66, ..., 10,  0,  0], dtype=uint8), array([103, 114, 164, ...,   0,   0,   0], dtype=uint8), array([0, 0, 0, ..., 6, 5, 4], dtype=uint8), array([31, 59, 70, ...,  0,  0,  0], dtype=uint8), array([0, 0, 3, ..., 0, 0, 0], dtype=uint8), array([ 76, 129, 168, ...,  51,   0,   0], dtype=uint8), array([1, 0, 0, ..., 1, 3, 6], dtype=uint8), array([ 0, 43, 90, ...,  0,  0,  0], dtype=uint8), array([ 71,  60,  37, ..., 177, 152,  60], dtype=uint8), array([ 66,  86,  99, ..., 130,  28,   0], dtype=uint8), array([136, 131, 140, ...,   4,   3,   5], dtype=uint8), array([41, 49, 64, ..., 55, 26,  0], dtype=uint8), array([ 19, 114,  98, ...,  13,  15,  21], dtype=uint8), array([ 0,  5, 44, ..., 15,  0,  0], dtype=uint8), array([  4,   3, 255, ...,   0,   0,   0], dtype=uint8), array([89, 83, 76, ...,  0,  0,  0], dtype=uint8), array([29, 60, 20, ..., 29,  0,  0], dtype=uint8), array([  2,  49,  74, ..., 123,  12,   0], dtype=uint8), array([69, 62, 59, ...,  0,  0,  0], dtype=uint8), array([ 74,  80, 129, ...,   0,   0,   0], dtype=uint8), array([0, 0, 5, ..., 0, 0, 0], dtype=uint8), array([131, 139, 142, ...,   0,   0,   0], dtype=uint8), array([244, 115,   0, ...,   8,   0,   0], dtype=uint8), array([17, 37, 47, ..., 26, 27, 28], dtype=uint8), array([16,  0,  0, ...,  0,  0,  0], dtype=uint8), array([ 4, 14, 19, ..., 12,  6,  4], dtype=uint8), array([255, 255,  10, ...,  61,   5,   0], dtype=uint8), array([0, 3, 5, ..., 0, 0, 0], dtype=uint8), array([ 27,  44,  56, ...,   0,   0, 107], dtype=uint8), array([ 15,  16,  17, ..., 132,  98,  32], dtype=uint8), array([46, 77, 97, ...,  0,  0,  1], dtype=uint8), array([103, 133, 157, ...,  95,  41,   0], dtype=uint8), array([69, 70, 64, ..., 40,  0,  4], dtype=uint8), array([ 76,  92, 103, ...,  14,  19,  20], dtype=uint8), array([ 10,   7,   4, ..., 101,  72,  36], dtype=uint8), array([43, 90, 71, ...,  6,  0,  0], dtype=uint8), array([ 0,  6, 29, ..., 47,  0,  0], dtype=uint8), array([ 0,  0, 20, ...,  0,  0,  0], dtype=uint8), array([153, 171, 187, ...,  80,   1,   1], dtype=uint8), array([38, 56, 84, ...,  0,  0,  0], dtype=uint8), array([80, 88, 86, ..., 27,  0,  0], dtype=uint8), array([88, 86, 82, ..., 34, 34, 34], dtype=uint8), array([ 8, 21, 27, ...,  1,  1,  1], dtype=uint8), array([ 55,  66, 130, ...,  15,  20,  22], dtype=uint8), array([149, 163, 160, ..., 152, 118,  55], dtype=uint8), array([20, 18, 13, ...,  0,  0,  0], dtype=uint8), array([10,  6,  7, ...,  0,  5,  7], dtype=uint8), array([0, 0, 0, ..., 0, 0, 0], dtype=uint8), array([ 0,  0, 18, ...,  0,  1,  4], dtype=uint8), array([ 39,  34,  36, ..., 150, 168,  53], dtype=uint8), array([137, 164,  99, ...,   0,   0,   0], dtype=uint8), array([ 17,  19, 242, ...,   8,   9,   8], dtype=uint8), array([ 86, 103, 101, ...,  16,   0,   0], dtype=uint8), array([55, 59, 59, ..., 17, 25, 26], dtype=uint8), array([ 1, 26, 51, ...,  0,  0,  0], dtype=uint8), array([75, 75, 82, ..., 17, 22, 23], dtype=uint8), array([98, 55, 61, ...,  0,  0,  0], dtype=uint8), array([36, 50, 70, ..., 35,  8,  0], dtype=uint8), array([ 58, 112, 104, ..., 111, 136,  85], dtype=uint8), array([52, 69, 98, ..., 24, 29, 32], dtype=uint8), array([0, 0, 1, ..., 0, 0, 0], dtype=uint8), array([ 41,  49, 104, ..., 152, 124,  53], dtype=uint8), array([ 43,  46, 122, ...,  26,  24,  54], dtype=uint8), array([104, 102, 164, ...,   0,   0, 146], dtype=uint8), array([175, 189, 207, ..., 193, 188, 179], dtype=uint8), array([ 96, 108, 116, ..., 223, 211, 202], dtype=uint8), array([65, 42, 44, ..., 18, 23, 25], dtype=uint8), array([28, 39, 36, ...,  0,  0,  0], dtype=uint8), array([24, 53, 81, ...,  0,  0,  0], dtype=uint8), array([24, 50, 71, ...,  0,  0,  0], dtype=uint8), array([ 2, 43, 66, ...,  0,  0,  0], dtype=uint8), array([ 0,  0, 29, ..., 33,  0,  0], dtype=uint8), array([20, 45, 60, ...,  0,  0,  0], dtype=uint8), array([ 54,  86, 110, ...,  15,  22,  25], dtype=uint8), array([ 3,  3,  3, ...,  6, 16, 59], dtype=uint8), array([25, 57, 78, ...,  0,  0,  0], dtype=uint8), array([ 49,  53,  83, ..., 115,  59,   7], dtype=uint8), array([125, 130, 136, ..., 149,  18,   8], dtype=uint8), array([ 20,  31, 141, ..., 180, 132,  48], dtype=uint8), array([29, 45, 67, ...,  0,  0,  0], dtype=uint8), array([142, 165, 175, ...,  75,   0,   0], dtype=uint8), array([20, 34, 35, ...,  3,  5,  0], dtype=uint8), array([ 67, 107, 113, ...,  44,  14,   0], dtype=uint8), array([177, 188,  84, ...,   0,   0,   0], dtype=uint8), array([113, 135, 133, ...,  63,  14,   0], dtype=uint8), array([ 79,  76, 254, ...,   8,   9,   8], dtype=uint8), array([0, 0, 0, ..., 0, 0, 0], dtype=uint8), array([45, 52, 56, ...,  0,  0,  0], dtype=uint8), array([15, 15,  8, ...,  0,  0,  0], dtype=uint8), array([94, 13, 20, ..., 36, 96, 57], dtype=uint8), array([73, 64, 69, ...,  0,  0,  0], dtype=uint8), array([ 84, 128, 149, ...,   0,   0,   0], dtype=uint8), array([ 0,  0, 10, ...,  0,  0,  1], dtype=uint8), array([ 0, 26, 51, ..., 45,  0,  0], dtype=uint8), array([ 0, 21, 60, ..., 31,  0,  0], dtype=uint8), array([162, 160, 160, ...,  19,   0,   0], dtype=uint8), array([ 0,  0,  0, ..., 97, 76, 36], dtype=uint8), array([64, 67, 75, ..., 20,  0,  0], dtype=uint8), array([254,   0,   0, ...,   0,   0,   0], dtype=uint8), array([ 0, 36, 55, ...,  0,  0,  1], dtype=uint8), array([114, 104, 142, ...,  55,   0,   0], dtype=uint8), array([ 0,  3, 29, ...,  0,  0,  0], dtype=uint8), array([23, 23, 39, ..., 98, 48,  0], dtype=uint8), array([74, 79, 78, ...,  0,  0,  0], dtype=uint8), array([0, 0, 3, ..., 7, 0, 0], dtype=uint8), array([141, 152, 157, ...,  21,  27,  28], dtype=uint8), array([0, 0, 6, ..., 0, 0, 0], dtype=uint8), array([ 95, 151, 136, ...,   0,   0,   0], dtype=uint8), array([ 0,  6, 54, ...,  0,  0,  0], dtype=uint8), array([108, 133, 145, ...,  20,  19,  22], dtype=uint8), array([9, 5, 1, ..., 0, 0, 0], dtype=uint8), array([13, 12, 10, ...,  4,  7,  9], dtype=uint8), array([ 0,  1, 12, ...,  0,  3,  2], dtype=uint8), array([0, 1, 1, ..., 0, 0, 0], dtype=uint8), array([ 13,  21,  26, ..., 131,  93,  49], dtype=uint8), array([17, 17, 16, ..., 24, 25, 25], dtype=uint8), array([209, 186, 185, ..., 216, 177, 215], dtype=uint8), array([  0,  15,  37, ..., 158,  22,   5], dtype=uint8), array([21, 39, 51, ...,  0,  0,  0], dtype=uint8), array([125, 122,  34, ...,   0,   0,   0], dtype=uint8), array([ 16,  17,  15, ..., 116, 116,  59], dtype=uint8), array([252,  26, 112, ...,   0,   0,   0], dtype=uint8), array([0, 0, 0, ..., 7, 5, 4], dtype=uint8), array([ 11,   9,   2, ..., 166,  86,   1], dtype=uint8), array([ 79,   1,   1, ..., 148, 163, 108], dtype=uint8), array([ 94, 136,  66, ...,   0,   0,   0], dtype=uint8), array([  0,   1,   0, ...,  63,  77, 113], dtype=uint8), array([204, 217, 176, ...,   0,   0,   0], dtype=uint8), array([126, 130, 131, ...,   0,   0,   0], dtype=uint8), array([ 0,  7, 22, ..., 24,  0,  0], dtype=uint8), array([  0, 254, 211, ...,   7,   0,   0], dtype=uint8), array([118, 124, 123, ...,  57,  57,  57], dtype=uint8), array([150, 152, 154, ..., 152,  45,   0], dtype=uint8), array([159, 129, 130, ..., 141,  27,   0], dtype=uint8), array([ 2, 32, 60, ...,  1,  1,  1], dtype=uint8), array([13, 28, 87, ...,  0,  0,  0], dtype=uint8), array([116, 137,  71, ...,   0,   0,   0], dtype=uint8), array([37, 64, 79, ...,  0,  0,  0], dtype=uint8), array([ 5, 41, 40, ..., 38, 45, 58], dtype=uint8), array([ 2,  8, 11, ...,  2,  0,  0], dtype=uint8), array([ 31,  39,  45, ..., 160, 161, 111], dtype=uint8), array([ 46, 102, 120, ...,  45,  14,   0], dtype=uint8), array([ 88, 126, 134, ...,  33,   0,   0], dtype=uint8), array([51, 63, 80, ...,  0,  0,  0], dtype=uint8), array([118, 114, 118, ...,   0,   0,   0], dtype=uint8), array([ 71,  75,  77, ..., 135, 126,  72], dtype=uint8), array([ 0,  3, 34, ...,  0,  0,  0], dtype=uint8), array([37, 53, 52, ...,  0,  0,  0], dtype=uint8), array([38, 48, 75, ...,  0,  0,  0], dtype=uint8), array([125, 119, 113, ...,  82,   0,   0], dtype=uint8), array([ 3, 18, 30, ...,  0,  0,  0], dtype=uint8), array([ 29,  35, 107, ...,   1,   2,   2], dtype=uint8), array([254,   3,   7, ...,   0,   0,   0], dtype=uint8), array([115, 116, 128, ...,   0,   0,   0], dtype=uint8), array([ 33,  41,  46, ..., 123,  69,  43], dtype=uint8), array([ 87,  85, 119, ...,   0,   0,   0], dtype=uint8), array([26, 56, 73, ...,  0,  0,  0], dtype=uint8), array([10, 38, 62, ...,  0,  0,  0], dtype=uint8), array([42, 56, 58, ..., 33,  0,  0], dtype=uint8), array([38, 48, 56, ..., 21,  0,  0], dtype=uint8), array([ 67, 123, 114, ...,   3,   0,   0], dtype=uint8), array([109,  21,  59, ...,  43,   0,   5], dtype=uint8), array([ 30,  53, 237, ...,  34,  41,  41], dtype=uint8), array([ 29,  33, 248, ...,  12,  11,  13], dtype=uint8), array([120, 132, 127, ...,  72, 248,  22], dtype=uint8), array([ 0,  2, 11, ...,  0,  0,  0], dtype=uint8), array([ 91,  73,  93, ..., 158, 157, 130], dtype=uint8), array([1, 2, 7, ..., 1, 0, 0], dtype=uint8), array([21, 46, 63, ...,  0,  0,  0], dtype=uint8), array([97, 83, 90, ..., 61, 29,  0], dtype=uint8), array([ 45,  75, 112, ...,  22,   0,   0], dtype=uint8), array([ 0, 18, 26, ...,  0,  0,  0], dtype=uint8), array([190,  75,  82, ...,   0,   0,   0], dtype=uint8), array([134,  48,  49, ...,  19,  22,  23], dtype=uint8), array([124, 136, 117, ..., 176, 166, 115], dtype=uint8), array([32, 43, 37, ..., 27,  1,  0], dtype=uint8), array([ 2, 15, 45, ...,  0,  0,  0], dtype=uint8), array([ 0,  7, 22, ...,  0,  0,  0], dtype=uint8), array([248, 253, 241, ..., 117,  47,   3], dtype=uint8), array([49, 89, 80, ...,  4,  0,  0], dtype=uint8), array([ 20,  23, 253, ...,  18,   0,   0], dtype=uint8), array([  4,  29,  62, ...,  29,   0, 116], dtype=uint8), array([ 75, 128, 128, ..., 156,  70,   0], dtype=uint8), array([22, 10, 32, ...,  2,  3,  5], dtype=uint8), array([ 87, 148, 130, ..., 111, 144,  22], dtype=uint8), array([15, 24, 36, ...,  0,  0,  0], dtype=uint8), array([0, 1, 6, ..., 2, 0, 0], dtype=uint8), array([ 55,  71,  70, ..., 108,  96,  83], dtype=uint8), array([188, 206, 208, ...,  42,   0,   0], dtype=uint8), array([56, 55, 54, ..., 73, 95, 53], dtype=uint8), array([189, 136, 139, ...,   0,   0,   0], dtype=uint8), array([ 0, 32, 49, ...,  0,  0,  0], dtype=uint8), array([  0, 100,   8, ...,   4,   4,   2], dtype=uint8), array([ 60,  86, 117, ...,  15,  19,  19], dtype=uint8), array([100, 108, 124, ..., 109,  66,  14], dtype=uint8), array([31, 62, 77, ...,  0,  4,  7], dtype=uint8), array([ 0,  0,  6, ..., 92, 87, 52], dtype=uint8), array([ 0,  0, 78, ...,  2,  0,  0], dtype=uint8), array([187, 132, 187, ...,   7,  14,  18], dtype=uint8), array([0, 0, 0, ..., 0, 0, 0], dtype=uint8), array([11, 26, 36, ...,  0,  0,  0], dtype=uint8), array([106, 129, 148, ...,   7,   5,  10], dtype=uint8), array([156, 114, 105, ...,  68,   4,   2], dtype=uint8), array([ 0, 17, 40, ..., 46, 22,  0], dtype=uint8), array([ 0,  0, 13, ...,  1,  9,  2], dtype=uint8), array([ 0, 17, 27, ..., 77, 24,  0], dtype=uint8), array([44, 61, 68, ..., 12, 13, 14], dtype=uint8), array([ 94,  94, 125, ..., 184, 182, 165], dtype=uint8), array([ 0,  0,  4, ..., 15,  0,  0], dtype=uint8), array([ 35,  29, 229, ...,  11,  12,  12], dtype=uint8), array([ 0, 35, 77, ..., 23,  0,  0], dtype=uint8), array([42, 74, 83, ..., 25, 25, 25], dtype=uint8), array([107,  72,  59, ...,   0,   0,   0], dtype=uint8), array([70, 69, 65, ..., 58, 57, 56], dtype=uint8), array([35, 43, 45, ..., 13, 17, 24], dtype=uint8), array([61, 94, 85, ..., 27, 28, 28], dtype=uint8), array([74, 84, 89, ..., 17, 19, 20], dtype=uint8), array([ 60,  67,  64, ..., 148,  47,   0], dtype=uint8), array([38, 57, 63, ...,  9, 16, 18], dtype=uint8), array([ 0, 24, 59, ...,  0,  0,  0], dtype=uint8), array([156, 157, 159, ..., 170, 108,  44], dtype=uint8), array([228, 249,  62, ...,   0,   0,   0], dtype=uint8), array([  0,   8,  40, ..., 121,   0,   2], dtype=uint8), array([ 60, 106, 108, ...,   0,   4,   2], dtype=uint8), array([179, 134,  74, ..., 178, 178, 178], dtype=uint8), array([ 28,  43, 137, ...,   4,   4,   4], dtype=uint8), array([ 28,  34, 253, ...,   7,  13,   7], dtype=uint8), array([7, 6, 7, ..., 5, 4, 6], dtype=uint8), array([30, 31, 28, ..., 72, 15,  0], dtype=uint8), array([ 0, 24, 74, ..., 26,  0,  0], dtype=uint8), array([21, 24, 28, ..., 73, 62, 43], dtype=uint8), array([21, 20, 29, ...,  0,  0,  0], dtype=uint8), array([0, 0, 0, ..., 5, 6, 7], dtype=uint8), array([  7, 145, 149, ...,  11,  17,   0], dtype=uint8), array([43, 81, 89, ...,  0,  0,  0], dtype=uint8), array([ 0,  5, 47, ...,  0,  0,  0], dtype=uint8), array([28, 45, 51, ..., 68, 58, 10], dtype=uint8), array([ 3, 35, 51, ..., 33,  0,  0], dtype=uint8), array([ 0, 15, 42, ...,  0,  0,  0], dtype=uint8), array([  0,   0,   0, ..., 210, 199, 174], dtype=uint8), array([ 5,  4,  4, ..., 57, 44, 12], dtype=uint8), array([62, 72, 76, ..., 50, 11,  0], dtype=uint8), array([1, 1, 1, ..., 1, 1, 1], dtype=uint8), array([  0,   0,   0, ..., 112, 114,   8], dtype=uint8), array([36, 45, 48, ..., 30,  0,  0], dtype=uint8), array([ 0,  4, 17, ...,  0,  0,  0], dtype=uint8), array([0, 0, 0, ..., 8, 3, 5], dtype=uint8), array([ 18,  15, 104, ...,   1,  10,  12], dtype=uint8), array([ 0, 18, 42, ..., 13,  0,  0], dtype=uint8), array([ 0, 15, 36, ...,  0,  0,  0], dtype=uint8), array([ 0, 14, 45, ...,  0,  0,  0], dtype=uint8), array([13, 34, 57, ...,  0,  2,  2], dtype=uint8), array([ 17,  18, 253, ...,  20,  19,  18], dtype=uint8), array([23, 23, 16, ..., 23, 25, 25], dtype=uint8), array([188, 118, 135, ..., 108,  75,   2], dtype=uint8), array([ 75, 102, 139, ...,   2,   2,   3], dtype=uint8), array([3, 3, 2, ..., 2, 2, 2], dtype=uint8), array([108, 117, 136, ...,  98,  49,   0], dtype=uint8), array([0, 0, 0, ..., 0, 0, 0], dtype=uint8), array([ 0, 22, 40, ...,  0,  0,  0], dtype=uint8), array([ 91, 158, 129, ...,   0,   0,   0], dtype=uint8), array([44, 58, 59, ..., 21, 24, 36], dtype=uint8), array([62, 88, 97, ...,  0,  0,  0], dtype=uint8), array([51, 42, 31, ...,  0,  0,  0], dtype=uint8), array([ 75,  76, 124, ...,   0,   0,   0], dtype=uint8), array([36, 66, 82, ...,  0,  0,  0], dtype=uint8), array([ 0, 12, 39, ..., 51,  0,  0], dtype=uint8), array([84, 61, 80, ...,  0,  0,  0], dtype=uint8), array([36, 38, 42, ..., 17, 19, 26], dtype=uint8), array([ 8, 46, 78, ..., 11,  2,  5], dtype=uint8), array([12, 21, 25, ..., 10, 11, 12], dtype=uint8), array([116, 127, 186, ...,  60,   0,   0], dtype=uint8), array([252, 199, 251, ...,   0, 124,   0], dtype=uint8), array([ 30,  40,  46, ..., 104,  75,  25], dtype=uint8), array([ 33,  33, 179, ...,  23,   0,   0], dtype=uint8), array([82, 89, 96, ..., 23, 25, 25], dtype=uint8), array([  0,   0,   0, ..., 148, 142,  71], dtype=uint8), array([0, 0, 0, ..., 0, 0, 0], dtype=uint8), array([34, 21,  9, ...,  0,  0,  0], dtype=uint8), array([0, 0, 2, ..., 4, 2, 1], dtype=uint8), array([ 45,  54,  65, ...,  35, 102, 143], dtype=uint8), array([ 0,  3, 10, ..., 34, 16,  0], dtype=uint8), array([ 0,  6, 30, ...,  8,  8,  3], dtype=uint8), array([ 0,  0,  2, ..., 38,  7,  0], dtype=uint8), array([ 0,  0,  4, ..., 36,  0,  0], dtype=uint8), array([131,  98, 109, ...,   0,   1,   1], dtype=uint8), array([103, 101, 105, ...,   0,   0,   0], dtype=uint8), array([129, 135, 152, ...,   0,   0,   0], dtype=uint8), array([ 0,  5, 27, ..., 78,  3,  0], dtype=uint8), array([66, 75, 73, ..., 53, 24, 27], dtype=uint8), array([ 96,  95, 148, ...,   0,   0,   0], dtype=uint8), array([ 39,  34,  36, ..., 150, 168,  53], dtype=uint8), array([ 64,  74, 195, ...,   6,  10,  11], dtype=uint8), array([6, 6, 6, ..., 6, 6, 6], dtype=uint8), array([40, 58, 69, ...,  0,  0,  0], dtype=uint8), array([255,  80, 142, ...,   0,   0,   0], dtype=uint8), array([254, 253,  21, ...,  11,   0,   0], dtype=uint8), array([29, 47, 50, ...,  2,  4,  4], dtype=uint8), array([ 0, 32, 75, ..., 34,  0,  0], dtype=uint8), array([18, 31, 45, ...,  0,  0,  0], dtype=uint8), array([  5,  46, 101, ...,   0,   0,   0], dtype=uint8), array([  0,   0,   0, ..., 116,  96,  57], dtype=uint8), array([ 0, 20, 29, ..., 21,  0,  0], dtype=uint8), array([ 82, 121, 110, ...,   0,   0,   0], dtype=uint8), array([143, 137, 131, ..., 120, 107,  47], dtype=uint8), array([0, 0, 0, ..., 0, 0, 0], dtype=uint8), array([ 98, 120, 129, ..., 206, 103,  61], dtype=uint8), array([209, 199, 205, ...,  25,  29,  30], dtype=uint8), array([7, 7, 1, ..., 7, 7, 9], dtype=uint8), array([ 60, 114, 111, ...,   0,   0,   0], dtype=uint8), array([ 33,  61,  70, ..., 131,  66,   0], dtype=uint8), array([57, 66, 81, ..., 25, 18, 17], dtype=uint8), array([14, 44, 72, ...,  4,  0,  0], dtype=uint8), array([0, 0, 0, ..., 0, 0, 0], dtype=uint8), array([ 33,  61, 110, ..., 120,  58,   0], dtype=uint8), array([2, 1, 1, ..., 0, 2, 2], dtype=uint8), array([198,   1,   0, ..., 114,  15,   0], dtype=uint8), array([0, 0, 2, ..., 0, 0, 0], dtype=uint8), array([  1,   0,   1, ..., 165, 208, 132], dtype=uint8), array([214, 213, 224, ...,  97,  50,  10], dtype=uint8), array([29, 53, 53, ..., 32, 19, 19], dtype=uint8), array([ 90, 148, 133, ...,   0,   0,   0], dtype=uint8), array([ 74,  80, 144, ...,   0,   0,   0], dtype=uint8), array([48, 70, 83, ..., 12, 16, 19], dtype=uint8), array([  5,  21,  34, ..., 190, 190, 179], dtype=uint8), array([0, 0, 0, ..., 0, 0, 0], dtype=uint8), array([ 17,  43,  83, ..., 131, 137, 203], dtype=uint8), array([ 96, 104,  47, ...,   0,   0,   0], dtype=uint8), array([179, 179, 179, ..., 108, 101,  80], dtype=uint8), array([52, 69, 79, ...,  0,  0,  0], dtype=uint8), array([ 35,  75, 102, ...,  13,  18,  20], dtype=uint8), array([176, 157, 154, ...,   0,   0,   0], dtype=uint8), array([54, 70, 67, ...,  0,  0,  0], dtype=uint8), array([ 93, 108,  91, ...,  19,  25,  23], dtype=uint8), array([ 6, 11, 24, ...,  0,  0,  0], dtype=uint8), array([ 0, 36, 50, ...,  0,  0,  0], dtype=uint8), array([ 0,  0,  0, ..., 50,  5,  5], dtype=uint8), array([ 49,  35,  31, ..., 211, 161, 154], dtype=uint8), array([ 63,  79,  92, ..., 126, 105,  71], dtype=uint8), array([1, 1, 1, ..., 1, 1, 1], dtype=uint8), array([ 3, 10, 30, ...,  0,  0,  0], dtype=uint8), array([ 4, 41, 68, ..., 66,  0,  0], dtype=uint8), array([26, 51, 65, ...,  0,  0,  0], dtype=uint8), array([ 78,  92, 118, ...,  11,  15,  17], dtype=uint8), array([76, 81, 80, ..., 16, 20, 22], dtype=uint8), array([ 91, 108, 111, ..., 133,  59,   1], dtype=uint8), array([ 43,  79, 109, ..., 133, 107, 106], dtype=uint8), array([ 37,  77, 131, ...,   5,  36,  18], dtype=uint8), array([143, 111, 117, ...,   0,   0,   0], dtype=uint8), array([55, 71, 91, ...,  5,  4,  4], dtype=uint8), array([15, 37, 66, ...,  0,  0,  0], dtype=uint8), array([  2,  28,  67, ..., 157,   0, 214], dtype=uint8), array([ 64,  73, 165, ...,   0,   0,   0], dtype=uint8), array([100, 145, 152, ...,  43,   1, 129], dtype=uint8), array([ 65, 135, 127, ...,   0,   0, 189], dtype=uint8), array([ 3, 32, 69, ...,  0,  0,  0], dtype=uint8), array([186, 118, 125, ..., 121,  94,  64], dtype=uint8), array([ 16, 253, 254, ...,   0,   1,   1], dtype=uint8), array([ 1, 23, 31, ..., 11, 11, 11], dtype=uint8), array([35, 43, 81, ..., 24,  0,  0], dtype=uint8), array([ 0,  0, 33, ...,  0,  1,  6], dtype=uint8), array([255, 222, 203, ...,  51,   0,   0], dtype=uint8), array([0, 0, 0, ..., 1, 8, 0], dtype=uint8), array([96, 95, 90, ..., 16, 18, 67], dtype=uint8), array([255,   6,  13, ...,   0,   0,   0], dtype=uint8), array([ 0,  0, 29, ...,  0,  0,  0], dtype=uint8), array([25, 47, 49, ...,  0,  0,  0], dtype=uint8), array([ 93, 177, 127, ...,   0,   0,   0], dtype=uint8), array([ 88,  87,  89, ..., 147,  40,   0], dtype=uint8), array([ 12,  11, 109, ...,  12,  13,  13], dtype=uint8), array([ 0, 13, 34, ...,  0,  0,  0], dtype=uint8), array([ 0, 14, 50, ...,  0,  0,  0], dtype=uint8), array([ 63,  77, 136, ...,  13,   0,   0], dtype=uint8), array([ 17,  17,  18, ..., 178, 176, 177], dtype=uint8), array([17, 17, 45, ...,  4,  0,  0], dtype=uint8), array([1, 0, 0, ..., 0, 0, 0], dtype=uint8), array([103, 154, 142, ...,  26,   0,   0], dtype=uint8), array([61, 54, 53, ...,  0,  0,  0], dtype=uint8), array([100,  70,  80, ..., 122, 105,  12], dtype=uint8), array([ 30,  33,  47, ..., 162, 148, 135], dtype=uint8), array([ 34,  66, 104, ...,  56,   0,   0], dtype=uint8), array([74, 46, 58, ..., 26,  0,  0], dtype=uint8), array([14, 19, 19, ..., 17, 21, 23], dtype=uint8), array([ 4, 70, 65, ...,  1,  0,  0], dtype=uint8), array([77, 87, 97, ...,  0,  0,  0], dtype=uint8), array([36, 38, 45, ..., 98, 41, 28], dtype=uint8), array([ 0, 11, 32, ..., 82, 30,  0], dtype=uint8), array([40, 58, 70, ..., 19, 21, 42], dtype=uint8), array([26, 28, 27, ..., 90, 37, 10], dtype=uint8), array([245, 254, 255, ...,  76,  21,   0], dtype=uint8), array([ 5, 36, 79, ..., 27,  0,  2], dtype=uint8), array([21, 47, 59, ...,  0,  0,  0], dtype=uint8), array([75, 29, 31, ..., 54, 29, 37], dtype=uint8), array([29, 18,  0, ...,  0,  0,  0], dtype=uint8), array([ 4, 38, 69, ...,  0,  0,  0], dtype=uint8), array([ 18,  20, 175, ...,   8,   8,  12], dtype=uint8), array([ 41,  80, 110, ...,   0,   0,   0], dtype=uint8), array([100, 107, 154, ...,   0,   0,   0], dtype=uint8), array([254,   1,  42, ...,   7,   8,   8], dtype=uint8), array([218, 219, 218, ...,   8,  12,   9], dtype=uint8), array([45, 63, 74, ...,  0,  2,  1], dtype=uint8), array([93, 85, 81, ...,  1,  2,  3], dtype=uint8), array([ 10,   9,   9, ..., 109,  49,   9], dtype=uint8), array([ 5, 53, 86, ...,  0,  0,  0], dtype=uint8), array([ 95,  82, 152, ...,  19,   0,   0], dtype=uint8), array([0, 0, 0, ..., 0, 0, 0], dtype=uint8), array([ 80, 132, 116, ...,  61,   5,   0], dtype=uint8), array([199, 176, 181, ...,   2,   3,   3], dtype=uint8), array([58, 84, 96, ..., 46,  0,  0], dtype=uint8), array([ 0,  6, 47, ...,  0,  0,  0], dtype=uint8), array([24, 60, 74, ..., 36,  0,  0], dtype=uint8), array([ 23, 136,  91, ...,   1,   0,   0], dtype=uint8), array([254, 240,  70, ...,   2,   0,   0], dtype=uint8), array([127, 115, 123, ...,   0,   0,   0], dtype=uint8), array([26, 55, 84, ..., 33, 37, 36], dtype=uint8), array([123, 143, 112, ..., 149, 175,  51], dtype=uint8), array([0, 0, 0, ..., 0, 0, 0], dtype=uint8), array([106, 123, 140, ...,  50,   0,   0], dtype=uint8), array([ 0,  0, 10, ...,  0,  0,  0], dtype=uint8), array([53, 47, 35, ..., 69, 19,  0], dtype=uint8), array([ 44,  52, 252, ...,  20,  34,  35], dtype=uint8), array([82, 80, 76, ..., 25,  0,  0], dtype=uint8), array([ 63,  66, 105, ...,  96,  83,  64], dtype=uint8), array([23, 34, 61, ...,  0,  0,  0], dtype=uint8), array([ 65,  56,  57, ..., 140, 141, 147], dtype=uint8), array([30, 30, 26, ..., 29, 29, 30], dtype=uint8), array([10, 48, 77, ...,  0,  0,  0], dtype=uint8), array([ 6,  5,  5, ..., 34, 12, 20], dtype=uint8), array([54, 66, 69, ...,  0,  0,  0], dtype=uint8), array([36, 39, 48, ...,  6,  8,  8], dtype=uint8), array([ 2, 32, 41, ...,  0,  0,  0], dtype=uint8), array([ 22,  13,  20, ..., 102,  56,  27], dtype=uint8), array([29, 75, 91, ..., 55,  0,  0], dtype=uint8), array([ 0,  0,  2, ...,  0, 16,  1], dtype=uint8), array([36, 66, 85, ..., 14,  0,  0], dtype=uint8), array([45, 49, 46, ...,  0,  0,  0], dtype=uint8), array([52, 86, 99, ...,  0,  0,  1], dtype=uint8), array([ 82, 107, 191, ...,  30,   0,   0], dtype=uint8), array([0, 0, 0, ..., 0, 0, 0], dtype=uint8), array([ 1, 55, 58, ..., 29, 29, 29], dtype=uint8), array([0, 0, 0, ..., 0, 0, 0], dtype=uint8), array([ 17,  59,  86, ..., 114,  22,   0], dtype=uint8), array([202, 206, 210, ...,  16,  20,  20], dtype=uint8), array([ 21,  13, 255, ...,   3,  19,  36], dtype=uint8), array([44, 70, 70, ..., 21, 21, 22], dtype=uint8), array([0, 0, 0, ..., 0, 0, 0], dtype=uint8), array([ 19,  86, 123, ...,   0,   8,   3], dtype=uint8), array([ 25,  83, 175, ...,  15,  21,  29], dtype=uint8), array([ 5, 11, 25, ...,  0,  0,  0], dtype=uint8), array([  5, 254,  13, ...,   8,  10,  11], dtype=uint8), array([  5,  29,  73, ...,   0, 161,   5], dtype=uint8), array([ 6, 18, 10, ..., 10, 15, 12], dtype=uint8), array([  7,   6, 165, ...,   9,  10,  10], dtype=uint8), array([ 54, 128, 114, ...,  60,   0,   0], dtype=uint8), array([138, 134, 137, ..., 110,  68,  82], dtype=uint8), array([75, 90, 99, ...,  0,  0,  0], dtype=uint8), array([58, 84, 88, ..., 26,  0,  0], dtype=uint8), array([ 68, 107, 144, ...,  55,   1,   0], dtype=uint8), array([ 0,  0, 35, ..., 16,  0,  0], dtype=uint8), array([146, 151, 158, ...,   0,   0,   0], dtype=uint8), array([ 0, 23, 52, ...,  0,  0,  0], dtype=uint8), array([ 27, 254,  51, ...,   0,   0,   0], dtype=uint8), array([0, 0, 4, ..., 0, 0, 0], dtype=uint8), array([71, 82, 90, ..., 13, 17, 20], dtype=uint8), array([233,  67,  54, ...,  24,   7,   0], dtype=uint8), array([123, 110, 133, ...,  22,   0,   0], dtype=uint8), array([  0,   0,   0, ..., 126, 124, 115], dtype=uint8), array([132,  74,  71, ...,   0,   0,   0], dtype=uint8), array([ 44,  57, 113, ...,  18,   0,   0], dtype=uint8), array([ 72,  81, 131, ...,   0,   0,   0], dtype=uint8), array([0, 0, 0, ..., 0, 0, 0], dtype=uint8), array([ 0,  0,  0, ..., 70, 19,  0], dtype=uint8), array([ 84,  78,  88, ..., 122, 106,  69], dtype=uint8), array([106, 126, 134, ..., 119,  97,  34], dtype=uint8), array([ 55,  81, 112, ..., 161, 103,  56], dtype=uint8), array([ 61,  51,  39, ..., 130, 131,  56], dtype=uint8), array([77, 87, 81, ..., 47,  0,  0], dtype=uint8), array([ 54, 130, 113, ...,   0,   0,   0], dtype=uint8), array([ 51,  49, 118, ..., 172, 161, 150], dtype=uint8), array([36, 46, 58, ...,  0,  0,  0], dtype=uint8), array([0, 0, 0, ..., 0, 0, 0], dtype=uint8), array([ 84,  82, 164, ...,   0,   0,   0], dtype=uint8), array([ 7, 46, 75, ...,  0,  0,  0], dtype=uint8), array([47, 13, 94, ..., 98, 25,  0], dtype=uint8), array([ 0,  0, 39, ...,  0,  0,  0], dtype=uint8), array([55, 69, 67, ...,  0,  0,  0], dtype=uint8), array([41, 57, 71, ...,  0,  0,  0], dtype=uint8), array([56, 45, 36, ..., 16,  0,  5], dtype=uint8), array([ 96, 133, 138, ...,   0,   0,   0], dtype=uint8), array([20, 53, 67, ...,  0,  0,  0], dtype=uint8), array([ 68,  84, 132, ...,   0,   0,   2], dtype=uint8), array([255, 251,  40, ...,   0,   0,   0], dtype=uint8), array([79, 85, 76, ..., 95, 82, 55], dtype=uint8), array([ 0,  0, 38, ...,  0,  0,  0], dtype=uint8), array([59, 71, 82, ..., 61, 14,  0], dtype=uint8), array([ 0, 21, 69, ...,  0,  0,  0], dtype=uint8), array([ 82,  94, 125, ...,   9,  14,  18], dtype=uint8), array([0, 0, 0, ..., 0, 0, 0], dtype=uint8), array([ 91, 133, 133, ...,  41,  37,  41], dtype=uint8), array([ 0,  0,  0, ..., 27,  0,  0], dtype=uint8), array([ 0,  0,  0, ..., 12,  0,  0], dtype=uint8), array([ 57,  80,  83, ..., 236, 228, 214], dtype=uint8), array([ 9, 11, 15, ...,  0,  0,  0], dtype=uint8), array([116, 102, 114, ...,  86,   3,   0], dtype=uint8), array([60, 81, 81, ...,  0,  0,  0], dtype=uint8), array([41, 62, 89, ...,  0,  1,  3], dtype=uint8), array([19, 25, 37, ...,  0,  0,  0], dtype=uint8), array([0, 0, 0, ..., 0, 0, 0], dtype=uint8), array([40, 41, 34, ..., 28,  0,  0], dtype=uint8), array([252, 227,  77, ...,   0,   0,   0], dtype=uint8), array([161,  87,  83, ...,  41,   0,   0], dtype=uint8), array([115,  97,  75, ...,  28,   0,   0], dtype=uint8), array([106, 122, 127, ...,   0,   0,   0], dtype=uint8), array([ 57,  98, 127, ...,   1,   2, 184], dtype=uint8), array([38, 54, 86, ..., 34, 39, 45], dtype=uint8), array([ 0,  0, 33, ...,  0,  0,  0], dtype=uint8), array([ 17,  24, 176, ...,  21,  29,   0], dtype=uint8), array([156, 158, 129, ...,   0,   0,   0], dtype=uint8), array([74, 71, 41, ..., 58, 39,  8], dtype=uint8), array([ 89, 139, 123, ..., 158, 135, 136], dtype=uint8), array([102,  97, 162, ...,   0,   0,   0], dtype=uint8), array([ 86, 123, 221, ...,  16,  23,  36], dtype=uint8), array([ 75, 110, 131, ...,   0,   0,   0], dtype=uint8), array([ 63,  84, 100, ...,  61,  14,   0], dtype=uint8), array([ 0, 15, 36, ...,  1,  2,  4], dtype=uint8), array([58, 82, 73, ..., 34, 37, 40], dtype=uint8), array([39, 42, 39, ..., 33, 38, 39], dtype=uint8), array([  1,  54, 106, ...,   0,   0,   0], dtype=uint8), array([0, 0, 0, ..., 0, 0, 0], dtype=uint8), array([71, 86, 92, ...,  0,  0,  0], dtype=uint8), array([0, 0, 0, ..., 0, 0, 0], dtype=uint8), array([16, 13, 23, ..., 20, 21, 22], dtype=uint8), array([ 20,  27,  38, ..., 242, 242, 232], dtype=uint8), array([44, 61, 84, ...,  2,  3,  1], dtype=uint8), array([21, 28, 17, ...,  3,  2,  2], dtype=uint8), array([ 0, 15, 53, ...,  0,  0,  0], dtype=uint8), array([1, 0, 0, ..., 0, 0, 0], dtype=uint8), array([28, 69, 93, ...,  0,  0,  0], dtype=uint8), array([253, 253,  91, ...,  79,  17,   0], dtype=uint8), array([253, 253,  46, ...,  44,   7,   0], dtype=uint8), array([ 29,  36,  33, ..., 114,  95,  43], dtype=uint8), array([ 86,  83,  92, ..., 233, 247, 248], dtype=uint8), array([0, 0, 0, ..., 0, 0, 0], dtype=uint8), array([  2,   1,   1, ..., 157, 153, 124], dtype=uint8), array([151, 117, 108, ...,  71,  47,  36], dtype=uint8), array([50, 52, 41, ...,  1,  0,  0], dtype=uint8), array([253, 252,  18, ...,   0,   0,   0], dtype=uint8), array([ 46,  62, 130, ...,  37,   0,   0], dtype=uint8), array([35, 55, 81, ...,  2,  9, 14], dtype=uint8), array([ 80, 142, 137, ...,   0,   1,   1], dtype=uint8), array([5, 5, 4, ..., 7, 6, 8], dtype=uint8), array([24, 34, 43, ..., 38,  0,  0], dtype=uint8), array([254, 244,   0, ...,   0,   0,   0], dtype=uint8), array([52, 60, 86, ..., 72,  0,  0], dtype=uint8), array([ 0,  3, 29, ...,  0,  0,  0], dtype=uint8), array([ 75,  73,  69, ..., 131, 113,  83], dtype=uint8), array([88, 91, 97, ..., 91, 75, 51], dtype=uint8), array([43, 56, 74, ..., 48,  4,  0], dtype=uint8), array([62, 74, 84, ...,  4,  0,  0], dtype=uint8), array([47, 52, 53, ...,  0,  0,  0], dtype=uint8), array([ 0,  0,  0, ..., 18, 18, 18], dtype=uint8), array([ 0,  0, 49, ...,  0,  0,  0], dtype=uint8), array([ 0, 20, 51, ..., 10,  0,  0], dtype=uint8), array([ 44,  65, 123, ...,   0,   0,   0], dtype=uint8), array([128, 106,  87, ..., 126,  64,  29], dtype=uint8), array([ 97, 102, 173, ...,  87,  46,   0], dtype=uint8), array([ 8, 36, 85, ...,  0,  0,  0], dtype=uint8), array([59, 88, 80, ..., 57, 15,  0], dtype=uint8), array([122, 131,  92, ...,   0,   0,   0], dtype=uint8), array([255,  21,  39, ...,  19,   0,   0], dtype=uint8), array([0, 0, 7, ..., 0, 0, 0], dtype=uint8), array([255, 254,  19, ...,   0,   0,   0], dtype=uint8), array([56, 56, 56, ..., 71, 55, 56], dtype=uint8), array([ 0, 18, 33, ..., 89, 19,  0], dtype=uint8), array([0, 0, 0, ..., 0, 0, 0], dtype=uint8), array([193, 192, 196, ...,  25,  30,  37], dtype=uint8), array([12, 16, 22, ...,  0,  0,  0], dtype=uint8), array([ 0,  0,  0, ..., 84, 34,  0], dtype=uint8), array([21, 19, 12, ...,  2,  5,  7], dtype=uint8), array([ 72,  84, 101, ...,  29,   0,   0], dtype=uint8), array([52, 53, 47, ..., 36, 18, 24], dtype=uint8), array([ 50, 113,  92, ...,   0,   0,   0], dtype=uint8), array([  0,   0,   0, ..., 209, 202, 201], dtype=uint8), array([ 61,  72, 128, ...,  46,   3,   0], dtype=uint8), array([ 4,  8, 10, ...,  5, 10, 10], dtype=uint8), array([100, 169, 148, ...,   0,   0,   0], dtype=uint8), array([0, 0, 0, ..., 0, 0, 0], dtype=uint8), array([253,  28,  41, ...,   0,   0,   0], dtype=uint8), array([165, 166, 146, ..., 203, 153, 139], dtype=uint8), array([116, 132, 137, ..., 135, 120,  21], dtype=uint8), array([55, 56, 45, ..., 36,  0,  0], dtype=uint8), array([ 5, 25, 42, ...,  0,  0,  0], dtype=uint8), array([120, 128, 186, ...,  50,   0,   0], dtype=uint8), array([ 14, 254, 252, ...,   0,   0, 208], dtype=uint8), array([95, 89, 86, ..., 17,  0,  0], dtype=uint8), array([255, 230, 122, ...,   0,   0,   3], dtype=uint8), array([28, 53, 72, ...,  0,  0,  0], dtype=uint8), array([ 0,  1, 14, ..., 32,  1,  2], dtype=uint8), array([215,  52,  64, ...,   0,   0,   0], dtype=uint8), array([6, 5, 5, ..., 4, 4, 5], dtype=uint8), array([0, 0, 0, ..., 3, 3, 5], dtype=uint8), array([75, 85, 92, ..., 94,  0,  0], dtype=uint8), array([22, 56, 77, ...,  0,  0,  0], dtype=uint8), array([64, 70, 71, ..., 17, 20, 22], dtype=uint8), array([115, 113, 111, ..., 159, 149,  66], dtype=uint8), array([  0, 175, 160, ..., 128,  85,   0], dtype=uint8), array([0, 0, 0, ..., 0, 0, 0], dtype=uint8), array([31, 73, 85, ...,  0,  0,  0], dtype=uint8), array([ 6, 17, 33, ...,  0,  2,  5], dtype=uint8), array([131, 120, 141, ...,   0,   0,   0], dtype=uint8), array([125, 145, 147, ...,   0,   0,   0], dtype=uint8), array([59, 83, 94, ..., 55,  6,  9], dtype=uint8), array([62, 70, 77, ...,  0,  0,  0], dtype=uint8), array([ 90, 112, 125, ..., 104,  73,  51], dtype=uint8), array([  5,  30,  44, ..., 152,  17,   0], dtype=uint8), array([47, 48, 47, ...,  0,  0,  1], dtype=uint8), array([0, 0, 8, ..., 3, 7, 2], dtype=uint8), array([61, 64, 59, ...,  0,  0,  0], dtype=uint8), array([47, 60, 64, ..., 51,  0,  0], dtype=uint8), array([ 36,  78, 103, ...,   0,   0,   0], dtype=uint8), array([  1,   1,   1, ..., 205, 193,  74], dtype=uint8), array([189, 133, 129, ...,  10,  10,  12], dtype=uint8), array([ 6, 51, 85, ...,  0,  0,  0], dtype=uint8), array([34, 52, 86, ...,  3,  3,  4], dtype=uint8), array([21, 36, 46, ..., 46,  0,  0], dtype=uint8), array([ 9,  6, 43, ..., 10, 12, 13], dtype=uint8), array([  7,   6, 165, ...,   9,  10,  10], dtype=uint8), array([57, 67, 73, ..., 75,  4,  0], dtype=uint8), array([  5, 229,  80, ...,   0,   0,   0], dtype=uint8), array([ 55,  59,  78, ..., 123,  49,   0], dtype=uint8), array([  0,   7,  11, ..., 114, 104,  77], dtype=uint8), array([ 13, 254, 253, ...,   0,   0,   0], dtype=uint8), array([ 68,  79,  85, ..., 201,  80,  39], dtype=uint8), array([  0,   0,  13, ..., 146, 115, 101], dtype=uint8), array([83, 81, 85, ...,  0,  0,  0], dtype=uint8), array([ 46,  23,   0, ..., 133, 116,  35], dtype=uint8), array([44, 57, 57, ...,  0,  0,  0], dtype=uint8), array([29, 71, 96, ...,  0,  0,  0], dtype=uint8), array([ 6,  6,  6, ..., 12, 29, 37], dtype=uint8), array([ 2, 14, 31, ...,  0,  0,  0], dtype=uint8), array([55, 74, 79, ...,  0,  2,  8], dtype=uint8), array([ 43, 123,  36, ..., 198,  53,  56], dtype=uint8), array([253, 254,  66, ..., 146,  63,  15], dtype=uint8), array([128,  37,  56, ...,   0,   1,   3], dtype=uint8), array([ 52, 255, 192, ...,   0,   0,   0], dtype=uint8), array([ 89,  96, 128, ...,   0,   0,   0], dtype=uint8), array([ 7, 13, 31, ...,  0,  0,  0], dtype=uint8), array([21, 37, 80, ...,  0,  0,  0], dtype=uint8), array([76, 82, 80, ..., 44,  0,  0], dtype=uint8), array([ 3, 12, 25, ...,  0,  0,  0], dtype=uint8), array([ 0,  0,  0, ..., 34, 10,  0], dtype=uint8), array([ 35,  95,  91, ..., 118,  75,  19], dtype=uint8), array([0, 0, 0, ..., 0, 0, 0], dtype=uint8), array([  1, 253,  11, ..., 146, 156,  55], dtype=uint8), array([0, 0, 0, ..., 0, 0, 0], dtype=uint8), array([23, 39, 61, ...,  0,  0,  0], dtype=uint8), array([127,  85,  45, ...,  12,  15,  15], dtype=uint8), array([16, 27, 61, ..., 28,  0,  0], dtype=uint8), array([ 61,  87, 106, ...,   0,   0,   0], dtype=uint8), array([0, 0, 0, ..., 0, 0, 0], dtype=uint8), array([108, 105, 100, ..., 150,  55,   1], dtype=uint8), array([ 0, 15, 47, ...,  0,  0,  0], dtype=uint8), array([69, 83, 99, ...,  0,  0,  0], dtype=uint8), array([ 8, 23, 32, ...,  2,  0,  2], dtype=uint8), array([  1,   0,   0, ..., 224, 223, 206], dtype=uint8), array([20, 19, 10, ..., 15, 18, 18], dtype=uint8), array([  2,  20, 254, ...,  13,   0,   0], dtype=uint8), array([ 67,  74, 127, ...,   0,   0,   0], dtype=uint8), array([ 84,  98, 118, ...,   0,   0,   0], dtype=uint8), array([ 9,  3, 15, ..., 33,  0,  0], dtype=uint8), array([114, 122,  80, ..., 154, 105,  78], dtype=uint8), array([ 11,   0,   0, ..., 112,  50,  22], dtype=uint8), array([88, 81, 55, ..., 29, 32, 34], dtype=uint8), array([0, 0, 0, ..., 0, 0, 0], dtype=uint8), array([ 36,  62, 131, ...,   8,   0,  10], dtype=uint8), array([ 49,  62,  72, ...,   0,   0, 206], dtype=uint8), array([0, 0, 0, ..., 0, 0, 0], dtype=uint8), array([134, 137, 156, ...,  72,   0,   0], dtype=uint8), array([ 1, 41, 56, ...,  0,  0,  0], dtype=uint8), array([ 20, 144,  58, ...,   7,   8,   8], dtype=uint8), array([63, 64, 70, ...,  1,  4,  2], dtype=uint8), array([41, 66, 77, ..., 45,  0,  0], dtype=uint8), array([44, 54, 59, ...,  0,  0,  0], dtype=uint8), array([47, 58, 78, ...,  1, 10, 11], dtype=uint8), array([205, 207, 207, ..., 255, 255, 255], dtype=uint8), array([ 2,  4, 12, ..., 14,  3,  0], dtype=uint8), array([50, 88, 82, ...,  0,  0,  0], dtype=uint8), array([ 76,  78,  88, ..., 139,  13,   0], dtype=uint8), array([0, 0, 7, ..., 0, 0, 0], dtype=uint8), array([ 0, 13, 27, ...,  0,  0,  0], dtype=uint8), array([0, 0, 0, ..., 0, 0, 0], dtype=uint8), array([ 16,  22,  23, ..., 165,  32,   0], dtype=uint8), array([0, 0, 0, ..., 0, 0, 0], dtype=uint8), array([23, 21, 12, ..., 36, 39, 42], dtype=uint8), array([  0, 187, 183, ...,  40,  15,   0], dtype=uint8), array([0, 0, 0, ..., 3, 0, 0], dtype=uint8), array([45, 45, 62, ..., 82, 33,  0], dtype=uint8), array([ 3, 41, 68, ...,  0,  0,  0], dtype=uint8), array([ 8, 20, 34, ...,  0,  0,  0], dtype=uint8), array([130, 167, 168, ...,   7,   7,   9], dtype=uint8), array([164, 131, 124, ...,   0,   0,   0], dtype=uint8), array([232,  47,  12, ..., 117,  14,   0], dtype=uint8), array([ 71, 125, 105, ...,  19,   0,   0], dtype=uint8), array([ 0, 37, 85, ...,  0,  0,  0], dtype=uint8), array([  8,  41,  71, ..., 115,  81,   4], dtype=uint8), array([ 0,  0, 29, ...,  0,  0,  0], dtype=uint8), array([58, 16, 13, ...,  0,  0,  0], dtype=uint8), array([ 48, 254, 252, ...,  22,   0,   0], dtype=uint8), array([25, 53, 55, ...,  0,  0,  0], dtype=uint8), array([ 13,  20,  17, ..., 170, 133,  84], dtype=uint8), array([ 42, 254, 248, ...,   0,   0,   0], dtype=uint8), array([253, 250,  65, ...,   0,   0,   0], dtype=uint8), array([136, 133, 133, ...,   2,   7,   4], dtype=uint8), array([ 4, 28, 53, ...,  0,  0,  0], dtype=uint8), array([125,  88,  71, ...,   0,   0,   0], dtype=uint8), array([254, 252,   6, ...,   0,   0,   0], dtype=uint8), array([ 0,  0,  0, ..., 88, 24,  0], dtype=uint8), array([  0, 168,  14, ...,  12,  18,  29], dtype=uint8), array([122, 137,  93, ...,   0,   0,   0], dtype=uint8), array([  0,   0,   0, ..., 115,   6,   0], dtype=uint8), array([ 58,  56,  65, ..., 155, 149, 112], dtype=uint8), array([ 0, 13, 46, ...,  0,  0,  0], dtype=uint8), array([  8, 255, 252, ...,   0,   0,   0], dtype=uint8), array([102, 253, 252, ...,  13,   0,   0], dtype=uint8), array([ 3, 20, 30, ..., 18,  6,  0], dtype=uint8), array([111, 148, 158, ..., 130, 123,   0], dtype=uint8), array([97, 93, 86, ...,  3,  3,  3], dtype=uint8), array([21, 65, 72, ..., 73,  6,  0], dtype=uint8), array([1, 0, 1, ..., 1, 1, 1], dtype=uint8), array([ 0,  0, 43, ...,  0,  0,  0], dtype=uint8), array([87, 75, 81, ...,  0,  0,  0], dtype=uint8), array([36, 66, 82, ..., 63, 28,  0], dtype=uint8), array([168, 145,  96, ...,   0,   0,   5], dtype=uint8), array([ 3,  3,  3, ..., 54,  3,  2], dtype=uint8), array([ 9, 34, 54, ..., 40, 38, 42], dtype=uint8), array([ 51, 134, 164, ...,   1,   1,   1], dtype=uint8), array([21, 62, 80, ...,  0,  0,  0], dtype=uint8), array([201, 101,  68, ...,  32,  33,  34], dtype=uint8), array([17, 21, 39, ...,  2,  0,  0], dtype=uint8), array([254, 251,   0, ...,   0,   0,   0], dtype=uint8), array([ 47,  68, 108, ...,   0,   0,   0], dtype=uint8), array([102, 105,  81, ..., 152,  58,   0], dtype=uint8), array([207,  37,  47, ...,   9,  20,  21], dtype=uint8), array([ 37,  35, 215, ..., 155, 148, 116], dtype=uint8), array([255, 254,  13, ...,  21,   0,   0], dtype=uint8), array([ 50,  81,  91, ..., 106,  21,   0], dtype=uint8), array([ 54,  61, 133, ...,  14,   0,   0], dtype=uint8), array([34, 51, 66, ...,  0,  0,  0], dtype=uint8), array([254, 250,  31, ...,   0,   0,   0], dtype=uint8), array([71, 79, 99, ..., 10,  0,  0], dtype=uint8), array([30, 30, 65, ..., 55, 23, 31], dtype=uint8), array([ 5, 20, 47, ...,  0,  0,  0], dtype=uint8), array([147, 144,  70, ...,   0,   0,   0], dtype=uint8), array([133, 158, 159, ...,   1,   2,   4], dtype=uint8), array([ 1, 13, 28, ...,  0,  0,  0], dtype=uint8), array([ 70, 115, 115, ...,   0,   0,   0], dtype=uint8), array([21, 24, 28, ..., 73, 62, 43], dtype=uint8), array([247, 161, 112, ...,   0,   0,   0], dtype=uint8), array([  3, 101,  85, ...,   0,   0,   0], dtype=uint8), array([40, 49, 55, ...,  9, 10, 11], dtype=uint8), array([185, 186, 188, ..., 126, 109, 103], dtype=uint8), array([ 0,  0, 11, ...,  1,  2,  2], dtype=uint8), array([ 0, 25, 55, ...,  0,  0,  0], dtype=uint8), array([ 0, 25, 44, ...,  0,  0,  0], dtype=uint8), array([25, 24, 21, ..., 26, 27, 27], dtype=uint8), array([ 9,  0,  0, ..., 95, 11,  0], dtype=uint8), array([ 0, 14, 13, ...,  2,  0,  0], dtype=uint8), array([ 7, 57, 20, ...,  1,  2,  1], dtype=uint8), array([ 9,  9,  9, ..., 16, 16, 16], dtype=uint8), array([ 0,  0, 41, ...,  0,  0,  0], dtype=uint8), array([0, 0, 0, ..., 0, 0, 0], dtype=uint8), array([ 73,  76,  80, ..., 172, 189,  27], dtype=uint8), array([ 0, 30, 62, ...,  0,  0,  0], dtype=uint8), array([ 2, 11, 19, ...,  1,  0,  0], dtype=uint8), array([0, 0, 0, ..., 0, 0, 0], dtype=uint8), array([52, 50, 34, ..., 17,  0,  0], dtype=uint8), array([ 84, 127, 116, ...,   9,  13,  13], dtype=uint8), array([52, 76, 86, ..., 39,  0,  0], dtype=uint8), array([ 0,  0, 11, ...,  0,  0,  0], dtype=uint8), array([112, 119, 171, ...,   0,   0,   0], dtype=uint8), array([ 51,  67, 107, ...,   0,   0,   0], dtype=uint8), array([ 14,  84, 125, ...,   0,   0, 226], dtype=uint8), array([ 0, 39, 92, ...,  0,  0,  0], dtype=uint8), array([15, 19, 23, ...,  2,  4,  4], dtype=uint8), array([ 38,  59,  58, ..., 132, 123, 102], dtype=uint8), array([26,  1, 50, ...,  0,  0,  0], dtype=uint8), array([102, 101, 122, ..., 136, 158,  63], dtype=uint8), array([ 0, 13, 30, ...,  0,  7,  2], dtype=uint8), array([46, 77, 91, ...,  0,  0,  0], dtype=uint8), array([107, 113,  36, ...,  47,  37,   0], dtype=uint8), array([65, 57, 75, ..., 15, 15, 16], dtype=uint8), array([130, 236,  49, ..., 125,  25,   0], dtype=uint8), array([103, 117, 118, ...,   0,   0,   0], dtype=uint8), array([50, 76, 84, ..., 17,  0,  0], dtype=uint8), array([ 0,  0, 20, ...,  0,  0,  0], dtype=uint8), array([ 0,  0,  0, ..., 10,  0,  0], dtype=uint8), array([ 99, 134, 123, ..., 151, 141, 126], dtype=uint8), array([  0, 255,  25, ...,   0,   0,   0], dtype=uint8), array([10, 11, 10, ..., 25, 10, 12], dtype=uint8), array([133,  68,  71, ...,   1,   0,   0], dtype=uint8), array([ 40,  47,  51, ..., 127,  49,   0], dtype=uint8)]\n",
            "[1, 2, 2, 1, 2, 2, 0, 2, 2, 1, 0, 2, 1, 1, 2, 2, 1, 1, 1, 2, 2, 1, 1, 1, 0, 1, 1, 2, 0, 1, 1, 2, 1, 0, 2, 2, 1, 1, 1, 1, 0, 1, 2, 2, 2, 2, 2, 1, 1, 2, 2, 2, 0, 0, 2, 2, 1, 1, 1, 1, 1, 1, 1, 1, 1, 1, 1, 1, 2, 0, 2, 2, 1, 2, 1, 2, 2, 2, 2, 1, 1, 2, 2, 1, 1, 1, 1, 1, 1, 2, 1, 2, 1, 1, 2, 1, 2, 2, 2, 0, 2, 1, 2, 2, 2, 1, 2, 2, 2, 2, 1, 2, 2, 1, 2, 1, 1, 2, 2, 1, 1, 1, 1, 1, 2, 1, 2, 2, 1, 2, 1, 2, 0, 2, 2, 1, 1, 1, 1, 2, 2, 1, 0, 1, 1, 1, 1, 1, 1, 1, 2, 2, 0, 0, 2, 1, 1, 1, 2, 2, 1, 2, 2, 1, 1, 2, 0, 2, 1, 2, 1, 2, 2, 2, 1, 2, 0, 1, 1, 2, 1, 1, 1, 1, 1, 1, 1, 1, 2, 2, 2, 2, 1, 1, 1, 1, 1, 1, 1, 2, 2, 2, 2, 1, 2, 2, 2, 1, 2, 0, 1, 1, 1, 1, 2, 2, 2, 2, 2, 1, 0, 2, 2, 2, 2, 2, 2, 2, 2, 1, 1, 2, 1, 2, 1, 2, 1, 1, 1, 2, 1, 2, 2, 2, 2, 2, 1, 1, 2, 1, 1, 1, 0, 1, 0, 1, 1, 1, 0, 1, 1, 1, 1, 2, 1, 2, 0, 0, 1, 2, 1, 2, 0, 1, 0, 2, 2, 1, 1, 1, 2, 2, 1, 0, 1, 1, 1, 1, 2, 0, 1, 1, 2, 2, 1, 1, 2, 2, 1, 2, 1, 1, 2, 1, 1, 1, 0, 2, 2, 1, 1, 1, 1, 2, 0, 1, 0, 0, 2, 1, 1, 1, 0, 2, 2, 2, 2, 0, 2, 2, 2, 2, 2, 1, 2, 2, 0, 2, 1, 1, 1, 2, 2, 2, 1, 1, 1, 1, 2, 1, 1, 2, 1, 2, 2, 1, 1, 1, 1, 1, 2, 0, 2, 1, 1, 2, 2, 2, 2, 2, 2, 1, 1, 1, 1, 2, 1, 2, 2, 2, 2, 0, 1, 0, 2, 1, 1, 1, 2, 1, 1, 1, 1, 2, 1, 1, 2, 1, 1, 2, 2, 2, 2, 1, 2, 1, 1, 1, 0, 2, 1, 1, 1, 2, 2, 2, 2, 2, 2, 1, 2, 1, 2, 2, 2, 1, 1, 2, 2, 2, 2, 1, 1, 1, 2, 1, 2, 2, 2, 2, 1, 2, 1, 2, 2, 1, 1, 1, 1, 2, 1, 2, 2, 1, 1, 2, 1, 1, 2, 1, 2, 2, 2, 1, 2, 2, 1, 2, 2, 2, 1, 2, 2, 2, 1, 2, 2, 1, 2, 1, 2, 2, 2, 1, 2, 1, 1, 1, 1, 2, 0, 2, 0, 0, 2, 2, 0, 1, 2, 1, 1, 2, 2, 1, 1, 1, 2, 1, 2, 1, 2, 1, 2, 2, 1, 1, 1, 1, 2, 2, 2, 2, 1, 2, 1, 1, 2, 1, 1, 2, 1, 1, 2, 1, 0, 2, 2, 1, 1, 1, 2, 2, 1, 2, 1, 1, 2, 1, 1, 2, 1, 1, 2, 2, 1, 2, 1, 1, 0, 1, 1, 2, 1, 2, 1, 2, 2, 2, 2, 2, 2, 1, 2, 1, 1, 1, 2, 2, 0, 1, 1, 2, 2, 1, 0, 2, 1, 1, 2, 2, 0, 1, 1, 2, 1, 1, 1, 1, 1, 2, 1, 2, 2, 1, 2, 2, 1, 2, 1, 2, 2, 1, 0, 1, 1, 2, 1, 1, 1, 2, 2, 0, 1, 1, 2, 1, 1, 1, 1, 1, 0, 1, 1, 1, 2, 1, 2, 2, 0, 2, 1, 1, 0, 0, 0, 1, 2, 2, 1, 1, 2, 2, 1, 1, 1, 2, 2, 2, 1, 1, 2, 2, 1, 2, 2, 2, 2, 2, 0, 2, 2, 1, 2, 2, 1, 2, 1, 1, 1, 2, 1, 2, 1, 2, 1, 1, 1, 2, 2, 2, 0, 2, 2, 1, 1, 1, 1, 1, 1, 2, 2, 1, 1, 1, 1, 1, 1, 2, 1, 1, 2, 2, 2, 2, 1, 1, 2, 2, 1, 2, 2, 1, 2, 2, 2, 1, 1, 1, 2, 2, 1, 1, 1, 1, 1, 1, 2, 2, 1, 1, 2, 2, 2, 0, 1, 1, 2, 2, 0, 2, 2, 1, 2, 2, 2, 1, 2, 2, 2, 1, 2, 2, 1, 1, 2, 1, 2, 1, 2, 2, 2, 1, 1, 1, 1, 1, 2, 1, 1, 1, 1, 1, 2, 1, 1, 2, 0, 1, 1, 2, 1, 2, 1, 1, 2, 0, 2, 2, 2, 0, 2, 2, 1, 1, 1, 1, 2, 2, 1, 2, 2, 1, 2, 1, 1, 2, 1, 1, 1, 1, 2, 1, 2, 2, 2, 1, 2, 1, 1, 2, 2, 1, 2, 0, 2, 1, 0, 1, 1, 2, 1, 1, 1, 0, 2, 1, 1, 1, 1, 1, 1, 2, 2, 1, 2, 1, 1, 2, 1, 2, 1, 1, 2, 2, 1, 1, 2, 2, 2, 0, 0, 2, 2, 2, 2, 1, 1, 2, 2, 1, 0, 2, 2, 1, 2, 2, 2, 2, 2, 1, 1, 2, 1, 1, 1, 2, 2, 2, 1, 1, 1, 2, 1, 2, 2, 2, 1, 2, 2, 0, 2, 2, 2, 1, 0, 1, 1, 1, 1, 1, 2, 1, 2, 2, 2, 2, 1, 1, 2, 2, 2, 1, 1, 1, 1, 1, 0, 2, 1, 1, 1, 2, 1, 1, 1, 0, 1, 1, 1, 0, 0, 0, 2, 2, 1, 1, 1, 2, 0, 1, 1, 1, 2, 1, 1, 1, 1, 1, 2, 2, 2, 2, 1, 1, 1, 1, 2, 2, 2, 2, 2, 2, 2, 2, 2, 2, 2, 1, 1, 2, 2, 2, 2, 1, 1, 1, 2, 1, 1, 0, 2, 1, 1, 2, 2, 2, 2, 2, 2, 1, 1, 2, 2, 2, 2, 1, 2, 1, 2, 1, 0, 2, 2, 2, 1, 1, 2, 1, 1, 1, 2, 2, 1, 1, 2, 2, 0, 1, 2, 1, 1, 1, 1, 1, 1, 2, 2, 2, 0, 2, 0, 2, 1, 2, 1, 2, 1, 1, 1, 2, 2, 1, 1, 1, 2, 2, 1, 1, 1, 2, 2, 2, 2, 2, 1, 0, 2, 2, 2, 2, 2, 1, 0, 1, 2, 2, 1, 2, 1, 1, 1, 2, 0, 1, 0, 1, 2, 2, 2, 1, 1, 2, 1, 2, 1, 2, 0, 2, 1, 1, 1, 1, 0, 1, 2, 2, 2, 1, 0, 2, 1, 1, 1, 2, 2, 2, 1, 2, 2, 1, 1, 1, 1, 1, 1, 1, 2, 2, 1, 1, 1, 2, 2, 1, 1, 1, 1, 2, 0, 1, 1, 2, 1, 1, 1, 2, 2, 2, 2, 1, 0, 1, 1, 2, 2, 1, 1, 2, 2, 1, 2, 1, 1, 2, 2, 1, 2, 1, 2, 1, 2, 2, 2, 1, 2, 1, 0, 0, 1, 2, 2, 1, 2, 1, 2, 2, 2, 1, 2, 1, 1, 1, 1, 2, 2, 2, 1, 1, 2, 1, 0, 0, 2, 2, 2, 1, 1, 1, 2, 1, 0, 1, 1, 2, 1, 2, 2, 1, 1, 1, 1, 2, 1, 1, 2, 0, 0, 1, 0, 1, 1, 2, 2, 2, 2, 2, 1, 1, 2, 2, 1, 2, 1, 1, 2, 1, 2, 1, 0, 1, 1, 2, 0, 2, 2, 2, 1, 2, 2, 2, 1, 0, 1, 0, 2, 1, 1, 1, 1, 1, 2, 1, 2, 1, 2, 1, 2, 0, 2, 1, 2, 1, 1, 1, 2, 1, 2, 1, 2, 2, 1, 1, 1, 1, 1, 1, 2, 1, 0, 2, 1, 2, 2, 1, 2, 2, 2, 1, 1, 1, 0, 2, 2, 2, 1, 1, 1, 1, 2, 1, 1, 2, 1, 1, 1, 1, 1, 2, 1, 2, 1, 2, 1, 1, 2, 2, 1, 2, 1, 2, 1, 1, 2, 1, 1, 1, 2, 1, 1, 2, 2, 1, 0, 2, 0, 2, 1, 2, 1, 1, 1, 1, 2, 2, 1, 1, 0, 1, 2, 0, 2, 1, 1, 2, 2, 2, 1, 2, 1, 1, 1, 2, 1, 2, 1, 1, 2, 1, 1, 2, 1, 1, 2, 1, 2, 1, 2, 2, 0, 1, 1, 1, 0, 1, 2, 2, 1, 2, 1, 2, 1, 1, 2, 2, 1, 2, 2, 1, 2, 2, 2, 2, 2, 2, 1, 2, 1, 2, 2, 2, 2, 1, 1, 2, 2, 0, 2, 1, 2, 2, 0, 2, 2, 2, 1, 1, 1, 2, 1, 2, 2, 1, 2, 1, 1, 2, 2, 1, 2, 2, 2, 1, 1, 2, 1, 2, 2, 2, 1, 2, 1, 1, 2, 2, 0, 0, 2, 1, 1, 1, 2, 2, 2, 1, 0, 2, 1, 1, 2, 2, 1, 1, 2, 0, 1, 0, 1, 2, 1, 2, 2, 1, 0, 2, 1, 2, 2, 0, 1, 2, 1, 2, 1, 2, 2, 2, 1, 2, 2, 1, 2, 2, 1, 1, 1, 1, 2, 2, 2, 1, 0, 1, 2, 2, 2, 2, 2, 2, 1, 1, 1, 2, 2, 0, 2, 2, 2, 1, 2, 1, 1, 2, 2, 1, 2, 1, 1, 1, 1, 2, 1, 1, 2, 2, 1, 2, 1, 2, 2, 2, 1, 2, 2, 1, 2, 1, 0, 1, 2, 1, 1, 1, 1, 2, 2, 1, 1, 0, 0, 0, 1, 1, 2, 2, 2, 2, 1, 1, 1, 1, 1, 1, 0, 1, 1, 1, 1, 2, 1, 2, 1, 1, 1, 2, 2, 2, 2, 1, 1, 2, 1, 1, 1, 2, 1, 2, 2, 2, 1, 1, 0, 2, 1, 2, 1, 2, 1, 2, 1, 2, 2, 1, 2, 1, 2, 1, 1, 2, 2, 2, 1, 1, 1, 1, 1, 0, 2, 1, 1, 1, 2, 1, 2, 2, 2, 1, 1, 1, 1, 1, 2, 2, 2, 2, 1, 1, 2, 1, 1, 2, 2, 1, 2, 2, 2, 2, 1, 0, 2, 2, 2, 2, 1, 0, 2, 1, 1, 2, 2, 2, 2, 0, 1, 2, 1, 1, 1, 0, 2, 1, 1, 2, 1, 0, 0, 1, 1, 2, 2, 1, 2, 2, 2, 1, 2, 1, 2, 1, 1, 1, 1, 2, 0, 1, 1, 2, 2, 2, 2, 1, 1, 1, 1, 2, 1, 2, 1, 2, 1, 2, 1, 0, 1, 2, 1, 2, 2, 0, 1, 0, 1, 1, 0, 2, 2, 2, 2, 2, 2, 2, 2, 2, 2, 2, 2, 2, 1, 2, 0, 1, 1, 2, 2, 1, 2, 1, 2, 1, 1, 0, 2, 2, 1, 1, 0, 2, 1, 1, 2, 1, 1, 2, 2, 2, 2, 2, 1, 1, 2, 2, 2, 1, 2, 1, 1, 2, 1, 1, 2, 1, 1, 1, 0, 2, 2, 2, 1, 1, 1, 2, 2, 2, 2, 1, 0, 1, 1, 2, 2, 1, 2, 0, 2, 1, 2, 1, 1, 1, 1, 2, 1, 2, 1, 0, 2, 2, 2, 2, 2, 0, 1, 2, 1, 2, 2, 2, 1, 2, 1, 2, 1, 1, 2, 2, 2, 2, 1, 2, 2, 1, 2, 2, 2, 1, 2, 1, 2, 2, 2, 1, 2, 2, 1, 1, 0, 0, 2, 2, 2, 0, 0, 1, 2, 1, 1, 1, 2, 2, 2, 1, 2, 2, 1, 1, 2, 2, 1, 2, 1, 1, 0, 1, 1, 2, 1, 1, 2, 2, 2, 0, 1, 2, 0, 1, 2, 2, 1, 2, 2, 2, 1, 2, 2, 0, 1, 1, 1, 2, 1, 1, 1, 2, 2, 2, 1, 1, 1, 1, 1, 1, 1, 2, 1, 1, 1, 2, 2, 1, 1, 2, 2, 2, 2, 2, 1, 2, 2, 2, 1, 1, 1, 2, 1, 2, 1, 1, 2, 2, 2, 2, 1, 1, 1, 2, 2, 1, 2, 1, 2, 2, 2, 2, 2, 2, 2, 2, 2, 1, 2, 1, 1, 1, 2, 1, 1, 0, 1, 2, 2, 2, 1, 0, 1, 1, 1, 1, 2, 1, 1, 1, 2, 2, 2, 2, 1, 2, 0, 1, 1, 2, 2, 1, 1, 1, 1, 1, 1, 2, 1, 2, 2, 2, 2, 1, 0, 2, 2, 2, 2, 2, 2, 2, 2, 2, 1, 2, 1, 1, 1, 1, 1, 2, 1, 2, 2, 2, 1, 2, 2, 2, 2, 2, 1, 1, 1, 1, 1, 2, 2, 1, 2, 2, 1, 2, 1, 1, 2, 1, 2, 1, 2, 1, 2, 1, 2, 1, 2, 2, 2, 1, 2, 1, 2, 1, 1, 2, 2, 2, 1, 2, 2, 2, 2, 1, 2, 1, 1, 1, 2, 1, 1, 1, 2, 1, 1, 2, 2, 2, 2, 1, 2, 1, 2, 0, 1, 2, 1, 2, 1, 2, 1, 2, 1, 2, 1, 2, 2, 2, 0, 0, 2, 2, 1, 1, 1, 1, 1, 1, 0, 2, 1, 2, 2, 1, 2, 2, 1, 1, 1, 2, 1, 1, 1, 2, 1, 2, 2, 1, 2, 2, 0, 1, 0, 1, 1, 1, 2, 1, 2, 2, 2, 1, 1, 1, 2, 2, 2, 2, 0, 2, 0, 2, 2, 2, 2, 2, 2, 2, 0, 1, 0, 2, 2, 2, 2, 0, 1, 2, 2, 2, 1, 1, 2, 2, 2, 2, 1, 2, 2, 2, 1, 1, 2, 1, 2, 2, 2, 1, 0, 1, 1, 2, 1, 1, 1, 2, 2, 2, 2, 2, 0, 1, 1, 1, 1, 1, 1, 2, 2, 2, 2, 1, 1, 2, 2, 2, 1, 2, 1, 1, 2, 0, 1, 2, 1, 1, 2, 2, 2, 1, 2, 2, 1, 1, 2, 2, 1, 2, 2, 1, 2, 0, 2, 2, 1, 1, 1, 0, 2, 2, 2, 1, 2, 2, 2, 1, 1, 2, 0, 2, 2, 2, 2, 1, 0, 1, 2, 1, 2, 1, 2, 1, 1, 0, 0, 1, 0, 1, 2, 2, 2, 2, 1, 1, 1, 2, 2, 2, 0, 2, 2, 1, 1, 2, 1, 2, 1, 1, 1, 1, 2, 1, 2, 2, 2, 1, 0, 1, 2, 2, 0, 1, 1, 2, 2, 2, 2, 2, 1, 2, 1, 1, 2, 2, 1, 0, 2, 0, 1, 2, 2, 2, 1, 1, 2, 1, 2, 1, 2, 1, 2, 2, 0, 1, 1, 2, 1, 2, 1, 2, 2, 2, 0, 2, 2, 1, 1, 1, 0, 1, 1, 1, 0, 1, 2, 2, 1, 1, 1, 1, 2, 1, 2, 0, 2, 1, 1, 1, 2, 1, 2, 2, 1, 2, 2, 2, 1, 2, 2, 2, 0, 2, 2, 1, 2, 1, 2, 2, 2, 2, 1, 1, 1, 2, 1, 1, 1, 0, 2, 2, 1, 2, 1, 0, 1, 1, 1, 2, 1, 2, 1, 2, 2, 1, 2, 1, 2, 1, 1, 2, 1, 1, 2, 0, 1, 2, 2, 1, 2, 2, 1, 2, 1, 2, 1, 1, 2, 1, 1, 1, 1, 1, 2, 1, 2, 1, 2, 2, 1, 2, 1, 0, 1, 2, 2, 2, 1, 0, 1, 1, 1, 1, 1, 1, 1, 1, 2, 2, 2, 2, 2, 2, 2, 0, 2, 0, 2, 1, 2, 1, 1, 1, 2, 2, 1, 2, 1, 1, 2, 1, 0, 1, 1, 1, 2, 2, 2, 1, 2, 1, 1, 1, 0, 2, 1, 1, 2, 1, 1, 1, 1, 1, 2, 1, 2, 2, 2, 2, 1, 1, 2, 1, 2, 1, 1, 0, 2, 1, 1, 1, 0, 1, 1, 2, 1, 1, 1, 2, 2, 1, 2, 2, 2, 1, 1, 2, 1, 2, 1, 2, 2, 1, 1, 1, 1, 2, 0, 2, 2, 2, 1, 1, 2, 2, 1, 0, 1, 0, 2, 1, 2, 1, 2, 2, 1, 1, 2, 1, 1, 2, 2, 2, 1, 1, 2, 2, 2, 1, 1, 1, 2, 2, 1, 2, 2, 2, 0, 1, 1, 2, 2, 1, 2, 1, 2, 1, 0, 1, 1, 1, 1, 2, 2, 2, 1, 2, 1, 2, 2, 1, 1, 2, 2, 2, 2, 1, 1, 2, 2, 1, 1, 1, 2, 1, 1, 2, 1, 2, 1, 2, 2, 1, 1, 1, 0, 1, 1, 2, 1, 2, 2, 1, 2, 1, 2, 2, 2, 0, 1, 1, 1, 1, 0, 1, 1, 2, 2, 2, 2, 1, 2, 1, 1, 2, 2, 1, 2, 2, 1, 1, 2, 1, 1, 1, 1, 1, 1, 2, 0, 2, 2, 1, 1, 1, 2, 2, 2, 0, 2, 2, 2, 1, 1, 2, 2, 1, 1, 1, 0, 2, 2, 2, 2, 1, 1, 1, 2, 1, 1, 1, 1, 1, 2, 2, 1, 2, 1, 1, 1, 1, 1, 2, 2, 0, 2, 2, 2, 1, 2, 2, 2, 2, 1, 0, 2, 1, 2, 2, 2, 1, 2, 2, 0, 1, 2, 1, 1, 0, 2, 2, 1, 2, 1, 2, 2, 1, 2, 2, 2, 1, 1, 1, 2, 2, 2, 2, 1, 2, 2, 1, 0, 2, 1, 2, 0, 2, 1, 1, 2, 1, 2, 2, 1, 1, 1, 2, 1, 2, 2, 2, 1, 1, 1, 2, 2, 2, 1, 2, 2, 1, 1, 2, 1, 2, 2, 1, 1, 2, 2, 1, 2, 2, 1, 1, 2]\n",
            "Train images: 2324\n",
            "Test images: 581\n"
          ],
          "name": "stdout"
        }
      ]
    },
    {
      "cell_type": "code",
      "metadata": {
        "id": "oVjku6ENOMAE",
        "outputId": "877d58e0-91e3-418f-9067-f5a84de28557",
        "colab": {
          "base_uri": "https://localhost:8080/",
          "height": 606
        }
      },
      "source": [
        "#defining the SVC with Support Vector Machine\n",
        "kernels = ['poly', 'linear', 'rbf', 'sigmoid']\n",
        "models = []\n",
        "for kernel in kernels:\n",
        "    models.append(SVC(C=1, gamma='auto', kernel=kernel))\n",
        "    print(models)"
      ],
      "execution_count": null,
      "outputs": [
        {
          "output_type": "stream",
          "text": [
            "[SVC(C=1, break_ties=False, cache_size=200, class_weight=None, coef0=0.0,\n",
            "    decision_function_shape='ovr', degree=3, gamma='auto', kernel='poly',\n",
            "    max_iter=-1, probability=False, random_state=None, shrinking=True,\n",
            "    tol=0.001, verbose=False)]\n",
            "[SVC(C=1, break_ties=False, cache_size=200, class_weight=None, coef0=0.0,\n",
            "    decision_function_shape='ovr', degree=3, gamma='auto', kernel='poly',\n",
            "    max_iter=-1, probability=False, random_state=None, shrinking=True,\n",
            "    tol=0.001, verbose=False), SVC(C=1, break_ties=False, cache_size=200, class_weight=None, coef0=0.0,\n",
            "    decision_function_shape='ovr', degree=3, gamma='auto', kernel='linear',\n",
            "    max_iter=-1, probability=False, random_state=None, shrinking=True,\n",
            "    tol=0.001, verbose=False)]\n",
            "[SVC(C=1, break_ties=False, cache_size=200, class_weight=None, coef0=0.0,\n",
            "    decision_function_shape='ovr', degree=3, gamma='auto', kernel='poly',\n",
            "    max_iter=-1, probability=False, random_state=None, shrinking=True,\n",
            "    tol=0.001, verbose=False), SVC(C=1, break_ties=False, cache_size=200, class_weight=None, coef0=0.0,\n",
            "    decision_function_shape='ovr', degree=3, gamma='auto', kernel='linear',\n",
            "    max_iter=-1, probability=False, random_state=None, shrinking=True,\n",
            "    tol=0.001, verbose=False), SVC(C=1, break_ties=False, cache_size=200, class_weight=None, coef0=0.0,\n",
            "    decision_function_shape='ovr', degree=3, gamma='auto', kernel='rbf',\n",
            "    max_iter=-1, probability=False, random_state=None, shrinking=True,\n",
            "    tol=0.001, verbose=False)]\n",
            "[SVC(C=1, break_ties=False, cache_size=200, class_weight=None, coef0=0.0,\n",
            "    decision_function_shape='ovr', degree=3, gamma='auto', kernel='poly',\n",
            "    max_iter=-1, probability=False, random_state=None, shrinking=True,\n",
            "    tol=0.001, verbose=False), SVC(C=1, break_ties=False, cache_size=200, class_weight=None, coef0=0.0,\n",
            "    decision_function_shape='ovr', degree=3, gamma='auto', kernel='linear',\n",
            "    max_iter=-1, probability=False, random_state=None, shrinking=True,\n",
            "    tol=0.001, verbose=False), SVC(C=1, break_ties=False, cache_size=200, class_weight=None, coef0=0.0,\n",
            "    decision_function_shape='ovr', degree=3, gamma='auto', kernel='rbf',\n",
            "    max_iter=-1, probability=False, random_state=None, shrinking=True,\n",
            "    tol=0.001, verbose=False), SVC(C=1, break_ties=False, cache_size=200, class_weight=None, coef0=0.0,\n",
            "    decision_function_shape='ovr', degree=3, gamma='auto', kernel='sigmoid',\n",
            "    max_iter=-1, probability=False, random_state=None, shrinking=True,\n",
            "    tol=0.001, verbose=False)]\n"
          ],
          "name": "stdout"
        }
      ]
    },
    {
      "cell_type": "markdown",
      "metadata": {
        "id": "rmZRDguoOQgm"
      },
      "source": [
        "Fit the Models"
      ]
    },
    {
      "cell_type": "code",
      "metadata": {
        "id": "1YU4bBpQOP7q",
        "outputId": "317a23cf-7c8c-4079-cd89-317587eb8706",
        "colab": {
          "base_uri": "https://localhost:8080/",
          "height": 135,
          "referenced_widgets": [
            "883d30aa4cc94feeb83b5c77cefd50fe",
            "15704bc43a65434c9e2e0bf11c481373",
            "5b995380b73e4b94bf41cc5eb832a70a",
            "1e105cad5cc74ed5aaeb15ea475db55e",
            "325a2fb6a0b64b9ab090f31cbe5d4d0d",
            "af5803e54bf44c41aab563d1adb45c62",
            "f12c0fbe74804e6e8a626239836378f1",
            "e5fbbb7324cd40e1a06ec4858964844a"
          ]
        }
      },
      "source": [
        "for model in tq.tqdm(models):\n",
        "    start = time.time()\n",
        "    model.fit(xtrain, ytrain)\n",
        "    end = time.time()\n",
        "    print(f'[{kernels[models.index(model)]}]Time taken for fit: {end - start}s')"
      ],
      "execution_count": null,
      "outputs": [
        {
          "output_type": "display_data",
          "data": {
            "application/vnd.jupyter.widget-view+json": {
              "model_id": "883d30aa4cc94feeb83b5c77cefd50fe",
              "version_minor": 0,
              "version_major": 2
            },
            "text/plain": [
              "HBox(children=(FloatProgress(value=0.0, max=4.0), HTML(value='')))"
            ]
          },
          "metadata": {
            "tags": []
          }
        },
        {
          "output_type": "stream",
          "text": [
            "[poly]Time taken for fit: 6.466059923171997s\n",
            "[linear]Time taken for fit: 6.723914384841919s\n",
            "[rbf]Time taken for fit: 31.731685161590576s\n",
            "[sigmoid]Time taken for fit: 22.684382438659668s\n",
            "\n"
          ],
          "name": "stdout"
        }
      ]
    },
    {
      "cell_type": "code",
      "metadata": {
        "id": "bxFGAX5nM49Q",
        "outputId": "b8d3d403-a083-43a5-a759-ab7335fe6080",
        "colab": {
          "base_uri": "https://localhost:8080/",
          "height": 205,
          "referenced_widgets": [
            "d3146d0151d24c56af049ac4c2555ae6",
            "cca7a9ec01d448adaa29f63cf2b3cf87",
            "9ad9666d56ae45029c3be0d909e549b8",
            "8ac1ab8c6d6b46cd9fb5c47a555c6f4a",
            "903351949704439298cb43169cf379ad",
            "54953a09a6c7448aa2f2fee5956e993f",
            "78c49d4e3b1444d8aecc926e93d69dcd",
            "0f2b8bddec7b4871be842b4e3d89f967"
          ]
        }
      },
      "source": [
        "#Evaluating models for each different kernel used in Support Vector Machine\n",
        "model_acc = []\n",
        "for model in tq.tqdm(models):\n",
        "    start = time.time()\n",
        "    accuracy = model.score(xtest, ytest)\n",
        "    end = time.time()\n",
        "    print(f'[{kernels[models.index(model)]}]Accuracy: {accuracy}, time taken: {end - start}s')\n",
        "    model_acc.append((model, accuracy))\n",
        "\n",
        "best_model = max(model_acc, key=lambda x:x[1])\n",
        "print(f'Model with best accuracy: {best_model}')"
      ],
      "execution_count": null,
      "outputs": [
        {
          "output_type": "display_data",
          "data": {
            "application/vnd.jupyter.widget-view+json": {
              "model_id": "d3146d0151d24c56af049ac4c2555ae6",
              "version_minor": 0,
              "version_major": 2
            },
            "text/plain": [
              "HBox(children=(FloatProgress(value=0.0, max=4.0), HTML(value='')))"
            ]
          },
          "metadata": {
            "tags": []
          }
        },
        {
          "output_type": "stream",
          "text": [
            "[poly]Accuracy: 0.9380378657487092, time taken: 1.41023588180542s\n",
            "[linear]Accuracy: 0.9259896729776248, time taken: 1.4885802268981934s\n",
            "[rbf]Accuracy: 0.4784853700516351, time taken: 5.55555534362793s\n",
            "[sigmoid]Accuracy: 0.46815834767641995, time taken: 5.449656248092651s\n",
            "\n",
            "Model with best accuracy: (SVC(C=1, break_ties=False, cache_size=200, class_weight=None, coef0=0.0,\n",
            "    decision_function_shape='ovr', degree=3, gamma='auto', kernel='poly',\n",
            "    max_iter=-1, probability=False, random_state=None, shrinking=True,\n",
            "    tol=0.001, verbose=False), 0.9380378657487092)\n"
          ],
          "name": "stdout"
        }
      ]
    },
    {
      "cell_type": "markdown",
      "metadata": {
        "id": "sEQbJtA2OmcE"
      },
      "source": [
        "Save the Model"
      ]
    },
    {
      "cell_type": "code",
      "metadata": {
        "id": "DEFzVd1qOoPX",
        "outputId": "5d096da0-c372-4dbb-ac10-59c02fe58933",
        "colab": {
          "base_uri": "https://localhost:8080/",
          "height": 34
        }
      },
      "source": [
        "model = models[0]\n",
        "#SAVING THE SVC MODEL\n",
        "pkl_filename = \"pickle_model_svc_poly_50.pkl\"\n",
        "\n",
        "with open(pkl_filename, 'wb') as file:\n",
        "    pickle.dump(model, file)\n",
        "\n",
        "os.listdir()"
      ],
      "execution_count": null,
      "outputs": [
        {
          "output_type": "execute_result",
          "data": {
            "text/plain": [
              "['.config', 'pickle_model_svc_poly_50.pkl', 'drive', 'sample_data']"
            ]
          },
          "metadata": {
            "tags": []
          },
          "execution_count": 59
        }
      ]
    },
    {
      "cell_type": "markdown",
      "metadata": {
        "id": "ZSabRL8q2uYo"
      },
      "source": [
        "### Trying out another augmentation"
      ]
    },
    {
      "cell_type": "markdown",
      "metadata": {
        "id": "WrGbIrj1E9IJ"
      },
      "source": [
        "**Things to work on:**\n",
        "- Visualisation\n",
        "- explore feature selection / downsizing\n",
        "\n",
        "**Things to visualize:**\n",
        "\n",
        "1. svm plot\n",
        "2. distribution of data\n",
        "3. distribution of training & validation data\n",
        "4. process of data augmentation\n",
        "\n",
        "**Analyse:**\n",
        "- process of making improvements \n",
        "- why we chose to do things in this way"
      ]
    },
    {
      "cell_type": "code",
      "metadata": {
        "id": "D7mVBlT-8XAz"
      },
      "source": [
        "import skimage\n",
        "from skimage.feature import hog\n",
        "from skimage.color import rgb2gray\n",
        "\n",
        "import matplotlib as mpl\n",
        "import matplotlib.pyplot as plt\n",
        "from IPython.display import display"
      ],
      "execution_count": null,
      "outputs": []
    },
    {
      "cell_type": "code",
      "metadata": {
        "id": "OI5uy_yv0ONJ",
        "outputId": "5c6b6abf-94ea-4454-d12e-ead05c5b8bf9",
        "colab": {
          "base_uri": "https://localhost:8080/",
          "height": 54
        }
      },
      "source": [
        "import cv2\n",
        "\n",
        "PATH = './drive/My Drive/Kaggle/COVID-19 Radiography Database/'\n",
        "print(os.listdir(PATH))\n",
        "categories = ['COVID-19', 'NORMAL', 'Viral Pneumonia']"
      ],
      "execution_count": null,
      "outputs": [
        {
          "output_type": "stream",
          "text": [
            "['COVID-19.metadata.xlsx', 'NORMAL.metadata.xlsx', 'Viral Pneumonia.matadata.xlsx', 'README.md.txt', 'COVID-19', 'NORMAL', 'Viral Pneumonia']\n"
          ],
          "name": "stdout"
        }
      ]
    },
    {
      "cell_type": "code",
      "metadata": {
        "id": "p2ireWah2yem",
        "outputId": "10b00b73-558e-4d58-eca9-7c1bd53cd198",
        "colab": {
          "base_uri": "https://localhost:8080/",
          "height": 231,
          "referenced_widgets": [
            "4dcc124e572a479383c9de19e6d0ed4b",
            "3a7b61ae328b46e3b305c1f8b6ab8186",
            "3c5b5932672e4d1585f1d1890f53446a",
            "b0d4b09eb2874541862c1541d6da12a4",
            "0833dedc6529401fa26d9a7947019ab4",
            "9fdb79c3846e4cd5be274206328751fc",
            "d71b26a5771647db9c6d99b6899dd3b0",
            "2d1d955aeb484909b093ae7a35cf6caf",
            "a809daa24f3b4c7fa4b06bbc109b8217",
            "4c87aeee92c74bdba1ee1cee29ba6a82",
            "a219d2cbeab3468bbad077a82915f0f0",
            "d60378e1b19d4a7dbfc5224d23b7b0bf",
            "ccf39744b95a4a1a820673e1f8a91fe2",
            "0d70b6b894224d6b95f0db6fb02d4b4a",
            "27c7b298cd0f4e58a03798dd2801d856",
            "900122733ae54c5aa97b0dbf94ff9d41",
            "d5f6c1e4a4c34e45b62f994e49c25b8a",
            "365a3f3153c94cb8a2946a1c4aed10bd",
            "f496f755247545eab76bef4714ad5635",
            "16c71418332047f08dddd471229df90d",
            "aa169348a3254dfc994191fe1694361e",
            "81fc60e375064480aa831baea55237d2",
            "78d8f46035834d8197a1cee441d16952",
            "7166f59de22c4c47bf6b552be0fa6c99",
            "d218a56a4176427686457bf2ea89ee43",
            "e78a350fde4e49a990a785a928acc2ab",
            "9618baefb62e4adaab48bb829c869766",
            "cbf508a00a5a4820a7028fb9f8327c37",
            "27e2498352a64405a82c8a035bb4b03b",
            "3654f03344054597ab1bb6ca03d1eeed",
            "ec46401b525e4da0bb52059ca6105c09",
            "3911b8be50ae4a0c804c1d3d28f19685"
          ]
        }
      },
      "source": [
        "#SVM\n",
        "count = 0\n",
        "data = []\n",
        "for category in tq.tqdm(categories):\n",
        "    path = os.path.join(PATH, category)\n",
        "    label = categories.index(category)\n",
        "\n",
        "    for img in tq.tqdm(os.listdir(path)):\n",
        "        '''\n",
        "        count = count + 1\n",
        "        if (count > 1):\n",
        "          break\n",
        "        '''\n",
        "        imgpath = os.path.join(path, img)\n",
        "        xray_img = cv2.imread(imgpath, 0)\n",
        "        #print(\"before: \", xray_img.shape)\n",
        "        #plt.imshow(xray_img)\n",
        "        xray_img = cv2.resize(xray_img, (128, 128))\n",
        "        #plt.imshow(xray_img)\n",
        "        #print(\"resized image shape: \", xray_img.shape)\n",
        "        \n",
        "        hog_features, hog_image = hog(xray_img,\n",
        "                              visualize=True,\n",
        "                              orientations=9,\n",
        "                              cells_per_block=(2, 2),\n",
        "                              pixels_per_cell=(8, 8),\n",
        "                              block_norm='L2-Hys')\n",
        "        #plt.imshow(hog_image, cmap=mpl.cm.gray)\n",
        "        #plt.imshow(hog_image)\n",
        "        #print(\"feature size: \", hog_features.shape)\n",
        "        #print(\"hog feature\", hog_features)\n",
        "        #print(\"hog feature size: \", hog_features.size)\n",
        "        #print(\"hog image: \", hog_image)\n",
        "        #image = np.array(xray_img).flatten()\n",
        "        #data.append([image, label])\n",
        "        data.append([hog_features, label])\n",
        "\n",
        "        #print(f'{image} {label}')\n",
        "\n"
      ],
      "execution_count": null,
      "outputs": [
        {
          "output_type": "stream",
          "text": [
            "['COVID-19.metadata.xlsx', 'NORMAL.metadata.xlsx', 'Viral Pneumonia.matadata.xlsx', 'README.md.txt', 'COVID-19', 'NORMAL', 'Viral Pneumonia']\n"
          ],
          "name": "stdout"
        },
        {
          "output_type": "display_data",
          "data": {
            "application/vnd.jupyter.widget-view+json": {
              "model_id": "4dcc124e572a479383c9de19e6d0ed4b",
              "version_minor": 0,
              "version_major": 2
            },
            "text/plain": [
              "HBox(children=(FloatProgress(value=0.0, max=3.0), HTML(value='')))"
            ]
          },
          "metadata": {
            "tags": []
          }
        },
        {
          "output_type": "display_data",
          "data": {
            "application/vnd.jupyter.widget-view+json": {
              "model_id": "a809daa24f3b4c7fa4b06bbc109b8217",
              "version_minor": 0,
              "version_major": 2
            },
            "text/plain": [
              "HBox(children=(FloatProgress(value=0.0, max=219.0), HTML(value='')))"
            ]
          },
          "metadata": {
            "tags": []
          }
        },
        {
          "output_type": "stream",
          "text": [
            "\n"
          ],
          "name": "stdout"
        },
        {
          "output_type": "display_data",
          "data": {
            "application/vnd.jupyter.widget-view+json": {
              "model_id": "d5f6c1e4a4c34e45b62f994e49c25b8a",
              "version_minor": 0,
              "version_major": 2
            },
            "text/plain": [
              "HBox(children=(FloatProgress(value=0.0, max=1341.0), HTML(value='')))"
            ]
          },
          "metadata": {
            "tags": []
          }
        },
        {
          "output_type": "stream",
          "text": [
            "\n"
          ],
          "name": "stdout"
        },
        {
          "output_type": "display_data",
          "data": {
            "application/vnd.jupyter.widget-view+json": {
              "model_id": "d218a56a4176427686457bf2ea89ee43",
              "version_minor": 0,
              "version_major": 2
            },
            "text/plain": [
              "HBox(children=(FloatProgress(value=0.0, max=1345.0), HTML(value='')))"
            ]
          },
          "metadata": {
            "tags": []
          }
        },
        {
          "output_type": "stream",
          "text": [
            "\n",
            "\n"
          ],
          "name": "stdout"
        }
      ]
    },
    {
      "cell_type": "code",
      "metadata": {
        "id": "8ZA6pZ6r9MY2"
      },
      "source": [
        "# original: pickle_in = open('./drive/My Drive/xray_dataset_sklearn.pickle', 'wb')\n",
        "# trying out:\n",
        "pickle_in = open('./drive/My Drive/xray_dataset_sklearn_hog_unreduced.pickle', 'wb')\n",
        "pickle.dump(data, pickle_in)\n",
        "pickle_in.close()"
      ],
      "execution_count": null,
      "outputs": []
    },
    {
      "cell_type": "code",
      "metadata": {
        "id": "s0NN5v4mwXlL"
      },
      "source": [
        "pickle_in = open('./drive/My Drive/xray_dataset_sklearn_hog_L1sqrt.pickle', 'rb')\n",
        "data = pickle.load(pickle_in)\n",
        "pickle_in.close()"
      ],
      "execution_count": null,
      "outputs": []
    },
    {
      "cell_type": "code",
      "metadata": {
        "id": "5VdhDMxDwXzg",
        "outputId": "12ba0d9c-a76e-4eff-8546-7c8044da01dc",
        "colab": {
          "base_uri": "https://localhost:8080/",
          "height": 100,
          "referenced_widgets": [
            "4cfdc0a128d34a2e93e7a750f672444f",
            "93d4829e6e4c42bb9d9b51fe32cc6d56",
            "362720efd0594a5ab09fafcb25e19f37",
            "7dac31bed57842e28b8c99fc1f0da3a2",
            "f0eeabd820114ab188506d86ceaa17ec",
            "d4ec0dcf3b044a06b018bb6cf6985fd3",
            "f0a160bd657942c0a4e858553fe901db",
            "52c725d599d744ebbd487ab2f8ca3869"
          ]
        }
      },
      "source": [
        "random.shuffle(data)\n",
        "TEST_SIZE = 0.2\n",
        "features = []\n",
        "labels = []\n",
        "\n",
        "for feature, label in tq.tqdm(data):\n",
        "    features.append(feature)\n",
        "    labels.append(label)\n",
        "#print(features)\n",
        "#print(labels)\n",
        "\n",
        "xtrain, xtest, ytrain, ytest = train_test_split(features, labels, test_size=TEST_SIZE)\n",
        "print(f'Train images: {len(xtrain)}')\n",
        "print(f'Test images: {len(xtest)}')"
      ],
      "execution_count": null,
      "outputs": [
        {
          "output_type": "display_data",
          "data": {
            "application/vnd.jupyter.widget-view+json": {
              "model_id": "4cfdc0a128d34a2e93e7a750f672444f",
              "version_minor": 0,
              "version_major": 2
            },
            "text/plain": [
              "HBox(children=(FloatProgress(value=0.0, max=2905.0), HTML(value='')))"
            ]
          },
          "metadata": {
            "tags": []
          }
        },
        {
          "output_type": "stream",
          "text": [
            "\n",
            "Train images: 2324\n",
            "Test images: 581\n"
          ],
          "name": "stdout"
        }
      ]
    },
    {
      "cell_type": "code",
      "metadata": {
        "id": "uk7axNWE_48-",
        "outputId": "18f15faf-9917-43ab-e7dd-1ed560cc17b0",
        "colab": {
          "base_uri": "https://localhost:8080/",
          "height": 34
        }
      },
      "source": [
        "print(len(xtest[0]))"
      ],
      "execution_count": null,
      "outputs": [
        {
          "output_type": "stream",
          "text": [
            "8192\n"
          ],
          "name": "stdout"
        }
      ]
    },
    {
      "cell_type": "code",
      "metadata": {
        "id": "ESUE55Z5wX84",
        "outputId": "a523c015-f8a8-47e8-fe02-c750a40c06d8",
        "colab": {
          "base_uri": "https://localhost:8080/",
          "height": 615
        }
      },
      "source": [
        "#defining the SVC with Support Vector Machine\n",
        "kernels = ['poly', 'linear', 'rbf', 'sigmoid']\n",
        "models = []\n",
        "for kernel in kernels:\n",
        "    models.append(SVC(C=1, gamma='auto', kernel=kernel))\n",
        "    print(models)"
      ],
      "execution_count": null,
      "outputs": [
        {
          "output_type": "stream",
          "text": [
            "[SVC(C=1, break_ties=False, cache_size=200, class_weight=None, coef0=0.0,\n",
            "    decision_function_shape='ovr', degree=3, gamma='auto', kernel='poly',\n",
            "    max_iter=-1, probability=False, random_state=None, shrinking=True,\n",
            "    tol=0.001, verbose=False)]\n",
            "[SVC(C=1, break_ties=False, cache_size=200, class_weight=None, coef0=0.0,\n",
            "    decision_function_shape='ovr', degree=3, gamma='auto', kernel='poly',\n",
            "    max_iter=-1, probability=False, random_state=None, shrinking=True,\n",
            "    tol=0.001, verbose=False), SVC(C=1, break_ties=False, cache_size=200, class_weight=None, coef0=0.0,\n",
            "    decision_function_shape='ovr', degree=3, gamma='auto', kernel='linear',\n",
            "    max_iter=-1, probability=False, random_state=None, shrinking=True,\n",
            "    tol=0.001, verbose=False)]\n",
            "[SVC(C=1, break_ties=False, cache_size=200, class_weight=None, coef0=0.0,\n",
            "    decision_function_shape='ovr', degree=3, gamma='auto', kernel='poly',\n",
            "    max_iter=-1, probability=False, random_state=None, shrinking=True,\n",
            "    tol=0.001, verbose=False), SVC(C=1, break_ties=False, cache_size=200, class_weight=None, coef0=0.0,\n",
            "    decision_function_shape='ovr', degree=3, gamma='auto', kernel='linear',\n",
            "    max_iter=-1, probability=False, random_state=None, shrinking=True,\n",
            "    tol=0.001, verbose=False), SVC(C=1, break_ties=False, cache_size=200, class_weight=None, coef0=0.0,\n",
            "    decision_function_shape='ovr', degree=3, gamma='auto', kernel='rbf',\n",
            "    max_iter=-1, probability=False, random_state=None, shrinking=True,\n",
            "    tol=0.001, verbose=False)]\n",
            "[SVC(C=1, break_ties=False, cache_size=200, class_weight=None, coef0=0.0,\n",
            "    decision_function_shape='ovr', degree=3, gamma='auto', kernel='poly',\n",
            "    max_iter=-1, probability=False, random_state=None, shrinking=True,\n",
            "    tol=0.001, verbose=False), SVC(C=1, break_ties=False, cache_size=200, class_weight=None, coef0=0.0,\n",
            "    decision_function_shape='ovr', degree=3, gamma='auto', kernel='linear',\n",
            "    max_iter=-1, probability=False, random_state=None, shrinking=True,\n",
            "    tol=0.001, verbose=False), SVC(C=1, break_ties=False, cache_size=200, class_weight=None, coef0=0.0,\n",
            "    decision_function_shape='ovr', degree=3, gamma='auto', kernel='rbf',\n",
            "    max_iter=-1, probability=False, random_state=None, shrinking=True,\n",
            "    tol=0.001, verbose=False), SVC(C=1, break_ties=False, cache_size=200, class_weight=None, coef0=0.0,\n",
            "    decision_function_shape='ovr', degree=3, gamma='auto', kernel='sigmoid',\n",
            "    max_iter=-1, probability=False, random_state=None, shrinking=True,\n",
            "    tol=0.001, verbose=False)]\n"
          ],
          "name": "stdout"
        }
      ]
    },
    {
      "cell_type": "markdown",
      "metadata": {
        "id": "eTNSwpemw2vK"
      },
      "source": [
        "Fit the Model"
      ]
    },
    {
      "cell_type": "code",
      "metadata": {
        "id": "W0vJuPVXwoEz",
        "outputId": "29250751-3d41-4d41-acc8-8dccb18a4e1d",
        "colab": {
          "base_uri": "https://localhost:8080/",
          "height": 134,
          "referenced_widgets": [
            "d6683362c4c7413da787ecc03460652b",
            "8e99f1fc365b4127999da0d2d630e9b0",
            "fc17373a5d024b31aa58b321f8608063",
            "ba99146dbfd547a29c3810b3586357e5",
            "a88919e092524931a2c3e0076fd566c1",
            "2f8b26951fda4752ba70074b9f2188da",
            "2f2b8d7d32c04fefbdefad78057e9e56",
            "43b1a7dab95a4275991d5d327371d725"
          ]
        }
      },
      "source": [
        "for model in tq.tqdm(models):\n",
        "    start = time.time()\n",
        "    model.fit(xtrain, ytrain)\n",
        "    end = time.time()\n",
        "    print(f'[{kernels[models.index(model)]}]Time taken for fit: {end - start}s')"
      ],
      "execution_count": null,
      "outputs": [
        {
          "output_type": "display_data",
          "data": {
            "application/vnd.jupyter.widget-view+json": {
              "model_id": "d6683362c4c7413da787ecc03460652b",
              "version_minor": 0,
              "version_major": 2
            },
            "text/plain": [
              "HBox(children=(FloatProgress(value=0.0, max=4.0), HTML(value='')))"
            ]
          },
          "metadata": {
            "tags": []
          }
        },
        {
          "output_type": "stream",
          "text": [
            "[poly]Time taken for fit: 25.495052337646484s\n",
            "[linear]Time taken for fit: 25.956228256225586s\n",
            "[rbf]Time taken for fit: 120.53660464286804s\n",
            "[sigmoid]Time taken for fit: 84.90064358711243s\n",
            "\n"
          ],
          "name": "stdout"
        }
      ]
    },
    {
      "cell_type": "code",
      "metadata": {
        "id": "o_i4jMR_woMs",
        "outputId": "de192028-abd0-47e3-a0fe-41f41a5295f9",
        "colab": {
          "base_uri": "https://localhost:8080/",
          "height": 222,
          "referenced_widgets": [
            "90f1d1efed614c9d8012ded3089a4d74",
            "fd9f9b0e3b644fce9ea6557dabeaf326",
            "e35d9e2014ac4f05850269ebde73621c",
            "e7e22559f6cd4311b076c79fe65af975",
            "02a62fba50b24f0fbe515b4aa8ee715e",
            "db49ab12964145efa5f718833af035be",
            "bf6d9bec2a3744fc9793faffa43de138",
            "64e13329cb1b4db2bc01ed9d8c471ee1"
          ]
        }
      },
      "source": [
        "#Evaluating models for each different kernel used in Support Vector Machine\n",
        "model_acc = []\n",
        "for model in tq.tqdm(models):\n",
        "    start = time.time()\n",
        "    accuracy = model.score(xtest, ytest)\n",
        "    end = time.time()\n",
        "    print(f'[{kernels[models.index(model)]}]Accuracy: {accuracy}, time taken: {end - start}s')\n",
        "    model_acc.append((model, accuracy))\n",
        "\n",
        "best_model = max(model_acc, key=lambda x:x[1])\n",
        "print(f'Model with best accuracy: {best_model}')"
      ],
      "execution_count": null,
      "outputs": [
        {
          "output_type": "display_data",
          "data": {
            "application/vnd.jupyter.widget-view+json": {
              "model_id": "90f1d1efed614c9d8012ded3089a4d74",
              "version_minor": 0,
              "version_major": 2
            },
            "text/plain": [
              "HBox(children=(FloatProgress(value=0.0, max=4.0), HTML(value='')))"
            ]
          },
          "metadata": {
            "tags": []
          }
        },
        {
          "output_type": "stream",
          "text": [
            "[poly]Accuracy: 0.9483648881239243, time taken: 5.737393140792847s\n",
            "[linear]Accuracy: 0.9345955249569707, time taken: 6.04390025138855s\n",
            "[rbf]Accuracy: 0.47160068846815834, time taken: 21.125876426696777s\n",
            "[sigmoid]Accuracy: 0.459552495697074, time taken: 18.2271785736084s\n",
            "\n",
            "Model with best accuracy: (SVC(C=1, break_ties=False, cache_size=200, class_weight=None, coef0=0.0,\n",
            "    decision_function_shape='ovr', degree=3, gamma='auto', kernel='poly',\n",
            "    max_iter=-1, probability=False, random_state=None, shrinking=True,\n",
            "    tol=0.001, verbose=False), 0.9483648881239243)\n"
          ],
          "name": "stdout"
        }
      ]
    },
    {
      "cell_type": "code",
      "metadata": {
        "id": "vVj9nY0wwoVJ",
        "outputId": "f3e1122f-61f4-4fb6-fefe-70fe1dd12005",
        "colab": {
          "base_uri": "https://localhost:8080/",
          "height": 155
        }
      },
      "source": [
        "model = models[1]\n",
        "#SAVING THE SVC MODEL\n",
        "pkl_filename = \"pickle_model_svc_poly_hog_features_L2_Hys.pkl\"\n",
        "\n",
        "with open(pkl_filename, 'wb') as file:\n",
        "    pickle.dump(model, file)\n",
        "\n",
        "os.listdir()"
      ],
      "execution_count": null,
      "outputs": [
        {
          "output_type": "execute_result",
          "data": {
            "text/plain": [
              "['.config',\n",
              " 'pickle_model_svc_poly_hog_L1.pkl',\n",
              " 'pickle_model_svc_poly_50.pkl',\n",
              " 'pickle_model_svc_poly_hog_features_L2_Hys.pkl',\n",
              " 'pickle_model_svc_poly_hog_L2.pkl',\n",
              " 'drive',\n",
              " 'pickle_model_svc_poly_hog_L2_Hys.pkl',\n",
              " 'sample_data']"
            ]
          },
          "metadata": {
            "tags": []
          },
          "execution_count": 50
        }
      ]
    },
    {
      "cell_type": "markdown",
      "metadata": {
        "id": "rlFmdgQW1nl7"
      },
      "source": [
        "## Current Results:\n",
        "---\n",
        "\n",
        "Poly, 100x100: 0.94664371\n",
        "\n",
        "Poly, 50x50: 0.9449225\n",
        "\n",
        "---\n",
        "\n",
        "**Hyperparameters:** cells_per_block=(2, 2), pixels_per_cell=(8, 8),\n",
        "\n",
        "Poly, Hog, L1: 0.9242685\n",
        "\n",
        "Poly, Hog, L1-sqrt:  0.91566265\n",
        "\n",
        "Poly, Hog, L2: 0.932874354\n",
        "\n",
        "Poly, Hog, L2-Hys: 0.941480206\n",
        "\n",
        "---\n",
        "**Hyperparameters:** cells_per_block=(1, 1), pixels_per_cell=(16, 16),\n",
        "\n",
        "Poly, Hog, L2-Hys: 0.94836488\n",
        "\n",
        "Poly, Hog, L2: 0.93287435\n",
        "\n",
        "---\n",
        "**Hyperparameters:** cells_per_block=(4, 4), pixels_per_cell=(8, 8)\n",
        "\n",
        "Poly, Hog, L2-Hys: 0.931153184\n",
        "\n",
        "---\n",
        "**Hyperparameters:** cv2.resize(xray_img, (128, 128)) cells_per_block=(1, 1), pixels_per_cell=(16, 16)\n",
        "\n",
        "Poly, Hog, L2-Hys: 0.94664371\n",
        "\n",
        "---\n",
        "**Hyperparameters:** cv2.resize(xray_img, (128, 128)) cells_per_block=(2, 2), pixels_per_cell=(8, 8)\n",
        "\n",
        "Linear, Hog, L2-Hys: 0.96041308\n",
        "\n",
        "\n"
      ]
    }
  ]
}