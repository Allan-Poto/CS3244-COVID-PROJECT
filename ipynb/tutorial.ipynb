{
 "metadata": {
  "language_info": {
   "codemirror_mode": {
    "name": "ipython",
    "version": 3
   },
   "file_extension": ".py",
   "mimetype": "text/x-python",
   "name": "python",
   "nbconvert_exporter": "python",
   "pygments_lexer": "ipython3",
   "version": "3.7.8-final"
  },
  "orig_nbformat": 2,
  "kernelspec": {
   "name": "Python 3.7.8 64-bit",
   "display_name": "Python 3.7.8 64-bit",
   "metadata": {
    "interpreter": {
     "hash": "0f891fb4abc7e5b7925564c7fc55f147423425570aa5a97acbb1dd5ff2003f14"
    }
   }
  }
 },
 "nbformat": 4,
 "nbformat_minor": 2,
 "cells": [
  {
   "cell_type": "code",
   "execution_count": 5,
   "metadata": {},
   "outputs": [
    {
     "output_type": "execute_result",
     "data": {
      "text/plain": [
       "0.3370616728130097"
      ]
     },
     "metadata": {},
     "execution_count": 5
    }
   ],
   "source": [
    "import math\n",
    "\n",
    "log2 = lambda d: math.log(d, 2)\n",
    "mc = 1/6\n",
    "mc_rate = math.log((1-mc)/mc)*0.5\n",
    "right = 1/12*math.exp(-mc_rate)\n",
    "wrong = 1/12*math.exp(mc_rate)\n",
    "wrong_weight = wrong/(wrong*2 + right*10) # normalization\n",
    "right_weight = right/(wrong*2 + right*10)\n",
    "\n",
    "\n",
    "## Calculating GI after 1st ada boosting and new sample weights\n",
    "ch_weights = wrong_weight * 2 + right_weight * 4\n",
    "ch_gi = ch_weights * -(math.log(1/3,2)/3 + math.log(2/3,2)*2/3)\n",
    "\n",
    "## calculated with initial sample weights\n",
    "h_s = -(math.log(5/12,2)*5/12 + math.log(7/12,2)*7/12)\n",
    "h_s - ch_gi\n",
    "\n",
    "\n",
    "# h_s = -(math.log(0.65,2)*0.65 + math.log(0.35,2)*0.35)"
   ]
  },
  {
   "cell_type": "code",
   "execution_count": 6,
   "metadata": {},
   "outputs": [],
   "source": [
    "\n",
    "mc = 0.5\n",
    "mc_rate = math.log((1-mc)/mc)*0.5\n",
    "right = 0.05*math.exp(-mc_rate)\n",
    "wrong = 0.25*math.exp(mc_rate)\n",
    "wrong_weight = wrong/(wrong*2 + right*10) # normalization\n",
    "right_weight = right/(wrong*2 + right*10) \n"
   ]
  },
  {
   "cell_type": "code",
   "execution_count": 10,
   "metadata": {},
   "outputs": [
    {
     "output_type": "stream",
     "name": "stdout",
     "text": [
      "credit history 0.6041843979966417\nincome 0.7869723049734625\ndebt 0.9124325037743448\n"
     ]
    }
   ],
   "source": [
    "# credit history still with highest information gain\n",
    "# reject for unkown, bad else approve\n",
    "print('credit history', -(0.7 * (log2(5/7)*5/7 + log2(2/7)*2/7)))\n",
    "\n",
    "# Income\n",
    "# reject if < 5k else approve\n",
    "print('income', -(0.7 * (log2(55/70)*55/70 + log2(15/70)*15/70) - 0.1 + 0.2*(log2(3/4)*3/4 + log2(1/4)/4)))\n",
    "\n",
    "# Debt\n",
    "# here everything is classified as reject\n",
    "print('debt', -(0.6 * (log2(35/60)*35/60 + log2(25/60)*25/60) + 0.4 * (log2(3/4)*3/4 + log2(1/4)/4)))"
   ]
  },
  {
   "cell_type": "code",
   "execution_count": null,
   "metadata": {},
   "outputs": [],
   "source": []
  }
 ]
}